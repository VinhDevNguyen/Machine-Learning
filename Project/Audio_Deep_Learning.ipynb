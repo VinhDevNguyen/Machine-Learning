{
  "nbformat": 4,
  "nbformat_minor": 0,
  "metadata": {
    "colab": {
      "name": "Audio_Deep_Learning.ipynb",
      "provenance": [],
      "collapsed_sections": [
        "in7duOEaIjZF"
      ],
      "mount_file_id": "1cJR3A07KEU7XJgN6PCvN4jd9ITbWvJ_t",
      "authorship_tag": "ABX9TyPBGtfEoyOgFRs8RVaIg7bK",
      "include_colab_link": true
    },
    "kernelspec": {
      "name": "python3",
      "display_name": "Python 3"
    },
    "accelerator": "GPU"
  },
  "cells": [
    {
      "cell_type": "markdown",
      "metadata": {
        "id": "view-in-github",
        "colab_type": "text"
      },
      "source": [
        "<a href=\"https://colab.research.google.com/github/VinhDevNguyen/Machine-Learning/blob/master/Project/Audio_Deep_Learning.ipynb\" target=\"_parent\"><img src=\"https://colab.research.google.com/assets/colab-badge.svg\" alt=\"Open In Colab\"/></a>"
      ]
    },
    {
      "cell_type": "markdown",
      "metadata": {
        "id": "NNGMrdY6EVyK",
        "colab_type": "text"
      },
      "source": [
        "# Download dataset"
      ]
    },
    {
      "cell_type": "code",
      "metadata": {
        "id": "8YAVH_Ubd7eU",
        "colab_type": "code",
        "colab": {}
      },
      "source": [
        "!wget http://opihi.cs.uvic.ca/sound/genres.tar.gz"
      ],
      "execution_count": null,
      "outputs": []
    },
    {
      "cell_type": "code",
      "metadata": {
        "id": "Negg4mIlek7N",
        "colab_type": "code",
        "colab": {}
      },
      "source": [
        "! mkdir genres"
      ],
      "execution_count": null,
      "outputs": []
    },
    {
      "cell_type": "code",
      "metadata": {
        "id": "o1WFNGW5eouN",
        "colab_type": "code",
        "colab": {}
      },
      "source": [
        "! tar -xvzf genres.tar.gz "
      ],
      "execution_count": null,
      "outputs": []
    },
    {
      "cell_type": "markdown",
      "metadata": {
        "id": "in7duOEaIjZF",
        "colab_type": "text"
      },
      "source": [
        "# Preprocessing audio data for Deep Learning"
      ]
    },
    {
      "cell_type": "markdown",
      "metadata": {
        "id": "SNKCTWPOIqIg",
        "colab_type": "text"
      },
      "source": [
        "### Import module"
      ]
    },
    {
      "cell_type": "code",
      "metadata": {
        "id": "ENjEH8JpIlSx",
        "colab_type": "code",
        "colab": {}
      },
      "source": [
        "import librosa, librosa.display\n",
        "import numpy as np\n",
        "import matplotlib.pyplot as plt"
      ],
      "execution_count": null,
      "outputs": []
    },
    {
      "cell_type": "markdown",
      "metadata": {
        "id": "r4oimMdCI_35",
        "colab_type": "text"
      },
      "source": [
        "### Waveform"
      ]
    },
    {
      "cell_type": "code",
      "metadata": {
        "id": "kxlKMVUyK-TJ",
        "colab_type": "code",
        "colab": {}
      },
      "source": [
        "file = \"/content/drive/My Drive/gtzan-dataset-music-genre-classification/Data/genres_original/blues/blues.00000.wav\""
      ],
      "execution_count": null,
      "outputs": []
    },
    {
      "cell_type": "code",
      "metadata": {
        "id": "BDVtfR6wI5fB",
        "colab_type": "code",
        "colab": {}
      },
      "source": [
        "signal, sr = librosa.load(file,) # sr * T -> 22050 *30\n",
        "librosa.display.waveplot(signal, sr=sr)\n",
        "plt.xlabel(\"Time\")\n",
        "plt.ylabel(\"Amplitude\")\n",
        "plt.show()"
      ],
      "execution_count": null,
      "outputs": []
    },
    {
      "cell_type": "markdown",
      "metadata": {
        "id": "9eDBl0RYPBEr",
        "colab_type": "text"
      },
      "source": [
        "### fft -> spectrum"
      ]
    },
    {
      "cell_type": "code",
      "metadata": {
        "id": "sNLV4gxvMJUI",
        "colab_type": "code",
        "colab": {}
      },
      "source": [
        "fft = np.fft.fft(signal)\n",
        "\n",
        "magnitude = np.abs(fft)\n",
        "frequency = np.linspace(0, sr, len(magnitude))\n",
        "plt.plot(frequency, magnitude)\n",
        "plt.xlabel(\"Frequency\")\n",
        "plt.ylabel(\"Magnitude\")\n",
        "plt.show()"
      ],
      "execution_count": null,
      "outputs": []
    },
    {
      "cell_type": "code",
      "metadata": {
        "id": "W2IieoqEP0h4",
        "colab_type": "code",
        "colab": {}
      },
      "source": [
        "left_frequency = frequency[:int(len(frequency)/2)]\n",
        "left_magnitude = magnitude[:int(len(frequency)/2)]\n",
        "plt.plot(left_frequency, left_magnitude)\n",
        "plt.xlabel(\"Frequency\")\n",
        "plt.ylabel(\"Magnitude\")\n",
        "plt.show()"
      ],
      "execution_count": null,
      "outputs": []
    },
    {
      "cell_type": "markdown",
      "metadata": {
        "id": "6ilSOUHgT9m_",
        "colab_type": "text"
      },
      "source": [
        "### stft -> Spectrogram"
      ]
    },
    {
      "cell_type": "code",
      "metadata": {
        "id": "7GBTZoEDTkau",
        "colab_type": "code",
        "colab": {}
      },
      "source": [
        "n_fft = 2048\n",
        "hop_lengt = n_fft / 4"
      ],
      "execution_count": null,
      "outputs": []
    },
    {
      "cell_type": "code",
      "metadata": {
        "id": "G1bx__y-3iu8",
        "colab_type": "code",
        "colab": {}
      },
      "source": [
        "stft = librosa.core.stft(signal, n_fft=n_fft, hop_length=int(hop_lengt))\n",
        "stft"
      ],
      "execution_count": null,
      "outputs": []
    },
    {
      "cell_type": "code",
      "metadata": {
        "id": "0afzZwkDgweb",
        "colab_type": "code",
        "colab": {}
      },
      "source": [
        "spectrogram = abs(stft)"
      ],
      "execution_count": null,
      "outputs": []
    },
    {
      "cell_type": "code",
      "metadata": {
        "id": "0xvBQFS3g0qX",
        "colab_type": "code",
        "colab": {}
      },
      "source": [
        "librosa.display.specshow(spectrogram, sr=sr, hop_length=hop_lengt)\n",
        "plt.xlabel(\"Time\")\n",
        "plt.ylabel(\"Frequency\")\n",
        "plt.colorbar()\n",
        "plt.show()"
      ],
      "execution_count": null,
      "outputs": []
    },
    {
      "cell_type": "code",
      "metadata": {
        "id": "mlhbOG9ZhYrS",
        "colab_type": "code",
        "colab": {}
      },
      "source": [
        "log_spectrogram = librosa.core.amplitude_to_db(spectrogram)\n",
        "\n",
        "librosa.display.specshow(log_spectrogram, sr=sr, hop_length=hop_lengt)\n",
        "plt.xlabel(\"Time\")\n",
        "plt.ylabel(\"Frequency\")\n",
        "plt.colorbar()\n",
        "plt.show()"
      ],
      "execution_count": null,
      "outputs": []
    },
    {
      "cell_type": "markdown",
      "metadata": {
        "id": "eSby-R4VjozA",
        "colab_type": "text"
      },
      "source": [
        "### MFFCs"
      ]
    },
    {
      "cell_type": "code",
      "metadata": {
        "id": "hoFiW7ZnjqKl",
        "colab_type": "code",
        "colab": {}
      },
      "source": [
        "MFFCs = librosa.feature.mfcc(signal)"
      ],
      "execution_count": null,
      "outputs": []
    },
    {
      "cell_type": "code",
      "metadata": {
        "id": "q_NVWPpdksyA",
        "colab_type": "code",
        "colab": {}
      },
      "source": [
        "librosa.display.specshow(MFFCs, sr=sr, hop_length=hop_lengt)\n",
        "plt.xlabel(\"Time\")\n",
        "plt.ylabel(\"MFFC\")\n",
        "plt.colorbar()\n",
        "plt.show()"
      ],
      "execution_count": null,
      "outputs": []
    },
    {
      "cell_type": "markdown",
      "metadata": {
        "id": "rx_ZweXaUoGp",
        "colab_type": "text"
      },
      "source": [
        "# Preparing the dataset"
      ]
    },
    {
      "cell_type": "code",
      "metadata": {
        "id": "ErJ9dMjUUspL",
        "colab_type": "code",
        "colab": {}
      },
      "source": [
        "import json\n",
        "import os\n",
        "import math\n",
        "import librosa\n",
        "\n",
        "DATASET_PATH = \"/content/drive/My Drive/genres\"\n",
        "JSON_PATH = \"data_10.json\"\n",
        "SAMPLE_RATE = 22050\n",
        "TRACK_DURATION = 30 # measured in seconds\n",
        "SAMPLES_PER_TRACK = SAMPLE_RATE * TRACK_DURATION\n",
        "num_mfcc=13 \n",
        "n_fft=2048\n",
        "hop_length=512\n",
        "num_segments=5\n",
        "\n",
        "# dictionary to store mapping, labels, and MFCCs\n",
        "data = {\n",
        "\"mapping\": [],\n",
        "\"labels\": [],\n",
        "\"mfcc\": []\n",
        "}\n",
        "\n",
        "samples_per_segment = int(SAMPLES_PER_TRACK / num_segments)\n",
        "num_mfcc_vectors_per_segment = math.ceil(samples_per_segment / hop_length)\n",
        "\n",
        "# loop through all genre sub-folder\n",
        "for i, (dirpath, dirnames, filenames) in enumerate(os.walk(DATASET_PATH)):\n",
        "  # ensure we're processing a genre sub-folder level\n",
        "  if dirpath is not DATASET_PATH:\n",
        "    # save genre label (i.e., sub-folder name) in the mapping\n",
        "    semantic_label = dirpath.split(\"/\")[-1]\n",
        "    data[\"mapping\"].append(semantic_label)\n",
        "    print(\"\\nProcessing: {}\".format(semantic_label))\n",
        "\n",
        "    # process all audio files in genre sub-dir\n",
        "    for f in filenames:\n",
        "\n",
        "        # load audio file\n",
        "        file_path = os.path.join(dirpath, f)\n",
        "        print(file_path)\n",
        "        signal, sample_rate = librosa.load(file_path, sr=SAMPLE_RATE)\n",
        "\n",
        "        # process all segments of audio file\n",
        "        for d in range(num_segments):\n",
        "\n",
        "            # calculate start and finish sample for current segment\n",
        "            start = samples_per_segment * d\n",
        "            finish = start + samples_per_segment\n",
        "\n",
        "            # extract mfcc\n",
        "            mfcc = librosa.feature.mfcc(signal[start:finish], sample_rate, n_mfcc=num_mfcc, n_fft=n_fft, hop_length=hop_length)\n",
        "            mfcc = mfcc.T\n",
        "\n",
        "            # store only mfcc feature with expected number of vectors\n",
        "            if len(mfcc) == num_mfcc_vectors_per_segment:\n",
        "                data[\"mfcc\"].append(mfcc.tolist())\n",
        "                data[\"labels\"].append(i-1)\n",
        "                print(\"segment:{}\".format(d+1))\n",
        "\n",
        "# save MFCCs to json file\n",
        "with open(JSON_PATH, \"w\") as fp:\n",
        "  json.dump(data, fp, indent=4)\n"
      ],
      "execution_count": null,
      "outputs": []
    },
    {
      "cell_type": "markdown",
      "metadata": {
        "id": "V5fQtilwOuRx",
        "colab_type": "text"
      },
      "source": [
        "# Neuron network for audio"
      ]
    },
    {
      "cell_type": "code",
      "metadata": {
        "id": "fVbMu2QDSAcu",
        "colab_type": "code",
        "colab": {}
      },
      "source": [
        "import json\n",
        "import numpy as np\n",
        "from sklearn.model_selection import train_test_split\n",
        "import tensorflow.keras as keras"
      ],
      "execution_count": null,
      "outputs": []
    },
    {
      "cell_type": "markdown",
      "metadata": {
        "id": "dU5-jHdmRUC6",
        "colab_type": "text"
      },
      "source": [
        "## Load data"
      ]
    },
    {
      "cell_type": "code",
      "metadata": {
        "id": "Pvn0A0pDOxOL",
        "colab_type": "code",
        "colab": {}
      },
      "source": [
        "with open(\"/content/drive/My Drive/genres/data_10.json\", \"r\") as fp:\n",
        "  data = json.load(fp)"
      ],
      "execution_count": null,
      "outputs": []
    },
    {
      "cell_type": "code",
      "metadata": {
        "id": "wmQ178jfPxCY",
        "colab_type": "code",
        "colab": {}
      },
      "source": [
        "X = np.array(data[\"mfcc\"])\n",
        "y = np.array(data[\"labels\"])"
      ],
      "execution_count": null,
      "outputs": []
    },
    {
      "cell_type": "markdown",
      "metadata": {
        "id": "EgG7YtNHRdPX",
        "colab_type": "text"
      },
      "source": [
        "## Train test split"
      ]
    },
    {
      "cell_type": "code",
      "metadata": {
        "id": "8wIbK5VzP14v",
        "colab_type": "code",
        "colab": {}
      },
      "source": [
        "X_train, X_test, y_train, y_test = train_test_split(X, y, test_size = 0.3)"
      ],
      "execution_count": null,
      "outputs": []
    },
    {
      "cell_type": "markdown",
      "metadata": {
        "id": "8Z3B9evFo1hE",
        "colab_type": "text"
      },
      "source": [
        "## Create Neural Networks"
      ]
    },
    {
      "cell_type": "markdown",
      "metadata": {
        "id": "8OnG2KG7WTRh",
        "colab_type": "text"
      },
      "source": [
        "Create model"
      ]
    },
    {
      "cell_type": "code",
      "metadata": {
        "id": "0IBcfMTvQ8Re",
        "colab_type": "code",
        "colab": {}
      },
      "source": [
        "model = keras.Sequential([\n",
        "  # Input layer\n",
        "  keras.layers.Flatten(input_shape=(X.shape[1], X.shape[2])),\n",
        "  # Hiden layers\n",
        "  keras.layers.Dense(512, activation=\"relu\"),\n",
        "  keras.layers.Dense(256, activation=\"relu\"),\n",
        "  keras.layers.Dense(64, activation=\"relu\"),\n",
        "  # Output layer\n",
        "  keras.layers.Dense(10, activation=\"softmax\")\n",
        "])"
      ],
      "execution_count": null,
      "outputs": []
    },
    {
      "cell_type": "markdown",
      "metadata": {
        "id": "Lnfw_pmBWUmn",
        "colab_type": "text"
      },
      "source": [
        "Compile network"
      ]
    },
    {
      "cell_type": "code",
      "metadata": {
        "id": "K1qWN2yqS2et",
        "colab_type": "code",
        "colab": {
          "base_uri": "https://localhost:8080/",
          "height": 323
        },
        "outputId": "24957dbd-0928-4030-aff3-b295750a4741"
      },
      "source": [
        "optimizer = keras.optimizers.Adam(learning_rate= 0.0001)\n",
        "model.compile(optimizer=optimizer,\n",
        "              loss=\"sparse_categorical_crossentropy\",\n",
        "              metrics=[\"accuracy\"])\n",
        "model.summary()"
      ],
      "execution_count": null,
      "outputs": [
        {
          "output_type": "stream",
          "text": [
            "Model: \"sequential\"\n",
            "_________________________________________________________________\n",
            "Layer (type)                 Output Shape              Param #   \n",
            "=================================================================\n",
            "flatten (Flatten)            (None, 3367)              0         \n",
            "_________________________________________________________________\n",
            "dense (Dense)                (None, 512)               1724416   \n",
            "_________________________________________________________________\n",
            "dense_1 (Dense)              (None, 256)               131328    \n",
            "_________________________________________________________________\n",
            "dense_2 (Dense)              (None, 64)                16448     \n",
            "_________________________________________________________________\n",
            "dense_3 (Dense)              (None, 10)                650       \n",
            "=================================================================\n",
            "Total params: 1,872,842\n",
            "Trainable params: 1,872,842\n",
            "Non-trainable params: 0\n",
            "_________________________________________________________________\n"
          ],
          "name": "stdout"
        }
      ]
    },
    {
      "cell_type": "markdown",
      "metadata": {
        "id": "qU14s7F1YJRk",
        "colab_type": "text"
      },
      "source": [
        "Train network"
      ]
    },
    {
      "cell_type": "code",
      "metadata": {
        "id": "zbVFhIXsS4Rg",
        "colab_type": "code",
        "colab": {
          "base_uri": "https://localhost:8080/",
          "height": 1000
        },
        "outputId": "37f5b437-dfa9-4207-cf33-d02226cd9d95"
      },
      "source": [
        "history = model.fit(X_train, y_train,\n",
        "          validation_data=(X_test, y_test),\n",
        "          epochs=100,\n",
        "          batch_size=32,\n",
        "          )"
      ],
      "execution_count": null,
      "outputs": [
        {
          "output_type": "stream",
          "text": [
            "Epoch 1/100\n",
            "110/110 [==============================] - 1s 8ms/step - loss: 10.4183 - accuracy: 0.2876 - val_loss: 5.0336 - val_accuracy: 0.3320\n",
            "Epoch 2/100\n",
            "110/110 [==============================] - 1s 7ms/step - loss: 3.7381 - accuracy: 0.3928 - val_loss: 3.9446 - val_accuracy: 0.3673\n",
            "Epoch 3/100\n",
            "110/110 [==============================] - 1s 6ms/step - loss: 2.5044 - accuracy: 0.4720 - val_loss: 3.5003 - val_accuracy: 0.3967\n",
            "Epoch 4/100\n",
            "110/110 [==============================] - 1s 7ms/step - loss: 1.8493 - accuracy: 0.5475 - val_loss: 3.1570 - val_accuracy: 0.4200\n",
            "Epoch 5/100\n",
            "110/110 [==============================] - 1s 6ms/step - loss: 1.4757 - accuracy: 0.6095 - val_loss: 3.0894 - val_accuracy: 0.4167\n",
            "Epoch 6/100\n",
            "110/110 [==============================] - 1s 6ms/step - loss: 1.1120 - accuracy: 0.6772 - val_loss: 2.9108 - val_accuracy: 0.4267\n",
            "Epoch 7/100\n",
            "110/110 [==============================] - 1s 6ms/step - loss: 0.9667 - accuracy: 0.7078 - val_loss: 2.9678 - val_accuracy: 0.4547\n",
            "Epoch 8/100\n",
            "110/110 [==============================] - 1s 6ms/step - loss: 0.7514 - accuracy: 0.7664 - val_loss: 3.3697 - val_accuracy: 0.4333\n",
            "Epoch 9/100\n",
            "110/110 [==============================] - 1s 6ms/step - loss: 0.7350 - accuracy: 0.7599 - val_loss: 2.8973 - val_accuracy: 0.4860\n",
            "Epoch 10/100\n",
            "110/110 [==============================] - 1s 6ms/step - loss: 0.5771 - accuracy: 0.8045 - val_loss: 2.9486 - val_accuracy: 0.4553\n",
            "Epoch 11/100\n",
            "110/110 [==============================] - 1s 6ms/step - loss: 0.4581 - accuracy: 0.8425 - val_loss: 2.7721 - val_accuracy: 0.4813\n",
            "Epoch 12/100\n",
            "110/110 [==============================] - 1s 6ms/step - loss: 0.4164 - accuracy: 0.8528 - val_loss: 2.9485 - val_accuracy: 0.4853\n",
            "Epoch 13/100\n",
            "110/110 [==============================] - 1s 6ms/step - loss: 0.3110 - accuracy: 0.8991 - val_loss: 2.8478 - val_accuracy: 0.4947\n",
            "Epoch 14/100\n",
            "110/110 [==============================] - 1s 6ms/step - loss: 0.3444 - accuracy: 0.8854 - val_loss: 2.9560 - val_accuracy: 0.4873\n",
            "Epoch 15/100\n",
            "110/110 [==============================] - 1s 6ms/step - loss: 0.2286 - accuracy: 0.9211 - val_loss: 2.8575 - val_accuracy: 0.5053\n",
            "Epoch 16/100\n",
            "110/110 [==============================] - 1s 6ms/step - loss: 0.1774 - accuracy: 0.9394 - val_loss: 3.2065 - val_accuracy: 0.4780\n",
            "Epoch 17/100\n",
            "110/110 [==============================] - 1s 6ms/step - loss: 0.2016 - accuracy: 0.9354 - val_loss: 2.9005 - val_accuracy: 0.4947\n",
            "Epoch 18/100\n",
            "110/110 [==============================] - 1s 6ms/step - loss: 0.1543 - accuracy: 0.9540 - val_loss: 2.8980 - val_accuracy: 0.4980\n",
            "Epoch 19/100\n",
            "110/110 [==============================] - 1s 6ms/step - loss: 0.1902 - accuracy: 0.9414 - val_loss: 3.2470 - val_accuracy: 0.4807\n",
            "Epoch 20/100\n",
            "110/110 [==============================] - 1s 6ms/step - loss: 0.3014 - accuracy: 0.8988 - val_loss: 3.0228 - val_accuracy: 0.4987\n",
            "Epoch 21/100\n",
            "110/110 [==============================] - 1s 6ms/step - loss: 0.2628 - accuracy: 0.9088 - val_loss: 3.2381 - val_accuracy: 0.4573\n",
            "Epoch 22/100\n",
            "110/110 [==============================] - 1s 6ms/step - loss: 0.3795 - accuracy: 0.8694 - val_loss: 3.4256 - val_accuracy: 0.4780\n",
            "Epoch 23/100\n",
            "110/110 [==============================] - 1s 6ms/step - loss: 0.2520 - accuracy: 0.9122 - val_loss: 2.9359 - val_accuracy: 0.5360\n",
            "Epoch 24/100\n",
            "110/110 [==============================] - 1s 6ms/step - loss: 0.2171 - accuracy: 0.9322 - val_loss: 3.2797 - val_accuracy: 0.4967\n",
            "Epoch 25/100\n",
            "110/110 [==============================] - 1s 6ms/step - loss: 0.1465 - accuracy: 0.9548 - val_loss: 3.0142 - val_accuracy: 0.5387\n",
            "Epoch 26/100\n",
            "110/110 [==============================] - 1s 6ms/step - loss: 0.0944 - accuracy: 0.9743 - val_loss: 2.9920 - val_accuracy: 0.5333\n",
            "Epoch 27/100\n",
            "110/110 [==============================] - 1s 6ms/step - loss: 0.1172 - accuracy: 0.9637 - val_loss: 3.1543 - val_accuracy: 0.5240\n",
            "Epoch 28/100\n",
            "110/110 [==============================] - 1s 6ms/step - loss: 0.0737 - accuracy: 0.9783 - val_loss: 3.0810 - val_accuracy: 0.5247\n",
            "Epoch 29/100\n",
            "110/110 [==============================] - 1s 6ms/step - loss: 0.0562 - accuracy: 0.9837 - val_loss: 2.9573 - val_accuracy: 0.5433\n",
            "Epoch 30/100\n",
            "110/110 [==============================] - 1s 6ms/step - loss: 0.0479 - accuracy: 0.9868 - val_loss: 3.0954 - val_accuracy: 0.5427\n",
            "Epoch 31/100\n",
            "110/110 [==============================] - 1s 6ms/step - loss: 0.0303 - accuracy: 0.9931 - val_loss: 2.9738 - val_accuracy: 0.5407\n",
            "Epoch 32/100\n",
            "110/110 [==============================] - 1s 6ms/step - loss: 0.0232 - accuracy: 0.9951 - val_loss: 3.4746 - val_accuracy: 0.5027\n",
            "Epoch 33/100\n",
            "110/110 [==============================] - 1s 6ms/step - loss: 0.0529 - accuracy: 0.9831 - val_loss: 3.0596 - val_accuracy: 0.5287\n",
            "Epoch 34/100\n",
            "110/110 [==============================] - 1s 6ms/step - loss: 0.5677 - accuracy: 0.8599 - val_loss: 4.2227 - val_accuracy: 0.4713\n",
            "Epoch 35/100\n",
            "110/110 [==============================] - 1s 6ms/step - loss: 1.0358 - accuracy: 0.7556 - val_loss: 3.4010 - val_accuracy: 0.4860\n",
            "Epoch 36/100\n",
            "110/110 [==============================] - 1s 6ms/step - loss: 0.4373 - accuracy: 0.8714 - val_loss: 3.1523 - val_accuracy: 0.5020\n",
            "Epoch 37/100\n",
            "110/110 [==============================] - 1s 6ms/step - loss: 0.2092 - accuracy: 0.9291 - val_loss: 2.9085 - val_accuracy: 0.5413\n",
            "Epoch 38/100\n",
            "110/110 [==============================] - 1s 6ms/step - loss: 0.0912 - accuracy: 0.9700 - val_loss: 3.0053 - val_accuracy: 0.5513\n",
            "Epoch 39/100\n",
            "110/110 [==============================] - 1s 6ms/step - loss: 0.0476 - accuracy: 0.9854 - val_loss: 2.9982 - val_accuracy: 0.5593\n",
            "Epoch 40/100\n",
            "110/110 [==============================] - 1s 6ms/step - loss: 0.0252 - accuracy: 0.9946 - val_loss: 3.1569 - val_accuracy: 0.5600\n",
            "Epoch 41/100\n",
            "110/110 [==============================] - 1s 6ms/step - loss: 0.0322 - accuracy: 0.9911 - val_loss: 3.3247 - val_accuracy: 0.5520\n",
            "Epoch 42/100\n",
            "110/110 [==============================] - 1s 6ms/step - loss: 0.0307 - accuracy: 0.9934 - val_loss: 3.1177 - val_accuracy: 0.5720\n",
            "Epoch 43/100\n",
            "110/110 [==============================] - 1s 6ms/step - loss: 0.0145 - accuracy: 0.9983 - val_loss: 3.0667 - val_accuracy: 0.5787\n",
            "Epoch 44/100\n",
            "110/110 [==============================] - 1s 6ms/step - loss: 0.0097 - accuracy: 0.9980 - val_loss: 3.0703 - val_accuracy: 0.5813\n",
            "Epoch 45/100\n",
            "110/110 [==============================] - 1s 6ms/step - loss: 0.0111 - accuracy: 0.9971 - val_loss: 3.1556 - val_accuracy: 0.5700\n",
            "Epoch 46/100\n",
            "110/110 [==============================] - 1s 6ms/step - loss: 0.0169 - accuracy: 0.9951 - val_loss: 3.0982 - val_accuracy: 0.5667\n",
            "Epoch 47/100\n",
            "110/110 [==============================] - 1s 6ms/step - loss: 0.0118 - accuracy: 0.9983 - val_loss: 3.1225 - val_accuracy: 0.5707\n",
            "Epoch 48/100\n",
            "110/110 [==============================] - 1s 7ms/step - loss: 0.0128 - accuracy: 0.9977 - val_loss: 3.1233 - val_accuracy: 0.5807\n",
            "Epoch 49/100\n",
            "110/110 [==============================] - 1s 6ms/step - loss: 0.0056 - accuracy: 0.9991 - val_loss: 3.1298 - val_accuracy: 0.5707\n",
            "Epoch 50/100\n",
            "110/110 [==============================] - 1s 6ms/step - loss: 0.0088 - accuracy: 0.9986 - val_loss: 3.1081 - val_accuracy: 0.5780\n",
            "Epoch 51/100\n",
            "110/110 [==============================] - 1s 6ms/step - loss: 0.0063 - accuracy: 0.9991 - val_loss: 3.1044 - val_accuracy: 0.5667\n",
            "Epoch 52/100\n",
            "110/110 [==============================] - 1s 7ms/step - loss: 0.0301 - accuracy: 0.9909 - val_loss: 3.9033 - val_accuracy: 0.5433\n",
            "Epoch 53/100\n",
            "110/110 [==============================] - 1s 6ms/step - loss: 1.2412 - accuracy: 0.7410 - val_loss: 4.9098 - val_accuracy: 0.4100\n",
            "Epoch 54/100\n",
            "110/110 [==============================] - 1s 6ms/step - loss: 1.0153 - accuracy: 0.7667 - val_loss: 3.6355 - val_accuracy: 0.5107\n",
            "Epoch 55/100\n",
            "110/110 [==============================] - 1s 6ms/step - loss: 0.4345 - accuracy: 0.8699 - val_loss: 3.1158 - val_accuracy: 0.5267\n",
            "Epoch 56/100\n",
            "110/110 [==============================] - 1s 7ms/step - loss: 0.1732 - accuracy: 0.9440 - val_loss: 3.1367 - val_accuracy: 0.5533\n",
            "Epoch 57/100\n",
            "110/110 [==============================] - 1s 6ms/step - loss: 0.0645 - accuracy: 0.9791 - val_loss: 3.0153 - val_accuracy: 0.5613\n",
            "Epoch 58/100\n",
            "110/110 [==============================] - 1s 7ms/step - loss: 0.0328 - accuracy: 0.9923 - val_loss: 2.9804 - val_accuracy: 0.5553\n",
            "Epoch 59/100\n",
            "110/110 [==============================] - 1s 6ms/step - loss: 0.0347 - accuracy: 0.9911 - val_loss: 3.1433 - val_accuracy: 0.5580\n",
            "Epoch 60/100\n",
            "110/110 [==============================] - 1s 6ms/step - loss: 0.0141 - accuracy: 0.9971 - val_loss: 2.9496 - val_accuracy: 0.5693\n",
            "Epoch 61/100\n",
            "110/110 [==============================] - 1s 6ms/step - loss: 0.0078 - accuracy: 0.9986 - val_loss: 2.9726 - val_accuracy: 0.5687\n",
            "Epoch 62/100\n",
            "110/110 [==============================] - 1s 6ms/step - loss: 0.0055 - accuracy: 0.9991 - val_loss: 3.0549 - val_accuracy: 0.5727\n",
            "Epoch 63/100\n",
            "110/110 [==============================] - 1s 6ms/step - loss: 0.0054 - accuracy: 0.9989 - val_loss: 3.0503 - val_accuracy: 0.5767\n",
            "Epoch 64/100\n",
            "110/110 [==============================] - 1s 6ms/step - loss: 0.0044 - accuracy: 0.9994 - val_loss: 3.0738 - val_accuracy: 0.5753\n",
            "Epoch 65/100\n",
            "110/110 [==============================] - 1s 6ms/step - loss: 0.0129 - accuracy: 0.9974 - val_loss: 3.3082 - val_accuracy: 0.5560\n",
            "Epoch 66/100\n",
            "110/110 [==============================] - 1s 6ms/step - loss: 0.0931 - accuracy: 0.9714 - val_loss: 3.6527 - val_accuracy: 0.5273\n",
            "Epoch 67/100\n",
            "110/110 [==============================] - 1s 6ms/step - loss: 0.5412 - accuracy: 0.8548 - val_loss: 4.0015 - val_accuracy: 0.4960\n",
            "Epoch 68/100\n",
            "110/110 [==============================] - 1s 6ms/step - loss: 0.4875 - accuracy: 0.8654 - val_loss: 3.2584 - val_accuracy: 0.5367\n",
            "Epoch 69/100\n",
            "110/110 [==============================] - 1s 6ms/step - loss: 0.2522 - accuracy: 0.9274 - val_loss: 3.1976 - val_accuracy: 0.5347\n",
            "Epoch 70/100\n",
            "110/110 [==============================] - 1s 6ms/step - loss: 0.1460 - accuracy: 0.9534 - val_loss: 3.0658 - val_accuracy: 0.5820\n",
            "Epoch 71/100\n",
            "110/110 [==============================] - 1s 6ms/step - loss: 0.0964 - accuracy: 0.9728 - val_loss: 3.2490 - val_accuracy: 0.5860\n",
            "Epoch 72/100\n",
            "110/110 [==============================] - 1s 6ms/step - loss: 0.0419 - accuracy: 0.9860 - val_loss: 3.1031 - val_accuracy: 0.5940\n",
            "Epoch 73/100\n",
            "110/110 [==============================] - 1s 6ms/step - loss: 0.0244 - accuracy: 0.9943 - val_loss: 3.0537 - val_accuracy: 0.5767\n",
            "Epoch 74/100\n",
            "110/110 [==============================] - 1s 6ms/step - loss: 0.0116 - accuracy: 0.9977 - val_loss: 3.1336 - val_accuracy: 0.5793\n",
            "Epoch 75/100\n",
            "110/110 [==============================] - 1s 6ms/step - loss: 0.0090 - accuracy: 0.9983 - val_loss: 3.1396 - val_accuracy: 0.6047\n",
            "Epoch 76/100\n",
            "110/110 [==============================] - 1s 6ms/step - loss: 0.0043 - accuracy: 0.9994 - val_loss: 3.1729 - val_accuracy: 0.6060\n",
            "Epoch 77/100\n",
            "110/110 [==============================] - 1s 6ms/step - loss: 0.0068 - accuracy: 0.9983 - val_loss: 3.1097 - val_accuracy: 0.5987\n",
            "Epoch 78/100\n",
            "110/110 [==============================] - 1s 6ms/step - loss: 0.0056 - accuracy: 0.9986 - val_loss: 3.1694 - val_accuracy: 0.5873\n",
            "Epoch 79/100\n",
            "110/110 [==============================] - 1s 6ms/step - loss: 0.0046 - accuracy: 0.9991 - val_loss: 3.0967 - val_accuracy: 0.5980\n",
            "Epoch 80/100\n",
            "110/110 [==============================] - 1s 6ms/step - loss: 0.0049 - accuracy: 0.9989 - val_loss: 3.1344 - val_accuracy: 0.6020\n",
            "Epoch 81/100\n",
            "110/110 [==============================] - 1s 6ms/step - loss: 0.0061 - accuracy: 0.9986 - val_loss: 3.1874 - val_accuracy: 0.5927\n",
            "Epoch 82/100\n",
            "110/110 [==============================] - 1s 6ms/step - loss: 0.0085 - accuracy: 0.9986 - val_loss: 3.1235 - val_accuracy: 0.5953\n",
            "Epoch 83/100\n",
            "110/110 [==============================] - 1s 6ms/step - loss: 0.0055 - accuracy: 0.9989 - val_loss: 3.2204 - val_accuracy: 0.5987\n",
            "Epoch 84/100\n",
            "110/110 [==============================] - 1s 6ms/step - loss: 0.0027 - accuracy: 0.9997 - val_loss: 3.1800 - val_accuracy: 0.6013\n",
            "Epoch 85/100\n",
            "110/110 [==============================] - 1s 6ms/step - loss: 0.0070 - accuracy: 0.9989 - val_loss: 3.2034 - val_accuracy: 0.5987\n",
            "Epoch 86/100\n",
            "110/110 [==============================] - 1s 6ms/step - loss: 0.0086 - accuracy: 0.9980 - val_loss: 3.3031 - val_accuracy: 0.5947\n",
            "Epoch 87/100\n",
            "110/110 [==============================] - 1s 6ms/step - loss: 0.0075 - accuracy: 0.9986 - val_loss: 3.3096 - val_accuracy: 0.5960\n",
            "Epoch 88/100\n",
            "110/110 [==============================] - 1s 6ms/step - loss: 0.7594 - accuracy: 0.8702 - val_loss: 5.7690 - val_accuracy: 0.4653\n",
            "Epoch 89/100\n",
            "110/110 [==============================] - 1s 6ms/step - loss: 1.1474 - accuracy: 0.7527 - val_loss: 3.3346 - val_accuracy: 0.5267\n",
            "Epoch 90/100\n",
            "110/110 [==============================] - 1s 6ms/step - loss: 0.2115 - accuracy: 0.9311 - val_loss: 3.3716 - val_accuracy: 0.5693\n",
            "Epoch 91/100\n",
            "110/110 [==============================] - 1s 6ms/step - loss: 0.0669 - accuracy: 0.9817 - val_loss: 3.1310 - val_accuracy: 0.5847\n",
            "Epoch 92/100\n",
            "110/110 [==============================] - 1s 6ms/step - loss: 0.0233 - accuracy: 0.9940 - val_loss: 3.0374 - val_accuracy: 0.6007\n",
            "Epoch 93/100\n",
            "110/110 [==============================] - 1s 6ms/step - loss: 0.0204 - accuracy: 0.9943 - val_loss: 3.0999 - val_accuracy: 0.6007\n",
            "Epoch 94/100\n",
            "110/110 [==============================] - 1s 6ms/step - loss: 0.0253 - accuracy: 0.9923 - val_loss: 3.2330 - val_accuracy: 0.5773\n",
            "Epoch 95/100\n",
            "110/110 [==============================] - 1s 6ms/step - loss: 0.0343 - accuracy: 0.9897 - val_loss: 3.1036 - val_accuracy: 0.5987\n",
            "Epoch 96/100\n",
            "110/110 [==============================] - 1s 6ms/step - loss: 0.0580 - accuracy: 0.9786 - val_loss: 3.1140 - val_accuracy: 0.5947\n",
            "Epoch 97/100\n",
            "110/110 [==============================] - 1s 6ms/step - loss: 0.0221 - accuracy: 0.9937 - val_loss: 3.3113 - val_accuracy: 0.5880\n",
            "Epoch 98/100\n",
            "110/110 [==============================] - 1s 6ms/step - loss: 0.0073 - accuracy: 0.9989 - val_loss: 3.1281 - val_accuracy: 0.6053\n",
            "Epoch 99/100\n",
            "110/110 [==============================] - 1s 6ms/step - loss: 0.0060 - accuracy: 0.9989 - val_loss: 3.1128 - val_accuracy: 0.6107\n",
            "Epoch 100/100\n",
            "110/110 [==============================] - 1s 6ms/step - loss: 0.0043 - accuracy: 0.9989 - val_loss: 3.1434 - val_accuracy: 0.6180\n"
          ],
          "name": "stdout"
        }
      ]
    },
    {
      "cell_type": "markdown",
      "metadata": {
        "id": "uJnjZ2HC7gaX",
        "colab_type": "text"
      },
      "source": [
        "## Solving Overfitting"
      ]
    },
    {
      "cell_type": "markdown",
      "metadata": {
        "id": "QP3hjn4t7prt",
        "colab_type": "text"
      },
      "source": [
        "### Plot history"
      ]
    },
    {
      "cell_type": "code",
      "metadata": {
        "id": "VklvSA6c785_",
        "colab_type": "code",
        "colab": {
          "base_uri": "https://localhost:8080/",
          "height": 298
        },
        "outputId": "1e358b1a-9507-46bb-94cc-3ffd9b4f0087"
      },
      "source": [
        "import matplotlib.pyplot as plt\n",
        "# Create 2 empty subplots\n",
        "fig, axs = plt.subplots(2)\n",
        "# Create accuracy subplot\n",
        "axs[0].plot(history.history[\"accuracy\"], label=\"Train Accuracy\")\n",
        "axs[0].plot(history.history[\"val_accuracy\"], label=\"Test Accuracy\")\n",
        "axs[0].set_ylabel(\"Accuracy\")\n",
        "axs[0].legend(loc=\"lower right\")\n",
        "axs[0].set_title(\"Accuracy eval\")\n",
        "\n",
        "# Create error subplot\n",
        "axs[1].plot(history.history[\"loss\"], label=\"Train error\")\n",
        "axs[1].plot(history.history[\"val_loss\"], label=\"Test error\")\n",
        "axs[1].set_ylabel(\"Error\")\n",
        "axs[1].legend(loc=\"lower right\")\n",
        "axs[1].set_title(\"Error eval\")"
      ],
      "execution_count": null,
      "outputs": [
        {
          "output_type": "execute_result",
          "data": {
            "text/plain": [
              "Text(0.5, 1.0, 'Error eval')"
            ]
          },
          "metadata": {
            "tags": []
          },
          "execution_count": 22
        },
        {
          "output_type": "display_data",
          "data": {
            "image/png": "[encoded data removed]",
            "text/plain": [
              "<Figure size 432x288 with 2 Axes>"
            ]
          },
          "metadata": {
            "tags": [],
            "needs_background": "light"
          }
        }
      ]
    },
    {
      "cell_type": "markdown",
      "metadata": {
        "id": "JsdPo6BDo_pV",
        "colab_type": "text"
      },
      "source": [
        "### "
      ]
    },
    {
      "cell_type": "code",
      "metadata": {
        "id": "j1LuHZpzEwSU",
        "colab_type": "code",
        "colab": {
          "base_uri": "https://localhost:8080/",
          "height": 1000
        },
        "outputId": "0108f3e4-6cb2-4ff8-f919-ad3b6706cc4e"
      },
      "source": [
        "model = keras.Sequential([\n",
        "  # Input layer\n",
        "  keras.layers.Flatten(input_shape=(X.shape[1], X.shape[2])),\n",
        "  # Hiden layers\n",
        "  keras.layers.Dense(512, activation=\"relu\", kernel_regularizer=keras.regularizers.l2(0.001)),\n",
        "  keras.layers.Dropout(0.3),\n",
        "  keras.layers.Dense(256, activation=\"relu\", kernel_regularizer=keras.regularizers.l2(0.001)),\n",
        "  keras.layers.Dropout(0.3),\n",
        "  keras.layers.Dense(64, activation=\"relu\", kernel_regularizer=keras.regularizers.l2(0.001)),\n",
        "  keras.layers.Dropout(0.3),\n",
        "  # Output layer\n",
        "  keras.layers.Dense(10, activation=\"softmax\")\n",
        "])\n",
        "optimizer = keras.optimizers.Adam(learning_rate= 0.0001)\n",
        "model.compile(optimizer=optimizer,\n",
        "              loss=\"sparse_categorical_crossentropy\",\n",
        "              metrics=[\"accuracy\"])\n",
        "model.summary()\n",
        "history = model.fit(X_train, y_train,\n",
        "          validation_data=(X_test, y_test),\n",
        "          epochs=100,\n",
        "          batch_size=32,\n",
        "          )\n",
        "import matplotlib.pyplot as plt\n",
        "# Create 2 empty subplots\n",
        "fig, axs = plt.subplots(2)\n",
        "# Create accuracy subplot\n",
        "axs[0].plot(history.history[\"accuracy\"], label=\"Train Accuracy\")\n",
        "axs[0].plot(history.history[\"val_accuracy\"], label=\"Test Accuracy\")\n",
        "axs[0].set_ylabel(\"Accuracy\")\n",
        "axs[0].legend(loc=\"lower right\")\n",
        "axs[0].set_title(\"Accuracy eval\")\n",
        "\n",
        "# Create error subplot\n",
        "axs[1].plot(history.history[\"loss\"], label=\"Train error\")\n",
        "axs[1].plot(history.history[\"val_loss\"], label=\"Test error\")\n",
        "axs[1].set_ylabel(\"Error\")\n",
        "axs[1].legend(loc=\"lower right\")\n",
        "axs[1].set_title(\"Error eval\")"
      ],
      "execution_count": null,
      "outputs": [
        {
          "output_type": "stream",
          "text": [
            "Model: \"sequential\"\n",
            "_________________________________________________________________\n",
            "Layer (type)                 Output Shape              Param #   \n",
            "=================================================================\n",
            "flatten (Flatten)            (None, 3367)              0         \n",
            "_________________________________________________________________\n",
            "dense (Dense)                (None, 512)               1724416   \n",
            "_________________________________________________________________\n",
            "dropout (Dropout)            (None, 512)               0         \n",
            "_________________________________________________________________\n",
            "dense_1 (Dense)              (None, 256)               131328    \n",
            "_________________________________________________________________\n",
            "dropout_1 (Dropout)          (None, 256)               0         \n",
            "_________________________________________________________________\n",
            "dense_2 (Dense)              (None, 64)                16448     \n",
            "_________________________________________________________________\n",
            "dropout_2 (Dropout)          (None, 64)                0         \n",
            "_________________________________________________________________\n",
            "dense_3 (Dense)              (None, 10)                650       \n",
            "=================================================================\n",
            "Total params: 1,872,842\n",
            "Trainable params: 1,872,842\n",
            "Non-trainable params: 0\n",
            "_________________________________________________________________\n",
            "Epoch 1/100\n",
            "110/110 [==============================] - 1s 9ms/step - loss: 33.4053 - accuracy: 0.1458 - val_loss: 4.2990 - val_accuracy: 0.2360\n",
            "Epoch 2/100\n",
            "110/110 [==============================] - 1s 7ms/step - loss: 11.3599 - accuracy: 0.1675 - val_loss: 3.5667 - val_accuracy: 0.2293\n",
            "Epoch 3/100\n",
            "110/110 [==============================] - 1s 7ms/step - loss: 7.3892 - accuracy: 0.1521 - val_loss: 3.4743 - val_accuracy: 0.1727\n",
            "Epoch 4/100\n",
            "110/110 [==============================] - 1s 7ms/step - loss: 5.6888 - accuracy: 0.1541 - val_loss: 3.4598 - val_accuracy: 0.1693\n",
            "Epoch 5/100\n",
            "110/110 [==============================] - 1s 7ms/step - loss: 4.8678 - accuracy: 0.1598 - val_loss: 3.4593 - val_accuracy: 0.1653\n",
            "Epoch 6/100\n",
            "110/110 [==============================] - 1s 7ms/step - loss: 4.4566 - accuracy: 0.1621 - val_loss: 3.4599 - val_accuracy: 0.2193\n",
            "Epoch 7/100\n",
            "110/110 [==============================] - 1s 7ms/step - loss: 4.1260 - accuracy: 0.1755 - val_loss: 3.4755 - val_accuracy: 0.2127\n",
            "Epoch 8/100\n",
            "110/110 [==============================] - 1s 7ms/step - loss: 3.9795 - accuracy: 0.1821 - val_loss: 3.4814 - val_accuracy: 0.1960\n",
            "Epoch 9/100\n",
            "110/110 [==============================] - 1s 6ms/step - loss: 3.8467 - accuracy: 0.1770 - val_loss: 3.4629 - val_accuracy: 0.2033\n",
            "Epoch 10/100\n",
            "110/110 [==============================] - 1s 6ms/step - loss: 3.7527 - accuracy: 0.1881 - val_loss: 3.4525 - val_accuracy: 0.2093\n",
            "Epoch 11/100\n",
            "110/110 [==============================] - 1s 7ms/step - loss: 3.6982 - accuracy: 0.1893 - val_loss: 3.4053 - val_accuracy: 0.2293\n",
            "Epoch 12/100\n",
            "110/110 [==============================] - 1s 7ms/step - loss: 3.6547 - accuracy: 0.2133 - val_loss: 3.4098 - val_accuracy: 0.2360\n",
            "Epoch 13/100\n",
            "110/110 [==============================] - 1s 7ms/step - loss: 3.5981 - accuracy: 0.2007 - val_loss: 3.4133 - val_accuracy: 0.2260\n",
            "Epoch 14/100\n",
            "110/110 [==============================] - 1s 6ms/step - loss: 3.5638 - accuracy: 0.2081 - val_loss: 3.4191 - val_accuracy: 0.2187\n",
            "Epoch 15/100\n",
            "110/110 [==============================] - 1s 6ms/step - loss: 3.5244 - accuracy: 0.2144 - val_loss: 3.3539 - val_accuracy: 0.2427\n",
            "Epoch 16/100\n",
            "110/110 [==============================] - 1s 6ms/step - loss: 3.5017 - accuracy: 0.2170 - val_loss: 3.3532 - val_accuracy: 0.2387\n",
            "Epoch 17/100\n",
            "110/110 [==============================] - 1s 7ms/step - loss: 3.4837 - accuracy: 0.2258 - val_loss: 3.3628 - val_accuracy: 0.2467\n",
            "Epoch 18/100\n",
            "110/110 [==============================] - 1s 7ms/step - loss: 3.4636 - accuracy: 0.2296 - val_loss: 3.3401 - val_accuracy: 0.2467\n",
            "Epoch 19/100\n",
            "110/110 [==============================] - 1s 7ms/step - loss: 3.4403 - accuracy: 0.2419 - val_loss: 3.3541 - val_accuracy: 0.2513\n",
            "Epoch 20/100\n",
            "110/110 [==============================] - 1s 7ms/step - loss: 3.4421 - accuracy: 0.2387 - val_loss: 3.3393 - val_accuracy: 0.2507\n",
            "Epoch 21/100\n",
            "110/110 [==============================] - 1s 7ms/step - loss: 3.4172 - accuracy: 0.2390 - val_loss: 3.3021 - val_accuracy: 0.2727\n",
            "Epoch 22/100\n",
            "110/110 [==============================] - 1s 6ms/step - loss: 3.3454 - accuracy: 0.2593 - val_loss: 3.2647 - val_accuracy: 0.3373\n",
            "Epoch 23/100\n",
            "110/110 [==============================] - 1s 6ms/step - loss: 3.3638 - accuracy: 0.2644 - val_loss: 3.2145 - val_accuracy: 0.3367\n",
            "Epoch 24/100\n",
            "110/110 [==============================] - 1s 7ms/step - loss: 3.3148 - accuracy: 0.2696 - val_loss: 3.2492 - val_accuracy: 0.3360\n",
            "Epoch 25/100\n",
            "110/110 [==============================] - 1s 7ms/step - loss: 3.3046 - accuracy: 0.2690 - val_loss: 3.2327 - val_accuracy: 0.3293\n",
            "Epoch 26/100\n",
            "110/110 [==============================] - 1s 7ms/step - loss: 3.2794 - accuracy: 0.2742 - val_loss: 3.1716 - val_accuracy: 0.3293\n",
            "Epoch 27/100\n",
            "110/110 [==============================] - 1s 7ms/step - loss: 3.2249 - accuracy: 0.2990 - val_loss: 3.1405 - val_accuracy: 0.3507\n",
            "Epoch 28/100\n",
            "110/110 [==============================] - 1s 7ms/step - loss: 3.2401 - accuracy: 0.2959 - val_loss: 3.1793 - val_accuracy: 0.3473\n",
            "Epoch 29/100\n",
            "110/110 [==============================] - 1s 6ms/step - loss: 3.2325 - accuracy: 0.3025 - val_loss: 3.1793 - val_accuracy: 0.3433\n",
            "Epoch 30/100\n",
            "110/110 [==============================] - 1s 6ms/step - loss: 3.1986 - accuracy: 0.2956 - val_loss: 3.0698 - val_accuracy: 0.3567\n",
            "Epoch 31/100\n",
            "110/110 [==============================] - 1s 7ms/step - loss: 3.1373 - accuracy: 0.3279 - val_loss: 3.1135 - val_accuracy: 0.3773\n",
            "Epoch 32/100\n",
            "110/110 [==============================] - 1s 7ms/step - loss: 3.1502 - accuracy: 0.3125 - val_loss: 3.0731 - val_accuracy: 0.3640\n",
            "Epoch 33/100\n",
            "110/110 [==============================] - 1s 7ms/step - loss: 3.1176 - accuracy: 0.3333 - val_loss: 3.0422 - val_accuracy: 0.3813\n",
            "Epoch 34/100\n",
            "110/110 [==============================] - 1s 6ms/step - loss: 3.0777 - accuracy: 0.3376 - val_loss: 2.9962 - val_accuracy: 0.3973\n",
            "Epoch 35/100\n",
            "110/110 [==============================] - 1s 7ms/step - loss: 3.1140 - accuracy: 0.3279 - val_loss: 3.0146 - val_accuracy: 0.3740\n",
            "Epoch 36/100\n",
            "110/110 [==============================] - 1s 6ms/step - loss: 3.0424 - accuracy: 0.3256 - val_loss: 3.0037 - val_accuracy: 0.3707\n",
            "Epoch 37/100\n",
            "110/110 [==============================] - 1s 6ms/step - loss: 3.0440 - accuracy: 0.3328 - val_loss: 3.0048 - val_accuracy: 0.3847\n",
            "Epoch 38/100\n",
            "110/110 [==============================] - 1s 7ms/step - loss: 2.9977 - accuracy: 0.3528 - val_loss: 3.0028 - val_accuracy: 0.3853\n",
            "Epoch 39/100\n",
            "110/110 [==============================] - 1s 7ms/step - loss: 2.9705 - accuracy: 0.3639 - val_loss: 3.0149 - val_accuracy: 0.4053\n",
            "Epoch 40/100\n",
            "110/110 [==============================] - 1s 7ms/step - loss: 2.9497 - accuracy: 0.3676 - val_loss: 2.9561 - val_accuracy: 0.3987\n",
            "Epoch 41/100\n",
            "110/110 [==============================] - 1s 7ms/step - loss: 2.9096 - accuracy: 0.3816 - val_loss: 2.9292 - val_accuracy: 0.4073\n",
            "Epoch 42/100\n",
            "110/110 [==============================] - 1s 7ms/step - loss: 2.9098 - accuracy: 0.3722 - val_loss: 2.9292 - val_accuracy: 0.3973\n",
            "Epoch 43/100\n",
            "110/110 [==============================] - 1s 7ms/step - loss: 2.8586 - accuracy: 0.3802 - val_loss: 2.8642 - val_accuracy: 0.4013\n",
            "Epoch 44/100\n",
            "110/110 [==============================] - 1s 6ms/step - loss: 2.8604 - accuracy: 0.3928 - val_loss: 2.8278 - val_accuracy: 0.4080\n",
            "Epoch 45/100\n",
            "110/110 [==============================] - 1s 7ms/step - loss: 2.8441 - accuracy: 0.3877 - val_loss: 2.9068 - val_accuracy: 0.4253\n",
            "Epoch 46/100\n",
            "110/110 [==============================] - 1s 6ms/step - loss: 2.8398 - accuracy: 0.3842 - val_loss: 2.8210 - val_accuracy: 0.4120\n",
            "Epoch 47/100\n",
            "110/110 [==============================] - 1s 7ms/step - loss: 2.7893 - accuracy: 0.4085 - val_loss: 2.8280 - val_accuracy: 0.4367\n",
            "Epoch 48/100\n",
            "110/110 [==============================] - 1s 6ms/step - loss: 2.7558 - accuracy: 0.4019 - val_loss: 2.7629 - val_accuracy: 0.4387\n",
            "Epoch 49/100\n",
            "110/110 [==============================] - 1s 7ms/step - loss: 2.7398 - accuracy: 0.4202 - val_loss: 2.7585 - val_accuracy: 0.4440\n",
            "Epoch 50/100\n",
            "110/110 [==============================] - 1s 7ms/step - loss: 2.7073 - accuracy: 0.4265 - val_loss: 2.7890 - val_accuracy: 0.4260\n",
            "Epoch 51/100\n",
            "110/110 [==============================] - 1s 6ms/step - loss: 2.7315 - accuracy: 0.4260 - val_loss: 2.7905 - val_accuracy: 0.4413\n",
            "Epoch 52/100\n",
            "110/110 [==============================] - 1s 7ms/step - loss: 2.6653 - accuracy: 0.4314 - val_loss: 2.7970 - val_accuracy: 0.4427\n",
            "Epoch 53/100\n",
            "110/110 [==============================] - 1s 7ms/step - loss: 2.6078 - accuracy: 0.4431 - val_loss: 2.7254 - val_accuracy: 0.4493\n",
            "Epoch 54/100\n",
            "110/110 [==============================] - 1s 7ms/step - loss: 2.6283 - accuracy: 0.4371 - val_loss: 2.7448 - val_accuracy: 0.4307\n",
            "Epoch 55/100\n",
            "110/110 [==============================] - 1s 6ms/step - loss: 2.6140 - accuracy: 0.4463 - val_loss: 2.6923 - val_accuracy: 0.4573\n",
            "Epoch 56/100\n",
            "110/110 [==============================] - 1s 7ms/step - loss: 2.5762 - accuracy: 0.4491 - val_loss: 2.7000 - val_accuracy: 0.4667\n",
            "Epoch 57/100\n",
            "110/110 [==============================] - 1s 7ms/step - loss: 2.5487 - accuracy: 0.4465 - val_loss: 2.7013 - val_accuracy: 0.4520\n",
            "Epoch 58/100\n",
            "110/110 [==============================] - 1s 6ms/step - loss: 2.5290 - accuracy: 0.4591 - val_loss: 2.6849 - val_accuracy: 0.4633\n",
            "Epoch 59/100\n",
            "110/110 [==============================] - 1s 7ms/step - loss: 2.4948 - accuracy: 0.4643 - val_loss: 2.6436 - val_accuracy: 0.4540\n",
            "Epoch 60/100\n",
            "110/110 [==============================] - 1s 7ms/step - loss: 2.4764 - accuracy: 0.4717 - val_loss: 2.6826 - val_accuracy: 0.4727\n",
            "Epoch 61/100\n",
            "110/110 [==============================] - 1s 7ms/step - loss: 2.4554 - accuracy: 0.4711 - val_loss: 2.6207 - val_accuracy: 0.4687\n",
            "Epoch 62/100\n",
            "110/110 [==============================] - 1s 7ms/step - loss: 2.4393 - accuracy: 0.4737 - val_loss: 2.6195 - val_accuracy: 0.4640\n",
            "Epoch 63/100\n",
            "110/110 [==============================] - 1s 7ms/step - loss: 2.3784 - accuracy: 0.4931 - val_loss: 2.5870 - val_accuracy: 0.4853\n",
            "Epoch 64/100\n",
            "110/110 [==============================] - 1s 7ms/step - loss: 2.3883 - accuracy: 0.4943 - val_loss: 2.5902 - val_accuracy: 0.4840\n",
            "Epoch 65/100\n",
            "110/110 [==============================] - 1s 6ms/step - loss: 2.3470 - accuracy: 0.4957 - val_loss: 2.5812 - val_accuracy: 0.4907\n",
            "Epoch 66/100\n",
            "110/110 [==============================] - 1s 6ms/step - loss: 2.2992 - accuracy: 0.5040 - val_loss: 2.5718 - val_accuracy: 0.4820\n",
            "Epoch 67/100\n",
            "110/110 [==============================] - 1s 6ms/step - loss: 2.2882 - accuracy: 0.5046 - val_loss: 2.5456 - val_accuracy: 0.4767\n",
            "Epoch 68/100\n",
            "110/110 [==============================] - 1s 7ms/step - loss: 2.2828 - accuracy: 0.5086 - val_loss: 2.5148 - val_accuracy: 0.5013\n",
            "Epoch 69/100\n",
            "110/110 [==============================] - 1s 6ms/step - loss: 2.2654 - accuracy: 0.5097 - val_loss: 2.5617 - val_accuracy: 0.4833\n",
            "Epoch 70/100\n",
            "110/110 [==============================] - 1s 7ms/step - loss: 2.2272 - accuracy: 0.5157 - val_loss: 2.5059 - val_accuracy: 0.5000\n",
            "Epoch 71/100\n",
            "110/110 [==============================] - 1s 7ms/step - loss: 2.1874 - accuracy: 0.5234 - val_loss: 2.5770 - val_accuracy: 0.4833\n",
            "Epoch 72/100\n",
            "110/110 [==============================] - 1s 7ms/step - loss: 2.1590 - accuracy: 0.5220 - val_loss: 2.5852 - val_accuracy: 0.4920\n",
            "Epoch 73/100\n",
            "110/110 [==============================] - 1s 7ms/step - loss: 2.1801 - accuracy: 0.5297 - val_loss: 2.4563 - val_accuracy: 0.4667\n",
            "Epoch 74/100\n",
            "110/110 [==============================] - 1s 6ms/step - loss: 2.1223 - accuracy: 0.5326 - val_loss: 2.5009 - val_accuracy: 0.4860\n",
            "Epoch 75/100\n",
            "110/110 [==============================] - 1s 7ms/step - loss: 2.1085 - accuracy: 0.5372 - val_loss: 2.5190 - val_accuracy: 0.4627\n",
            "Epoch 76/100\n",
            "110/110 [==============================] - 1s 6ms/step - loss: 2.1138 - accuracy: 0.5252 - val_loss: 2.4623 - val_accuracy: 0.4933\n",
            "Epoch 77/100\n",
            "110/110 [==============================] - 1s 7ms/step - loss: 2.0851 - accuracy: 0.5337 - val_loss: 2.4560 - val_accuracy: 0.4907\n",
            "Epoch 78/100\n",
            "110/110 [==============================] - 1s 7ms/step - loss: 2.0350 - accuracy: 0.5409 - val_loss: 2.4082 - val_accuracy: 0.4793\n",
            "Epoch 79/100\n",
            "110/110 [==============================] - 1s 6ms/step - loss: 2.0095 - accuracy: 0.5557 - val_loss: 2.3772 - val_accuracy: 0.4907\n",
            "Epoch 80/100\n",
            "110/110 [==============================] - 1s 7ms/step - loss: 1.9691 - accuracy: 0.5635 - val_loss: 2.4149 - val_accuracy: 0.5000\n",
            "Epoch 81/100\n",
            "110/110 [==============================] - 1s 7ms/step - loss: 1.9511 - accuracy: 0.5546 - val_loss: 2.4793 - val_accuracy: 0.5013\n",
            "Epoch 82/100\n",
            "110/110 [==============================] - 1s 7ms/step - loss: 1.9588 - accuracy: 0.5515 - val_loss: 2.3600 - val_accuracy: 0.5087\n",
            "Epoch 83/100\n",
            "110/110 [==============================] - 1s 7ms/step - loss: 1.9551 - accuracy: 0.5552 - val_loss: 2.4389 - val_accuracy: 0.4847\n",
            "Epoch 84/100\n",
            "110/110 [==============================] - 1s 7ms/step - loss: 1.9111 - accuracy: 0.5552 - val_loss: 2.4950 - val_accuracy: 0.4913\n",
            "Epoch 85/100\n",
            "110/110 [==============================] - 1s 7ms/step - loss: 1.9261 - accuracy: 0.5492 - val_loss: 2.3903 - val_accuracy: 0.4933\n",
            "Epoch 86/100\n",
            "110/110 [==============================] - 1s 6ms/step - loss: 1.8882 - accuracy: 0.5669 - val_loss: 2.5442 - val_accuracy: 0.4967\n",
            "Epoch 87/100\n",
            "110/110 [==============================] - 1s 7ms/step - loss: 1.8278 - accuracy: 0.5760 - val_loss: 2.3417 - val_accuracy: 0.5020\n",
            "Epoch 88/100\n",
            "110/110 [==============================] - 1s 7ms/step - loss: 1.8139 - accuracy: 0.5758 - val_loss: 2.3176 - val_accuracy: 0.5040\n",
            "Epoch 89/100\n",
            "110/110 [==============================] - 1s 7ms/step - loss: 1.7917 - accuracy: 0.5820 - val_loss: 2.3902 - val_accuracy: 0.4900\n",
            "Epoch 90/100\n",
            "110/110 [==============================] - 1s 6ms/step - loss: 1.8117 - accuracy: 0.5866 - val_loss: 2.2648 - val_accuracy: 0.5000\n",
            "Epoch 91/100\n",
            "110/110 [==============================] - 1s 6ms/step - loss: 1.8242 - accuracy: 0.5795 - val_loss: 2.4032 - val_accuracy: 0.4827\n",
            "Epoch 92/100\n",
            "110/110 [==============================] - 1s 7ms/step - loss: 1.7365 - accuracy: 0.5932 - val_loss: 2.2721 - val_accuracy: 0.5133\n",
            "Epoch 93/100\n",
            "110/110 [==============================] - 1s 7ms/step - loss: 1.7236 - accuracy: 0.5981 - val_loss: 2.2717 - val_accuracy: 0.4967\n",
            "Epoch 94/100\n",
            "110/110 [==============================] - 1s 7ms/step - loss: 1.7134 - accuracy: 0.5901 - val_loss: 2.3322 - val_accuracy: 0.5027\n",
            "Epoch 95/100\n",
            "110/110 [==============================] - 1s 7ms/step - loss: 1.6997 - accuracy: 0.6061 - val_loss: 2.3316 - val_accuracy: 0.5073\n",
            "Epoch 96/100\n",
            "110/110 [==============================] - 1s 6ms/step - loss: 1.6812 - accuracy: 0.6095 - val_loss: 2.3635 - val_accuracy: 0.4860\n",
            "Epoch 97/100\n",
            "110/110 [==============================] - 1s 7ms/step - loss: 1.6672 - accuracy: 0.6109 - val_loss: 2.2665 - val_accuracy: 0.5153\n",
            "Epoch 98/100\n",
            "110/110 [==============================] - 1s 7ms/step - loss: 1.6529 - accuracy: 0.6118 - val_loss: 2.3786 - val_accuracy: 0.5107\n",
            "Epoch 99/100\n",
            "110/110 [==============================] - 1s 6ms/step - loss: 1.6452 - accuracy: 0.6092 - val_loss: 2.4123 - val_accuracy: 0.5040\n",
            "Epoch 100/100\n",
            "110/110 [==============================] - 1s 7ms/step - loss: 1.6362 - accuracy: 0.6046 - val_loss: 2.2483 - val_accuracy: 0.5167\n"
          ],
          "name": "stdout"
        },
        {
          "output_type": "execute_result",
          "data": {
            "text/plain": [
              "Text(0.5, 1.0, 'Error eval')"
            ]
          },
          "metadata": {
            "tags": []
          },
          "execution_count": 6
        },
        {
          "output_type": "display_data",
          "data": {
            "image/png": "[encoded data removed]",
            "text/plain": [
              "<Figure size 432x288 with 2 Axes>"
            ]
          },
          "metadata": {
            "tags": [],
            "needs_background": "light"
          }
        }
      ]
    },
    {
      "cell_type": "markdown",
      "metadata": {
        "id": "kpuhujoOth_E",
        "colab_type": "text"
      },
      "source": [
        "# CNN"
      ]
    },
    {
      "cell_type": "markdown",
      "metadata": {
        "colab_type": "text",
        "id": "JDoP9b3mt3Ys"
      },
      "source": [
        "## Load data"
      ]
    },
    {
      "cell_type": "code",
      "metadata": {
        "id": "HtRuJUwHu9iK",
        "colab_type": "code",
        "colab": {}
      },
      "source": [
        "import json\n",
        "import numpy as np\n",
        "from sklearn.model_selection import train_test_split\n",
        "import tensorflow.keras as keras"
      ],
      "execution_count": 5,
      "outputs": []
    },
    {
      "cell_type": "code",
      "metadata": {
        "colab_type": "code",
        "id": "57TZxVdHt3Yw",
        "colab": {}
      },
      "source": [
        "with open(\"/content/drive/My Drive/genres/data_10.json\", \"r\") as fp:\n",
        "  data = json.load(fp)"
      ],
      "execution_count": 6,
      "outputs": []
    },
    {
      "cell_type": "code",
      "metadata": {
        "colab_type": "code",
        "id": "XxOQ3K6Xt3Yz",
        "colab": {}
      },
      "source": [
        "X = np.array(data[\"mfcc\"])\n",
        "y = np.array(data[\"labels\"])"
      ],
      "execution_count": 7,
      "outputs": []
    },
    {
      "cell_type": "markdown",
      "metadata": {
        "id": "FDdTzp_MvEyA",
        "colab_type": "text"
      },
      "source": [
        "## Train test split"
      ]
    },
    {
      "cell_type": "code",
      "metadata": {
        "id": "Rl3pwKznu-Ho",
        "colab_type": "code",
        "colab": {}
      },
      "source": [
        "# create train, validation and test split\n",
        "X_train, X_test, y_train, y_test = train_test_split(X, y, test_size=0.25)\n",
        "X_train, X_validation, y_train, y_validation = train_test_split(X_train, y_train, test_size=0.2)"
      ],
      "execution_count": 22,
      "outputs": []
    },
    {
      "cell_type": "code",
      "metadata": {
        "id": "fz6YNZyyva5k",
        "colab_type": "code",
        "colab": {
          "base_uri": "https://localhost:8080/",
          "height": 34
        },
        "outputId": "af17698d-754c-4ee0-ea67-bc54130f3d93"
      },
      "source": [
        "X_train.shape"
      ],
      "execution_count": 24,
      "outputs": [
        {
          "output_type": "execute_result",
          "data": {
            "text/plain": [
              "(2998, 259, 13)"
            ]
          },
          "metadata": {
            "tags": []
          },
          "execution_count": 24
        }
      ]
    },
    {
      "cell_type": "code",
      "metadata": {
        "id": "6sobNEZOv2f0",
        "colab_type": "code",
        "colab": {}
      },
      "source": [
        "input_shape = (X_train.shape[1], X_train.shape[2], 1)"
      ],
      "execution_count": 25,
      "outputs": []
    },
    {
      "cell_type": "code",
      "metadata": {
        "id": "YDuyHpElwKZF",
        "colab_type": "code",
        "colab": {
          "base_uri": "https://localhost:8080/",
          "height": 34
        },
        "outputId": "1b6dba61-3ca6-4693-f6b5-b36a7252e88d"
      },
      "source": [
        "input_shape"
      ],
      "execution_count": 26,
      "outputs": [
        {
          "output_type": "execute_result",
          "data": {
            "text/plain": [
              "(259, 13, 1)"
            ]
          },
          "metadata": {
            "tags": []
          },
          "execution_count": 26
        }
      ]
    },
    {
      "cell_type": "code",
      "metadata": {
        "id": "uPw8kNexwLtS",
        "colab_type": "code",
        "colab": {
          "base_uri": "https://localhost:8080/",
          "height": 446
        },
        "outputId": "544eac2f-c0cb-416f-e028-b9dc21102765"
      },
      "source": [
        "model = keras.Sequential([\n",
        "    # First conv layer\n",
        "    keras.layers.Conv2D(32, (3,3), activation=\"relu\", input_shape= input_shape),\n",
        "    keras.layers.MaxPooling2D((3, 3), strides=(2, 2), padding='same'),\n",
        "    keras.layers.BatchNormalization(),\n",
        "    # Second conv layer\n",
        "    keras.layers.Conv2D(32, (3,3), activation=\"relu\", input_shape= input_shape),\n",
        "    keras.layers.MaxPooling2D((3, 3), strides=(2, 2), padding='same'),\n",
        "    keras.layers.BatchNormalization(),\n",
        "    # Third conv layer\n",
        "    keras.layers.Conv2D(32, (3,3), activation=\"relu\", input_shape= input_shape),\n",
        "    keras.layers.MaxPooling2D((3, 3), strides=(2, 2), padding='same'),\n",
        "    keras.layers.BatchNormalization(),\n",
        "    # flatten output and feed it into dense layer\n",
        "    keras.layers.Flatten(),\n",
        "    keras.layers.Dense(64, activation='relu'),\n",
        "    keras.layers.Dropout(0.3),\n",
        "    # Output layer\n",
        "    keras.layers.Dense(10, activation='softmax'),\n",
        "])"
      ],
      "execution_count": 30,
      "outputs": [
        {
          "output_type": "error",
          "ename": "ValueError",
          "evalue": "ignored",
          "traceback": [
            "\u001b[0;31m---------------------------------------------------------------------------\u001b[0m",
            "\u001b[0;31mInvalidArgumentError\u001b[0m                      Traceback (most recent call last)",
            "\u001b[0;32m/usr/local/lib/python3.6/dist-packages/tensorflow/python/framework/ops.py\u001b[0m in \u001b[0;36m_create_c_op\u001b[0;34m(graph, node_def, inputs, control_inputs, op_def)\u001b[0m\n\u001b[1;32m   1653\u001b[0m   \u001b[0;32mtry\u001b[0m\u001b[0;34m:\u001b[0m\u001b[0;34m\u001b[0m\u001b[0;34m\u001b[0m\u001b[0m\n\u001b[0;32m-> 1654\u001b[0;31m     \u001b[0mc_op\u001b[0m \u001b[0;34m=\u001b[0m \u001b[0mpywrap_tf_session\u001b[0m\u001b[0;34m.\u001b[0m\u001b[0mTF_FinishOperation\u001b[0m\u001b[0;34m(\u001b[0m\u001b[0mop_desc\u001b[0m\u001b[0;34m)\u001b[0m\u001b[0;34m\u001b[0m\u001b[0;34m\u001b[0m\u001b[0m\n\u001b[0m\u001b[1;32m   1655\u001b[0m   \u001b[0;32mexcept\u001b[0m \u001b[0merrors\u001b[0m\u001b[0;34m.\u001b[0m\u001b[0mInvalidArgumentError\u001b[0m \u001b[0;32mas\u001b[0m \u001b[0me\u001b[0m\u001b[0;34m:\u001b[0m\u001b[0;34m\u001b[0m\u001b[0;34m\u001b[0m\u001b[0m\n",
            "\u001b[0;31mInvalidArgumentError\u001b[0m: Negative dimension size caused by subtracting 3 from 2 for '{{node conv2d_8/Conv2D}} = Conv2D[T=DT_FLOAT, data_format=\"NHWC\", dilations=[1, 1, 1, 1], explicit_paddings=[], padding=\"VALID\", strides=[1, 1, 1, 1], use_cudnn_on_gpu=true](batch_normalization_7/Identity, conv2d_8/Conv2D/ReadVariableOp)' with input shapes: [?,64,2,32], [3,3,32,32].",
            "\nDuring handling of the above exception, another exception occurred:\n",
            "\u001b[0;31mValueError\u001b[0m                                Traceback (most recent call last)",
            "\u001b[0;32m<ipython-input-30-a286fc7a71eb>\u001b[0m in \u001b[0;36m<module>\u001b[0;34m()\u001b[0m\n\u001b[1;32m     17\u001b[0m     \u001b[0mkeras\u001b[0m\u001b[0;34m.\u001b[0m\u001b[0mlayers\u001b[0m\u001b[0;34m.\u001b[0m\u001b[0mDropout\u001b[0m\u001b[0;34m(\u001b[0m\u001b[0;36m0.3\u001b[0m\u001b[0;34m)\u001b[0m\u001b[0;34m,\u001b[0m\u001b[0;34m\u001b[0m\u001b[0;34m\u001b[0m\u001b[0m\n\u001b[1;32m     18\u001b[0m     \u001b[0;31m# Output layer\u001b[0m\u001b[0;34m\u001b[0m\u001b[0;34m\u001b[0m\u001b[0;34m\u001b[0m\u001b[0m\n\u001b[0;32m---> 19\u001b[0;31m     \u001b[0mkeras\u001b[0m\u001b[0;34m.\u001b[0m\u001b[0mlayers\u001b[0m\u001b[0;34m.\u001b[0m\u001b[0mDense\u001b[0m\u001b[0;34m(\u001b[0m\u001b[0;36m10\u001b[0m\u001b[0;34m,\u001b[0m \u001b[0mactivation\u001b[0m\u001b[0;34m=\u001b[0m\u001b[0;34m'softmax'\u001b[0m\u001b[0;34m)\u001b[0m\u001b[0;34m,\u001b[0m\u001b[0;34m\u001b[0m\u001b[0;34m\u001b[0m\u001b[0m\n\u001b[0m\u001b[1;32m     20\u001b[0m ])\n",
            "\u001b[0;32m/usr/local/lib/python3.6/dist-packages/tensorflow/python/training/tracking/base.py\u001b[0m in \u001b[0;36m_method_wrapper\u001b[0;34m(self, *args, **kwargs)\u001b[0m\n\u001b[1;32m    454\u001b[0m     \u001b[0mself\u001b[0m\u001b[0;34m.\u001b[0m\u001b[0m_self_setattr_tracking\u001b[0m \u001b[0;34m=\u001b[0m \u001b[0;32mFalse\u001b[0m  \u001b[0;31m# pylint: disable=protected-access\u001b[0m\u001b[0;34m\u001b[0m\u001b[0;34m\u001b[0m\u001b[0m\n\u001b[1;32m    455\u001b[0m     \u001b[0;32mtry\u001b[0m\u001b[0;34m:\u001b[0m\u001b[0;34m\u001b[0m\u001b[0;34m\u001b[0m\u001b[0m\n\u001b[0;32m--> 456\u001b[0;31m       \u001b[0mresult\u001b[0m \u001b[0;34m=\u001b[0m \u001b[0mmethod\u001b[0m\u001b[0;34m(\u001b[0m\u001b[0mself\u001b[0m\u001b[0;34m,\u001b[0m \u001b[0;34m*\u001b[0m\u001b[0margs\u001b[0m\u001b[0;34m,\u001b[0m \u001b[0;34m**\u001b[0m\u001b[0mkwargs\u001b[0m\u001b[0;34m)\u001b[0m\u001b[0;34m\u001b[0m\u001b[0;34m\u001b[0m\u001b[0m\n\u001b[0m\u001b[1;32m    457\u001b[0m     \u001b[0;32mfinally\u001b[0m\u001b[0;34m:\u001b[0m\u001b[0;34m\u001b[0m\u001b[0;34m\u001b[0m\u001b[0m\n\u001b[1;32m    458\u001b[0m       \u001b[0mself\u001b[0m\u001b[0;34m.\u001b[0m\u001b[0m_self_setattr_tracking\u001b[0m \u001b[0;34m=\u001b[0m \u001b[0mprevious_value\u001b[0m  \u001b[0;31m# pylint: disable=protected-access\u001b[0m\u001b[0;34m\u001b[0m\u001b[0;34m\u001b[0m\u001b[0m\n",
            "\u001b[0;32m/usr/local/lib/python3.6/dist-packages/tensorflow/python/keras/engine/sequential.py\u001b[0m in \u001b[0;36m__init__\u001b[0;34m(self, layers, name)\u001b[0m\n\u001b[1;32m    127\u001b[0m       \u001b[0mtf_utils\u001b[0m\u001b[0;34m.\u001b[0m\u001b[0massert_no_legacy_layers\u001b[0m\u001b[0;34m(\u001b[0m\u001b[0mlayers\u001b[0m\u001b[0;34m)\u001b[0m\u001b[0;34m\u001b[0m\u001b[0;34m\u001b[0m\u001b[0m\n\u001b[1;32m    128\u001b[0m       \u001b[0;32mfor\u001b[0m \u001b[0mlayer\u001b[0m \u001b[0;32min\u001b[0m \u001b[0mlayers\u001b[0m\u001b[0;34m:\u001b[0m\u001b[0;34m\u001b[0m\u001b[0;34m\u001b[0m\u001b[0m\n\u001b[0;32m--> 129\u001b[0;31m         \u001b[0mself\u001b[0m\u001b[0;34m.\u001b[0m\u001b[0madd\u001b[0m\u001b[0;34m(\u001b[0m\u001b[0mlayer\u001b[0m\u001b[0;34m)\u001b[0m\u001b[0;34m\u001b[0m\u001b[0;34m\u001b[0m\u001b[0m\n\u001b[0m\u001b[1;32m    130\u001b[0m \u001b[0;34m\u001b[0m\u001b[0m\n\u001b[1;32m    131\u001b[0m   \u001b[0;34m@\u001b[0m\u001b[0mproperty\u001b[0m\u001b[0;34m\u001b[0m\u001b[0;34m\u001b[0m\u001b[0m\n",
            "\u001b[0;32m/usr/local/lib/python3.6/dist-packages/tensorflow/python/training/tracking/base.py\u001b[0m in \u001b[0;36m_method_wrapper\u001b[0;34m(self, *args, **kwargs)\u001b[0m\n\u001b[1;32m    454\u001b[0m     \u001b[0mself\u001b[0m\u001b[0;34m.\u001b[0m\u001b[0m_self_setattr_tracking\u001b[0m \u001b[0;34m=\u001b[0m \u001b[0;32mFalse\u001b[0m  \u001b[0;31m# pylint: disable=protected-access\u001b[0m\u001b[0;34m\u001b[0m\u001b[0;34m\u001b[0m\u001b[0m\n\u001b[1;32m    455\u001b[0m     \u001b[0;32mtry\u001b[0m\u001b[0;34m:\u001b[0m\u001b[0;34m\u001b[0m\u001b[0;34m\u001b[0m\u001b[0m\n\u001b[0;32m--> 456\u001b[0;31m       \u001b[0mresult\u001b[0m \u001b[0;34m=\u001b[0m \u001b[0mmethod\u001b[0m\u001b[0;34m(\u001b[0m\u001b[0mself\u001b[0m\u001b[0;34m,\u001b[0m \u001b[0;34m*\u001b[0m\u001b[0margs\u001b[0m\u001b[0;34m,\u001b[0m \u001b[0;34m**\u001b[0m\u001b[0mkwargs\u001b[0m\u001b[0;34m)\u001b[0m\u001b[0;34m\u001b[0m\u001b[0;34m\u001b[0m\u001b[0m\n\u001b[0m\u001b[1;32m    457\u001b[0m     \u001b[0;32mfinally\u001b[0m\u001b[0;34m:\u001b[0m\u001b[0;34m\u001b[0m\u001b[0;34m\u001b[0m\u001b[0m\n\u001b[1;32m    458\u001b[0m       \u001b[0mself\u001b[0m\u001b[0;34m.\u001b[0m\u001b[0m_self_setattr_tracking\u001b[0m \u001b[0;34m=\u001b[0m \u001b[0mprevious_value\u001b[0m  \u001b[0;31m# pylint: disable=protected-access\u001b[0m\u001b[0;34m\u001b[0m\u001b[0;34m\u001b[0m\u001b[0m\n",
            "\u001b[0;32m/usr/local/lib/python3.6/dist-packages/tensorflow/python/keras/engine/sequential.py\u001b[0m in \u001b[0;36madd\u001b[0;34m(self, layer)\u001b[0m\n\u001b[1;32m    211\u001b[0m       \u001b[0;31m# If the model is being built continuously on top of an input layer:\u001b[0m\u001b[0;34m\u001b[0m\u001b[0;34m\u001b[0m\u001b[0;34m\u001b[0m\u001b[0m\n\u001b[1;32m    212\u001b[0m       \u001b[0;31m# refresh its output.\u001b[0m\u001b[0;34m\u001b[0m\u001b[0;34m\u001b[0m\u001b[0;34m\u001b[0m\u001b[0m\n\u001b[0;32m--> 213\u001b[0;31m       \u001b[0moutput_tensor\u001b[0m \u001b[0;34m=\u001b[0m \u001b[0mlayer\u001b[0m\u001b[0;34m(\u001b[0m\u001b[0mself\u001b[0m\u001b[0;34m.\u001b[0m\u001b[0moutputs\u001b[0m\u001b[0;34m[\u001b[0m\u001b[0;36m0\u001b[0m\u001b[0;34m]\u001b[0m\u001b[0;34m)\u001b[0m\u001b[0;34m\u001b[0m\u001b[0;34m\u001b[0m\u001b[0m\n\u001b[0m\u001b[1;32m    214\u001b[0m       \u001b[0;32mif\u001b[0m \u001b[0mlen\u001b[0m\u001b[0;34m(\u001b[0m\u001b[0mnest\u001b[0m\u001b[0;34m.\u001b[0m\u001b[0mflatten\u001b[0m\u001b[0;34m(\u001b[0m\u001b[0moutput_tensor\u001b[0m\u001b[0;34m)\u001b[0m\u001b[0;34m)\u001b[0m \u001b[0;34m!=\u001b[0m \u001b[0;36m1\u001b[0m\u001b[0;34m:\u001b[0m\u001b[0;34m\u001b[0m\u001b[0;34m\u001b[0m\u001b[0m\n\u001b[1;32m    215\u001b[0m         \u001b[0;32mraise\u001b[0m \u001b[0mValueError\u001b[0m\u001b[0;34m(\u001b[0m\u001b[0mSINGLE_LAYER_OUTPUT_ERROR_MSG\u001b[0m\u001b[0;34m)\u001b[0m\u001b[0;34m\u001b[0m\u001b[0;34m\u001b[0m\u001b[0m\n",
            "\u001b[0;32m/usr/local/lib/python3.6/dist-packages/tensorflow/python/keras/engine/base_layer.py\u001b[0m in \u001b[0;36m__call__\u001b[0;34m(self, *args, **kwargs)\u001b[0m\n\u001b[1;32m    920\u001b[0m                     not base_layer_utils.is_in_eager_or_tf_function()):\n\u001b[1;32m    921\u001b[0m                   \u001b[0;32mwith\u001b[0m \u001b[0mauto_control_deps\u001b[0m\u001b[0;34m.\u001b[0m\u001b[0mAutomaticControlDependencies\u001b[0m\u001b[0;34m(\u001b[0m\u001b[0;34m)\u001b[0m \u001b[0;32mas\u001b[0m \u001b[0macd\u001b[0m\u001b[0;34m:\u001b[0m\u001b[0;34m\u001b[0m\u001b[0;34m\u001b[0m\u001b[0m\n\u001b[0;32m--> 922\u001b[0;31m                     \u001b[0moutputs\u001b[0m \u001b[0;34m=\u001b[0m \u001b[0mcall_fn\u001b[0m\u001b[0;34m(\u001b[0m\u001b[0mcast_inputs\u001b[0m\u001b[0;34m,\u001b[0m \u001b[0;34m*\u001b[0m\u001b[0margs\u001b[0m\u001b[0;34m,\u001b[0m \u001b[0;34m**\u001b[0m\u001b[0mkwargs\u001b[0m\u001b[0;34m)\u001b[0m\u001b[0;34m\u001b[0m\u001b[0;34m\u001b[0m\u001b[0m\n\u001b[0m\u001b[1;32m    923\u001b[0m                     \u001b[0;31m# Wrap Tensors in `outputs` in `tf.identity` to avoid\u001b[0m\u001b[0;34m\u001b[0m\u001b[0;34m\u001b[0m\u001b[0;34m\u001b[0m\u001b[0m\n\u001b[1;32m    924\u001b[0m                     \u001b[0;31m# circular dependencies.\u001b[0m\u001b[0;34m\u001b[0m\u001b[0;34m\u001b[0m\u001b[0;34m\u001b[0m\u001b[0m\n",
            "\u001b[0;32m/usr/local/lib/python3.6/dist-packages/tensorflow/python/keras/layers/convolutional.py\u001b[0m in \u001b[0;36mcall\u001b[0;34m(self, inputs)\u001b[0m\n\u001b[1;32m    205\u001b[0m       \u001b[0minputs\u001b[0m \u001b[0;34m=\u001b[0m \u001b[0marray_ops\u001b[0m\u001b[0;34m.\u001b[0m\u001b[0mpad\u001b[0m\u001b[0;34m(\u001b[0m\u001b[0minputs\u001b[0m\u001b[0;34m,\u001b[0m \u001b[0mself\u001b[0m\u001b[0;34m.\u001b[0m\u001b[0m_compute_causal_padding\u001b[0m\u001b[0;34m(\u001b[0m\u001b[0;34m)\u001b[0m\u001b[0;34m)\u001b[0m\u001b[0;34m\u001b[0m\u001b[0;34m\u001b[0m\u001b[0m\n\u001b[1;32m    206\u001b[0m \u001b[0;34m\u001b[0m\u001b[0m\n\u001b[0;32m--> 207\u001b[0;31m     \u001b[0moutputs\u001b[0m \u001b[0;34m=\u001b[0m \u001b[0mself\u001b[0m\u001b[0;34m.\u001b[0m\u001b[0m_convolution_op\u001b[0m\u001b[0;34m(\u001b[0m\u001b[0minputs\u001b[0m\u001b[0;34m,\u001b[0m \u001b[0mself\u001b[0m\u001b[0;34m.\u001b[0m\u001b[0mkernel\u001b[0m\u001b[0;34m)\u001b[0m\u001b[0;34m\u001b[0m\u001b[0;34m\u001b[0m\u001b[0m\n\u001b[0m\u001b[1;32m    208\u001b[0m \u001b[0;34m\u001b[0m\u001b[0m\n\u001b[1;32m    209\u001b[0m     \u001b[0;32mif\u001b[0m \u001b[0mself\u001b[0m\u001b[0;34m.\u001b[0m\u001b[0muse_bias\u001b[0m\u001b[0;34m:\u001b[0m\u001b[0;34m\u001b[0m\u001b[0;34m\u001b[0m\u001b[0m\n",
            "\u001b[0;32m/usr/local/lib/python3.6/dist-packages/tensorflow/python/ops/nn_ops.py\u001b[0m in \u001b[0;36m__call__\u001b[0;34m(self, inp, filter)\u001b[0m\n\u001b[1;32m   1104\u001b[0m           call_from_convolution=False)\n\u001b[1;32m   1105\u001b[0m     \u001b[0;32melse\u001b[0m\u001b[0;34m:\u001b[0m\u001b[0;34m\u001b[0m\u001b[0;34m\u001b[0m\u001b[0m\n\u001b[0;32m-> 1106\u001b[0;31m       \u001b[0;32mreturn\u001b[0m \u001b[0mself\u001b[0m\u001b[0;34m.\u001b[0m\u001b[0mconv_op\u001b[0m\u001b[0;34m(\u001b[0m\u001b[0minp\u001b[0m\u001b[0;34m,\u001b[0m \u001b[0mfilter\u001b[0m\u001b[0;34m)\u001b[0m\u001b[0;34m\u001b[0m\u001b[0;34m\u001b[0m\u001b[0m\n\u001b[0m\u001b[1;32m   1107\u001b[0m \u001b[0;34m\u001b[0m\u001b[0m\n\u001b[1;32m   1108\u001b[0m \u001b[0;34m\u001b[0m\u001b[0m\n",
            "\u001b[0;32m/usr/local/lib/python3.6/dist-packages/tensorflow/python/ops/nn_ops.py\u001b[0m in \u001b[0;36m__call__\u001b[0;34m(self, inp, filter)\u001b[0m\n\u001b[1;32m    636\u001b[0m \u001b[0;34m\u001b[0m\u001b[0m\n\u001b[1;32m    637\u001b[0m   \u001b[0;32mdef\u001b[0m \u001b[0m__call__\u001b[0m\u001b[0;34m(\u001b[0m\u001b[0mself\u001b[0m\u001b[0;34m,\u001b[0m \u001b[0minp\u001b[0m\u001b[0;34m,\u001b[0m \u001b[0mfilter\u001b[0m\u001b[0;34m)\u001b[0m\u001b[0;34m:\u001b[0m  \u001b[0;31m# pylint: disable=redefined-builtin\u001b[0m\u001b[0;34m\u001b[0m\u001b[0;34m\u001b[0m\u001b[0m\n\u001b[0;32m--> 638\u001b[0;31m     \u001b[0;32mreturn\u001b[0m \u001b[0mself\u001b[0m\u001b[0;34m.\u001b[0m\u001b[0mcall\u001b[0m\u001b[0;34m(\u001b[0m\u001b[0minp\u001b[0m\u001b[0;34m,\u001b[0m \u001b[0mfilter\u001b[0m\u001b[0;34m)\u001b[0m\u001b[0;34m\u001b[0m\u001b[0;34m\u001b[0m\u001b[0m\n\u001b[0m\u001b[1;32m    639\u001b[0m \u001b[0;34m\u001b[0m\u001b[0m\n\u001b[1;32m    640\u001b[0m \u001b[0;34m\u001b[0m\u001b[0m\n",
            "\u001b[0;32m/usr/local/lib/python3.6/dist-packages/tensorflow/python/ops/nn_ops.py\u001b[0m in \u001b[0;36m__call__\u001b[0;34m(self, inp, filter)\u001b[0m\n\u001b[1;32m    235\u001b[0m         \u001b[0mpadding\u001b[0m\u001b[0;34m=\u001b[0m\u001b[0mself\u001b[0m\u001b[0;34m.\u001b[0m\u001b[0mpadding\u001b[0m\u001b[0;34m,\u001b[0m\u001b[0;34m\u001b[0m\u001b[0;34m\u001b[0m\u001b[0m\n\u001b[1;32m    236\u001b[0m         \u001b[0mdata_format\u001b[0m\u001b[0;34m=\u001b[0m\u001b[0mself\u001b[0m\u001b[0;34m.\u001b[0m\u001b[0mdata_format\u001b[0m\u001b[0;34m,\u001b[0m\u001b[0;34m\u001b[0m\u001b[0;34m\u001b[0m\u001b[0m\n\u001b[0;32m--> 237\u001b[0;31m         name=self.name)\n\u001b[0m\u001b[1;32m    238\u001b[0m \u001b[0;34m\u001b[0m\u001b[0m\n\u001b[1;32m    239\u001b[0m \u001b[0;34m\u001b[0m\u001b[0m\n",
            "\u001b[0;32m/usr/local/lib/python3.6/dist-packages/tensorflow/python/ops/nn_ops.py\u001b[0m in \u001b[0;36mconv2d\u001b[0;34m(input, filter, strides, padding, use_cudnn_on_gpu, data_format, dilations, name, filters)\u001b[0m\n\u001b[1;32m   2012\u001b[0m                            \u001b[0mdata_format\u001b[0m\u001b[0;34m=\u001b[0m\u001b[0mdata_format\u001b[0m\u001b[0;34m,\u001b[0m\u001b[0;34m\u001b[0m\u001b[0;34m\u001b[0m\u001b[0m\n\u001b[1;32m   2013\u001b[0m                            \u001b[0mdilations\u001b[0m\u001b[0;34m=\u001b[0m\u001b[0mdilations\u001b[0m\u001b[0;34m,\u001b[0m\u001b[0;34m\u001b[0m\u001b[0;34m\u001b[0m\u001b[0m\n\u001b[0;32m-> 2014\u001b[0;31m                            name=name)\n\u001b[0m\u001b[1;32m   2015\u001b[0m \u001b[0;34m\u001b[0m\u001b[0m\n\u001b[1;32m   2016\u001b[0m \u001b[0;34m\u001b[0m\u001b[0m\n",
            "\u001b[0;32m/usr/local/lib/python3.6/dist-packages/tensorflow/python/ops/gen_nn_ops.py\u001b[0m in \u001b[0;36mconv2d\u001b[0;34m(input, filter, strides, padding, use_cudnn_on_gpu, explicit_paddings, data_format, dilations, name)\u001b[0m\n\u001b[1;32m    967\u001b[0m                   \u001b[0mpadding\u001b[0m\u001b[0;34m=\u001b[0m\u001b[0mpadding\u001b[0m\u001b[0;34m,\u001b[0m \u001b[0muse_cudnn_on_gpu\u001b[0m\u001b[0;34m=\u001b[0m\u001b[0muse_cudnn_on_gpu\u001b[0m\u001b[0;34m,\u001b[0m\u001b[0;34m\u001b[0m\u001b[0;34m\u001b[0m\u001b[0m\n\u001b[1;32m    968\u001b[0m                   \u001b[0mexplicit_paddings\u001b[0m\u001b[0;34m=\u001b[0m\u001b[0mexplicit_paddings\u001b[0m\u001b[0;34m,\u001b[0m\u001b[0;34m\u001b[0m\u001b[0;34m\u001b[0m\u001b[0m\n\u001b[0;32m--> 969\u001b[0;31m                   data_format=data_format, dilations=dilations, name=name)\n\u001b[0m\u001b[1;32m    970\u001b[0m   \u001b[0m_result\u001b[0m \u001b[0;34m=\u001b[0m \u001b[0m_outputs\u001b[0m\u001b[0;34m[\u001b[0m\u001b[0;34m:\u001b[0m\u001b[0;34m]\u001b[0m\u001b[0;34m\u001b[0m\u001b[0;34m\u001b[0m\u001b[0m\n\u001b[1;32m    971\u001b[0m   \u001b[0;32mif\u001b[0m \u001b[0m_execute\u001b[0m\u001b[0;34m.\u001b[0m\u001b[0mmust_record_gradient\u001b[0m\u001b[0;34m(\u001b[0m\u001b[0;34m)\u001b[0m\u001b[0;34m:\u001b[0m\u001b[0;34m\u001b[0m\u001b[0;34m\u001b[0m\u001b[0m\n",
            "\u001b[0;32m/usr/local/lib/python3.6/dist-packages/tensorflow/python/framework/op_def_library.py\u001b[0m in \u001b[0;36m_apply_op_helper\u001b[0;34m(op_type_name, name, **keywords)\u001b[0m\n\u001b[1;32m    742\u001b[0m       op = g._create_op_internal(op_type_name, inputs, dtypes=None,\n\u001b[1;32m    743\u001b[0m                                  \u001b[0mname\u001b[0m\u001b[0;34m=\u001b[0m\u001b[0mscope\u001b[0m\u001b[0;34m,\u001b[0m \u001b[0minput_types\u001b[0m\u001b[0;34m=\u001b[0m\u001b[0minput_types\u001b[0m\u001b[0;34m,\u001b[0m\u001b[0;34m\u001b[0m\u001b[0;34m\u001b[0m\u001b[0m\n\u001b[0;32m--> 744\u001b[0;31m                                  attrs=attr_protos, op_def=op_def)\n\u001b[0m\u001b[1;32m    745\u001b[0m \u001b[0;34m\u001b[0m\u001b[0m\n\u001b[1;32m    746\u001b[0m     \u001b[0;31m# `outputs` is returned as a separate return value so that the output\u001b[0m\u001b[0;34m\u001b[0m\u001b[0;34m\u001b[0m\u001b[0;34m\u001b[0m\u001b[0m\n",
            "\u001b[0;32m/usr/local/lib/python3.6/dist-packages/tensorflow/python/framework/func_graph.py\u001b[0m in \u001b[0;36m_create_op_internal\u001b[0;34m(self, op_type, inputs, dtypes, input_types, name, attrs, op_def, compute_device)\u001b[0m\n\u001b[1;32m    593\u001b[0m     return super(FuncGraph, self)._create_op_internal(  # pylint: disable=protected-access\n\u001b[1;32m    594\u001b[0m         \u001b[0mop_type\u001b[0m\u001b[0;34m,\u001b[0m \u001b[0minputs\u001b[0m\u001b[0;34m,\u001b[0m \u001b[0mdtypes\u001b[0m\u001b[0;34m,\u001b[0m \u001b[0minput_types\u001b[0m\u001b[0;34m,\u001b[0m \u001b[0mname\u001b[0m\u001b[0;34m,\u001b[0m \u001b[0mattrs\u001b[0m\u001b[0;34m,\u001b[0m \u001b[0mop_def\u001b[0m\u001b[0;34m,\u001b[0m\u001b[0;34m\u001b[0m\u001b[0;34m\u001b[0m\u001b[0m\n\u001b[0;32m--> 595\u001b[0;31m         compute_device)\n\u001b[0m\u001b[1;32m    596\u001b[0m \u001b[0;34m\u001b[0m\u001b[0m\n\u001b[1;32m    597\u001b[0m   \u001b[0;32mdef\u001b[0m \u001b[0mcapture\u001b[0m\u001b[0;34m(\u001b[0m\u001b[0mself\u001b[0m\u001b[0;34m,\u001b[0m \u001b[0mtensor\u001b[0m\u001b[0;34m,\u001b[0m \u001b[0mname\u001b[0m\u001b[0;34m=\u001b[0m\u001b[0;32mNone\u001b[0m\u001b[0;34m,\u001b[0m \u001b[0mshape\u001b[0m\u001b[0;34m=\u001b[0m\u001b[0;32mNone\u001b[0m\u001b[0;34m)\u001b[0m\u001b[0;34m:\u001b[0m\u001b[0;34m\u001b[0m\u001b[0;34m\u001b[0m\u001b[0m\n",
            "\u001b[0;32m/usr/local/lib/python3.6/dist-packages/tensorflow/python/framework/ops.py\u001b[0m in \u001b[0;36m_create_op_internal\u001b[0;34m(self, op_type, inputs, dtypes, input_types, name, attrs, op_def, compute_device)\u001b[0m\n\u001b[1;32m   3325\u001b[0m           \u001b[0minput_types\u001b[0m\u001b[0;34m=\u001b[0m\u001b[0minput_types\u001b[0m\u001b[0;34m,\u001b[0m\u001b[0;34m\u001b[0m\u001b[0;34m\u001b[0m\u001b[0m\n\u001b[1;32m   3326\u001b[0m           \u001b[0moriginal_op\u001b[0m\u001b[0;34m=\u001b[0m\u001b[0mself\u001b[0m\u001b[0;34m.\u001b[0m\u001b[0m_default_original_op\u001b[0m\u001b[0;34m,\u001b[0m\u001b[0;34m\u001b[0m\u001b[0;34m\u001b[0m\u001b[0m\n\u001b[0;32m-> 3327\u001b[0;31m           op_def=op_def)\n\u001b[0m\u001b[1;32m   3328\u001b[0m       \u001b[0mself\u001b[0m\u001b[0;34m.\u001b[0m\u001b[0m_create_op_helper\u001b[0m\u001b[0;34m(\u001b[0m\u001b[0mret\u001b[0m\u001b[0;34m,\u001b[0m \u001b[0mcompute_device\u001b[0m\u001b[0;34m=\u001b[0m\u001b[0mcompute_device\u001b[0m\u001b[0;34m)\u001b[0m\u001b[0;34m\u001b[0m\u001b[0;34m\u001b[0m\u001b[0m\n\u001b[1;32m   3329\u001b[0m     \u001b[0;32mreturn\u001b[0m \u001b[0mret\u001b[0m\u001b[0;34m\u001b[0m\u001b[0;34m\u001b[0m\u001b[0m\n",
            "\u001b[0;32m/usr/local/lib/python3.6/dist-packages/tensorflow/python/framework/ops.py\u001b[0m in \u001b[0;36m__init__\u001b[0;34m(self, node_def, g, inputs, output_types, control_inputs, input_types, original_op, op_def)\u001b[0m\n\u001b[1;32m   1815\u001b[0m         \u001b[0mop_def\u001b[0m \u001b[0;34m=\u001b[0m \u001b[0mself\u001b[0m\u001b[0;34m.\u001b[0m\u001b[0m_graph\u001b[0m\u001b[0;34m.\u001b[0m\u001b[0m_get_op_def\u001b[0m\u001b[0;34m(\u001b[0m\u001b[0mnode_def\u001b[0m\u001b[0;34m.\u001b[0m\u001b[0mop\u001b[0m\u001b[0;34m)\u001b[0m\u001b[0;34m\u001b[0m\u001b[0;34m\u001b[0m\u001b[0m\n\u001b[1;32m   1816\u001b[0m       self._c_op = _create_c_op(self._graph, node_def, inputs,\n\u001b[0;32m-> 1817\u001b[0;31m                                 control_input_ops, op_def)\n\u001b[0m\u001b[1;32m   1818\u001b[0m       \u001b[0mname\u001b[0m \u001b[0;34m=\u001b[0m \u001b[0mcompat\u001b[0m\u001b[0;34m.\u001b[0m\u001b[0mas_str\u001b[0m\u001b[0;34m(\u001b[0m\u001b[0mnode_def\u001b[0m\u001b[0;34m.\u001b[0m\u001b[0mname\u001b[0m\u001b[0;34m)\u001b[0m\u001b[0;34m\u001b[0m\u001b[0;34m\u001b[0m\u001b[0m\n\u001b[1;32m   1819\u001b[0m     \u001b[0;31m# pylint: enable=protected-access\u001b[0m\u001b[0;34m\u001b[0m\u001b[0;34m\u001b[0m\u001b[0;34m\u001b[0m\u001b[0m\n",
            "\u001b[0;32m/usr/local/lib/python3.6/dist-packages/tensorflow/python/framework/ops.py\u001b[0m in \u001b[0;36m_create_c_op\u001b[0;34m(graph, node_def, inputs, control_inputs, op_def)\u001b[0m\n\u001b[1;32m   1655\u001b[0m   \u001b[0;32mexcept\u001b[0m \u001b[0merrors\u001b[0m\u001b[0;34m.\u001b[0m\u001b[0mInvalidArgumentError\u001b[0m \u001b[0;32mas\u001b[0m \u001b[0me\u001b[0m\u001b[0;34m:\u001b[0m\u001b[0;34m\u001b[0m\u001b[0;34m\u001b[0m\u001b[0m\n\u001b[1;32m   1656\u001b[0m     \u001b[0;31m# Convert to ValueError for backwards compatibility.\u001b[0m\u001b[0;34m\u001b[0m\u001b[0;34m\u001b[0m\u001b[0;34m\u001b[0m\u001b[0m\n\u001b[0;32m-> 1657\u001b[0;31m     \u001b[0;32mraise\u001b[0m \u001b[0mValueError\u001b[0m\u001b[0;34m(\u001b[0m\u001b[0mstr\u001b[0m\u001b[0;34m(\u001b[0m\u001b[0me\u001b[0m\u001b[0;34m)\u001b[0m\u001b[0;34m)\u001b[0m\u001b[0;34m\u001b[0m\u001b[0;34m\u001b[0m\u001b[0m\n\u001b[0m\u001b[1;32m   1658\u001b[0m \u001b[0;34m\u001b[0m\u001b[0m\n\u001b[1;32m   1659\u001b[0m   \u001b[0;32mreturn\u001b[0m \u001b[0mc_op\u001b[0m\u001b[0;34m\u001b[0m\u001b[0;34m\u001b[0m\u001b[0m\n",
            "\u001b[0;31mValueError\u001b[0m: Negative dimension size caused by subtracting 3 from 2 for '{{node conv2d_8/Conv2D}} = Conv2D[T=DT_FLOAT, data_format=\"NHWC\", dilations=[1, 1, 1, 1], explicit_paddings=[], padding=\"VALID\", strides=[1, 1, 1, 1], use_cudnn_on_gpu=true](batch_normalization_7/Identity, conv2d_8/Conv2D/ReadVariableOp)' with input shapes: [?,64,2,32], [3,3,32,32]."
          ]
        }
      ]
    },
    {
      "cell_type": "markdown",
      "metadata": {
        "id": "XEAg42dT2NO-",
        "colab_type": "text"
      },
      "source": [
        "Compile model"
      ]
    },
    {
      "cell_type": "code",
      "metadata": {
        "id": "jFWUgh4y2MC5",
        "colab_type": "code",
        "colab": {}
      },
      "source": [
        "optimizer = keras.optimizers.Adam(learning_rate=0.0001)\n",
        "model.compile"
      ],
      "execution_count": 26,
      "outputs": []
    },
    {
      "cell_type": "code",
      "metadata": {
        "id": "v5YSHffR3UwL",
        "colab_type": "code",
        "colab": {
          "base_uri": "https://localhost:8080/",
          "height": 1000
        },
        "outputId": "ca2b2f98-ec9c-4861-b6d8-2289e74be5e4"
      },
      "source": [
        "import json\n",
        "import numpy as np\n",
        "from sklearn.model_selection import train_test_split\n",
        "import tensorflow.keras as keras\n",
        "import matplotlib.pyplot as plt\n",
        "\n",
        "DATA_PATH = \"/content/drive/My Drive/genres/data_10.json\"\n",
        "\n",
        "\n",
        "def load_data(data_path):\n",
        "    \"\"\"Loads training dataset from json file.\n",
        "        :param data_path (str): Path to json file containing data\n",
        "        :return X (ndarray): Inputs\n",
        "        :return y (ndarray): Targets\n",
        "    \"\"\"\n",
        "\n",
        "    with open(data_path, \"r\") as fp:\n",
        "        data = json.load(fp)\n",
        "\n",
        "    X = np.array(data[\"mfcc\"])\n",
        "    y = np.array(data[\"labels\"])\n",
        "    return X, y\n",
        "\n",
        "\n",
        "def plot_history(history):\n",
        "    \"\"\"Plots accuracy/loss for training/validation set as a function of the epochs\n",
        "        :param history: Training history of model\n",
        "        :return:\n",
        "    \"\"\"\n",
        "\n",
        "    fig, axs = plt.subplots(2)\n",
        "\n",
        "    # create accuracy sublpot\n",
        "    axs[0].plot(history.history[\"accuracy\"], label=\"train accuracy\")\n",
        "    axs[0].plot(history.history[\"val_accuracy\"], label=\"test accuracy\")\n",
        "    axs[0].set_ylabel(\"Accuracy\")\n",
        "    axs[0].legend(loc=\"lower right\")\n",
        "    axs[0].set_title(\"Accuracy eval\")\n",
        "\n",
        "    # create error sublpot\n",
        "    axs[1].plot(history.history[\"loss\"], label=\"train error\")\n",
        "    axs[1].plot(history.history[\"val_loss\"], label=\"test error\")\n",
        "    axs[1].set_ylabel(\"Error\")\n",
        "    axs[1].set_xlabel(\"Epoch\")\n",
        "    axs[1].legend(loc=\"upper right\")\n",
        "    axs[1].set_title(\"Error eval\")\n",
        "\n",
        "    plt.show()\n",
        "\n",
        "\n",
        "def prepare_datasets(test_size, validation_size):\n",
        "    \"\"\"Loads data and splits it into train, validation and test sets.\n",
        "    :param test_size (float): Value in [0, 1] indicating percentage of data set to allocate to test split\n",
        "    :param validation_size (float): Value in [0, 1] indicating percentage of train set to allocate to validation split\n",
        "    :return X_train (ndarray): Input training set\n",
        "    :return X_validation (ndarray): Input validation set\n",
        "    :return X_test (ndarray): Input test set\n",
        "    :return y_train (ndarray): Target training set\n",
        "    :return y_validation (ndarray): Target validation set\n",
        "    :return y_test (ndarray): Target test set\n",
        "    \"\"\"\n",
        "\n",
        "    # load data\n",
        "    X, y = load_data(DATA_PATH)\n",
        "\n",
        "    # create train, validation and test split\n",
        "    X_train, X_test, y_train, y_test = train_test_split(X, y, test_size=test_size)\n",
        "    X_train, X_validation, y_train, y_validation = train_test_split(X_train, y_train, test_size=validation_size)\n",
        "\n",
        "    # add an axis to input sets\n",
        "    X_train = X_train[..., np.newaxis]\n",
        "    X_validation = X_validation[..., np.newaxis]\n",
        "    X_test = X_test[..., np.newaxis]\n",
        "\n",
        "    return X_train, X_validation, X_test, y_train, y_validation, y_test\n",
        "\n",
        "\n",
        "def build_model(input_shape):\n",
        "    \"\"\"Generates CNN model\n",
        "    :param input_shape (tuple): Shape of input set\n",
        "    :return model: CNN model\n",
        "    \"\"\"\n",
        "\n",
        "    # build network topology\n",
        "    model = keras.Sequential()\n",
        "\n",
        "    # 1st conv layer\n",
        "    model.add(keras.layers.Conv2D(32, (3, 3), activation='relu', input_shape=input_shape))\n",
        "    model.add(keras.layers.MaxPooling2D((3, 3), strides=(2, 2), padding='same'))\n",
        "    model.add(keras.layers.BatchNormalization())\n",
        "\n",
        "    # 2nd conv layer\n",
        "    model.add(keras.layers.Conv2D(32, (3, 3), activation='relu'))\n",
        "    model.add(keras.layers.MaxPooling2D((3, 3), strides=(2, 2), padding='same'))\n",
        "    model.add(keras.layers.BatchNormalization())\n",
        "\n",
        "    # 3rd conv layer\n",
        "    model.add(keras.layers.Conv2D(32, (2, 2), activation='relu'))\n",
        "    model.add(keras.layers.MaxPooling2D((2, 2), strides=(2, 2), padding='same'))\n",
        "    model.add(keras.layers.BatchNormalization())\n",
        "\n",
        "    # flatten output and feed it into dense layer\n",
        "    model.add(keras.layers.Flatten())\n",
        "    model.add(keras.layers.Dense(64, activation='relu'))\n",
        "    model.add(keras.layers.Dropout(0.3))\n",
        "\n",
        "    # output layer\n",
        "    model.add(keras.layers.Dense(10, activation='softmax'))\n",
        "\n",
        "    return model\n",
        "\n",
        "\n",
        "def predict(model, X, y):\n",
        "    \"\"\"Predict a single sample using the trained model\n",
        "    :param model: Trained classifier\n",
        "    :param X: Input data\n",
        "    :param y (int): Target\n",
        "    \"\"\"\n",
        "\n",
        "    # add a dimension to input data for sample - model.predict() expects a 4d array in this case\n",
        "    X = X[np.newaxis, ...] # array shape (1, 130, 13, 1)\n",
        "\n",
        "    # perform prediction\n",
        "    prediction = model.predict(X)\n",
        "\n",
        "    # get index with max value\n",
        "    predicted_index = np.argmax(prediction, axis=1)\n",
        "\n",
        "    print(\"Target: {}, Predicted label: {}\".format(y, predicted_index))\n",
        "\n",
        "\n",
        "if __name__ == \"__main__\":\n",
        "\n",
        "    # get train, validation, test splits\n",
        "    X_train, X_validation, X_test, y_train, y_validation, y_test = prepare_datasets(0.25, 0.2)\n",
        "\n",
        "    # create network\n",
        "    input_shape = (X_train.shape[1], X_train.shape[2], 1)\n",
        "    model = build_model(input_shape)\n",
        "\n",
        "    # compile model\n",
        "    optimiser = keras.optimizers.Adam(learning_rate=0.0001)\n",
        "    model.compile(optimizer=optimiser,\n",
        "                  loss='sparse_categorical_crossentropy',\n",
        "                  metrics=['accuracy'])\n",
        "\n",
        "    model.summary()\n",
        "\n",
        "    # train model\n",
        "    history = model.fit(X_train, y_train, validation_data=(X_validation, y_validation), batch_size=32, epochs=30)\n",
        "\n",
        "    # plot accuracy/error for training and validation\n",
        "    plot_history(history)\n",
        "\n",
        "    # evaluate model on test set\n",
        "    test_loss, test_acc = model.evaluate(X_test, y_test, verbose=2)\n",
        "    print('\\nTest accuracy:', test_acc)\n",
        "\n",
        "    # pick a sample to predict from the test set\n",
        "    X_to_predict = X_test[100]\n",
        "    y_to_predict = y_test[100]\n",
        "\n",
        "    # predict sample\n",
        "    predict(model, X_to_predict, y_to_predict)"
      ],
      "execution_count": 31,
      "outputs": [
        {
          "output_type": "stream",
          "text": [
            "Model: \"sequential_3\"\n",
            "_________________________________________________________________\n",
            "Layer (type)                 Output Shape              Param #   \n",
            "=================================================================\n",
            "conv2d_9 (Conv2D)            (None, 257, 11, 32)       320       \n",
            "_________________________________________________________________\n",
            "max_pooling2d_9 (MaxPooling2 (None, 129, 6, 32)        0         \n",
            "_________________________________________________________________\n",
            "batch_normalization_9 (Batch (None, 129, 6, 32)        128       \n",
            "_________________________________________________________________\n",
            "conv2d_10 (Conv2D)           (None, 127, 4, 32)        9248      \n",
            "_________________________________________________________________\n",
            "max_pooling2d_10 (MaxPooling (None, 64, 2, 32)         0         \n",
            "_________________________________________________________________\n",
            "batch_normalization_10 (Batc (None, 64, 2, 32)         128       \n",
            "_________________________________________________________________\n",
            "conv2d_11 (Conv2D)           (None, 63, 1, 32)         4128      \n",
            "_________________________________________________________________\n",
            "max_pooling2d_11 (MaxPooling (None, 32, 1, 32)         0         \n",
            "_________________________________________________________________\n",
            "batch_normalization_11 (Batc (None, 32, 1, 32)         128       \n",
            "_________________________________________________________________\n",
            "flatten_3 (Flatten)          (None, 1024)              0         \n",
            "_________________________________________________________________\n",
            "dense_6 (Dense)              (None, 64)                65600     \n",
            "_________________________________________________________________\n",
            "dropout_3 (Dropout)          (None, 64)                0         \n",
            "_________________________________________________________________\n",
            "dense_7 (Dense)              (None, 10)                650       \n",
            "=================================================================\n",
            "Total params: 80,330\n",
            "Trainable params: 80,138\n",
            "Non-trainable params: 192\n",
            "_________________________________________________________________\n",
            "Epoch 1/30\n",
            "94/94 [==============================] - 1s 10ms/step - loss: 2.4816 - accuracy: 0.2298 - val_loss: 2.1925 - val_accuracy: 0.2333\n",
            "Epoch 2/30\n",
            "94/94 [==============================] - 1s 6ms/step - loss: 1.9404 - accuracy: 0.3559 - val_loss: 1.7494 - val_accuracy: 0.3867\n",
            "Epoch 3/30\n",
            "94/94 [==============================] - 1s 6ms/step - loss: 1.7004 - accuracy: 0.4146 - val_loss: 1.5752 - val_accuracy: 0.4573\n",
            "Epoch 4/30\n",
            "94/94 [==============================] - 1s 7ms/step - loss: 1.5271 - accuracy: 0.4757 - val_loss: 1.4822 - val_accuracy: 0.4840\n",
            "Epoch 5/30\n",
            "94/94 [==============================] - 1s 6ms/step - loss: 1.4463 - accuracy: 0.4877 - val_loss: 1.4258 - val_accuracy: 0.4933\n",
            "Epoch 6/30\n",
            "94/94 [==============================] - 1s 6ms/step - loss: 1.3288 - accuracy: 0.5324 - val_loss: 1.3662 - val_accuracy: 0.5120\n",
            "Epoch 7/30\n",
            "94/94 [==============================] - 1s 6ms/step - loss: 1.2783 - accuracy: 0.5437 - val_loss: 1.3087 - val_accuracy: 0.5347\n",
            "Epoch 8/30\n",
            "94/94 [==============================] - 1s 6ms/step - loss: 1.2301 - accuracy: 0.5510 - val_loss: 1.3097 - val_accuracy: 0.5400\n",
            "Epoch 9/30\n",
            "94/94 [==============================] - 1s 6ms/step - loss: 1.1661 - accuracy: 0.5764 - val_loss: 1.2446 - val_accuracy: 0.5520\n",
            "Epoch 10/30\n",
            "94/94 [==============================] - 1s 6ms/step - loss: 1.1222 - accuracy: 0.6034 - val_loss: 1.2396 - val_accuracy: 0.5480\n",
            "Epoch 11/30\n",
            "94/94 [==============================] - 1s 6ms/step - loss: 1.0716 - accuracy: 0.6227 - val_loss: 1.1965 - val_accuracy: 0.5707\n",
            "Epoch 12/30\n",
            "94/94 [==============================] - 1s 6ms/step - loss: 1.0367 - accuracy: 0.6207 - val_loss: 1.1739 - val_accuracy: 0.5760\n",
            "Epoch 13/30\n",
            "94/94 [==============================] - 1s 6ms/step - loss: 0.9807 - accuracy: 0.6591 - val_loss: 1.1628 - val_accuracy: 0.5947\n",
            "Epoch 14/30\n",
            "94/94 [==============================] - 1s 6ms/step - loss: 0.9681 - accuracy: 0.6508 - val_loss: 1.1970 - val_accuracy: 0.5867\n",
            "Epoch 15/30\n",
            "94/94 [==============================] - 1s 6ms/step - loss: 0.9266 - accuracy: 0.6734 - val_loss: 1.1397 - val_accuracy: 0.5800\n",
            "Epoch 16/30\n",
            "94/94 [==============================] - 1s 6ms/step - loss: 0.8781 - accuracy: 0.6868 - val_loss: 1.1500 - val_accuracy: 0.5747\n",
            "Epoch 17/30\n",
            "94/94 [==============================] - 1s 6ms/step - loss: 0.8563 - accuracy: 0.7015 - val_loss: 1.1245 - val_accuracy: 0.5787\n",
            "Epoch 18/30\n",
            "94/94 [==============================] - 1s 6ms/step - loss: 0.8304 - accuracy: 0.7048 - val_loss: 1.1153 - val_accuracy: 0.6200\n",
            "Epoch 19/30\n",
            "94/94 [==============================] - 1s 6ms/step - loss: 0.8085 - accuracy: 0.7205 - val_loss: 1.1523 - val_accuracy: 0.6027\n",
            "Epoch 20/30\n",
            "94/94 [==============================] - 1s 6ms/step - loss: 0.7816 - accuracy: 0.7175 - val_loss: 1.1116 - val_accuracy: 0.6107\n",
            "Epoch 21/30\n",
            "94/94 [==============================] - 1s 6ms/step - loss: 0.7698 - accuracy: 0.7282 - val_loss: 1.0616 - val_accuracy: 0.6120\n",
            "Epoch 22/30\n",
            "94/94 [==============================] - 1s 6ms/step - loss: 0.7290 - accuracy: 0.7498 - val_loss: 1.0845 - val_accuracy: 0.6040\n",
            "Epoch 23/30\n",
            "94/94 [==============================] - 1s 6ms/step - loss: 0.7144 - accuracy: 0.7455 - val_loss: 1.0499 - val_accuracy: 0.6280\n",
            "Epoch 24/30\n",
            "94/94 [==============================] - 1s 6ms/step - loss: 0.6902 - accuracy: 0.7668 - val_loss: 1.0880 - val_accuracy: 0.6347\n",
            "Epoch 25/30\n",
            "94/94 [==============================] - 1s 6ms/step - loss: 0.6555 - accuracy: 0.7728 - val_loss: 1.0646 - val_accuracy: 0.6253\n",
            "Epoch 26/30\n",
            "94/94 [==============================] - 1s 6ms/step - loss: 0.6404 - accuracy: 0.7789 - val_loss: 1.0407 - val_accuracy: 0.6467\n",
            "Epoch 27/30\n",
            "94/94 [==============================] - 1s 6ms/step - loss: 0.5865 - accuracy: 0.7972 - val_loss: 1.0155 - val_accuracy: 0.6307\n",
            "Epoch 28/30\n",
            "94/94 [==============================] - 1s 6ms/step - loss: 0.6061 - accuracy: 0.7982 - val_loss: 1.0575 - val_accuracy: 0.6413\n",
            "Epoch 29/30\n",
            "94/94 [==============================] - 1s 6ms/step - loss: 0.5812 - accuracy: 0.8102 - val_loss: 1.0314 - val_accuracy: 0.6253\n",
            "Epoch 30/30\n",
            "94/94 [==============================] - 1s 6ms/step - loss: 0.5651 - accuracy: 0.8075 - val_loss: 1.0275 - val_accuracy: 0.6427\n"
          ],
          "name": "stdout"
        },
        {
          "output_type": "display_data",
          "data": {
            "image/png": "[encoded data removed]",
            "text/plain": [
              "<Figure size 432x288 with 2 Axes>"
            ]
          },
          "metadata": {
            "tags": [],
            "needs_background": "light"
          }
        },
        {
          "output_type": "stream",
          "text": [
            "40/40 - 0s - loss: 0.9251 - accuracy: 0.6784\n",
            "\n",
            "Test accuracy: 0.6783999800682068\n",
            "Target: 4, Predicted label: [4]\n"
          ],
          "name": "stdout"
        }
      ]
    },
    {
      "cell_type": "code",
      "metadata": {
        "id": "NoIAP69D3Ztq",
        "colab_type": "code",
        "colab": {}
      },
      "source": [
        ""
      ],
      "execution_count": null,
      "outputs": []
    }
  ]
}