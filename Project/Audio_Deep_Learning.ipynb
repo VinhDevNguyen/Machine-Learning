{
  "nbformat": 4,
  "nbformat_minor": 0,
  "metadata": {
    "colab": {
      "name": "Audio_Deep_Learning.ipynb",
      "provenance": [],
      "collapsed_sections": [
        "in7duOEaIjZF"
      ],
      "toc_visible": true,
      "mount_file_id": "1cJR3A07KEU7XJgN6PCvN4jd9ITbWvJ_t",
      "authorship_tag": "ABX9TyN0q4s5tg89FUeniw8LrX8w",
      "include_colab_link": true
    },
    "kernelspec": {
      "name": "python3",
      "display_name": "Python 3"
    },
    "accelerator": "GPU"
  },
  "cells": [
    {
      "cell_type": "markdown",
      "metadata": {
        "id": "view-in-github",
        "colab_type": "text"
      },
      "source": [
        "<a href=\"https://colab.research.google.com/github/VinhDevNguyen/Machine-Learning/blob/master/Project/Audio_Deep_Learning.ipynb\" target=\"_parent\"><img src=\"https://colab.research.google.com/assets/colab-badge.svg\" alt=\"Open In Colab\"/></a>"
      ]
    },
    {
      "cell_type": "markdown",
      "metadata": {
        "id": "NNGMrdY6EVyK",
        "colab_type": "text"
      },
      "source": [
        "# Download dataset"
      ]
    },
    {
      "cell_type": "code",
      "metadata": {
        "id": "8YAVH_Ubd7eU",
        "colab_type": "code",
        "colab": {}
      },
      "source": [
        "!wget http://opihi.cs.uvic.ca/sound/genres.tar.gz"
      ],
      "execution_count": null,
      "outputs": []
    },
    {
      "cell_type": "code",
      "metadata": {
        "id": "Negg4mIlek7N",
        "colab_type": "code",
        "colab": {}
      },
      "source": [
        "! mkdir genres"
      ],
      "execution_count": null,
      "outputs": []
    },
    {
      "cell_type": "code",
      "metadata": {
        "id": "o1WFNGW5eouN",
        "colab_type": "code",
        "colab": {}
      },
      "source": [
        "! tar -xvzf genres.tar.gz "
      ],
      "execution_count": null,
      "outputs": []
    },
    {
      "cell_type": "markdown",
      "metadata": {
        "id": "in7duOEaIjZF",
        "colab_type": "text"
      },
      "source": [
        "# Preprocessing audio data for Deep Learning"
      ]
    },
    {
      "cell_type": "markdown",
      "metadata": {
        "id": "SNKCTWPOIqIg",
        "colab_type": "text"
      },
      "source": [
        "### Import module"
      ]
    },
    {
      "cell_type": "code",
      "metadata": {
        "id": "ENjEH8JpIlSx",
        "colab_type": "code",
        "colab": {}
      },
      "source": [
        "import librosa, librosa.display\n",
        "import numpy as np\n",
        "import matplotlib.pyplot as plt"
      ],
      "execution_count": null,
      "outputs": []
    },
    {
      "cell_type": "markdown",
      "metadata": {
        "id": "r4oimMdCI_35",
        "colab_type": "text"
      },
      "source": [
        "### Waveform"
      ]
    },
    {
      "cell_type": "code",
      "metadata": {
        "id": "kxlKMVUyK-TJ",
        "colab_type": "code",
        "colab": {}
      },
      "source": [
        "file = \"/content/drive/My Drive/gtzan-dataset-music-genre-classification/Data/genres_original/blues/blues.00000.wav\""
      ],
      "execution_count": null,
      "outputs": []
    },
    {
      "cell_type": "code",
      "metadata": {
        "id": "BDVtfR6wI5fB",
        "colab_type": "code",
        "colab": {}
      },
      "source": [
        "signal, sr = librosa.load(file,) # sr * T -> 22050 *30\n",
        "librosa.display.waveplot(signal, sr=sr)\n",
        "plt.xlabel(\"Time\")\n",
        "plt.ylabel(\"Amplitude\")\n",
        "plt.show()"
      ],
      "execution_count": null,
      "outputs": []
    },
    {
      "cell_type": "markdown",
      "metadata": {
        "id": "9eDBl0RYPBEr",
        "colab_type": "text"
      },
      "source": [
        "### fft -> spectrum"
      ]
    },
    {
      "cell_type": "code",
      "metadata": {
        "id": "sNLV4gxvMJUI",
        "colab_type": "code",
        "colab": {}
      },
      "source": [
        "fft = np.fft.fft(signal)\n",
        "\n",
        "magnitude = np.abs(fft)\n",
        "frequency = np.linspace(0, sr, len(magnitude))\n",
        "plt.plot(frequency, magnitude)\n",
        "plt.xlabel(\"Frequency\")\n",
        "plt.ylabel(\"Magnitude\")\n",
        "plt.show()"
      ],
      "execution_count": null,
      "outputs": []
    },
    {
      "cell_type": "code",
      "metadata": {
        "id": "W2IieoqEP0h4",
        "colab_type": "code",
        "colab": {}
      },
      "source": [
        "left_frequency = frequency[:int(len(frequency)/2)]\n",
        "left_magnitude = magnitude[:int(len(frequency)/2)]\n",
        "plt.plot(left_frequency, left_magnitude)\n",
        "plt.xlabel(\"Frequency\")\n",
        "plt.ylabel(\"Magnitude\")\n",
        "plt.show()"
      ],
      "execution_count": null,
      "outputs": []
    },
    {
      "cell_type": "markdown",
      "metadata": {
        "id": "6ilSOUHgT9m_",
        "colab_type": "text"
      },
      "source": [
        "### stft -> Spectrogram"
      ]
    },
    {
      "cell_type": "code",
      "metadata": {
        "id": "7GBTZoEDTkau",
        "colab_type": "code",
        "colab": {}
      },
      "source": [
        "n_fft = 2048\n",
        "hop_lengt = n_fft / 4"
      ],
      "execution_count": null,
      "outputs": []
    },
    {
      "cell_type": "code",
      "metadata": {
        "id": "G1bx__y-3iu8",
        "colab_type": "code",
        "colab": {}
      },
      "source": [
        "stft = librosa.core.stft(signal, n_fft=n_fft, hop_length=int(hop_lengt))\n",
        "stft"
      ],
      "execution_count": null,
      "outputs": []
    },
    {
      "cell_type": "code",
      "metadata": {
        "id": "0afzZwkDgweb",
        "colab_type": "code",
        "colab": {}
      },
      "source": [
        "spectrogram = abs(stft)"
      ],
      "execution_count": null,
      "outputs": []
    },
    {
      "cell_type": "code",
      "metadata": {
        "id": "0xvBQFS3g0qX",
        "colab_type": "code",
        "colab": {}
      },
      "source": [
        "librosa.display.specshow(spectrogram, sr=sr, hop_length=hop_lengt)\n",
        "plt.xlabel(\"Time\")\n",
        "plt.ylabel(\"Frequency\")\n",
        "plt.colorbar()\n",
        "plt.show()"
      ],
      "execution_count": null,
      "outputs": []
    },
    {
      "cell_type": "code",
      "metadata": {
        "id": "mlhbOG9ZhYrS",
        "colab_type": "code",
        "colab": {}
      },
      "source": [
        "log_spectrogram = librosa.core.amplitude_to_db(spectrogram)\n",
        "\n",
        "librosa.display.specshow(log_spectrogram, sr=sr, hop_length=hop_lengt)\n",
        "plt.xlabel(\"Time\")\n",
        "plt.ylabel(\"Frequency\")\n",
        "plt.colorbar()\n",
        "plt.show()"
      ],
      "execution_count": null,
      "outputs": []
    },
    {
      "cell_type": "markdown",
      "metadata": {
        "id": "eSby-R4VjozA",
        "colab_type": "text"
      },
      "source": [
        "### MFFCs"
      ]
    },
    {
      "cell_type": "code",
      "metadata": {
        "id": "hoFiW7ZnjqKl",
        "colab_type": "code",
        "colab": {}
      },
      "source": [
        "MFFCs = librosa.feature.mfcc(signal)"
      ],
      "execution_count": null,
      "outputs": []
    },
    {
      "cell_type": "code",
      "metadata": {
        "id": "q_NVWPpdksyA",
        "colab_type": "code",
        "colab": {}
      },
      "source": [
        "librosa.display.specshow(MFFCs, sr=sr, hop_length=hop_lengt)\n",
        "plt.xlabel(\"Time\")\n",
        "plt.ylabel(\"MFFC\")\n",
        "plt.colorbar()\n",
        "plt.show()"
      ],
      "execution_count": null,
      "outputs": []
    },
    {
      "cell_type": "markdown",
      "metadata": {
        "id": "rx_ZweXaUoGp",
        "colab_type": "text"
      },
      "source": [
        "# Preparing the dataset"
      ]
    },
    {
      "cell_type": "code",
      "metadata": {
        "id": "ErJ9dMjUUspL",
        "colab_type": "code",
        "colab": {}
      },
      "source": [
        "import json\n",
        "import os\n",
        "import math\n",
        "import librosa\n",
        "\n",
        "DATASET_PATH = \"/content/drive/My Drive/genres\"\n",
        "JSON_PATH = \"data_10.json\"\n",
        "SAMPLE_RATE = 22050\n",
        "TRACK_DURATION = 30 # measured in seconds\n",
        "SAMPLES_PER_TRACK = SAMPLE_RATE * TRACK_DURATION\n",
        "num_mfcc=13 \n",
        "n_fft=2048\n",
        "hop_length=512\n",
        "num_segments=5\n",
        "\n",
        "# dictionary to store mapping, labels, and MFCCs\n",
        "data = {\n",
        "\"mapping\": [],\n",
        "\"labels\": [],\n",
        "\"mfcc\": []\n",
        "}\n",
        "\n",
        "samples_per_segment = int(SAMPLES_PER_TRACK / num_segments)\n",
        "num_mfcc_vectors_per_segment = math.ceil(samples_per_segment / hop_length)\n",
        "\n",
        "# loop through all genre sub-folder\n",
        "for i, (dirpath, dirnames, filenames) in enumerate(os.walk(DATASET_PATH)):\n",
        "  # ensure we're processing a genre sub-folder level\n",
        "  if dirpath is not DATASET_PATH:\n",
        "    # save genre label (i.e., sub-folder name) in the mapping\n",
        "    semantic_label = dirpath.split(\"/\")[-1]\n",
        "    data[\"mapping\"].append(semantic_label)\n",
        "    print(\"\\nProcessing: {}\".format(semantic_label))\n",
        "\n",
        "    # process all audio files in genre sub-dir\n",
        "    for f in filenames:\n",
        "\n",
        "        # load audio file\n",
        "        file_path = os.path.join(dirpath, f)\n",
        "        print(file_path)\n",
        "        signal, sample_rate = librosa.load(file_path, sr=SAMPLE_RATE)\n",
        "\n",
        "        # process all segments of audio file\n",
        "        for d in range(num_segments):\n",
        "\n",
        "            # calculate start and finish sample for current segment\n",
        "            start = samples_per_segment * d\n",
        "            finish = start + samples_per_segment\n",
        "\n",
        "            # extract mfcc\n",
        "            mfcc = librosa.feature.mfcc(signal[start:finish], sample_rate, n_mfcc=num_mfcc, n_fft=n_fft, hop_length=hop_length)\n",
        "            mfcc = mfcc.T\n",
        "\n",
        "            # store only mfcc feature with expected number of vectors\n",
        "            if len(mfcc) == num_mfcc_vectors_per_segment:\n",
        "                data[\"mfcc\"].append(mfcc.tolist())\n",
        "                data[\"labels\"].append(i-1)\n",
        "                print(\"segment:{}\".format(d+1))\n",
        "\n",
        "# save MFCCs to json file\n",
        "with open(JSON_PATH, \"w\") as fp:\n",
        "  json.dump(data, fp, indent=4)\n"
      ],
      "execution_count": null,
      "outputs": []
    },
    {
      "cell_type": "markdown",
      "metadata": {
        "id": "V5fQtilwOuRx",
        "colab_type": "text"
      },
      "source": [
        "# Neuron network for audio"
      ]
    },
    {
      "cell_type": "code",
      "metadata": {
        "id": "fVbMu2QDSAcu",
        "colab_type": "code",
        "colab": {}
      },
      "source": [
        "import json\n",
        "import numpy as np\n",
        "from sklearn.model_selection import train_test_split\n",
        "import tensorflow.keras as keras"
      ],
      "execution_count": 1,
      "outputs": []
    },
    {
      "cell_type": "markdown",
      "metadata": {
        "id": "dU5-jHdmRUC6",
        "colab_type": "text"
      },
      "source": [
        "## Load data"
      ]
    },
    {
      "cell_type": "code",
      "metadata": {
        "id": "Pvn0A0pDOxOL",
        "colab_type": "code",
        "colab": {}
      },
      "source": [
        "with open(\"/content/drive/My Drive/genres/data_10.json\", \"r\") as fp:\n",
        "  data = json.load(fp)"
      ],
      "execution_count": 2,
      "outputs": []
    },
    {
      "cell_type": "code",
      "metadata": {
        "id": "wmQ178jfPxCY",
        "colab_type": "code",
        "colab": {}
      },
      "source": [
        "X = np.array(data[\"mfcc\"])\n",
        "y = np.array(data[\"labels\"])"
      ],
      "execution_count": 3,
      "outputs": []
    },
    {
      "cell_type": "markdown",
      "metadata": {
        "id": "EgG7YtNHRdPX",
        "colab_type": "text"
      },
      "source": [
        "## Train test split"
      ]
    },
    {
      "cell_type": "code",
      "metadata": {
        "id": "8wIbK5VzP14v",
        "colab_type": "code",
        "colab": {}
      },
      "source": [
        "X_train, X_test, y_train, y_test = train_test_split(X, y, test_size = 0.3)"
      ],
      "execution_count": 4,
      "outputs": []
    },
    {
      "cell_type": "markdown",
      "metadata": {
        "id": "8OnG2KG7WTRh",
        "colab_type": "text"
      },
      "source": [
        "Create model"
      ]
    },
    {
      "cell_type": "code",
      "metadata": {
        "id": "0IBcfMTvQ8Re",
        "colab_type": "code",
        "colab": {}
      },
      "source": [
        "model = keras.Sequential([\n",
        "  # Input layer\n",
        "  keras.layers.Flatten(input_shape=(X.shape[1], X.shape[2])),\n",
        "  # Hiden layers\n",
        "  keras.layers.Dense(512, activation=\"relu\"),\n",
        "  keras.layers.Dense(256, activation=\"relu\"),\n",
        "  keras.layers.Dense(64, activation=\"relu\"),\n",
        "  # Output layer\n",
        "  keras.layers.Dense(10, activation=\"softmax\")\n",
        "])"
      ],
      "execution_count": 5,
      "outputs": []
    },
    {
      "cell_type": "markdown",
      "metadata": {
        "id": "Lnfw_pmBWUmn",
        "colab_type": "text"
      },
      "source": [
        "Compile network"
      ]
    },
    {
      "cell_type": "code",
      "metadata": {
        "id": "K1qWN2yqS2et",
        "colab_type": "code",
        "colab": {
          "base_uri": "https://localhost:8080/",
          "height": 323
        },
        "outputId": "24957dbd-0928-4030-aff3-b295750a4741"
      },
      "source": [
        "optimizer = keras.optimizers.Adam(learning_rate= 0.0001)\n",
        "model.compile(optimizer=optimizer,\n",
        "              loss=\"sparse_categorical_crossentropy\",\n",
        "              metrics=[\"accuracy\"])\n",
        "model.summary()"
      ],
      "execution_count": 6,
      "outputs": [
        {
          "output_type": "stream",
          "text": [
            "Model: \"sequential\"\n",
            "_________________________________________________________________\n",
            "Layer (type)                 Output Shape              Param #   \n",
            "=================================================================\n",
            "flatten (Flatten)            (None, 3367)              0         \n",
            "_________________________________________________________________\n",
            "dense (Dense)                (None, 512)               1724416   \n",
            "_________________________________________________________________\n",
            "dense_1 (Dense)              (None, 256)               131328    \n",
            "_________________________________________________________________\n",
            "dense_2 (Dense)              (None, 64)                16448     \n",
            "_________________________________________________________________\n",
            "dense_3 (Dense)              (None, 10)                650       \n",
            "=================================================================\n",
            "Total params: 1,872,842\n",
            "Trainable params: 1,872,842\n",
            "Non-trainable params: 0\n",
            "_________________________________________________________________\n"
          ],
          "name": "stdout"
        }
      ]
    },
    {
      "cell_type": "markdown",
      "metadata": {
        "id": "qU14s7F1YJRk",
        "colab_type": "text"
      },
      "source": [
        "Train network"
      ]
    },
    {
      "cell_type": "code",
      "metadata": {
        "id": "zbVFhIXsS4Rg",
        "colab_type": "code",
        "colab": {
          "base_uri": "https://localhost:8080/",
          "height": 1000
        },
        "outputId": "37f5b437-dfa9-4207-cf33-d02226cd9d95"
      },
      "source": [
        "history = model.fit(X_train, y_train,\n",
        "          validation_data=(X_test, y_test),\n",
        "          epochs=100,\n",
        "          batch_size=32,\n",
        "          )"
      ],
      "execution_count": 7,
      "outputs": [
        {
          "output_type": "stream",
          "text": [
            "Epoch 1/100\n",
            "110/110 [==============================] - 1s 8ms/step - loss: 10.4183 - accuracy: 0.2876 - val_loss: 5.0336 - val_accuracy: 0.3320\n",
            "Epoch 2/100\n",
            "110/110 [==============================] - 1s 7ms/step - loss: 3.7381 - accuracy: 0.3928 - val_loss: 3.9446 - val_accuracy: 0.3673\n",
            "Epoch 3/100\n",
            "110/110 [==============================] - 1s 6ms/step - loss: 2.5044 - accuracy: 0.4720 - val_loss: 3.5003 - val_accuracy: 0.3967\n",
            "Epoch 4/100\n",
            "110/110 [==============================] - 1s 7ms/step - loss: 1.8493 - accuracy: 0.5475 - val_loss: 3.1570 - val_accuracy: 0.4200\n",
            "Epoch 5/100\n",
            "110/110 [==============================] - 1s 6ms/step - loss: 1.4757 - accuracy: 0.6095 - val_loss: 3.0894 - val_accuracy: 0.4167\n",
            "Epoch 6/100\n",
            "110/110 [==============================] - 1s 6ms/step - loss: 1.1120 - accuracy: 0.6772 - val_loss: 2.9108 - val_accuracy: 0.4267\n",
            "Epoch 7/100\n",
            "110/110 [==============================] - 1s 6ms/step - loss: 0.9667 - accuracy: 0.7078 - val_loss: 2.9678 - val_accuracy: 0.4547\n",
            "Epoch 8/100\n",
            "110/110 [==============================] - 1s 6ms/step - loss: 0.7514 - accuracy: 0.7664 - val_loss: 3.3697 - val_accuracy: 0.4333\n",
            "Epoch 9/100\n",
            "110/110 [==============================] - 1s 6ms/step - loss: 0.7350 - accuracy: 0.7599 - val_loss: 2.8973 - val_accuracy: 0.4860\n",
            "Epoch 10/100\n",
            "110/110 [==============================] - 1s 6ms/step - loss: 0.5771 - accuracy: 0.8045 - val_loss: 2.9486 - val_accuracy: 0.4553\n",
            "Epoch 11/100\n",
            "110/110 [==============================] - 1s 6ms/step - loss: 0.4581 - accuracy: 0.8425 - val_loss: 2.7721 - val_accuracy: 0.4813\n",
            "Epoch 12/100\n",
            "110/110 [==============================] - 1s 6ms/step - loss: 0.4164 - accuracy: 0.8528 - val_loss: 2.9485 - val_accuracy: 0.4853\n",
            "Epoch 13/100\n",
            "110/110 [==============================] - 1s 6ms/step - loss: 0.3110 - accuracy: 0.8991 - val_loss: 2.8478 - val_accuracy: 0.4947\n",
            "Epoch 14/100\n",
            "110/110 [==============================] - 1s 6ms/step - loss: 0.3444 - accuracy: 0.8854 - val_loss: 2.9560 - val_accuracy: 0.4873\n",
            "Epoch 15/100\n",
            "110/110 [==============================] - 1s 6ms/step - loss: 0.2286 - accuracy: 0.9211 - val_loss: 2.8575 - val_accuracy: 0.5053\n",
            "Epoch 16/100\n",
            "110/110 [==============================] - 1s 6ms/step - loss: 0.1774 - accuracy: 0.9394 - val_loss: 3.2065 - val_accuracy: 0.4780\n",
            "Epoch 17/100\n",
            "110/110 [==============================] - 1s 6ms/step - loss: 0.2016 - accuracy: 0.9354 - val_loss: 2.9005 - val_accuracy: 0.4947\n",
            "Epoch 18/100\n",
            "110/110 [==============================] - 1s 6ms/step - loss: 0.1543 - accuracy: 0.9540 - val_loss: 2.8980 - val_accuracy: 0.4980\n",
            "Epoch 19/100\n",
            "110/110 [==============================] - 1s 6ms/step - loss: 0.1902 - accuracy: 0.9414 - val_loss: 3.2470 - val_accuracy: 0.4807\n",
            "Epoch 20/100\n",
            "110/110 [==============================] - 1s 6ms/step - loss: 0.3014 - accuracy: 0.8988 - val_loss: 3.0228 - val_accuracy: 0.4987\n",
            "Epoch 21/100\n",
            "110/110 [==============================] - 1s 6ms/step - loss: 0.2628 - accuracy: 0.9088 - val_loss: 3.2381 - val_accuracy: 0.4573\n",
            "Epoch 22/100\n",
            "110/110 [==============================] - 1s 6ms/step - loss: 0.3795 - accuracy: 0.8694 - val_loss: 3.4256 - val_accuracy: 0.4780\n",
            "Epoch 23/100\n",
            "110/110 [==============================] - 1s 6ms/step - loss: 0.2520 - accuracy: 0.9122 - val_loss: 2.9359 - val_accuracy: 0.5360\n",
            "Epoch 24/100\n",
            "110/110 [==============================] - 1s 6ms/step - loss: 0.2171 - accuracy: 0.9322 - val_loss: 3.2797 - val_accuracy: 0.4967\n",
            "Epoch 25/100\n",
            "110/110 [==============================] - 1s 6ms/step - loss: 0.1465 - accuracy: 0.9548 - val_loss: 3.0142 - val_accuracy: 0.5387\n",
            "Epoch 26/100\n",
            "110/110 [==============================] - 1s 6ms/step - loss: 0.0944 - accuracy: 0.9743 - val_loss: 2.9920 - val_accuracy: 0.5333\n",
            "Epoch 27/100\n",
            "110/110 [==============================] - 1s 6ms/step - loss: 0.1172 - accuracy: 0.9637 - val_loss: 3.1543 - val_accuracy: 0.5240\n",
            "Epoch 28/100\n",
            "110/110 [==============================] - 1s 6ms/step - loss: 0.0737 - accuracy: 0.9783 - val_loss: 3.0810 - val_accuracy: 0.5247\n",
            "Epoch 29/100\n",
            "110/110 [==============================] - 1s 6ms/step - loss: 0.0562 - accuracy: 0.9837 - val_loss: 2.9573 - val_accuracy: 0.5433\n",
            "Epoch 30/100\n",
            "110/110 [==============================] - 1s 6ms/step - loss: 0.0479 - accuracy: 0.9868 - val_loss: 3.0954 - val_accuracy: 0.5427\n",
            "Epoch 31/100\n",
            "110/110 [==============================] - 1s 6ms/step - loss: 0.0303 - accuracy: 0.9931 - val_loss: 2.9738 - val_accuracy: 0.5407\n",
            "Epoch 32/100\n",
            "110/110 [==============================] - 1s 6ms/step - loss: 0.0232 - accuracy: 0.9951 - val_loss: 3.4746 - val_accuracy: 0.5027\n",
            "Epoch 33/100\n",
            "110/110 [==============================] - 1s 6ms/step - loss: 0.0529 - accuracy: 0.9831 - val_loss: 3.0596 - val_accuracy: 0.5287\n",
            "Epoch 34/100\n",
            "110/110 [==============================] - 1s 6ms/step - loss: 0.5677 - accuracy: 0.8599 - val_loss: 4.2227 - val_accuracy: 0.4713\n",
            "Epoch 35/100\n",
            "110/110 [==============================] - 1s 6ms/step - loss: 1.0358 - accuracy: 0.7556 - val_loss: 3.4010 - val_accuracy: 0.4860\n",
            "Epoch 36/100\n",
            "110/110 [==============================] - 1s 6ms/step - loss: 0.4373 - accuracy: 0.8714 - val_loss: 3.1523 - val_accuracy: 0.5020\n",
            "Epoch 37/100\n",
            "110/110 [==============================] - 1s 6ms/step - loss: 0.2092 - accuracy: 0.9291 - val_loss: 2.9085 - val_accuracy: 0.5413\n",
            "Epoch 38/100\n",
            "110/110 [==============================] - 1s 6ms/step - loss: 0.0912 - accuracy: 0.9700 - val_loss: 3.0053 - val_accuracy: 0.5513\n",
            "Epoch 39/100\n",
            "110/110 [==============================] - 1s 6ms/step - loss: 0.0476 - accuracy: 0.9854 - val_loss: 2.9982 - val_accuracy: 0.5593\n",
            "Epoch 40/100\n",
            "110/110 [==============================] - 1s 6ms/step - loss: 0.0252 - accuracy: 0.9946 - val_loss: 3.1569 - val_accuracy: 0.5600\n",
            "Epoch 41/100\n",
            "110/110 [==============================] - 1s 6ms/step - loss: 0.0322 - accuracy: 0.9911 - val_loss: 3.3247 - val_accuracy: 0.5520\n",
            "Epoch 42/100\n",
            "110/110 [==============================] - 1s 6ms/step - loss: 0.0307 - accuracy: 0.9934 - val_loss: 3.1177 - val_accuracy: 0.5720\n",
            "Epoch 43/100\n",
            "110/110 [==============================] - 1s 6ms/step - loss: 0.0145 - accuracy: 0.9983 - val_loss: 3.0667 - val_accuracy: 0.5787\n",
            "Epoch 44/100\n",
            "110/110 [==============================] - 1s 6ms/step - loss: 0.0097 - accuracy: 0.9980 - val_loss: 3.0703 - val_accuracy: 0.5813\n",
            "Epoch 45/100\n",
            "110/110 [==============================] - 1s 6ms/step - loss: 0.0111 - accuracy: 0.9971 - val_loss: 3.1556 - val_accuracy: 0.5700\n",
            "Epoch 46/100\n",
            "110/110 [==============================] - 1s 6ms/step - loss: 0.0169 - accuracy: 0.9951 - val_loss: 3.0982 - val_accuracy: 0.5667\n",
            "Epoch 47/100\n",
            "110/110 [==============================] - 1s 6ms/step - loss: 0.0118 - accuracy: 0.9983 - val_loss: 3.1225 - val_accuracy: 0.5707\n",
            "Epoch 48/100\n",
            "110/110 [==============================] - 1s 7ms/step - loss: 0.0128 - accuracy: 0.9977 - val_loss: 3.1233 - val_accuracy: 0.5807\n",
            "Epoch 49/100\n",
            "110/110 [==============================] - 1s 6ms/step - loss: 0.0056 - accuracy: 0.9991 - val_loss: 3.1298 - val_accuracy: 0.5707\n",
            "Epoch 50/100\n",
            "110/110 [==============================] - 1s 6ms/step - loss: 0.0088 - accuracy: 0.9986 - val_loss: 3.1081 - val_accuracy: 0.5780\n",
            "Epoch 51/100\n",
            "110/110 [==============================] - 1s 6ms/step - loss: 0.0063 - accuracy: 0.9991 - val_loss: 3.1044 - val_accuracy: 0.5667\n",
            "Epoch 52/100\n",
            "110/110 [==============================] - 1s 7ms/step - loss: 0.0301 - accuracy: 0.9909 - val_loss: 3.9033 - val_accuracy: 0.5433\n",
            "Epoch 53/100\n",
            "110/110 [==============================] - 1s 6ms/step - loss: 1.2412 - accuracy: 0.7410 - val_loss: 4.9098 - val_accuracy: 0.4100\n",
            "Epoch 54/100\n",
            "110/110 [==============================] - 1s 6ms/step - loss: 1.0153 - accuracy: 0.7667 - val_loss: 3.6355 - val_accuracy: 0.5107\n",
            "Epoch 55/100\n",
            "110/110 [==============================] - 1s 6ms/step - loss: 0.4345 - accuracy: 0.8699 - val_loss: 3.1158 - val_accuracy: 0.5267\n",
            "Epoch 56/100\n",
            "110/110 [==============================] - 1s 7ms/step - loss: 0.1732 - accuracy: 0.9440 - val_loss: 3.1367 - val_accuracy: 0.5533\n",
            "Epoch 57/100\n",
            "110/110 [==============================] - 1s 6ms/step - loss: 0.0645 - accuracy: 0.9791 - val_loss: 3.0153 - val_accuracy: 0.5613\n",
            "Epoch 58/100\n",
            "110/110 [==============================] - 1s 7ms/step - loss: 0.0328 - accuracy: 0.9923 - val_loss: 2.9804 - val_accuracy: 0.5553\n",
            "Epoch 59/100\n",
            "110/110 [==============================] - 1s 6ms/step - loss: 0.0347 - accuracy: 0.9911 - val_loss: 3.1433 - val_accuracy: 0.5580\n",
            "Epoch 60/100\n",
            "110/110 [==============================] - 1s 6ms/step - loss: 0.0141 - accuracy: 0.9971 - val_loss: 2.9496 - val_accuracy: 0.5693\n",
            "Epoch 61/100\n",
            "110/110 [==============================] - 1s 6ms/step - loss: 0.0078 - accuracy: 0.9986 - val_loss: 2.9726 - val_accuracy: 0.5687\n",
            "Epoch 62/100\n",
            "110/110 [==============================] - 1s 6ms/step - loss: 0.0055 - accuracy: 0.9991 - val_loss: 3.0549 - val_accuracy: 0.5727\n",
            "Epoch 63/100\n",
            "110/110 [==============================] - 1s 6ms/step - loss: 0.0054 - accuracy: 0.9989 - val_loss: 3.0503 - val_accuracy: 0.5767\n",
            "Epoch 64/100\n",
            "110/110 [==============================] - 1s 6ms/step - loss: 0.0044 - accuracy: 0.9994 - val_loss: 3.0738 - val_accuracy: 0.5753\n",
            "Epoch 65/100\n",
            "110/110 [==============================] - 1s 6ms/step - loss: 0.0129 - accuracy: 0.9974 - val_loss: 3.3082 - val_accuracy: 0.5560\n",
            "Epoch 66/100\n",
            "110/110 [==============================] - 1s 6ms/step - loss: 0.0931 - accuracy: 0.9714 - val_loss: 3.6527 - val_accuracy: 0.5273\n",
            "Epoch 67/100\n",
            "110/110 [==============================] - 1s 6ms/step - loss: 0.5412 - accuracy: 0.8548 - val_loss: 4.0015 - val_accuracy: 0.4960\n",
            "Epoch 68/100\n",
            "110/110 [==============================] - 1s 6ms/step - loss: 0.4875 - accuracy: 0.8654 - val_loss: 3.2584 - val_accuracy: 0.5367\n",
            "Epoch 69/100\n",
            "110/110 [==============================] - 1s 6ms/step - loss: 0.2522 - accuracy: 0.9274 - val_loss: 3.1976 - val_accuracy: 0.5347\n",
            "Epoch 70/100\n",
            "110/110 [==============================] - 1s 6ms/step - loss: 0.1460 - accuracy: 0.9534 - val_loss: 3.0658 - val_accuracy: 0.5820\n",
            "Epoch 71/100\n",
            "110/110 [==============================] - 1s 6ms/step - loss: 0.0964 - accuracy: 0.9728 - val_loss: 3.2490 - val_accuracy: 0.5860\n",
            "Epoch 72/100\n",
            "110/110 [==============================] - 1s 6ms/step - loss: 0.0419 - accuracy: 0.9860 - val_loss: 3.1031 - val_accuracy: 0.5940\n",
            "Epoch 73/100\n",
            "110/110 [==============================] - 1s 6ms/step - loss: 0.0244 - accuracy: 0.9943 - val_loss: 3.0537 - val_accuracy: 0.5767\n",
            "Epoch 74/100\n",
            "110/110 [==============================] - 1s 6ms/step - loss: 0.0116 - accuracy: 0.9977 - val_loss: 3.1336 - val_accuracy: 0.5793\n",
            "Epoch 75/100\n",
            "110/110 [==============================] - 1s 6ms/step - loss: 0.0090 - accuracy: 0.9983 - val_loss: 3.1396 - val_accuracy: 0.6047\n",
            "Epoch 76/100\n",
            "110/110 [==============================] - 1s 6ms/step - loss: 0.0043 - accuracy: 0.9994 - val_loss: 3.1729 - val_accuracy: 0.6060\n",
            "Epoch 77/100\n",
            "110/110 [==============================] - 1s 6ms/step - loss: 0.0068 - accuracy: 0.9983 - val_loss: 3.1097 - val_accuracy: 0.5987\n",
            "Epoch 78/100\n",
            "110/110 [==============================] - 1s 6ms/step - loss: 0.0056 - accuracy: 0.9986 - val_loss: 3.1694 - val_accuracy: 0.5873\n",
            "Epoch 79/100\n",
            "110/110 [==============================] - 1s 6ms/step - loss: 0.0046 - accuracy: 0.9991 - val_loss: 3.0967 - val_accuracy: 0.5980\n",
            "Epoch 80/100\n",
            "110/110 [==============================] - 1s 6ms/step - loss: 0.0049 - accuracy: 0.9989 - val_loss: 3.1344 - val_accuracy: 0.6020\n",
            "Epoch 81/100\n",
            "110/110 [==============================] - 1s 6ms/step - loss: 0.0061 - accuracy: 0.9986 - val_loss: 3.1874 - val_accuracy: 0.5927\n",
            "Epoch 82/100\n",
            "110/110 [==============================] - 1s 6ms/step - loss: 0.0085 - accuracy: 0.9986 - val_loss: 3.1235 - val_accuracy: 0.5953\n",
            "Epoch 83/100\n",
            "110/110 [==============================] - 1s 6ms/step - loss: 0.0055 - accuracy: 0.9989 - val_loss: 3.2204 - val_accuracy: 0.5987\n",
            "Epoch 84/100\n",
            "110/110 [==============================] - 1s 6ms/step - loss: 0.0027 - accuracy: 0.9997 - val_loss: 3.1800 - val_accuracy: 0.6013\n",
            "Epoch 85/100\n",
            "110/110 [==============================] - 1s 6ms/step - loss: 0.0070 - accuracy: 0.9989 - val_loss: 3.2034 - val_accuracy: 0.5987\n",
            "Epoch 86/100\n",
            "110/110 [==============================] - 1s 6ms/step - loss: 0.0086 - accuracy: 0.9980 - val_loss: 3.3031 - val_accuracy: 0.5947\n",
            "Epoch 87/100\n",
            "110/110 [==============================] - 1s 6ms/step - loss: 0.0075 - accuracy: 0.9986 - val_loss: 3.3096 - val_accuracy: 0.5960\n",
            "Epoch 88/100\n",
            "110/110 [==============================] - 1s 6ms/step - loss: 0.7594 - accuracy: 0.8702 - val_loss: 5.7690 - val_accuracy: 0.4653\n",
            "Epoch 89/100\n",
            "110/110 [==============================] - 1s 6ms/step - loss: 1.1474 - accuracy: 0.7527 - val_loss: 3.3346 - val_accuracy: 0.5267\n",
            "Epoch 90/100\n",
            "110/110 [==============================] - 1s 6ms/step - loss: 0.2115 - accuracy: 0.9311 - val_loss: 3.3716 - val_accuracy: 0.5693\n",
            "Epoch 91/100\n",
            "110/110 [==============================] - 1s 6ms/step - loss: 0.0669 - accuracy: 0.9817 - val_loss: 3.1310 - val_accuracy: 0.5847\n",
            "Epoch 92/100\n",
            "110/110 [==============================] - 1s 6ms/step - loss: 0.0233 - accuracy: 0.9940 - val_loss: 3.0374 - val_accuracy: 0.6007\n",
            "Epoch 93/100\n",
            "110/110 [==============================] - 1s 6ms/step - loss: 0.0204 - accuracy: 0.9943 - val_loss: 3.0999 - val_accuracy: 0.6007\n",
            "Epoch 94/100\n",
            "110/110 [==============================] - 1s 6ms/step - loss: 0.0253 - accuracy: 0.9923 - val_loss: 3.2330 - val_accuracy: 0.5773\n",
            "Epoch 95/100\n",
            "110/110 [==============================] - 1s 6ms/step - loss: 0.0343 - accuracy: 0.9897 - val_loss: 3.1036 - val_accuracy: 0.5987\n",
            "Epoch 96/100\n",
            "110/110 [==============================] - 1s 6ms/step - loss: 0.0580 - accuracy: 0.9786 - val_loss: 3.1140 - val_accuracy: 0.5947\n",
            "Epoch 97/100\n",
            "110/110 [==============================] - 1s 6ms/step - loss: 0.0221 - accuracy: 0.9937 - val_loss: 3.3113 - val_accuracy: 0.5880\n",
            "Epoch 98/100\n",
            "110/110 [==============================] - 1s 6ms/step - loss: 0.0073 - accuracy: 0.9989 - val_loss: 3.1281 - val_accuracy: 0.6053\n",
            "Epoch 99/100\n",
            "110/110 [==============================] - 1s 6ms/step - loss: 0.0060 - accuracy: 0.9989 - val_loss: 3.1128 - val_accuracy: 0.6107\n",
            "Epoch 100/100\n",
            "110/110 [==============================] - 1s 6ms/step - loss: 0.0043 - accuracy: 0.9989 - val_loss: 3.1434 - val_accuracy: 0.6180\n"
          ],
          "name": "stdout"
        }
      ]
    },
    {
      "cell_type": "markdown",
      "metadata": {
        "id": "uJnjZ2HC7gaX",
        "colab_type": "text"
      },
      "source": [
        "# Solving Overfitting"
      ]
    },
    {
      "cell_type": "markdown",
      "metadata": {
        "id": "QP3hjn4t7prt",
        "colab_type": "text"
      },
      "source": [
        "## Plot history"
      ]
    },
    {
      "cell_type": "code",
      "metadata": {
        "id": "VklvSA6c785_",
        "colab_type": "code",
        "colab": {
          "base_uri": "https://localhost:8080/",
          "height": 298
        },
        "outputId": "e4265048-f4c1-4b06-e651-b1e16cc3fb3f"
      },
      "source": [
        "import matplotlib.pyplot as plt\n",
        "# Create 2 empty subplots\n",
        "fig, axs = plt.subplots(2)\n",
        "# Create accuracy subplot\n",
        "axs[0].plot(history.history[\"accuracy\"], label=\"Train Accuracy\")\n",
        "axs[0].plot(history.history[\"val_accuracy\"], label=\"Test Accuracy\")\n",
        "axs[0].set_ylabel(\"Accuracy\")\n",
        "axs[0].legend(loc=\"lower right\")\n",
        "axs[0].set_title(\"Accuracy eval\")\n",
        "\n",
        "# Create error subplot\n",
        "axs[1].plot(history.history[\"loss\"], label=\"Train error\")\n",
        "axs[1].plot(history.history[\"val_loss\"], label=\"Test error\")\n",
        "axs[1].set_ylabel(\"Error\")\n",
        "axs[1].legend(loc=\"lower right\")\n",
        "axs[1].set_title(\"Error eval\")"
      ],
      "execution_count": 21,
      "outputs": [
        {
          "output_type": "execute_result",
          "data": {
            "text/plain": [
              "Text(0.5, 1.0, 'Error eval')"
            ]
          },
          "metadata": {
            "tags": []
          },
          "execution_count": 21
        },
        {
          "output_type": "display_data",
          "data": {
            "image/png": "[encoded data removed]",
            "text/plain": [
              "<Figure size 432x288 with 2 Axes>"
            ]
          },
          "metadata": {
            "tags": [],
            "needs_background": "light"
          }
        }
      ]
    }
  ]
}