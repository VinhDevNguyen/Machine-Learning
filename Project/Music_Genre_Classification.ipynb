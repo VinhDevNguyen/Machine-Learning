{
  "nbformat": 4,
  "nbformat_minor": 0,
  "metadata": {
    "colab": {
      "name": "Music_Genre_Classification.ipynb",
      "provenance": [],
      "collapsed_sections": [],
      "include_colab_link": true
    },
    "kernelspec": {
      "name": "python3",
      "display_name": "Python 3"
    },
    "accelerator": "GPU"
  },
  "cells": [
    {
      "cell_type": "markdown",
      "metadata": {
        "id": "view-in-github",
        "colab_type": "text"
      },
      "source": [
        "<a href=\"https://colab.research.google.com/github/VinhDevNguyen/Machine-Learning/blob/master/Project/Music_Genre_Classification.ipynb\" target=\"_parent\"><img src=\"https://colab.research.google.com/assets/colab-badge.svg\" alt=\"Open In Colab\"/></a>"
      ]
    },
    {
      "cell_type": "code",
      "metadata": {
        "id": "wrL0IjwhB2qM",
        "colab_type": "code",
        "colab": {}
      },
      "source": [
        "import itertools\n",
        "import numpy as np\n",
        "import matplotlib.pyplot as plt\n",
        "from matplotlib.ticker import NullFormatter\n",
        "import pandas as pd\n",
        "import numpy as np\n",
        "import matplotlib.ticker as ticker\n",
        "from sklearn import preprocessing"
      ],
      "execution_count": 31,
      "outputs": []
    },
    {
      "cell_type": "code",
      "metadata": {
        "id": "A4hZFuC7VTnK",
        "colab_type": "code",
        "colab": {
          "base_uri": "https://localhost:8080/",
          "height": 35
        },
        "outputId": "c54facab-4009-4cb6-a265-49cd291e8f59"
      },
      "source": [
        "from google.colab import drive\n",
        "drive.mount('/content/drive')"
      ],
      "execution_count": 32,
      "outputs": [
        {
          "output_type": "stream",
          "text": [
            "Drive already mounted at /content/drive; to attempt to forcibly remount, call drive.mount(\"/content/drive\", force_remount=True).\n"
          ],
          "name": "stdout"
        }
      ]
    },
    {
      "cell_type": "code",
      "metadata": {
        "id": "HV45KdfpDSkU",
        "colab_type": "code",
        "colab": {
          "base_uri": "https://localhost:8080/",
          "height": 222
        },
        "outputId": "d2114fa7-098c-42d5-84a7-26d8ef8090cf"
      },
      "source": [
        "df = pd.read_csv(\"/content/drive/My Drive/features_30_sec.csv\")\n",
        "df.head()"
      ],
      "execution_count": 33,
      "outputs": [
        {
          "output_type": "execute_result",
          "data": {
            "text/html": [
              "<div>\n",
              "<style scoped>\n",
              "    .dataframe tbody tr th:only-of-type {\n",
              "        vertical-align: middle;\n",
              "    }\n",
              "\n",
              "    .dataframe tbody tr th {\n",
              "        vertical-align: top;\n",
              "    }\n",
              "\n",
              "    .dataframe thead th {\n",
              "        text-align: right;\n",
              "    }\n",
              "</style>\n",
              "<table border=\"1\" class=\"dataframe\">\n",
              "  <thead>\n",
              "    <tr style=\"text-align: right;\">\n",
              "      <th></th>\n",
              "      <th>filename</th>\n",
              "      <th>length</th>\n",
              "      <th>chroma_stft_mean</th>\n",
              "      <th>chroma_stft_var</th>\n",
              "      <th>rms_mean</th>\n",
              "      <th>rms_var</th>\n",
              "      <th>spectral_centroid_mean</th>\n",
              "      <th>spectral_centroid_var</th>\n",
              "      <th>spectral_bandwidth_mean</th>\n",
              "      <th>spectral_bandwidth_var</th>\n",
              "      <th>rolloff_mean</th>\n",
              "      <th>rolloff_var</th>\n",
              "      <th>zero_crossing_rate_mean</th>\n",
              "      <th>zero_crossing_rate_var</th>\n",
              "      <th>harmony_mean</th>\n",
              "      <th>harmony_var</th>\n",
              "      <th>perceptr_mean</th>\n",
              "      <th>perceptr_var</th>\n",
              "      <th>tempo</th>\n",
              "      <th>mfcc1_mean</th>\n",
              "      <th>mfcc1_var</th>\n",
              "      <th>mfcc2_mean</th>\n",
              "      <th>mfcc2_var</th>\n",
              "      <th>mfcc3_mean</th>\n",
              "      <th>mfcc3_var</th>\n",
              "      <th>mfcc4_mean</th>\n",
              "      <th>mfcc4_var</th>\n",
              "      <th>mfcc5_mean</th>\n",
              "      <th>mfcc5_var</th>\n",
              "      <th>mfcc6_mean</th>\n",
              "      <th>mfcc6_var</th>\n",
              "      <th>mfcc7_mean</th>\n",
              "      <th>mfcc7_var</th>\n",
              "      <th>mfcc8_mean</th>\n",
              "      <th>mfcc8_var</th>\n",
              "      <th>mfcc9_mean</th>\n",
              "      <th>mfcc9_var</th>\n",
              "      <th>mfcc10_mean</th>\n",
              "      <th>mfcc10_var</th>\n",
              "      <th>mfcc11_mean</th>\n",
              "      <th>mfcc11_var</th>\n",
              "      <th>mfcc12_mean</th>\n",
              "      <th>mfcc12_var</th>\n",
              "      <th>mfcc13_mean</th>\n",
              "      <th>mfcc13_var</th>\n",
              "      <th>mfcc14_mean</th>\n",
              "      <th>mfcc14_var</th>\n",
              "      <th>mfcc15_mean</th>\n",
              "      <th>mfcc15_var</th>\n",
              "      <th>mfcc16_mean</th>\n",
              "      <th>mfcc16_var</th>\n",
              "      <th>mfcc17_mean</th>\n",
              "      <th>mfcc17_var</th>\n",
              "      <th>mfcc18_mean</th>\n",
              "      <th>mfcc18_var</th>\n",
              "      <th>mfcc19_mean</th>\n",
              "      <th>mfcc19_var</th>\n",
              "      <th>mfcc20_mean</th>\n",
              "      <th>mfcc20_var</th>\n",
              "      <th>label</th>\n",
              "    </tr>\n",
              "  </thead>\n",
              "  <tbody>\n",
              "    <tr>\n",
              "      <th>0</th>\n",
              "      <td>blues.00000.wav</td>\n",
              "      <td>661794</td>\n",
              "      <td>0.350088</td>\n",
              "      <td>0.088757</td>\n",
              "      <td>0.130228</td>\n",
              "      <td>0.002827</td>\n",
              "      <td>1784.165850</td>\n",
              "      <td>129774.064525</td>\n",
              "      <td>2002.449060</td>\n",
              "      <td>85882.761315</td>\n",
              "      <td>3805.839606</td>\n",
              "      <td>9.015054e+05</td>\n",
              "      <td>0.083045</td>\n",
              "      <td>0.000767</td>\n",
              "      <td>-4.529724e-05</td>\n",
              "      <td>0.008172</td>\n",
              "      <td>0.000008</td>\n",
              "      <td>0.005698</td>\n",
              "      <td>123.046875</td>\n",
              "      <td>-113.570648</td>\n",
              "      <td>2564.207520</td>\n",
              "      <td>121.571793</td>\n",
              "      <td>295.913818</td>\n",
              "      <td>-19.168142</td>\n",
              "      <td>235.574432</td>\n",
              "      <td>42.366421</td>\n",
              "      <td>151.106873</td>\n",
              "      <td>-6.364664</td>\n",
              "      <td>167.934799</td>\n",
              "      <td>18.623499</td>\n",
              "      <td>89.180840</td>\n",
              "      <td>-13.704891</td>\n",
              "      <td>67.660492</td>\n",
              "      <td>15.343150</td>\n",
              "      <td>68.932579</td>\n",
              "      <td>-12.274110</td>\n",
              "      <td>82.204201</td>\n",
              "      <td>10.976572</td>\n",
              "      <td>63.386311</td>\n",
              "      <td>-8.326573</td>\n",
              "      <td>61.773094</td>\n",
              "      <td>8.803792</td>\n",
              "      <td>51.244125</td>\n",
              "      <td>-3.672300</td>\n",
              "      <td>41.217415</td>\n",
              "      <td>5.747995</td>\n",
              "      <td>40.554478</td>\n",
              "      <td>-5.162882</td>\n",
              "      <td>49.775421</td>\n",
              "      <td>0.752740</td>\n",
              "      <td>52.420910</td>\n",
              "      <td>-1.690215</td>\n",
              "      <td>36.524071</td>\n",
              "      <td>-0.408979</td>\n",
              "      <td>41.597103</td>\n",
              "      <td>-2.303523</td>\n",
              "      <td>55.062923</td>\n",
              "      <td>1.221291</td>\n",
              "      <td>46.936035</td>\n",
              "      <td>blues</td>\n",
              "    </tr>\n",
              "    <tr>\n",
              "      <th>1</th>\n",
              "      <td>blues.00001.wav</td>\n",
              "      <td>661794</td>\n",
              "      <td>0.340914</td>\n",
              "      <td>0.094980</td>\n",
              "      <td>0.095948</td>\n",
              "      <td>0.002373</td>\n",
              "      <td>1530.176679</td>\n",
              "      <td>375850.073649</td>\n",
              "      <td>2039.036516</td>\n",
              "      <td>213843.755497</td>\n",
              "      <td>3550.522098</td>\n",
              "      <td>2.977893e+06</td>\n",
              "      <td>0.056040</td>\n",
              "      <td>0.001448</td>\n",
              "      <td>1.395807e-04</td>\n",
              "      <td>0.005099</td>\n",
              "      <td>-0.000178</td>\n",
              "      <td>0.003063</td>\n",
              "      <td>67.999589</td>\n",
              "      <td>-207.501694</td>\n",
              "      <td>7764.555176</td>\n",
              "      <td>123.991264</td>\n",
              "      <td>560.259949</td>\n",
              "      <td>8.955127</td>\n",
              "      <td>572.810913</td>\n",
              "      <td>35.877647</td>\n",
              "      <td>264.506104</td>\n",
              "      <td>2.907320</td>\n",
              "      <td>279.932922</td>\n",
              "      <td>21.510466</td>\n",
              "      <td>156.477097</td>\n",
              "      <td>-8.560436</td>\n",
              "      <td>200.849182</td>\n",
              "      <td>23.370686</td>\n",
              "      <td>142.555954</td>\n",
              "      <td>-10.099661</td>\n",
              "      <td>166.108521</td>\n",
              "      <td>11.900497</td>\n",
              "      <td>104.358612</td>\n",
              "      <td>-5.555639</td>\n",
              "      <td>105.173630</td>\n",
              "      <td>5.376327</td>\n",
              "      <td>96.197212</td>\n",
              "      <td>-2.231760</td>\n",
              "      <td>64.914291</td>\n",
              "      <td>4.220140</td>\n",
              "      <td>73.152534</td>\n",
              "      <td>-6.012148</td>\n",
              "      <td>52.422142</td>\n",
              "      <td>0.927998</td>\n",
              "      <td>55.356403</td>\n",
              "      <td>-0.731125</td>\n",
              "      <td>60.314529</td>\n",
              "      <td>0.295073</td>\n",
              "      <td>48.120598</td>\n",
              "      <td>-0.283518</td>\n",
              "      <td>51.106190</td>\n",
              "      <td>0.531217</td>\n",
              "      <td>45.786282</td>\n",
              "      <td>blues</td>\n",
              "    </tr>\n",
              "    <tr>\n",
              "      <th>2</th>\n",
              "      <td>blues.00002.wav</td>\n",
              "      <td>661794</td>\n",
              "      <td>0.363637</td>\n",
              "      <td>0.085275</td>\n",
              "      <td>0.175570</td>\n",
              "      <td>0.002746</td>\n",
              "      <td>1552.811865</td>\n",
              "      <td>156467.643368</td>\n",
              "      <td>1747.702312</td>\n",
              "      <td>76254.192257</td>\n",
              "      <td>3042.260232</td>\n",
              "      <td>7.840345e+05</td>\n",
              "      <td>0.076291</td>\n",
              "      <td>0.001007</td>\n",
              "      <td>2.105576e-06</td>\n",
              "      <td>0.016342</td>\n",
              "      <td>-0.000019</td>\n",
              "      <td>0.007458</td>\n",
              "      <td>161.499023</td>\n",
              "      <td>-90.722595</td>\n",
              "      <td>3319.044922</td>\n",
              "      <td>140.446304</td>\n",
              "      <td>508.765045</td>\n",
              "      <td>-29.093889</td>\n",
              "      <td>411.781219</td>\n",
              "      <td>31.684334</td>\n",
              "      <td>144.090317</td>\n",
              "      <td>-13.984504</td>\n",
              "      <td>155.493759</td>\n",
              "      <td>25.764742</td>\n",
              "      <td>74.548401</td>\n",
              "      <td>-13.664875</td>\n",
              "      <td>106.981827</td>\n",
              "      <td>11.639934</td>\n",
              "      <td>106.574875</td>\n",
              "      <td>-11.783643</td>\n",
              "      <td>65.447945</td>\n",
              "      <td>9.718760</td>\n",
              "      <td>67.908859</td>\n",
              "      <td>-13.133803</td>\n",
              "      <td>57.781425</td>\n",
              "      <td>5.791199</td>\n",
              "      <td>64.480209</td>\n",
              "      <td>-8.907628</td>\n",
              "      <td>60.385151</td>\n",
              "      <td>-1.077000</td>\n",
              "      <td>57.711136</td>\n",
              "      <td>-9.229274</td>\n",
              "      <td>36.580986</td>\n",
              "      <td>2.451690</td>\n",
              "      <td>40.598766</td>\n",
              "      <td>-7.729093</td>\n",
              "      <td>47.639427</td>\n",
              "      <td>-1.816407</td>\n",
              "      <td>52.382141</td>\n",
              "      <td>-3.439720</td>\n",
              "      <td>46.639660</td>\n",
              "      <td>-2.231258</td>\n",
              "      <td>30.573025</td>\n",
              "      <td>blues</td>\n",
              "    </tr>\n",
              "    <tr>\n",
              "      <th>3</th>\n",
              "      <td>blues.00003.wav</td>\n",
              "      <td>661794</td>\n",
              "      <td>0.404785</td>\n",
              "      <td>0.093999</td>\n",
              "      <td>0.141093</td>\n",
              "      <td>0.006346</td>\n",
              "      <td>1070.106615</td>\n",
              "      <td>184355.942417</td>\n",
              "      <td>1596.412872</td>\n",
              "      <td>166441.494769</td>\n",
              "      <td>2184.745799</td>\n",
              "      <td>1.493194e+06</td>\n",
              "      <td>0.033309</td>\n",
              "      <td>0.000423</td>\n",
              "      <td>4.583644e-07</td>\n",
              "      <td>0.019054</td>\n",
              "      <td>-0.000014</td>\n",
              "      <td>0.002712</td>\n",
              "      <td>63.024009</td>\n",
              "      <td>-199.544205</td>\n",
              "      <td>5507.517090</td>\n",
              "      <td>150.090897</td>\n",
              "      <td>456.505402</td>\n",
              "      <td>5.662678</td>\n",
              "      <td>257.161163</td>\n",
              "      <td>26.859079</td>\n",
              "      <td>158.267303</td>\n",
              "      <td>1.771399</td>\n",
              "      <td>268.034393</td>\n",
              "      <td>14.234031</td>\n",
              "      <td>126.794128</td>\n",
              "      <td>-4.832006</td>\n",
              "      <td>155.912079</td>\n",
              "      <td>9.286494</td>\n",
              "      <td>81.273743</td>\n",
              "      <td>-0.759186</td>\n",
              "      <td>92.114090</td>\n",
              "      <td>8.137607</td>\n",
              "      <td>71.314079</td>\n",
              "      <td>-3.200653</td>\n",
              "      <td>110.236687</td>\n",
              "      <td>6.079319</td>\n",
              "      <td>48.251999</td>\n",
              "      <td>-2.480174</td>\n",
              "      <td>56.799400</td>\n",
              "      <td>-1.079305</td>\n",
              "      <td>62.289902</td>\n",
              "      <td>-2.870789</td>\n",
              "      <td>51.651592</td>\n",
              "      <td>0.780874</td>\n",
              "      <td>44.427753</td>\n",
              "      <td>-3.319597</td>\n",
              "      <td>50.206673</td>\n",
              "      <td>0.636965</td>\n",
              "      <td>37.319130</td>\n",
              "      <td>-0.619121</td>\n",
              "      <td>37.259739</td>\n",
              "      <td>-3.407448</td>\n",
              "      <td>31.949339</td>\n",
              "      <td>blues</td>\n",
              "    </tr>\n",
              "    <tr>\n",
              "      <th>4</th>\n",
              "      <td>blues.00004.wav</td>\n",
              "      <td>661794</td>\n",
              "      <td>0.308526</td>\n",
              "      <td>0.087841</td>\n",
              "      <td>0.091529</td>\n",
              "      <td>0.002303</td>\n",
              "      <td>1835.004266</td>\n",
              "      <td>343399.939274</td>\n",
              "      <td>1748.172116</td>\n",
              "      <td>88445.209036</td>\n",
              "      <td>3579.757627</td>\n",
              "      <td>1.572978e+06</td>\n",
              "      <td>0.101461</td>\n",
              "      <td>0.001954</td>\n",
              "      <td>-1.756129e-05</td>\n",
              "      <td>0.004814</td>\n",
              "      <td>-0.000010</td>\n",
              "      <td>0.003094</td>\n",
              "      <td>135.999178</td>\n",
              "      <td>-160.337708</td>\n",
              "      <td>5195.291992</td>\n",
              "      <td>126.219635</td>\n",
              "      <td>853.784729</td>\n",
              "      <td>-35.587811</td>\n",
              "      <td>333.792938</td>\n",
              "      <td>22.148071</td>\n",
              "      <td>193.456100</td>\n",
              "      <td>-32.478600</td>\n",
              "      <td>336.276825</td>\n",
              "      <td>10.852294</td>\n",
              "      <td>134.831573</td>\n",
              "      <td>-23.352329</td>\n",
              "      <td>93.257095</td>\n",
              "      <td>0.498434</td>\n",
              "      <td>124.672127</td>\n",
              "      <td>-11.793437</td>\n",
              "      <td>130.073349</td>\n",
              "      <td>1.207256</td>\n",
              "      <td>99.675575</td>\n",
              "      <td>-13.088418</td>\n",
              "      <td>80.254066</td>\n",
              "      <td>-2.813867</td>\n",
              "      <td>86.430626</td>\n",
              "      <td>-6.933385</td>\n",
              "      <td>89.555443</td>\n",
              "      <td>-7.552725</td>\n",
              "      <td>70.943336</td>\n",
              "      <td>-9.164666</td>\n",
              "      <td>75.793404</td>\n",
              "      <td>-4.520576</td>\n",
              "      <td>86.099236</td>\n",
              "      <td>-5.454034</td>\n",
              "      <td>75.269707</td>\n",
              "      <td>-0.916874</td>\n",
              "      <td>53.613918</td>\n",
              "      <td>-4.404827</td>\n",
              "      <td>62.910812</td>\n",
              "      <td>-11.703234</td>\n",
              "      <td>55.195160</td>\n",
              "      <td>blues</td>\n",
              "    </tr>\n",
              "  </tbody>\n",
              "</table>\n",
              "</div>"
            ],
            "text/plain": [
              "          filename  length  chroma_stft_mean  ...  mfcc20_mean  mfcc20_var  label\n",
              "0  blues.00000.wav  661794          0.350088  ...     1.221291   46.936035  blues\n",
              "1  blues.00001.wav  661794          0.340914  ...     0.531217   45.786282  blues\n",
              "2  blues.00002.wav  661794          0.363637  ...    -2.231258   30.573025  blues\n",
              "3  blues.00003.wav  661794          0.404785  ...    -3.407448   31.949339  blues\n",
              "4  blues.00004.wav  661794          0.308526  ...   -11.703234   55.195160  blues\n",
              "\n",
              "[5 rows x 60 columns]"
            ]
          },
          "metadata": {
            "tags": []
          },
          "execution_count": 33
        }
      ]
    },
    {
      "cell_type": "code",
      "metadata": {
        "id": "XQjE_aHsFa50",
        "colab_type": "code",
        "colab": {
          "base_uri": "https://localhost:8080/",
          "height": 225
        },
        "outputId": "31994017-19ce-41c0-ca18-1018acd2ef3a"
      },
      "source": [
        "df.pivot_table(index =['label'], aggfunc='size')"
      ],
      "execution_count": 34,
      "outputs": [
        {
          "output_type": "execute_result",
          "data": {
            "text/plain": [
              "label\n",
              "blues        100\n",
              "classical    100\n",
              "country      100\n",
              "disco        100\n",
              "hiphop       100\n",
              "jazz         100\n",
              "metal        100\n",
              "pop          100\n",
              "reggae       100\n",
              "rock         100\n",
              "dtype: int64"
            ]
          },
          "metadata": {
            "tags": []
          },
          "execution_count": 34
        }
      ]
    },
    {
      "cell_type": "code",
      "metadata": {
        "id": "Lgb4iS88jgKj",
        "colab_type": "code",
        "colab": {
          "base_uri": "https://localhost:8080/",
          "height": 35
        },
        "outputId": "b713a752-bdf0-42d2-93f0-ad48b7d859df"
      },
      "source": [
        "from sklearn import preprocessing\n",
        "LE = preprocessing.LabelEncoder()\n",
        "LE.fit([\"blues\", \"classical\", \"country\", \"disco\", \"hiphop\", \"jazz\", \"metal\", \"pop\", \"reggae\", \"rock\"])\n",
        "y = LE.transform(df[['label']].values.ravel())\n",
        "y[0:5]"
      ],
      "execution_count": 35,
      "outputs": [
        {
          "output_type": "execute_result",
          "data": {
            "text/plain": [
              "array([0, 0, 0, 0, 0])"
            ]
          },
          "metadata": {
            "tags": []
          },
          "execution_count": 35
        }
      ]
    },
    {
      "cell_type": "code",
      "metadata": {
        "id": "zcDaCZAoJ5_M",
        "colab_type": "code",
        "colab": {
          "base_uri": "https://localhost:8080/",
          "height": 1000
        },
        "outputId": "e12b450b-c5f1-473a-843f-1119676308e6"
      },
      "source": [
        "df_dummified = pd.get_dummies(df)\n",
        "columns = df_dummified.columns\n",
        "columns.tolist()"
      ],
      "execution_count": 36,
      "outputs": [
        {
          "output_type": "execute_result",
          "data": {
            "text/plain": [
              "['length',\n",
              " 'chroma_stft_mean',\n",
              " 'chroma_stft_var',\n",
              " 'rms_mean',\n",
              " 'rms_var',\n",
              " 'spectral_centroid_mean',\n",
              " 'spectral_centroid_var',\n",
              " 'spectral_bandwidth_mean',\n",
              " 'spectral_bandwidth_var',\n",
              " 'rolloff_mean',\n",
              " 'rolloff_var',\n",
              " 'zero_crossing_rate_mean',\n",
              " 'zero_crossing_rate_var',\n",
              " 'harmony_mean',\n",
              " 'harmony_var',\n",
              " 'perceptr_mean',\n",
              " 'perceptr_var',\n",
              " 'tempo',\n",
              " 'mfcc1_mean',\n",
              " 'mfcc1_var',\n",
              " 'mfcc2_mean',\n",
              " 'mfcc2_var',\n",
              " 'mfcc3_mean',\n",
              " 'mfcc3_var',\n",
              " 'mfcc4_mean',\n",
              " 'mfcc4_var',\n",
              " 'mfcc5_mean',\n",
              " 'mfcc5_var',\n",
              " 'mfcc6_mean',\n",
              " 'mfcc6_var',\n",
              " 'mfcc7_mean',\n",
              " 'mfcc7_var',\n",
              " 'mfcc8_mean',\n",
              " 'mfcc8_var',\n",
              " 'mfcc9_mean',\n",
              " 'mfcc9_var',\n",
              " 'mfcc10_mean',\n",
              " 'mfcc10_var',\n",
              " 'mfcc11_mean',\n",
              " 'mfcc11_var',\n",
              " 'mfcc12_mean',\n",
              " 'mfcc12_var',\n",
              " 'mfcc13_mean',\n",
              " 'mfcc13_var',\n",
              " 'mfcc14_mean',\n",
              " 'mfcc14_var',\n",
              " 'mfcc15_mean',\n",
              " 'mfcc15_var',\n",
              " 'mfcc16_mean',\n",
              " 'mfcc16_var',\n",
              " 'mfcc17_mean',\n",
              " 'mfcc17_var',\n",
              " 'mfcc18_mean',\n",
              " 'mfcc18_var',\n",
              " 'mfcc19_mean',\n",
              " 'mfcc19_var',\n",
              " 'mfcc20_mean',\n",
              " 'mfcc20_var',\n",
              " 'filename_blues.00000.wav',\n",
              " 'filename_blues.00001.wav',\n",
              " 'filename_blues.00002.wav',\n",
              " 'filename_blues.00003.wav',\n",
              " 'filename_blues.00004.wav',\n",
              " 'filename_blues.00005.wav',\n",
              " 'filename_blues.00006.wav',\n",
              " 'filename_blues.00007.wav',\n",
              " 'filename_blues.00008.wav',\n",
              " 'filename_blues.00009.wav',\n",
              " 'filename_blues.00010.wav',\n",
              " 'filename_blues.00011.wav',\n",
              " 'filename_blues.00012.wav',\n",
              " 'filename_blues.00013.wav',\n",
              " 'filename_blues.00014.wav',\n",
              " 'filename_blues.00015.wav',\n",
              " 'filename_blues.00016.wav',\n",
              " 'filename_blues.00017.wav',\n",
              " 'filename_blues.00018.wav',\n",
              " 'filename_blues.00019.wav',\n",
              " 'filename_blues.00020.wav',\n",
              " 'filename_blues.00021.wav',\n",
              " 'filename_blues.00022.wav',\n",
              " 'filename_blues.00023.wav',\n",
              " 'filename_blues.00024.wav',\n",
              " 'filename_blues.00025.wav',\n",
              " 'filename_blues.00026.wav',\n",
              " 'filename_blues.00027.wav',\n",
              " 'filename_blues.00028.wav',\n",
              " 'filename_blues.00029.wav',\n",
              " 'filename_blues.00030.wav',\n",
              " 'filename_blues.00031.wav',\n",
              " 'filename_blues.00032.wav',\n",
              " 'filename_blues.00033.wav',\n",
              " 'filename_blues.00034.wav',\n",
              " 'filename_blues.00035.wav',\n",
              " 'filename_blues.00036.wav',\n",
              " 'filename_blues.00037.wav',\n",
              " 'filename_blues.00038.wav',\n",
              " 'filename_blues.00039.wav',\n",
              " 'filename_blues.00040.wav',\n",
              " 'filename_blues.00041.wav',\n",
              " 'filename_blues.00042.wav',\n",
              " 'filename_blues.00043.wav',\n",
              " 'filename_blues.00044.wav',\n",
              " 'filename_blues.00045.wav',\n",
              " 'filename_blues.00046.wav',\n",
              " 'filename_blues.00047.wav',\n",
              " 'filename_blues.00048.wav',\n",
              " 'filename_blues.00049.wav',\n",
              " 'filename_blues.00050.wav',\n",
              " 'filename_blues.00051.wav',\n",
              " 'filename_blues.00052.wav',\n",
              " 'filename_blues.00053.wav',\n",
              " 'filename_blues.00054.wav',\n",
              " 'filename_blues.00055.wav',\n",
              " 'filename_blues.00056.wav',\n",
              " 'filename_blues.00057.wav',\n",
              " 'filename_blues.00058.wav',\n",
              " 'filename_blues.00059.wav',\n",
              " 'filename_blues.00060.wav',\n",
              " 'filename_blues.00061.wav',\n",
              " 'filename_blues.00062.wav',\n",
              " 'filename_blues.00063.wav',\n",
              " 'filename_blues.00064.wav',\n",
              " 'filename_blues.00065.wav',\n",
              " 'filename_blues.00066.wav',\n",
              " 'filename_blues.00067.wav',\n",
              " 'filename_blues.00068.wav',\n",
              " 'filename_blues.00069.wav',\n",
              " 'filename_blues.00070.wav',\n",
              " 'filename_blues.00071.wav',\n",
              " 'filename_blues.00072.wav',\n",
              " 'filename_blues.00073.wav',\n",
              " 'filename_blues.00074.wav',\n",
              " 'filename_blues.00075.wav',\n",
              " 'filename_blues.00076.wav',\n",
              " 'filename_blues.00077.wav',\n",
              " 'filename_blues.00078.wav',\n",
              " 'filename_blues.00079.wav',\n",
              " 'filename_blues.00080.wav',\n",
              " 'filename_blues.00081.wav',\n",
              " 'filename_blues.00082.wav',\n",
              " 'filename_blues.00083.wav',\n",
              " 'filename_blues.00084.wav',\n",
              " 'filename_blues.00085.wav',\n",
              " 'filename_blues.00086.wav',\n",
              " 'filename_blues.00087.wav',\n",
              " 'filename_blues.00088.wav',\n",
              " 'filename_blues.00089.wav',\n",
              " 'filename_blues.00090.wav',\n",
              " 'filename_blues.00091.wav',\n",
              " 'filename_blues.00092.wav',\n",
              " 'filename_blues.00093.wav',\n",
              " 'filename_blues.00094.wav',\n",
              " 'filename_blues.00095.wav',\n",
              " 'filename_blues.00096.wav',\n",
              " 'filename_blues.00097.wav',\n",
              " 'filename_blues.00098.wav',\n",
              " 'filename_blues.00099.wav',\n",
              " 'filename_classical.00000.wav',\n",
              " 'filename_classical.00001.wav',\n",
              " 'filename_classical.00002.wav',\n",
              " 'filename_classical.00003.wav',\n",
              " 'filename_classical.00004.wav',\n",
              " 'filename_classical.00005.wav',\n",
              " 'filename_classical.00006.wav',\n",
              " 'filename_classical.00007.wav',\n",
              " 'filename_classical.00008.wav',\n",
              " 'filename_classical.00009.wav',\n",
              " 'filename_classical.00010.wav',\n",
              " 'filename_classical.00011.wav',\n",
              " 'filename_classical.00012.wav',\n",
              " 'filename_classical.00013.wav',\n",
              " 'filename_classical.00014.wav',\n",
              " 'filename_classical.00015.wav',\n",
              " 'filename_classical.00016.wav',\n",
              " 'filename_classical.00017.wav',\n",
              " 'filename_classical.00018.wav',\n",
              " 'filename_classical.00019.wav',\n",
              " 'filename_classical.00020.wav',\n",
              " 'filename_classical.00021.wav',\n",
              " 'filename_classical.00022.wav',\n",
              " 'filename_classical.00023.wav',\n",
              " 'filename_classical.00024.wav',\n",
              " 'filename_classical.00025.wav',\n",
              " 'filename_classical.00026.wav',\n",
              " 'filename_classical.00027.wav',\n",
              " 'filename_classical.00028.wav',\n",
              " 'filename_classical.00029.wav',\n",
              " 'filename_classical.00030.wav',\n",
              " 'filename_classical.00031.wav',\n",
              " 'filename_classical.00032.wav',\n",
              " 'filename_classical.00033.wav',\n",
              " 'filename_classical.00034.wav',\n",
              " 'filename_classical.00035.wav',\n",
              " 'filename_classical.00036.wav',\n",
              " 'filename_classical.00037.wav',\n",
              " 'filename_classical.00038.wav',\n",
              " 'filename_classical.00039.wav',\n",
              " 'filename_classical.00040.wav',\n",
              " 'filename_classical.00041.wav',\n",
              " 'filename_classical.00042.wav',\n",
              " 'filename_classical.00043.wav',\n",
              " 'filename_classical.00044.wav',\n",
              " 'filename_classical.00045.wav',\n",
              " 'filename_classical.00046.wav',\n",
              " 'filename_classical.00047.wav',\n",
              " 'filename_classical.00048.wav',\n",
              " 'filename_classical.00049.wav',\n",
              " 'filename_classical.00050.wav',\n",
              " 'filename_classical.00051.wav',\n",
              " 'filename_classical.00052.wav',\n",
              " 'filename_classical.00053.wav',\n",
              " 'filename_classical.00054.wav',\n",
              " 'filename_classical.00055.wav',\n",
              " 'filename_classical.00056.wav',\n",
              " 'filename_classical.00057.wav',\n",
              " 'filename_classical.00058.wav',\n",
              " 'filename_classical.00059.wav',\n",
              " 'filename_classical.00060.wav',\n",
              " 'filename_classical.00061.wav',\n",
              " 'filename_classical.00062.wav',\n",
              " 'filename_classical.00063.wav',\n",
              " 'filename_classical.00064.wav',\n",
              " 'filename_classical.00065.wav',\n",
              " 'filename_classical.00066.wav',\n",
              " 'filename_classical.00067.wav',\n",
              " 'filename_classical.00068.wav',\n",
              " 'filename_classical.00069.wav',\n",
              " 'filename_classical.00070.wav',\n",
              " 'filename_classical.00071.wav',\n",
              " 'filename_classical.00072.wav',\n",
              " 'filename_classical.00073.wav',\n",
              " 'filename_classical.00074.wav',\n",
              " 'filename_classical.00075.wav',\n",
              " 'filename_classical.00076.wav',\n",
              " 'filename_classical.00077.wav',\n",
              " 'filename_classical.00078.wav',\n",
              " 'filename_classical.00079.wav',\n",
              " 'filename_classical.00080.wav',\n",
              " 'filename_classical.00081.wav',\n",
              " 'filename_classical.00082.wav',\n",
              " 'filename_classical.00083.wav',\n",
              " 'filename_classical.00084.wav',\n",
              " 'filename_classical.00085.wav',\n",
              " 'filename_classical.00086.wav',\n",
              " 'filename_classical.00087.wav',\n",
              " 'filename_classical.00088.wav',\n",
              " 'filename_classical.00089.wav',\n",
              " 'filename_classical.00090.wav',\n",
              " 'filename_classical.00091.wav',\n",
              " 'filename_classical.00092.wav',\n",
              " 'filename_classical.00093.wav',\n",
              " 'filename_classical.00094.wav',\n",
              " 'filename_classical.00095.wav',\n",
              " 'filename_classical.00096.wav',\n",
              " 'filename_classical.00097.wav',\n",
              " 'filename_classical.00098.wav',\n",
              " 'filename_classical.00099.wav',\n",
              " 'filename_country.00000.wav',\n",
              " 'filename_country.00001.wav',\n",
              " 'filename_country.00002.wav',\n",
              " 'filename_country.00003.wav',\n",
              " 'filename_country.00004.wav',\n",
              " 'filename_country.00005.wav',\n",
              " 'filename_country.00006.wav',\n",
              " 'filename_country.00007.wav',\n",
              " 'filename_country.00008.wav',\n",
              " 'filename_country.00009.wav',\n",
              " 'filename_country.00010.wav',\n",
              " 'filename_country.00011.wav',\n",
              " 'filename_country.00012.wav',\n",
              " 'filename_country.00013.wav',\n",
              " 'filename_country.00014.wav',\n",
              " 'filename_country.00015.wav',\n",
              " 'filename_country.00016.wav',\n",
              " 'filename_country.00017.wav',\n",
              " 'filename_country.00018.wav',\n",
              " 'filename_country.00019.wav',\n",
              " 'filename_country.00020.wav',\n",
              " 'filename_country.00021.wav',\n",
              " 'filename_country.00022.wav',\n",
              " 'filename_country.00023.wav',\n",
              " 'filename_country.00024.wav',\n",
              " 'filename_country.00025.wav',\n",
              " 'filename_country.00026.wav',\n",
              " 'filename_country.00027.wav',\n",
              " 'filename_country.00028.wav',\n",
              " 'filename_country.00029.wav',\n",
              " 'filename_country.00030.wav',\n",
              " 'filename_country.00031.wav',\n",
              " 'filename_country.00032.wav',\n",
              " 'filename_country.00033.wav',\n",
              " 'filename_country.00034.wav',\n",
              " 'filename_country.00035.wav',\n",
              " 'filename_country.00036.wav',\n",
              " 'filename_country.00037.wav',\n",
              " 'filename_country.00038.wav',\n",
              " 'filename_country.00039.wav',\n",
              " 'filename_country.00040.wav',\n",
              " 'filename_country.00041.wav',\n",
              " 'filename_country.00042.wav',\n",
              " 'filename_country.00043.wav',\n",
              " 'filename_country.00044.wav',\n",
              " 'filename_country.00045.wav',\n",
              " 'filename_country.00046.wav',\n",
              " 'filename_country.00047.wav',\n",
              " 'filename_country.00048.wav',\n",
              " 'filename_country.00049.wav',\n",
              " 'filename_country.00050.wav',\n",
              " 'filename_country.00051.wav',\n",
              " 'filename_country.00052.wav',\n",
              " 'filename_country.00053.wav',\n",
              " 'filename_country.00054.wav',\n",
              " 'filename_country.00055.wav',\n",
              " 'filename_country.00056.wav',\n",
              " 'filename_country.00057.wav',\n",
              " 'filename_country.00058.wav',\n",
              " 'filename_country.00059.wav',\n",
              " 'filename_country.00060.wav',\n",
              " 'filename_country.00061.wav',\n",
              " 'filename_country.00062.wav',\n",
              " 'filename_country.00063.wav',\n",
              " 'filename_country.00064.wav',\n",
              " 'filename_country.00065.wav',\n",
              " 'filename_country.00066.wav',\n",
              " 'filename_country.00067.wav',\n",
              " 'filename_country.00068.wav',\n",
              " 'filename_country.00069.wav',\n",
              " 'filename_country.00070.wav',\n",
              " 'filename_country.00071.wav',\n",
              " 'filename_country.00072.wav',\n",
              " 'filename_country.00073.wav',\n",
              " 'filename_country.00074.wav',\n",
              " 'filename_country.00075.wav',\n",
              " 'filename_country.00076.wav',\n",
              " 'filename_country.00077.wav',\n",
              " 'filename_country.00078.wav',\n",
              " 'filename_country.00079.wav',\n",
              " 'filename_country.00080.wav',\n",
              " 'filename_country.00081.wav',\n",
              " 'filename_country.00082.wav',\n",
              " 'filename_country.00083.wav',\n",
              " 'filename_country.00084.wav',\n",
              " 'filename_country.00085.wav',\n",
              " 'filename_country.00086.wav',\n",
              " 'filename_country.00087.wav',\n",
              " 'filename_country.00088.wav',\n",
              " 'filename_country.00089.wav',\n",
              " 'filename_country.00090.wav',\n",
              " 'filename_country.00091.wav',\n",
              " 'filename_country.00092.wav',\n",
              " 'filename_country.00093.wav',\n",
              " 'filename_country.00094.wav',\n",
              " 'filename_country.00095.wav',\n",
              " 'filename_country.00096.wav',\n",
              " 'filename_country.00097.wav',\n",
              " 'filename_country.00098.wav',\n",
              " 'filename_country.00099.wav',\n",
              " 'filename_disco.00000.wav',\n",
              " 'filename_disco.00001.wav',\n",
              " 'filename_disco.00002.wav',\n",
              " 'filename_disco.00003.wav',\n",
              " 'filename_disco.00004.wav',\n",
              " 'filename_disco.00005.wav',\n",
              " 'filename_disco.00006.wav',\n",
              " 'filename_disco.00007.wav',\n",
              " 'filename_disco.00008.wav',\n",
              " 'filename_disco.00009.wav',\n",
              " 'filename_disco.00010.wav',\n",
              " 'filename_disco.00011.wav',\n",
              " 'filename_disco.00012.wav',\n",
              " 'filename_disco.00013.wav',\n",
              " 'filename_disco.00014.wav',\n",
              " 'filename_disco.00015.wav',\n",
              " 'filename_disco.00016.wav',\n",
              " 'filename_disco.00017.wav',\n",
              " 'filename_disco.00018.wav',\n",
              " 'filename_disco.00019.wav',\n",
              " 'filename_disco.00020.wav',\n",
              " 'filename_disco.00021.wav',\n",
              " 'filename_disco.00022.wav',\n",
              " 'filename_disco.00023.wav',\n",
              " 'filename_disco.00024.wav',\n",
              " 'filename_disco.00025.wav',\n",
              " 'filename_disco.00026.wav',\n",
              " 'filename_disco.00027.wav',\n",
              " 'filename_disco.00028.wav',\n",
              " 'filename_disco.00029.wav',\n",
              " 'filename_disco.00030.wav',\n",
              " 'filename_disco.00031.wav',\n",
              " 'filename_disco.00032.wav',\n",
              " 'filename_disco.00033.wav',\n",
              " 'filename_disco.00034.wav',\n",
              " 'filename_disco.00035.wav',\n",
              " 'filename_disco.00036.wav',\n",
              " 'filename_disco.00037.wav',\n",
              " 'filename_disco.00038.wav',\n",
              " 'filename_disco.00039.wav',\n",
              " 'filename_disco.00040.wav',\n",
              " 'filename_disco.00041.wav',\n",
              " 'filename_disco.00042.wav',\n",
              " 'filename_disco.00043.wav',\n",
              " 'filename_disco.00044.wav',\n",
              " 'filename_disco.00045.wav',\n",
              " 'filename_disco.00046.wav',\n",
              " 'filename_disco.00047.wav',\n",
              " 'filename_disco.00048.wav',\n",
              " 'filename_disco.00049.wav',\n",
              " 'filename_disco.00050.wav',\n",
              " 'filename_disco.00051.wav',\n",
              " 'filename_disco.00052.wav',\n",
              " 'filename_disco.00053.wav',\n",
              " 'filename_disco.00054.wav',\n",
              " 'filename_disco.00055.wav',\n",
              " 'filename_disco.00056.wav',\n",
              " 'filename_disco.00057.wav',\n",
              " 'filename_disco.00058.wav',\n",
              " 'filename_disco.00059.wav',\n",
              " 'filename_disco.00060.wav',\n",
              " 'filename_disco.00061.wav',\n",
              " 'filename_disco.00062.wav',\n",
              " 'filename_disco.00063.wav',\n",
              " 'filename_disco.00064.wav',\n",
              " 'filename_disco.00065.wav',\n",
              " 'filename_disco.00066.wav',\n",
              " 'filename_disco.00067.wav',\n",
              " 'filename_disco.00068.wav',\n",
              " 'filename_disco.00069.wav',\n",
              " 'filename_disco.00070.wav',\n",
              " 'filename_disco.00071.wav',\n",
              " 'filename_disco.00072.wav',\n",
              " 'filename_disco.00073.wav',\n",
              " 'filename_disco.00074.wav',\n",
              " 'filename_disco.00075.wav',\n",
              " 'filename_disco.00076.wav',\n",
              " 'filename_disco.00077.wav',\n",
              " 'filename_disco.00078.wav',\n",
              " 'filename_disco.00079.wav',\n",
              " 'filename_disco.00080.wav',\n",
              " 'filename_disco.00081.wav',\n",
              " 'filename_disco.00082.wav',\n",
              " 'filename_disco.00083.wav',\n",
              " 'filename_disco.00084.wav',\n",
              " 'filename_disco.00085.wav',\n",
              " 'filename_disco.00086.wav',\n",
              " 'filename_disco.00087.wav',\n",
              " 'filename_disco.00088.wav',\n",
              " 'filename_disco.00089.wav',\n",
              " 'filename_disco.00090.wav',\n",
              " 'filename_disco.00091.wav',\n",
              " 'filename_disco.00092.wav',\n",
              " 'filename_disco.00093.wav',\n",
              " 'filename_disco.00094.wav',\n",
              " 'filename_disco.00095.wav',\n",
              " 'filename_disco.00096.wav',\n",
              " 'filename_disco.00097.wav',\n",
              " 'filename_disco.00098.wav',\n",
              " 'filename_disco.00099.wav',\n",
              " 'filename_hiphop.00000.wav',\n",
              " 'filename_hiphop.00001.wav',\n",
              " 'filename_hiphop.00002.wav',\n",
              " 'filename_hiphop.00003.wav',\n",
              " 'filename_hiphop.00004.wav',\n",
              " 'filename_hiphop.00005.wav',\n",
              " 'filename_hiphop.00006.wav',\n",
              " 'filename_hiphop.00007.wav',\n",
              " 'filename_hiphop.00008.wav',\n",
              " 'filename_hiphop.00009.wav',\n",
              " 'filename_hiphop.00010.wav',\n",
              " 'filename_hiphop.00011.wav',\n",
              " 'filename_hiphop.00012.wav',\n",
              " 'filename_hiphop.00013.wav',\n",
              " 'filename_hiphop.00014.wav',\n",
              " 'filename_hiphop.00015.wav',\n",
              " 'filename_hiphop.00016.wav',\n",
              " 'filename_hiphop.00017.wav',\n",
              " 'filename_hiphop.00018.wav',\n",
              " 'filename_hiphop.00019.wav',\n",
              " 'filename_hiphop.00020.wav',\n",
              " 'filename_hiphop.00021.wav',\n",
              " 'filename_hiphop.00022.wav',\n",
              " 'filename_hiphop.00023.wav',\n",
              " 'filename_hiphop.00024.wav',\n",
              " 'filename_hiphop.00025.wav',\n",
              " 'filename_hiphop.00026.wav',\n",
              " 'filename_hiphop.00027.wav',\n",
              " 'filename_hiphop.00028.wav',\n",
              " 'filename_hiphop.00029.wav',\n",
              " 'filename_hiphop.00030.wav',\n",
              " 'filename_hiphop.00031.wav',\n",
              " 'filename_hiphop.00032.wav',\n",
              " 'filename_hiphop.00033.wav',\n",
              " 'filename_hiphop.00034.wav',\n",
              " 'filename_hiphop.00035.wav',\n",
              " 'filename_hiphop.00036.wav',\n",
              " 'filename_hiphop.00037.wav',\n",
              " 'filename_hiphop.00038.wav',\n",
              " 'filename_hiphop.00039.wav',\n",
              " 'filename_hiphop.00040.wav',\n",
              " 'filename_hiphop.00041.wav',\n",
              " 'filename_hiphop.00042.wav',\n",
              " 'filename_hiphop.00043.wav',\n",
              " 'filename_hiphop.00044.wav',\n",
              " 'filename_hiphop.00045.wav',\n",
              " 'filename_hiphop.00046.wav',\n",
              " 'filename_hiphop.00047.wav',\n",
              " 'filename_hiphop.00048.wav',\n",
              " 'filename_hiphop.00049.wav',\n",
              " 'filename_hiphop.00050.wav',\n",
              " 'filename_hiphop.00051.wav',\n",
              " 'filename_hiphop.00052.wav',\n",
              " 'filename_hiphop.00053.wav',\n",
              " 'filename_hiphop.00054.wav',\n",
              " 'filename_hiphop.00055.wav',\n",
              " 'filename_hiphop.00056.wav',\n",
              " 'filename_hiphop.00057.wav',\n",
              " 'filename_hiphop.00058.wav',\n",
              " 'filename_hiphop.00059.wav',\n",
              " 'filename_hiphop.00060.wav',\n",
              " 'filename_hiphop.00061.wav',\n",
              " 'filename_hiphop.00062.wav',\n",
              " 'filename_hiphop.00063.wav',\n",
              " 'filename_hiphop.00064.wav',\n",
              " 'filename_hiphop.00065.wav',\n",
              " 'filename_hiphop.00066.wav',\n",
              " 'filename_hiphop.00067.wav',\n",
              " 'filename_hiphop.00068.wav',\n",
              " 'filename_hiphop.00069.wav',\n",
              " 'filename_hiphop.00070.wav',\n",
              " 'filename_hiphop.00071.wav',\n",
              " 'filename_hiphop.00072.wav',\n",
              " 'filename_hiphop.00073.wav',\n",
              " 'filename_hiphop.00074.wav',\n",
              " 'filename_hiphop.00075.wav',\n",
              " 'filename_hiphop.00076.wav',\n",
              " 'filename_hiphop.00077.wav',\n",
              " 'filename_hiphop.00078.wav',\n",
              " 'filename_hiphop.00079.wav',\n",
              " 'filename_hiphop.00080.wav',\n",
              " 'filename_hiphop.00081.wav',\n",
              " 'filename_hiphop.00082.wav',\n",
              " 'filename_hiphop.00083.wav',\n",
              " 'filename_hiphop.00084.wav',\n",
              " 'filename_hiphop.00085.wav',\n",
              " 'filename_hiphop.00086.wav',\n",
              " 'filename_hiphop.00087.wav',\n",
              " 'filename_hiphop.00088.wav',\n",
              " 'filename_hiphop.00089.wav',\n",
              " 'filename_hiphop.00090.wav',\n",
              " 'filename_hiphop.00091.wav',\n",
              " 'filename_hiphop.00092.wav',\n",
              " 'filename_hiphop.00093.wav',\n",
              " 'filename_hiphop.00094.wav',\n",
              " 'filename_hiphop.00095.wav',\n",
              " 'filename_hiphop.00096.wav',\n",
              " 'filename_hiphop.00097.wav',\n",
              " 'filename_hiphop.00098.wav',\n",
              " 'filename_hiphop.00099.wav',\n",
              " 'filename_jazz.00000.wav',\n",
              " 'filename_jazz.00001.wav',\n",
              " 'filename_jazz.00002.wav',\n",
              " 'filename_jazz.00003.wav',\n",
              " 'filename_jazz.00004.wav',\n",
              " 'filename_jazz.00005.wav',\n",
              " 'filename_jazz.00006.wav',\n",
              " 'filename_jazz.00007.wav',\n",
              " 'filename_jazz.00008.wav',\n",
              " 'filename_jazz.00009.wav',\n",
              " 'filename_jazz.00010.wav',\n",
              " 'filename_jazz.00011.wav',\n",
              " 'filename_jazz.00012.wav',\n",
              " 'filename_jazz.00013.wav',\n",
              " 'filename_jazz.00014.wav',\n",
              " 'filename_jazz.00015.wav',\n",
              " 'filename_jazz.00016.wav',\n",
              " 'filename_jazz.00017.wav',\n",
              " 'filename_jazz.00018.wav',\n",
              " 'filename_jazz.00019.wav',\n",
              " 'filename_jazz.00020.wav',\n",
              " 'filename_jazz.00021.wav',\n",
              " 'filename_jazz.00022.wav',\n",
              " 'filename_jazz.00023.wav',\n",
              " 'filename_jazz.00024.wav',\n",
              " 'filename_jazz.00025.wav',\n",
              " 'filename_jazz.00026.wav',\n",
              " 'filename_jazz.00027.wav',\n",
              " 'filename_jazz.00028.wav',\n",
              " 'filename_jazz.00029.wav',\n",
              " 'filename_jazz.00030.wav',\n",
              " 'filename_jazz.00031.wav',\n",
              " 'filename_jazz.00032.wav',\n",
              " 'filename_jazz.00033.wav',\n",
              " 'filename_jazz.00034.wav',\n",
              " 'filename_jazz.00035.wav',\n",
              " 'filename_jazz.00036.wav',\n",
              " 'filename_jazz.00037.wav',\n",
              " 'filename_jazz.00038.wav',\n",
              " 'filename_jazz.00039.wav',\n",
              " 'filename_jazz.00040.wav',\n",
              " 'filename_jazz.00041.wav',\n",
              " 'filename_jazz.00042.wav',\n",
              " 'filename_jazz.00043.wav',\n",
              " 'filename_jazz.00044.wav',\n",
              " 'filename_jazz.00045.wav',\n",
              " 'filename_jazz.00046.wav',\n",
              " 'filename_jazz.00047.wav',\n",
              " 'filename_jazz.00048.wav',\n",
              " 'filename_jazz.00049.wav',\n",
              " 'filename_jazz.00050.wav',\n",
              " 'filename_jazz.00051.wav',\n",
              " 'filename_jazz.00052.wav',\n",
              " 'filename_jazz.00053.wav',\n",
              " 'filename_jazz.00054.wav',\n",
              " 'filename_jazz.00055.wav',\n",
              " 'filename_jazz.00056.wav',\n",
              " 'filename_jazz.00057.wav',\n",
              " 'filename_jazz.00058.wav',\n",
              " 'filename_jazz.00059.wav',\n",
              " 'filename_jazz.00060.wav',\n",
              " 'filename_jazz.00061.wav',\n",
              " 'filename_jazz.00062.wav',\n",
              " 'filename_jazz.00063.wav',\n",
              " 'filename_jazz.00064.wav',\n",
              " 'filename_jazz.00065.wav',\n",
              " 'filename_jazz.00066.wav',\n",
              " 'filename_jazz.00067.wav',\n",
              " 'filename_jazz.00068.wav',\n",
              " 'filename_jazz.00069.wav',\n",
              " 'filename_jazz.00070.wav',\n",
              " 'filename_jazz.00071.wav',\n",
              " 'filename_jazz.00072.wav',\n",
              " 'filename_jazz.00073.wav',\n",
              " 'filename_jazz.00074.wav',\n",
              " 'filename_jazz.00075.wav',\n",
              " 'filename_jazz.00076.wav',\n",
              " 'filename_jazz.00077.wav',\n",
              " 'filename_jazz.00078.wav',\n",
              " 'filename_jazz.00079.wav',\n",
              " 'filename_jazz.00080.wav',\n",
              " 'filename_jazz.00081.wav',\n",
              " 'filename_jazz.00082.wav',\n",
              " 'filename_jazz.00083.wav',\n",
              " 'filename_jazz.00084.wav',\n",
              " 'filename_jazz.00085.wav',\n",
              " 'filename_jazz.00086.wav',\n",
              " 'filename_jazz.00087.wav',\n",
              " 'filename_jazz.00088.wav',\n",
              " 'filename_jazz.00089.wav',\n",
              " 'filename_jazz.00090.wav',\n",
              " 'filename_jazz.00091.wav',\n",
              " 'filename_jazz.00092.wav',\n",
              " 'filename_jazz.00093.wav',\n",
              " 'filename_jazz.00094.wav',\n",
              " 'filename_jazz.00095.wav',\n",
              " 'filename_jazz.00096.wav',\n",
              " 'filename_jazz.00097.wav',\n",
              " 'filename_jazz.00098.wav',\n",
              " 'filename_jazz.00099.wav',\n",
              " 'filename_metal.00000.wav',\n",
              " 'filename_metal.00001.wav',\n",
              " 'filename_metal.00002.wav',\n",
              " 'filename_metal.00003.wav',\n",
              " 'filename_metal.00004.wav',\n",
              " 'filename_metal.00005.wav',\n",
              " 'filename_metal.00006.wav',\n",
              " 'filename_metal.00007.wav',\n",
              " 'filename_metal.00008.wav',\n",
              " 'filename_metal.00009.wav',\n",
              " 'filename_metal.00010.wav',\n",
              " 'filename_metal.00011.wav',\n",
              " 'filename_metal.00012.wav',\n",
              " 'filename_metal.00013.wav',\n",
              " 'filename_metal.00014.wav',\n",
              " 'filename_metal.00015.wav',\n",
              " 'filename_metal.00016.wav',\n",
              " 'filename_metal.00017.wav',\n",
              " 'filename_metal.00018.wav',\n",
              " 'filename_metal.00019.wav',\n",
              " 'filename_metal.00020.wav',\n",
              " 'filename_metal.00021.wav',\n",
              " 'filename_metal.00022.wav',\n",
              " 'filename_metal.00023.wav',\n",
              " 'filename_metal.00024.wav',\n",
              " 'filename_metal.00025.wav',\n",
              " 'filename_metal.00026.wav',\n",
              " 'filename_metal.00027.wav',\n",
              " 'filename_metal.00028.wav',\n",
              " 'filename_metal.00029.wav',\n",
              " 'filename_metal.00030.wav',\n",
              " 'filename_metal.00031.wav',\n",
              " 'filename_metal.00032.wav',\n",
              " 'filename_metal.00033.wav',\n",
              " 'filename_metal.00034.wav',\n",
              " 'filename_metal.00035.wav',\n",
              " 'filename_metal.00036.wav',\n",
              " 'filename_metal.00037.wav',\n",
              " 'filename_metal.00038.wav',\n",
              " 'filename_metal.00039.wav',\n",
              " 'filename_metal.00040.wav',\n",
              " 'filename_metal.00041.wav',\n",
              " 'filename_metal.00042.wav',\n",
              " 'filename_metal.00043.wav',\n",
              " 'filename_metal.00044.wav',\n",
              " 'filename_metal.00045.wav',\n",
              " 'filename_metal.00046.wav',\n",
              " 'filename_metal.00047.wav',\n",
              " 'filename_metal.00048.wav',\n",
              " 'filename_metal.00049.wav',\n",
              " 'filename_metal.00050.wav',\n",
              " 'filename_metal.00051.wav',\n",
              " 'filename_metal.00052.wav',\n",
              " 'filename_metal.00053.wav',\n",
              " 'filename_metal.00054.wav',\n",
              " 'filename_metal.00055.wav',\n",
              " 'filename_metal.00056.wav',\n",
              " 'filename_metal.00057.wav',\n",
              " 'filename_metal.00058.wav',\n",
              " 'filename_metal.00059.wav',\n",
              " 'filename_metal.00060.wav',\n",
              " 'filename_metal.00061.wav',\n",
              " 'filename_metal.00062.wav',\n",
              " 'filename_metal.00063.wav',\n",
              " 'filename_metal.00064.wav',\n",
              " 'filename_metal.00065.wav',\n",
              " 'filename_metal.00066.wav',\n",
              " 'filename_metal.00067.wav',\n",
              " 'filename_metal.00068.wav',\n",
              " 'filename_metal.00069.wav',\n",
              " 'filename_metal.00070.wav',\n",
              " 'filename_metal.00071.wav',\n",
              " 'filename_metal.00072.wav',\n",
              " 'filename_metal.00073.wav',\n",
              " 'filename_metal.00074.wav',\n",
              " 'filename_metal.00075.wav',\n",
              " 'filename_metal.00076.wav',\n",
              " 'filename_metal.00077.wav',\n",
              " 'filename_metal.00078.wav',\n",
              " 'filename_metal.00079.wav',\n",
              " 'filename_metal.00080.wav',\n",
              " 'filename_metal.00081.wav',\n",
              " 'filename_metal.00082.wav',\n",
              " 'filename_metal.00083.wav',\n",
              " 'filename_metal.00084.wav',\n",
              " 'filename_metal.00085.wav',\n",
              " 'filename_metal.00086.wav',\n",
              " 'filename_metal.00087.wav',\n",
              " 'filename_metal.00088.wav',\n",
              " 'filename_metal.00089.wav',\n",
              " 'filename_metal.00090.wav',\n",
              " 'filename_metal.00091.wav',\n",
              " 'filename_metal.00092.wav',\n",
              " 'filename_metal.00093.wav',\n",
              " 'filename_metal.00094.wav',\n",
              " 'filename_metal.00095.wav',\n",
              " 'filename_metal.00096.wav',\n",
              " 'filename_metal.00097.wav',\n",
              " 'filename_metal.00098.wav',\n",
              " 'filename_metal.00099.wav',\n",
              " 'filename_pop.00000.wav',\n",
              " 'filename_pop.00001.wav',\n",
              " 'filename_pop.00002.wav',\n",
              " 'filename_pop.00003.wav',\n",
              " 'filename_pop.00004.wav',\n",
              " 'filename_pop.00005.wav',\n",
              " 'filename_pop.00006.wav',\n",
              " 'filename_pop.00007.wav',\n",
              " 'filename_pop.00008.wav',\n",
              " 'filename_pop.00009.wav',\n",
              " 'filename_pop.00010.wav',\n",
              " 'filename_pop.00011.wav',\n",
              " 'filename_pop.00012.wav',\n",
              " 'filename_pop.00013.wav',\n",
              " 'filename_pop.00014.wav',\n",
              " 'filename_pop.00015.wav',\n",
              " 'filename_pop.00016.wav',\n",
              " 'filename_pop.00017.wav',\n",
              " 'filename_pop.00018.wav',\n",
              " 'filename_pop.00019.wav',\n",
              " 'filename_pop.00020.wav',\n",
              " 'filename_pop.00021.wav',\n",
              " 'filename_pop.00022.wav',\n",
              " 'filename_pop.00023.wav',\n",
              " 'filename_pop.00024.wav',\n",
              " 'filename_pop.00025.wav',\n",
              " 'filename_pop.00026.wav',\n",
              " 'filename_pop.00027.wav',\n",
              " 'filename_pop.00028.wav',\n",
              " 'filename_pop.00029.wav',\n",
              " 'filename_pop.00030.wav',\n",
              " 'filename_pop.00031.wav',\n",
              " 'filename_pop.00032.wav',\n",
              " 'filename_pop.00033.wav',\n",
              " 'filename_pop.00034.wav',\n",
              " 'filename_pop.00035.wav',\n",
              " 'filename_pop.00036.wav',\n",
              " 'filename_pop.00037.wav',\n",
              " 'filename_pop.00038.wav',\n",
              " 'filename_pop.00039.wav',\n",
              " 'filename_pop.00040.wav',\n",
              " 'filename_pop.00041.wav',\n",
              " 'filename_pop.00042.wav',\n",
              " 'filename_pop.00043.wav',\n",
              " 'filename_pop.00044.wav',\n",
              " 'filename_pop.00045.wav',\n",
              " 'filename_pop.00046.wav',\n",
              " 'filename_pop.00047.wav',\n",
              " 'filename_pop.00048.wav',\n",
              " 'filename_pop.00049.wav',\n",
              " 'filename_pop.00050.wav',\n",
              " 'filename_pop.00051.wav',\n",
              " 'filename_pop.00052.wav',\n",
              " 'filename_pop.00053.wav',\n",
              " 'filename_pop.00054.wav',\n",
              " 'filename_pop.00055.wav',\n",
              " 'filename_pop.00056.wav',\n",
              " 'filename_pop.00057.wav',\n",
              " 'filename_pop.00058.wav',\n",
              " 'filename_pop.00059.wav',\n",
              " 'filename_pop.00060.wav',\n",
              " 'filename_pop.00061.wav',\n",
              " 'filename_pop.00062.wav',\n",
              " 'filename_pop.00063.wav',\n",
              " 'filename_pop.00064.wav',\n",
              " 'filename_pop.00065.wav',\n",
              " 'filename_pop.00066.wav',\n",
              " 'filename_pop.00067.wav',\n",
              " 'filename_pop.00068.wav',\n",
              " 'filename_pop.00069.wav',\n",
              " 'filename_pop.00070.wav',\n",
              " 'filename_pop.00071.wav',\n",
              " 'filename_pop.00072.wav',\n",
              " 'filename_pop.00073.wav',\n",
              " 'filename_pop.00074.wav',\n",
              " 'filename_pop.00075.wav',\n",
              " 'filename_pop.00076.wav',\n",
              " 'filename_pop.00077.wav',\n",
              " 'filename_pop.00078.wav',\n",
              " 'filename_pop.00079.wav',\n",
              " 'filename_pop.00080.wav',\n",
              " 'filename_pop.00081.wav',\n",
              " 'filename_pop.00082.wav',\n",
              " 'filename_pop.00083.wav',\n",
              " 'filename_pop.00084.wav',\n",
              " 'filename_pop.00085.wav',\n",
              " 'filename_pop.00086.wav',\n",
              " 'filename_pop.00087.wav',\n",
              " 'filename_pop.00088.wav',\n",
              " 'filename_pop.00089.wav',\n",
              " 'filename_pop.00090.wav',\n",
              " 'filename_pop.00091.wav',\n",
              " 'filename_pop.00092.wav',\n",
              " 'filename_pop.00093.wav',\n",
              " 'filename_pop.00094.wav',\n",
              " 'filename_pop.00095.wav',\n",
              " 'filename_pop.00096.wav',\n",
              " 'filename_pop.00097.wav',\n",
              " 'filename_pop.00098.wav',\n",
              " 'filename_pop.00099.wav',\n",
              " 'filename_reggae.00000.wav',\n",
              " 'filename_reggae.00001.wav',\n",
              " 'filename_reggae.00002.wav',\n",
              " 'filename_reggae.00003.wav',\n",
              " 'filename_reggae.00004.wav',\n",
              " 'filename_reggae.00005.wav',\n",
              " 'filename_reggae.00006.wav',\n",
              " 'filename_reggae.00007.wav',\n",
              " 'filename_reggae.00008.wav',\n",
              " 'filename_reggae.00009.wav',\n",
              " 'filename_reggae.00010.wav',\n",
              " 'filename_reggae.00011.wav',\n",
              " 'filename_reggae.00012.wav',\n",
              " 'filename_reggae.00013.wav',\n",
              " 'filename_reggae.00014.wav',\n",
              " 'filename_reggae.00015.wav',\n",
              " 'filename_reggae.00016.wav',\n",
              " 'filename_reggae.00017.wav',\n",
              " 'filename_reggae.00018.wav',\n",
              " 'filename_reggae.00019.wav',\n",
              " 'filename_reggae.00020.wav',\n",
              " 'filename_reggae.00021.wav',\n",
              " 'filename_reggae.00022.wav',\n",
              " 'filename_reggae.00023.wav',\n",
              " 'filename_reggae.00024.wav',\n",
              " 'filename_reggae.00025.wav',\n",
              " 'filename_reggae.00026.wav',\n",
              " 'filename_reggae.00027.wav',\n",
              " 'filename_reggae.00028.wav',\n",
              " 'filename_reggae.00029.wav',\n",
              " 'filename_reggae.00030.wav',\n",
              " 'filename_reggae.00031.wav',\n",
              " 'filename_reggae.00032.wav',\n",
              " 'filename_reggae.00033.wav',\n",
              " 'filename_reggae.00034.wav',\n",
              " 'filename_reggae.00035.wav',\n",
              " 'filename_reggae.00036.wav',\n",
              " 'filename_reggae.00037.wav',\n",
              " 'filename_reggae.00038.wav',\n",
              " 'filename_reggae.00039.wav',\n",
              " 'filename_reggae.00040.wav',\n",
              " 'filename_reggae.00041.wav',\n",
              " 'filename_reggae.00042.wav',\n",
              " 'filename_reggae.00043.wav',\n",
              " 'filename_reggae.00044.wav',\n",
              " 'filename_reggae.00045.wav',\n",
              " 'filename_reggae.00046.wav',\n",
              " 'filename_reggae.00047.wav',\n",
              " 'filename_reggae.00048.wav',\n",
              " 'filename_reggae.00049.wav',\n",
              " 'filename_reggae.00050.wav',\n",
              " 'filename_reggae.00051.wav',\n",
              " 'filename_reggae.00052.wav',\n",
              " 'filename_reggae.00053.wav',\n",
              " 'filename_reggae.00054.wav',\n",
              " 'filename_reggae.00055.wav',\n",
              " 'filename_reggae.00056.wav',\n",
              " 'filename_reggae.00057.wav',\n",
              " 'filename_reggae.00058.wav',\n",
              " 'filename_reggae.00059.wav',\n",
              " 'filename_reggae.00060.wav',\n",
              " 'filename_reggae.00061.wav',\n",
              " 'filename_reggae.00062.wav',\n",
              " 'filename_reggae.00063.wav',\n",
              " 'filename_reggae.00064.wav',\n",
              " 'filename_reggae.00065.wav',\n",
              " 'filename_reggae.00066.wav',\n",
              " 'filename_reggae.00067.wav',\n",
              " 'filename_reggae.00068.wav',\n",
              " 'filename_reggae.00069.wav',\n",
              " 'filename_reggae.00070.wav',\n",
              " 'filename_reggae.00071.wav',\n",
              " 'filename_reggae.00072.wav',\n",
              " 'filename_reggae.00073.wav',\n",
              " 'filename_reggae.00074.wav',\n",
              " 'filename_reggae.00075.wav',\n",
              " 'filename_reggae.00076.wav',\n",
              " 'filename_reggae.00077.wav',\n",
              " 'filename_reggae.00078.wav',\n",
              " 'filename_reggae.00079.wav',\n",
              " 'filename_reggae.00080.wav',\n",
              " 'filename_reggae.00081.wav',\n",
              " 'filename_reggae.00082.wav',\n",
              " 'filename_reggae.00083.wav',\n",
              " 'filename_reggae.00084.wav',\n",
              " 'filename_reggae.00085.wav',\n",
              " 'filename_reggae.00086.wav',\n",
              " 'filename_reggae.00087.wav',\n",
              " 'filename_reggae.00088.wav',\n",
              " 'filename_reggae.00089.wav',\n",
              " 'filename_reggae.00090.wav',\n",
              " 'filename_reggae.00091.wav',\n",
              " 'filename_reggae.00092.wav',\n",
              " 'filename_reggae.00093.wav',\n",
              " 'filename_reggae.00094.wav',\n",
              " 'filename_reggae.00095.wav',\n",
              " 'filename_reggae.00096.wav',\n",
              " 'filename_reggae.00097.wav',\n",
              " 'filename_reggae.00098.wav',\n",
              " 'filename_reggae.00099.wav',\n",
              " 'filename_rock.00000.wav',\n",
              " 'filename_rock.00001.wav',\n",
              " 'filename_rock.00002.wav',\n",
              " 'filename_rock.00003.wav',\n",
              " 'filename_rock.00004.wav',\n",
              " 'filename_rock.00005.wav',\n",
              " 'filename_rock.00006.wav',\n",
              " 'filename_rock.00007.wav',\n",
              " 'filename_rock.00008.wav',\n",
              " 'filename_rock.00009.wav',\n",
              " 'filename_rock.00010.wav',\n",
              " 'filename_rock.00011.wav',\n",
              " 'filename_rock.00012.wav',\n",
              " 'filename_rock.00013.wav',\n",
              " 'filename_rock.00014.wav',\n",
              " 'filename_rock.00015.wav',\n",
              " 'filename_rock.00016.wav',\n",
              " 'filename_rock.00017.wav',\n",
              " 'filename_rock.00018.wav',\n",
              " 'filename_rock.00019.wav',\n",
              " 'filename_rock.00020.wav',\n",
              " 'filename_rock.00021.wav',\n",
              " 'filename_rock.00022.wav',\n",
              " 'filename_rock.00023.wav',\n",
              " 'filename_rock.00024.wav',\n",
              " 'filename_rock.00025.wav',\n",
              " 'filename_rock.00026.wav',\n",
              " 'filename_rock.00027.wav',\n",
              " 'filename_rock.00028.wav',\n",
              " 'filename_rock.00029.wav',\n",
              " 'filename_rock.00030.wav',\n",
              " 'filename_rock.00031.wav',\n",
              " 'filename_rock.00032.wav',\n",
              " 'filename_rock.00033.wav',\n",
              " 'filename_rock.00034.wav',\n",
              " 'filename_rock.00035.wav',\n",
              " 'filename_rock.00036.wav',\n",
              " 'filename_rock.00037.wav',\n",
              " 'filename_rock.00038.wav',\n",
              " 'filename_rock.00039.wav',\n",
              " 'filename_rock.00040.wav',\n",
              " 'filename_rock.00041.wav',\n",
              " ...]"
            ]
          },
          "metadata": {
            "tags": []
          },
          "execution_count": 36
        }
      ]
    },
    {
      "cell_type": "code",
      "metadata": {
        "id": "EoiQFGELKhgD",
        "colab_type": "code",
        "colab": {
          "base_uri": "https://localhost:8080/",
          "height": 1000
        },
        "outputId": "5654957f-9e74-44a3-e548-e84aefa3a8f2"
      },
      "source": [
        "X = df[['chroma_stft_mean',\n",
        "'chroma_stft_var',\n",
        "'rms_mean',\n",
        "'rms_var',\n",
        "'spectral_centroid_mean',\n",
        "'spectral_centroid_var',\n",
        "'spectral_bandwidth_mean',\n",
        "'spectral_bandwidth_var',\n",
        "'rolloff_mean',\n",
        "'rolloff_var',\n",
        "'zero_crossing_rate_mean',\n",
        "'zero_crossing_rate_var',\n",
        "'harmony_mean',\n",
        "'harmony_var',\n",
        "'perceptr_mean',\n",
        "'perceptr_var',\n",
        "'tempo',\n",
        "'mfcc1_mean',\n",
        "'mfcc1_var',\n",
        "'mfcc2_mean',\n",
        "'mfcc2_var',\n",
        "'mfcc3_mean',\n",
        "'mfcc3_var',\n",
        "'mfcc4_mean',\n",
        "'mfcc4_var',\n",
        "'mfcc5_mean',\n",
        "'mfcc5_var',\n",
        "'mfcc6_mean',\n",
        "'mfcc6_var',\n",
        "'mfcc7_mean',\n",
        "'mfcc7_var',\n",
        "'mfcc8_mean',\n",
        "'mfcc8_var',\n",
        "'mfcc9_mean',\n",
        "'mfcc9_var',\n",
        "'mfcc10_mean',\n",
        "'mfcc10_var',\n",
        "'mfcc11_mean',\n",
        "'mfcc11_var',\n",
        "'mfcc12_mean',\n",
        "'mfcc12_var',\n",
        "'mfcc13_mean',\n",
        "'mfcc13_var',\n",
        "'mfcc14_mean',\n",
        "'mfcc14_var',\n",
        "'mfcc15_mean',\n",
        "'mfcc15_var',\n",
        "'mfcc16_mean',\n",
        "'mfcc16_var',\n",
        "'mfcc17_mean',\n",
        "'mfcc17_var',\n",
        "'mfcc18_mean',\n",
        "'mfcc18_var',\n",
        "'mfcc19_mean',\n",
        "'mfcc19_var',\n",
        "'mfcc20_mean',\n",
        "'mfcc20_var']].values\n",
        "X[0:5]"
      ],
      "execution_count": 37,
      "outputs": [
        {
          "output_type": "execute_result",
          "data": {
            "text/plain": [
              "array([[ 3.50088120e-01,  8.87565687e-02,  1.30227923e-01,\n",
              "         2.82669649e-03,  1.78416585e+03,  1.29774065e+05,\n",
              "         2.00244906e+03,  8.58827613e+04,  3.80583961e+03,\n",
              "         9.01505426e+05,  8.30448207e-02,  7.66945655e-04,\n",
              "        -4.52972417e-05,  8.17228202e-03,  7.78323192e-06,\n",
              "         5.69818215e-03,  1.23046875e+02, -1.13570648e+02,\n",
              "         2.56420752e+03,  1.21571793e+02,  2.95913818e+02,\n",
              "        -1.91681423e+01,  2.35574432e+02,  4.23664207e+01,\n",
              "         1.51106873e+02, -6.36466408e+00,  1.67934799e+02,\n",
              "         1.86234989e+01,  8.91808395e+01, -1.37048912e+01,\n",
              "         6.76604919e+01,  1.53431501e+01,  6.89325790e+01,\n",
              "        -1.22741098e+01,  8.22042007e+01,  1.09765720e+01,\n",
              "         6.33863106e+01, -8.32657337e+00,  6.17730942e+01,\n",
              "         8.80379200e+00,  5.12441254e+01, -3.67230010e+00,\n",
              "         4.12174149e+01,  5.74799490e+00,  4.05544777e+01,\n",
              "        -5.16288185e+00,  4.97754211e+01,  7.52740204e-01,\n",
              "         5.24209099e+01, -1.69021463e+00,  3.65240707e+01,\n",
              "        -4.08979177e-01,  4.15971031e+01, -2.30352259e+00,\n",
              "         5.50629234e+01,  1.22129071e+00,  4.69360352e+01],\n",
              "       [ 3.40913594e-01,  9.49802548e-02,  9.59478095e-02,\n",
              "         2.37273914e-03,  1.53017668e+03,  3.75850074e+05,\n",
              "         2.03903652e+03,  2.13843755e+05,  3.55052210e+03,\n",
              "         2.97789339e+06,  5.60398087e-02,  1.44752149e-03,\n",
              "         1.39580719e-04,  5.09933243e-03, -1.77608425e-04,\n",
              "         3.06317164e-03,  6.79995888e+01, -2.07501694e+02,\n",
              "         7.76455518e+03,  1.23991264e+02,  5.60259949e+02,\n",
              "         8.95512676e+00,  5.72810913e+02,  3.58776474e+01,\n",
              "         2.64506104e+02,  2.90731978e+00,  2.79932922e+02,\n",
              "         2.15104656e+01,  1.56477097e+02, -8.56043625e+00,\n",
              "         2.00849182e+02,  2.33706856e+01,  1.42555954e+02,\n",
              "        -1.00996609e+01,  1.66108521e+02,  1.19004974e+01,\n",
              "         1.04358612e+02, -5.55563879e+00,  1.05173630e+02,\n",
              "         5.37632704e+00,  9.61972122e+01, -2.23176026e+00,\n",
              "         6.49142914e+01,  4.22013950e+00,  7.31525345e+01,\n",
              "        -6.01214838e+00,  5.24221420e+01,  9.27997768e-01,\n",
              "         5.53564034e+01, -7.31124580e-01,  6.03145294e+01,\n",
              "         2.95072943e-01,  4.81205978e+01, -2.83518016e-01,\n",
              "         5.11061897e+01,  5.31216502e-01,  4.57862816e+01],\n",
              "       [ 3.63637179e-01,  8.52751955e-02,  1.75570413e-01,\n",
              "         2.74591637e-03,  1.55281186e+03,  1.56467643e+05,\n",
              "         1.74770231e+03,  7.62541923e+04,  3.04226023e+03,\n",
              "         7.84034461e+05,  7.62912075e-02,  1.00682908e-03,\n",
              "         2.10557573e-06,  1.63419731e-02, -1.94662407e-05,\n",
              "         7.45762605e-03,  1.61499023e+02, -9.07225952e+01,\n",
              "         3.31904492e+03,  1.40446304e+02,  5.08765045e+02,\n",
              "        -2.90938892e+01,  4.11781219e+02,  3.16843338e+01,\n",
              "         1.44090317e+02, -1.39845037e+01,  1.55493759e+02,\n",
              "         2.57647419e+01,  7.45484009e+01, -1.36648750e+01,\n",
              "         1.06981827e+02,  1.16399336e+01,  1.06574875e+02,\n",
              "        -1.17836428e+01,  6.54479446e+01,  9.71876049e+00,\n",
              "         6.79088593e+01, -1.31338034e+01,  5.77814255e+01,\n",
              "         5.79119921e+00,  6.44802094e+01, -8.90762806e+00,\n",
              "         6.03851509e+01, -1.07700050e+00,  5.77111359e+01,\n",
              "        -9.22927380e+00,  3.65809860e+01,  2.45168996e+00,\n",
              "         4.05987663e+01, -7.72909260e+00,  4.76394272e+01,\n",
              "        -1.81640697e+00,  5.23821411e+01, -3.43972039e+00,\n",
              "         4.66396599e+01, -2.23125839e+00,  3.05730247e+01],\n",
              "       [ 4.04784709e-01,  9.39990357e-02,  1.41093001e-01,\n",
              "         6.34634634e-03,  1.07010661e+03,  1.84355942e+05,\n",
              "         1.59641287e+03,  1.66441495e+05,  2.18474580e+03,\n",
              "         1.49319436e+06,  3.33088626e-02,  4.22758987e-04,\n",
              "         4.58364411e-07,  1.90544873e-02, -1.44831802e-05,\n",
              "         2.71219807e-03,  6.30240091e+01, -1.99544205e+02,\n",
              "         5.50751709e+03,  1.50090897e+02,  4.56505402e+02,\n",
              "         5.66267824e+00,  2.57161163e+02,  2.68590794e+01,\n",
              "         1.58267303e+02,  1.77139926e+00,  2.68034393e+02,\n",
              "         1.42340307e+01,  1.26794128e+02, -4.83200645e+00,\n",
              "         1.55912079e+02,  9.28649426e+00,  8.12737427e+01,\n",
              "        -7.59186447e-01,  9.21140900e+01,  8.13760662e+00,\n",
              "         7.13140793e+01, -3.20065331e+00,  1.10236687e+02,\n",
              "         6.07931900e+00,  4.82519989e+01, -2.48017383e+00,\n",
              "         5.67994003e+01, -1.07930505e+00,  6.22899017e+01,\n",
              "        -2.87078857e+00,  5.16515923e+01,  7.80873835e-01,\n",
              "         4.44277534e+01, -3.31959653e+00,  5.02066727e+01,\n",
              "         6.36965036e-01,  3.73191299e+01, -6.19121194e-01,\n",
              "         3.72597389e+01, -3.40744829e+00,  3.19493389e+01],\n",
              "       [ 3.08526039e-01,  8.78409818e-02,  9.15287137e-02,\n",
              "         2.30339775e-03,  1.83500427e+03,  3.43399939e+05,\n",
              "         1.74817212e+03,  8.84452090e+04,  3.57975763e+03,\n",
              "         1.57297783e+06,  1.01460539e-01,  1.95412470e-03,\n",
              "        -1.75612877e-05,  4.81400033e-03, -1.01127416e-05,\n",
              "         3.09389946e-03,  1.35999178e+02, -1.60337708e+02,\n",
              "         5.19529199e+03,  1.26219635e+02,  8.53784729e+02,\n",
              "        -3.55878105e+01,  3.33792938e+02,  2.21480713e+01,\n",
              "         1.93456100e+02, -3.24785995e+01,  3.36276825e+02,\n",
              "         1.08522940e+01,  1.34831573e+02, -2.33523293e+01,\n",
              "         9.32570953e+01,  4.98433769e-01,  1.24672127e+02,\n",
              "        -1.17934370e+01,  1.30073349e+02,  1.20725584e+00,\n",
              "         9.96755753e+01, -1.30884180e+01,  8.02540665e+01,\n",
              "        -2.81386733e+00,  8.64306259e+01, -6.93338537e+00,\n",
              "         8.95554428e+01, -7.55272532e+00,  7.09433365e+01,\n",
              "        -9.16466618e+00,  7.57934036e+01, -4.52057552e+00,\n",
              "         8.60992355e+01, -5.45403385e+00,  7.52697067e+01,\n",
              "        -9.16874111e-01,  5.36139183e+01, -4.40482712e+00,\n",
              "         6.29108124e+01, -1.17032337e+01,  5.51951599e+01]])"
            ]
          },
          "metadata": {
            "tags": []
          },
          "execution_count": 37
        }
      ]
    },
    {
      "cell_type": "code",
      "metadata": {
        "id": "Ha8_a3qJSFmW",
        "colab_type": "code",
        "colab": {
          "base_uri": "https://localhost:8080/",
          "height": 1000
        },
        "outputId": "6ed38257-1b31-445c-b65e-8ef663a88fca"
      },
      "source": [
        "X = preprocessing.StandardScaler().fit(X).transform(X.astype(float))\n",
        "X[0:5]"
      ],
      "execution_count": 38,
      "outputs": [
        {
          "output_type": "execute_result",
          "data": {
            "text/plain": [
              "array([[-0.35013678,  0.31258717, -0.01068969, -0.06185589, -0.5835852 ,\n",
              "        -0.84831131, -0.45640248, -0.53104201, -0.48647252, -0.66193361,\n",
              "        -0.49204509, -0.73434937,  0.19050282, -0.37499162,  0.37275672,\n",
              "         0.00432643,  0.12536307,  0.30847037, -0.42744458,  0.70309345,\n",
              "        -0.93639809, -0.47269061, -0.81084363,  0.36466458, -0.59684161,\n",
              "        -0.42732103, -0.06423578,  0.33717421, -0.55597237, -0.86315362,\n",
              "        -0.8344325 ,  0.49951802, -0.46959533, -0.63770406, -0.16118663,\n",
              "         0.40925862, -0.49971511, -0.33836791, -0.36147796,  0.64538476,\n",
              "        -0.53441001,  0.18219014, -0.80434978,  0.79228723, -0.70309227,\n",
              "        -0.26555766, -0.38652827, -0.08639575, -0.24611385,  0.50046241,\n",
              "        -0.78026476, -0.23704039, -0.64317667,  0.00672291, -0.30059734,\n",
              "         0.60406407, -0.51298758],\n",
              "       [-0.46248155,  1.11757233, -0.53285232, -0.18682068, -0.93851571,\n",
              "        -0.23419449, -0.38685162,  0.79625194, -0.64868145,  0.79582332,\n",
              "        -1.13809848, -0.50914238,  0.30034631, -0.63882094,  0.20132674,\n",
              "        -0.40124236, -1.82321065, -0.62915912,  1.45049807,  0.78035534,\n",
              "        -0.33410658,  0.82451842,  0.36419697, -0.02490342,  0.3792334 ,\n",
              "         0.33173019,  1.04776764,  0.58113628,  0.42730354, -0.34536782,\n",
              "         1.44733504,  1.26711285,  1.32488508, -0.37508241,  1.96435523,\n",
              "         0.52571972,  0.61623181,  0.0683089 ,  0.77716224,  0.13476998,\n",
              "         0.84412928,  0.41577497, -0.08924642,  0.48707508,  0.24361582,\n",
              "        -0.43990346, -0.30842429, -0.04810196, -0.15917505,  0.71137095,\n",
              "        -0.06930444, -0.05498165, -0.45345621,  0.54480563, -0.40708699,\n",
              "         0.42412706, -0.53842129],\n",
              "       [-0.18422456, -0.13770124,  0.67997762, -0.08409294, -0.90688477,\n",
              "        -0.78169378, -0.94066287, -0.63091574, -0.9715916 , -0.74440573,\n",
              "        -0.65361491, -0.65497038,  0.21866676,  0.32642047,  0.34755938,\n",
              "         0.27513201,  1.48649913,  0.53654201, -0.1548587 ,  1.30582023,\n",
              "        -0.45143359, -0.93052389, -0.19688239, -0.27665836, -0.65723606,\n",
              "        -1.05111943, -0.18775999,  0.94064235, -0.76976917, -0.85912602,\n",
              "        -0.16078562,  0.14541559,  0.44788995, -0.57846732, -0.58567161,\n",
              "         0.25071106, -0.37653618, -1.04390205, -0.46620189,  0.19657655,\n",
              "        -0.12850992, -0.666723  , -0.22592281, -0.57110848, -0.20483106,\n",
              "        -1.10034665, -0.77589229,  0.28482489, -0.5962434 , -0.82751602,\n",
              "        -0.44809053, -0.60098294, -0.32951927, -0.29593404, -0.52729705,\n",
              "        -0.29618888, -0.8749539 ],\n",
              "       [ 0.31963905,  0.9906593 ,  0.15480969,  0.90702875, -1.58142857,\n",
              "        -0.71209466, -1.22825626,  0.30456512, -1.51638972, -0.2465302 ,\n",
              "        -1.68190142, -0.84824299,  0.21768808,  0.55930446,  0.35216717,\n",
              "        -0.45526261, -1.99933712, -0.54972663,  0.63543947,  1.61380456,\n",
              "        -0.57050301,  0.67265151, -0.7356285 , -0.56635329, -0.53520876,\n",
              "         0.23873802,  0.92962991, -0.03375621, -0.00639885,  0.02989604,\n",
              "         0.6774797 , -0.07962084, -0.16879444,  0.75302446,  0.08985985,\n",
              "         0.05140609, -0.28378951,  0.41393884,  0.90999471,  0.23949989,\n",
              "        -0.62616709,  0.37549449, -0.33413042, -0.57156885, -0.0718552 ,\n",
              "         0.20498582, -0.33116299, -0.08024855, -0.48284251,  0.14215346,\n",
              "        -0.37137029,  0.0334272 , -0.76759143,  0.45540867, -0.77974379,\n",
              "        -0.60288066, -0.84450844],\n",
              "       [-0.85907669,  0.19416316, -0.60016501, -0.20590889, -0.51254239,\n",
              "        -0.3151783 , -0.9397698 , -0.50446265, -0.63010747, -0.19051711,\n",
              "        -0.05147735, -0.34150406,  0.20698187, -0.66331824,  0.35620847,\n",
              "        -0.39651288,  0.583851  , -0.15836329,  0.52268916,  0.85151472,\n",
              "         0.33466616, -1.23006137, -0.4686187 , -0.84918918, -0.23232394,\n",
              "        -2.56513911,  1.6071932 , -0.31952864,  0.11103749, -1.83416153,\n",
              "        -0.39591555, -0.91993724,  0.8889885 , -0.57965023,  1.05147892,\n",
              "        -0.82216689,  0.48868172, -1.03724105,  0.12338191, -1.08538378,\n",
              "         0.54462542, -0.34659777,  0.65435243, -1.86473213,  0.17945661,\n",
              "        -1.08708337,  0.38125499, -1.23861562,  0.75131752, -0.32721962,\n",
              "         0.37762   , -0.36837542, -0.29369594, -0.55301626, -0.08938298,\n",
              "        -2.76600855, -0.3302874 ]])"
            ]
          },
          "metadata": {
            "tags": []
          },
          "execution_count": 38
        }
      ]
    },
    {
      "cell_type": "code",
      "metadata": {
        "id": "S3uRpq0zHG5e",
        "colab_type": "code",
        "colab": {
          "base_uri": "https://localhost:8080/",
          "height": 52
        },
        "outputId": "923b0676-3678-41ae-f84b-0c9a200d5aaf"
      },
      "source": [
        "from sklearn.model_selection import train_test_split\n",
        "X_train, X_test, y_train, y_test = train_test_split( X, y, test_size=0.2, random_state=4)\n",
        "print ('Train set:', X_train.shape,  y_train.shape)\n",
        "print ('Test set:', X_test.shape,  y_test.shape)"
      ],
      "execution_count": 39,
      "outputs": [
        {
          "output_type": "stream",
          "text": [
            "Train set: (800, 57) (800,)\n",
            "Test set: (200, 57) (200,)\n"
          ],
          "name": "stdout"
        }
      ]
    },
    {
      "cell_type": "markdown",
      "metadata": {
        "id": "2nZl3V8rdhu3",
        "colab_type": "text"
      },
      "source": [
        "# PCA"
      ]
    },
    {
      "cell_type": "code",
      "metadata": {
        "id": "oIxgeKUkNhba",
        "colab_type": "code",
        "colab": {}
      },
      "source": [
        "from sklearn.decomposition import PCA\n",
        "\n",
        "pca = PCA(n_components=15, whiten=True)\n",
        "pca.fit(X_train)\n",
        "\n",
        "X_train_pca = pca.transform(X_train)\n",
        "X_test_pca = pca.transform(X_test)\n"
      ],
      "execution_count": 40,
      "outputs": []
    },
    {
      "cell_type": "code",
      "metadata": {
        "id": "ITBXO-PtTrta",
        "colab_type": "code",
        "colab": {
          "base_uri": "https://localhost:8080/",
          "height": 277
        },
        "outputId": "3888fc75-ea87-4a6e-de7c-c4bea6d20b20"
      },
      "source": [
        "X_train_pca[0:5]"
      ],
      "execution_count": 41,
      "outputs": [
        {
          "output_type": "execute_result",
          "data": {
            "text/plain": [
              "array([[-0.02343213,  0.90026279, -0.62861083,  0.14047261,  0.74276156,\n",
              "        -1.95167226, -0.28467888, -0.15120571, -0.94848115, -0.62925482,\n",
              "        -0.05424715, -1.34274174,  0.98184042,  1.7614173 ,  0.090553  ],\n",
              "       [-1.01683182, -0.68345264, -0.40458105,  0.26456278,  0.15955992,\n",
              "         0.02274986,  0.48071748, -0.61098199, -1.63942664, -0.21997683,\n",
              "        -0.68425809,  0.04656372, -1.24195892, -0.83692617, -0.93464128],\n",
              "       [-1.50160491, -0.30542136,  0.50945264, -0.61549706, -0.3219358 ,\n",
              "        -0.86116749,  0.33417211,  0.56617162,  1.1077008 ,  0.54170768,\n",
              "        -0.43268543,  0.83628872,  1.49486688,  0.44294984,  0.20169735],\n",
              "       [ 1.57915912, -2.40989424,  0.89730927,  2.26882659,  1.10780421,\n",
              "        -0.12764106, -1.34424966,  2.5997704 ,  0.31602458,  2.77723563,\n",
              "        -1.77285465,  1.61329739, -1.13971169,  2.39174061, -1.30857725],\n",
              "       [-0.20170828, -1.41028735, -1.89301094, -0.51447707,  0.35764039,\n",
              "         1.15198004,  0.21883667, -0.97527661,  1.27949689, -0.82218035,\n",
              "        -1.82257596,  0.05736567, -0.01665461, -0.5254764 ,  0.44372801]])"
            ]
          },
          "metadata": {
            "tags": []
          },
          "execution_count": 41
        }
      ]
    },
    {
      "cell_type": "code",
      "metadata": {
        "id": "FSzjrt2mTwFJ",
        "colab_type": "code",
        "colab": {
          "base_uri": "https://localhost:8080/",
          "height": 277
        },
        "outputId": "64a31f62-4bff-48c9-84c8-9ac6f591ae1f"
      },
      "source": [
        "X_test_pca[0:5]"
      ],
      "execution_count": 42,
      "outputs": [
        {
          "output_type": "execute_result",
          "data": {
            "text/plain": [
              "array([[-0.81041971,  0.46264166,  0.35473304, -0.41655167,  1.21436028,\n",
              "        -0.03994493, -1.06603588, -1.08610519, -0.1581627 , -0.2063303 ,\n",
              "         1.18487991,  0.60268371, -0.32872791,  0.82421085,  1.03974111],\n",
              "       [-0.13040135,  0.11808664, -1.45106451,  1.01949634, -1.50696187,\n",
              "        -0.09781559,  0.61572235,  0.73153155,  0.14937748,  0.39198373,\n",
              "         2.34237706,  1.31196742,  0.20199723, -1.36585224,  0.20886403],\n",
              "       [ 0.51207349, -0.30484772, -0.76391598,  0.59046549, -0.31875896,\n",
              "         0.24802397,  0.56650131, -0.78677437, -0.76837602, -0.43588232,\n",
              "        -1.00775187, -1.99999695,  0.9420348 ,  1.73518487, -1.20131645],\n",
              "       [ 0.33349538,  1.44208055, -0.80884656,  0.79779995, -1.39237862,\n",
              "        -0.56600719,  0.18519924, -0.23627309, -0.2557727 , -1.15870993,\n",
              "        -0.3720107 , -1.1747125 , -0.41038811, -0.03968069,  0.48173655],\n",
              "       [ 0.26511441, -1.2378014 , -1.00144266,  0.80478102,  1.39938176,\n",
              "         0.43808547,  0.89020046, -0.35669808, -1.13871447, -2.01429795,\n",
              "        -0.077475  ,  0.12379236, -0.55440839, -1.29341227,  0.7330028 ]])"
            ]
          },
          "metadata": {
            "tags": []
          },
          "execution_count": 42
        }
      ]
    },
    {
      "cell_type": "markdown",
      "metadata": {
        "id": "1p7P0rbBdmLn",
        "colab_type": "text"
      },
      "source": [
        "# K-Neighbors Classifier"
      ]
    },
    {
      "cell_type": "code",
      "metadata": {
        "id": "A9ott_71Y-V5",
        "colab_type": "code",
        "colab": {}
      },
      "source": [
        "from sklearn.neighbors import KNeighborsClassifier\n",
        "from sklearn import metrics"
      ],
      "execution_count": 18,
      "outputs": []
    },
    {
      "cell_type": "code",
      "metadata": {
        "id": "ZfK7VI5ET30v",
        "colab_type": "code",
        "colab": {
          "base_uri": "https://localhost:8080/",
          "height": 208
        },
        "outputId": "2c159302-97d4-436a-94c2-d3cda0e94d85"
      },
      "source": [
        "# Find the best K\n",
        "Ks = 100\n",
        "mean_acc = np.zeros((Ks-1))\n",
        "std_acc = np.zeros((Ks-1))\n",
        "ConfustionMx = [];\n",
        "for n in range(1,Ks):\n",
        "    \n",
        "    #Train Model and Predict  \n",
        "    neigh = KNeighborsClassifier(n_neighbors = n).fit(X_train_pca,y_train)\n",
        "    yhat=neigh.predict(X_test_pca)\n",
        "    mean_acc[n-1] = metrics.accuracy_score(y_test, yhat)\n",
        "    \n",
        "    std_acc[n-1]=np.std(yhat==y_test)/np.sqrt(yhat.shape[0])\n",
        "\n",
        "mean_acc"
      ],
      "execution_count": 19,
      "outputs": [
        {
          "output_type": "execute_result",
          "data": {
            "text/plain": [
              "array([0.59 , 0.525, 0.565, 0.555, 0.59 , 0.58 , 0.58 , 0.58 , 0.6  ,\n",
              "       0.63 , 0.62 , 0.575, 0.625, 0.585, 0.59 , 0.615, 0.64 , 0.64 ,\n",
              "       0.655, 0.615, 0.61 , 0.625, 0.615, 0.61 , 0.595, 0.59 , 0.59 ,\n",
              "       0.6  , 0.58 , 0.585, 0.585, 0.58 , 0.58 , 0.585, 0.58 , 0.56 ,\n",
              "       0.555, 0.55 , 0.545, 0.56 , 0.54 , 0.54 , 0.55 , 0.54 , 0.565,\n",
              "       0.555, 0.55 , 0.555, 0.565, 0.56 , 0.555, 0.545, 0.545, 0.56 ,\n",
              "       0.555, 0.565, 0.56 , 0.555, 0.555, 0.555, 0.54 , 0.54 , 0.55 ,\n",
              "       0.545, 0.54 , 0.535, 0.535, 0.53 , 0.525, 0.525, 0.525, 0.535,\n",
              "       0.535, 0.54 , 0.545, 0.55 , 0.535, 0.52 , 0.53 , 0.53 , 0.535,\n",
              "       0.535, 0.55 , 0.555, 0.545, 0.535, 0.53 , 0.54 , 0.535, 0.535,\n",
              "       0.53 , 0.535, 0.535, 0.535, 0.54 , 0.54 , 0.53 , 0.525, 0.535])"
            ]
          },
          "metadata": {
            "tags": []
          },
          "execution_count": 19
        }
      ]
    },
    {
      "cell_type": "code",
      "metadata": {
        "id": "1H1W97a7ZFZS",
        "colab_type": "code",
        "colab": {
          "base_uri": "https://localhost:8080/",
          "height": 297
        },
        "outputId": "3e89141f-c58a-4853-da58-297c40bbef70"
      },
      "source": [
        "plt.plot(range(1,Ks),mean_acc,'g')\n",
        "plt.fill_between(range(1,Ks),mean_acc - 1 * std_acc,mean_acc + 1 * std_acc, alpha=0.10)\n",
        "plt.legend(('Accuracy ', '+/- 3xstd'))\n",
        "plt.ylabel('Accuracy ')\n",
        "plt.xlabel('Number of Nabors (K)')\n",
        "plt.tight_layout()\n",
        "plt.show()"
      ],
      "execution_count": 20,
      "outputs": [
        {
          "output_type": "display_data",
          "data": {
            "image/png": "[encoded data removed]",
            "text/plain": [
              "<Figure size 432x288 with 1 Axes>"
            ]
          },
          "metadata": {
            "tags": [],
            "needs_background": "light"
          }
        }
      ]
    },
    {
      "cell_type": "code",
      "metadata": {
        "id": "jPUIct4jZYFL",
        "colab_type": "code",
        "colab": {
          "base_uri": "https://localhost:8080/",
          "height": 35
        },
        "outputId": "d29ed9fd-4886-40eb-b00a-c23cb2d00691"
      },
      "source": [
        "print( \"The best accuracy was with\", mean_acc.max(), \"with k=\", mean_acc.argmax()+1) "
      ],
      "execution_count": 21,
      "outputs": [
        {
          "output_type": "stream",
          "text": [
            "The best accuracy was with 0.655 with k= 19\n"
          ],
          "name": "stdout"
        }
      ]
    },
    {
      "cell_type": "markdown",
      "metadata": {
        "id": "-LSHwy014rAe",
        "colab_type": "text"
      },
      "source": [
        "# K-Neighbors Classifier (Without PCA)"
      ]
    },
    {
      "cell_type": "code",
      "metadata": {
        "id": "NwH3T2-84wf6",
        "colab_type": "code",
        "colab": {
          "base_uri": "https://localhost:8080/",
          "height": 208
        },
        "outputId": "e6cfb067-cba3-455d-a37b-0728d5bac61c"
      },
      "source": [
        "Ks = 100\n",
        "mean_acc = np.zeros((Ks-1))\n",
        "std_acc = np.zeros((Ks-1))\n",
        "ConfustionMx = [];\n",
        "for n in range(1,Ks):\n",
        "    \n",
        "    #Train Model and Predict  \n",
        "    neigh = KNeighborsClassifier(n_neighbors = n).fit(X_train,y_train)\n",
        "    yhat=neigh.predict(X_test)\n",
        "    mean_acc[n-1] = metrics.accuracy_score(y_test, yhat)\n",
        "    \n",
        "    std_acc[n-1]=np.std(yhat==y_test)/np.sqrt(yhat.shape[0])\n",
        "\n",
        "mean_acc"
      ],
      "execution_count": 22,
      "outputs": [
        {
          "output_type": "execute_result",
          "data": {
            "text/plain": [
              "array([0.625, 0.605, 0.615, 0.625, 0.63 , 0.615, 0.625, 0.645, 0.65 ,\n",
              "       0.62 , 0.655, 0.63 , 0.635, 0.63 , 0.635, 0.61 , 0.62 , 0.61 ,\n",
              "       0.64 , 0.64 , 0.635, 0.605, 0.595, 0.595, 0.59 , 0.58 , 0.57 ,\n",
              "       0.58 , 0.585, 0.595, 0.59 , 0.585, 0.585, 0.58 , 0.57 , 0.58 ,\n",
              "       0.57 , 0.58 , 0.565, 0.565, 0.565, 0.565, 0.575, 0.575, 0.57 ,\n",
              "       0.56 , 0.565, 0.56 , 0.565, 0.565, 0.545, 0.53 , 0.53 , 0.535,\n",
              "       0.535, 0.535, 0.53 , 0.53 , 0.52 , 0.52 , 0.52 , 0.515, 0.525,\n",
              "       0.525, 0.53 , 0.52 , 0.51 , 0.515, 0.515, 0.52 , 0.52 , 0.525,\n",
              "       0.51 , 0.49 , 0.495, 0.495, 0.495, 0.495, 0.49 , 0.495, 0.505,\n",
              "       0.515, 0.51 , 0.505, 0.5  , 0.495, 0.49 , 0.485, 0.49 , 0.49 ,\n",
              "       0.495, 0.495, 0.49 , 0.485, 0.49 , 0.485, 0.48 , 0.485, 0.485])"
            ]
          },
          "metadata": {
            "tags": []
          },
          "execution_count": 22
        }
      ]
    },
    {
      "cell_type": "code",
      "metadata": {
        "id": "HN-P4Fzd49LY",
        "colab_type": "code",
        "colab": {
          "base_uri": "https://localhost:8080/",
          "height": 297
        },
        "outputId": "acdddc35-b707-4a6a-c76f-70c9fcaeb4ee"
      },
      "source": [
        "plt.plot(range(1,Ks),mean_acc,'g')\n",
        "plt.fill_between(range(1,Ks),mean_acc - 1 * std_acc,mean_acc + 1 * std_acc, alpha=0.10)\n",
        "plt.legend(('Accuracy ', '+/- 3xstd'))\n",
        "plt.ylabel('Accuracy ')\n",
        "plt.xlabel('Number of Nabors (K)')\n",
        "plt.tight_layout()\n",
        "plt.show()"
      ],
      "execution_count": 23,
      "outputs": [
        {
          "output_type": "display_data",
          "data": {
            "image/png": "[encoded data removed]",
            "text/plain": [
              "<Figure size 432x288 with 1 Axes>"
            ]
          },
          "metadata": {
            "tags": [],
            "needs_background": "light"
          }
        }
      ]
    },
    {
      "cell_type": "code",
      "metadata": {
        "id": "nUlSOAIp5BgI",
        "colab_type": "code",
        "colab": {
          "base_uri": "https://localhost:8080/",
          "height": 35
        },
        "outputId": "0deb6bda-f17f-4397-d0e5-a84cfa48afa9"
      },
      "source": [
        "print( \"The best accuracy was with\", mean_acc.max(), \"with k=\", mean_acc.argmax()+1) "
      ],
      "execution_count": 24,
      "outputs": [
        {
          "output_type": "stream",
          "text": [
            "The best accuracy was with 0.655 with k= 11\n"
          ],
          "name": "stdout"
        }
      ]
    },
    {
      "cell_type": "markdown",
      "metadata": {
        "id": "r_whjJSedxGb",
        "colab_type": "text"
      },
      "source": [
        "# Support Vector Machine"
      ]
    },
    {
      "cell_type": "code",
      "metadata": {
        "id": "Vzczzba-d1R5",
        "colab_type": "code",
        "colab": {
          "base_uri": "https://localhost:8080/",
          "height": 35
        },
        "outputId": "ade14e7b-0a86-4c3e-f547-a928dae2369b"
      },
      "source": [
        "from sklearn import svm\n",
        "clf = svm.SVC(kernel='rbf')\n",
        "clf.fit(X_train_pca, y_train)\n",
        "\n",
        "yhat = clf.predict(X_test_pca)\n",
        "yhat [0:5]"
      ],
      "execution_count": 56,
      "outputs": [
        {
          "output_type": "execute_result",
          "data": {
            "text/plain": [
              "array([6, 5, 2, 7, 5])"
            ]
          },
          "metadata": {
            "tags": []
          },
          "execution_count": 56
        }
      ]
    },
    {
      "cell_type": "code",
      "metadata": {
        "id": "WuTsp60kpRxB",
        "colab_type": "code",
        "colab": {}
      },
      "source": [
        "from sklearn.metrics import classification_report, confusion_matrix\n",
        "import itertools"
      ],
      "execution_count": 57,
      "outputs": []
    },
    {
      "cell_type": "code",
      "metadata": {
        "id": "R1Fx3jqyovIb",
        "colab_type": "code",
        "colab": {}
      },
      "source": [
        "def plot_confusion_matrix(cm, classes,\n",
        "                          normalize=False,\n",
        "                          title='Confusion matrix',\n",
        "                          cmap=plt.cm.Blues):\n",
        "    \"\"\"\n",
        "    This function prints and plots the confusion matrix.\n",
        "    Normalization can be applied by setting `normalize=True`.\n",
        "    \"\"\"\n",
        "    if normalize:\n",
        "        cm = cm.astype('float') / cm.sum(axis=1)[:, np.newaxis]\n",
        "        print(\"Normalized confusion matrix\")\n",
        "    else:\n",
        "        print('Confusion matrix, without normalization')\n",
        "\n",
        "    print(cm)\n",
        "\n",
        "    plt.imshow(cm, interpolation='nearest', cmap=cmap)\n",
        "    plt.title(title)\n",
        "    plt.colorbar()\n",
        "    tick_marks = np.arange(len(classes))\n",
        "    plt.xticks(tick_marks, classes, rotation=45)\n",
        "    plt.yticks(tick_marks, classes)\n",
        "\n",
        "    fmt = '.2f' if normalize else 'd'\n",
        "    thresh = cm.max() / 2.\n",
        "    for i, j in itertools.product(range(cm.shape[0]), range(cm.shape[1])):\n",
        "        plt.text(j, i, format(cm[i, j], fmt),\n",
        "                 horizontalalignment=\"center\",\n",
        "                 color=\"white\" if cm[i, j] > thresh else \"black\")\n",
        "\n",
        "    plt.tight_layout()\n",
        "    plt.ylabel('True label')\n",
        "    plt.xlabel('Predicted label')"
      ],
      "execution_count": 58,
      "outputs": []
    },
    {
      "cell_type": "code",
      "metadata": {
        "id": "o55CYIo5pH8L",
        "colab_type": "code",
        "colab": {
          "base_uri": "https://localhost:8080/",
          "height": 797
        },
        "outputId": "ee0bba43-c8e5-4a8c-d2cd-1977a88b7fc1"
      },
      "source": [
        "# Compute confusion matrix\n",
        "cnf_matrix = confusion_matrix(y_test, yhat)\n",
        "np.set_printoptions(precision=2)\n",
        "\n",
        "print (classification_report(y_test, yhat))\n",
        "\n",
        "# Plot non-normalized confusion matrix\n",
        "plt.figure()\n",
        "plot_confusion_matrix(cnf_matrix, classes=[\"blues\", \"classical\", \"country\", \"disco\", \"hiphop\", \"jazz\", \"metal\", \"pop\", \"reggae\", \"rock\"],normalize= False,  title='Confusion matrix')"
      ],
      "execution_count": 59,
      "outputs": [
        {
          "output_type": "stream",
          "text": [
            "              precision    recall  f1-score   support\n",
            "\n",
            "           0       0.57      0.42      0.48        19\n",
            "           1       0.90      0.86      0.88        21\n",
            "           2       0.72      0.57      0.63        23\n",
            "           3       0.38      0.42      0.40        19\n",
            "           4       0.46      0.72      0.57        18\n",
            "           5       0.75      0.82      0.78        22\n",
            "           6       0.89      0.89      0.89        18\n",
            "           7       0.80      0.67      0.73        24\n",
            "           8       0.47      0.50      0.48        16\n",
            "           9       0.35      0.35      0.35        20\n",
            "\n",
            "    accuracy                           0.62       200\n",
            "   macro avg       0.63      0.62      0.62       200\n",
            "weighted avg       0.64      0.62      0.63       200\n",
            "\n",
            "Confusion matrix, without normalization\n",
            "[[ 8  0  0  2  1  0  0  0  2  6]\n",
            " [ 0 18  0  0  0  3  0  0  0  0]\n",
            " [ 1  0 13  4  0  1  0  1  1  2]\n",
            " [ 0  0  0  8  5  0  1  1  0  4]\n",
            " [ 0  0  0  0 13  0  0  1  4  0]\n",
            " [ 2  1  0  0  0 18  0  0  0  1]\n",
            " [ 0  0  0  1  1  0 16  0  0  0]\n",
            " [ 0  1  2  1  2  1  0 16  1  0]\n",
            " [ 1  0  1  0  6  0  0  0  8  0]\n",
            " [ 2  0  2  5  0  1  1  1  1  7]]\n"
          ],
          "name": "stdout"
        },
        {
          "output_type": "display_data",
          "data": {
            "image/png": "[encoded data removed]",
            "text/plain": [
              "<Figure size 432x288 with 2 Axes>"
            ]
          },
          "metadata": {
            "tags": [],
            "needs_background": "light"
          }
        }
      ]
    },
    {
      "cell_type": "markdown",
      "metadata": {
        "id": "P3l_kjBZTzAl",
        "colab_type": "text"
      },
      "source": [
        "# Support Vector Machine (Without PCA)\n"
      ]
    },
    {
      "cell_type": "code",
      "metadata": {
        "id": "oYggExzfT79Y",
        "colab_type": "code",
        "colab": {
          "base_uri": "https://localhost:8080/",
          "height": 35
        },
        "outputId": "10256e25-4b0c-41a5-e5fe-bd692b686902"
      },
      "source": [
        "from sklearn import svm\n",
        "clf = svm.SVC(kernel='rbf')\n",
        "clf.fit(X_train, y_train)\n",
        "\n",
        "yhat = clf.predict(X_test)\n",
        "yhat [0:5]"
      ],
      "execution_count": 60,
      "outputs": [
        {
          "output_type": "execute_result",
          "data": {
            "text/plain": [
              "array([6, 5, 2, 7, 5])"
            ]
          },
          "metadata": {
            "tags": []
          },
          "execution_count": 60
        }
      ]
    },
    {
      "cell_type": "code",
      "metadata": {
        "id": "X645jBnVUCRt",
        "colab_type": "code",
        "colab": {
          "base_uri": "https://localhost:8080/",
          "height": 797
        },
        "outputId": "ab050353-1f39-4fd8-b5d0-e2e29566a748"
      },
      "source": [
        "# Compute confusion matrix\n",
        "cnf_matrix = confusion_matrix(y_test, yhat)\n",
        "np.set_printoptions(precision=2)\n",
        "\n",
        "print (classification_report(y_test, yhat))\n",
        "\n",
        "# Plot non-normalized confusion matrix\n",
        "plt.figure()\n",
        "plot_confusion_matrix(cnf_matrix, classes=[\"blues\", \"classical\", \"country\", \"disco\", \"hiphop\", \"jazz\", \"metal\", \"pop\", \"reggae\", \"rock\"],normalize= False,  title='Confusion matrix')"
      ],
      "execution_count": 61,
      "outputs": [
        {
          "output_type": "stream",
          "text": [
            "              precision    recall  f1-score   support\n",
            "\n",
            "           0       0.92      0.63      0.75        19\n",
            "           1       0.95      1.00      0.98        21\n",
            "           2       0.74      0.61      0.67        23\n",
            "           3       0.48      0.58      0.52        19\n",
            "           4       0.58      0.78      0.67        18\n",
            "           5       0.87      0.91      0.89        22\n",
            "           6       0.82      1.00      0.90        18\n",
            "           7       0.95      0.75      0.84        24\n",
            "           8       0.57      0.50      0.53        16\n",
            "           9       0.48      0.50      0.49        20\n",
            "\n",
            "    accuracy                           0.73       200\n",
            "   macro avg       0.74      0.73      0.72       200\n",
            "weighted avg       0.75      0.73      0.73       200\n",
            "\n",
            "Confusion matrix, without normalization\n",
            "[[12  0  0  2  0  0  0  0  0  5]\n",
            " [ 0 21  0  0  0  0  0  0  0  0]\n",
            " [ 0  0 14  4  0  1  0  1  0  3]\n",
            " [ 0  0  0 11  5  0  0  0  0  3]\n",
            " [ 0  0  0  0 14  0  0  0  4  0]\n",
            " [ 0  1  0  1  0 20  0  0  0  0]\n",
            " [ 0  0  0  0  0  0 18  0  0  0]\n",
            " [ 0  0  1  2  1  1  0 18  1  0]\n",
            " [ 0  0  1  1  4  0  2  0  8  0]\n",
            " [ 1  0  3  2  0  1  2  0  1 10]]\n"
          ],
          "name": "stdout"
        },
        {
          "output_type": "display_data",
          "data": {
            "image/png": "[encoded data removed]",
            "text/plain": [
              "<Figure size 432x288 with 2 Axes>"
            ]
          },
          "metadata": {
            "tags": [],
            "needs_background": "light"
          }
        }
      ]
    },
    {
      "cell_type": "markdown",
      "metadata": {
        "id": "8rnd3nv2bLSg",
        "colab_type": "text"
      },
      "source": [
        "# Support Vector Machine (Find the best C and Gamma)"
      ]
    },
    {
      "cell_type": "code",
      "metadata": {
        "id": "Pz3yr6MNbRLp",
        "colab_type": "code",
        "colab": {
          "base_uri": "https://localhost:8080/",
          "height": 1000
        },
        "outputId": "41a98290-9d6f-42c3-be37-6d876569f153"
      },
      "source": [
        "from sklearn.model_selection import RandomizedSearchCV\n",
        "from scipy.stats import reciprocal, uniform\n",
        "from sklearn.model_selection import RandomizedSearchCV\n",
        "from scipy.stats import reciprocal, uniform\n",
        "from sklearn.svm import SVC\n",
        "\n",
        "svm_clf = SVC(gamma=\"scale\")\n",
        "svm_clf.fit(X_train_pca, y_train)\n",
        "\n",
        "param_distributions = {\"gamma\": reciprocal(0.001, 1), \"C\": uniform(1, 100)}\n",
        "rnd_search_cv = RandomizedSearchCV(svm_clf, param_distributions, n_iter=10, verbose=2, cv=3)\n",
        "rnd_search_cv.fit(X_train_pca, y_train)\n",
        "\n",
        "rnd_search_cv.best_estimator_\n",
        "rnd_search_cv.best_score_"
      ],
      "execution_count": 70,
      "outputs": [
        {
          "output_type": "stream",
          "text": [
            "Fitting 3 folds for each of 10 candidates, totalling 30 fits\n",
            "[CV] C=52.31349325280503, gamma=0.12178378384070916 ..................\n",
            "[CV] ... C=52.31349325280503, gamma=0.12178378384070916, total=   0.0s\n",
            "[CV] C=52.31349325280503, gamma=0.12178378384070916 ..................\n",
            "[CV] ... C=52.31349325280503, gamma=0.12178378384070916, total=   0.0s\n",
            "[CV] C=52.31349325280503, gamma=0.12178378384070916 ..................\n",
            "[CV] ... C=52.31349325280503, gamma=0.12178378384070916, total=   0.0s\n",
            "[CV] C=81.96233935016303, gamma=0.0020482401000783907 ................\n",
            "[CV] . C=81.96233935016303, gamma=0.0020482401000783907, total=   0.0s\n",
            "[CV] C=81.96233935016303, gamma=0.0020482401000783907 ................\n",
            "[CV] . C=81.96233935016303, gamma=0.0020482401000783907, total=   0.0s\n",
            "[CV] C=81.96233935016303, gamma=0.0020482401000783907 ................\n",
            "[CV] . C=81.96233935016303, gamma=0.0020482401000783907, total=   0.0s\n",
            "[CV] C=16.729747048326324, gamma=0.013676674245280488 ................\n"
          ],
          "name": "stdout"
        },
        {
          "output_type": "stream",
          "text": [
            "[Parallel(n_jobs=1)]: Using backend SequentialBackend with 1 concurrent workers.\n",
            "[Parallel(n_jobs=1)]: Done   1 out of   1 | elapsed:    0.0s remaining:    0.0s\n"
          ],
          "name": "stderr"
        },
        {
          "output_type": "stream",
          "text": [
            "[CV] . C=16.729747048326324, gamma=0.013676674245280488, total=   0.0s\n",
            "[CV] C=16.729747048326324, gamma=0.013676674245280488 ................\n",
            "[CV] . C=16.729747048326324, gamma=0.013676674245280488, total=   0.0s\n",
            "[CV] C=16.729747048326324, gamma=0.013676674245280488 ................\n",
            "[CV] . C=16.729747048326324, gamma=0.013676674245280488, total=   0.0s\n",
            "[CV] C=36.54466135300329, gamma=0.0057175570266921735 ................\n",
            "[CV] . C=36.54466135300329, gamma=0.0057175570266921735, total=   0.0s\n",
            "[CV] C=36.54466135300329, gamma=0.0057175570266921735 ................\n",
            "[CV] . C=36.54466135300329, gamma=0.0057175570266921735, total=   0.0s\n",
            "[CV] C=36.54466135300329, gamma=0.0057175570266921735 ................\n",
            "[CV] . C=36.54466135300329, gamma=0.0057175570266921735, total=   0.0s\n",
            "[CV] C=52.93610977391964, gamma=0.009389723867099332 .................\n",
            "[CV] .. C=52.93610977391964, gamma=0.009389723867099332, total=   0.0s\n",
            "[CV] C=52.93610977391964, gamma=0.009389723867099332 .................\n",
            "[CV] .. C=52.93610977391964, gamma=0.009389723867099332, total=   0.0s\n",
            "[CV] C=52.93610977391964, gamma=0.009389723867099332 .................\n",
            "[CV] .. C=52.93610977391964, gamma=0.009389723867099332, total=   0.0s\n",
            "[CV] C=83.33410105113921, gamma=0.10620753514752804 ..................\n",
            "[CV] ... C=83.33410105113921, gamma=0.10620753514752804, total=   0.0s\n",
            "[CV] C=83.33410105113921, gamma=0.10620753514752804 ..................\n",
            "[CV] ... C=83.33410105113921, gamma=0.10620753514752804, total=   0.0s\n",
            "[CV] C=83.33410105113921, gamma=0.10620753514752804 ..................\n",
            "[CV] ... C=83.33410105113921, gamma=0.10620753514752804, total=   0.0s\n",
            "[CV] C=54.983501535444944, gamma=0.008142945426803876 ................\n",
            "[CV] . C=54.983501535444944, gamma=0.008142945426803876, total=   0.0s\n",
            "[CV] C=54.983501535444944, gamma=0.008142945426803876 ................\n",
            "[CV] . C=54.983501535444944, gamma=0.008142945426803876, total=   0.0s\n",
            "[CV] C=54.983501535444944, gamma=0.008142945426803876 ................\n",
            "[CV] . C=54.983501535444944, gamma=0.008142945426803876, total=   0.0s\n",
            "[CV] C=84.43433715251982, gamma=0.6807429217428328 ...................\n",
            "[CV] .... C=84.43433715251982, gamma=0.6807429217428328, total=   0.0s\n",
            "[CV] C=84.43433715251982, gamma=0.6807429217428328 ...................\n",
            "[CV] .... C=84.43433715251982, gamma=0.6807429217428328, total=   0.0s\n",
            "[CV] C=84.43433715251982, gamma=0.6807429217428328 ...................\n",
            "[CV] .... C=84.43433715251982, gamma=0.6807429217428328, total=   0.0s\n",
            "[CV] C=40.92839776477819, gamma=0.019485020573711855 .................\n",
            "[CV] .. C=40.92839776477819, gamma=0.019485020573711855, total=   0.0s\n",
            "[CV] C=40.92839776477819, gamma=0.019485020573711855 .................\n",
            "[CV] .. C=40.92839776477819, gamma=0.019485020573711855, total=   0.0s\n",
            "[CV] C=40.92839776477819, gamma=0.019485020573711855 .................\n",
            "[CV] .. C=40.92839776477819, gamma=0.019485020573711855, total=   0.0s\n",
            "[CV] C=5.607371822416928, gamma=0.019895856038940795 .................\n",
            "[CV] .. C=5.607371822416928, gamma=0.019895856038940795, total=   0.0s\n",
            "[CV] C=5.607371822416928, gamma=0.019895856038940795 .................\n",
            "[CV] .. C=5.607371822416928, gamma=0.019895856038940795, total=   0.0s\n",
            "[CV] C=5.607371822416928, gamma=0.019895856038940795 .................\n",
            "[CV] .. C=5.607371822416928, gamma=0.019895856038940795, total=   0.0s\n"
          ],
          "name": "stdout"
        },
        {
          "output_type": "stream",
          "text": [
            "[Parallel(n_jobs=1)]: Done  30 out of  30 | elapsed:    0.9s finished\n"
          ],
          "name": "stderr"
        },
        {
          "output_type": "execute_result",
          "data": {
            "text/plain": [
              "0.658748932255733"
            ]
          },
          "metadata": {
            "tags": []
          },
          "execution_count": 70
        }
      ]
    },
    {
      "cell_type": "code",
      "metadata": {
        "id": "hZ-iJnHscbBF",
        "colab_type": "code",
        "colab": {
          "base_uri": "https://localhost:8080/",
          "height": 87
        },
        "outputId": "557910f7-d964-4243-a5bd-4be3a750cad3"
      },
      "source": [
        "rnd_search_cv.best_estimator_.fit(X_train_pca, y_train)"
      ],
      "execution_count": 71,
      "outputs": [
        {
          "output_type": "execute_result",
          "data": {
            "text/plain": [
              "SVC(C=5.607371822416928, break_ties=False, cache_size=200, class_weight=None,\n",
              "    coef0=0.0, decision_function_shape='ovr', degree=3,\n",
              "    gamma=0.019895856038940795, kernel='rbf', max_iter=-1, probability=False,\n",
              "    random_state=None, shrinking=True, tol=0.001, verbose=False)"
            ]
          },
          "metadata": {
            "tags": []
          },
          "execution_count": 71
        }
      ]
    },
    {
      "cell_type": "code",
      "metadata": {
        "id": "NjfO46KrcsPm",
        "colab_type": "code",
        "colab": {
          "base_uri": "https://localhost:8080/",
          "height": 35
        },
        "outputId": "3855226b-165f-4e6e-9128-955a1a49e9e2"
      },
      "source": [
        "from sklearn.metrics import classification_report, confusion_matrix, accuracy_score\n",
        "y_hat = rnd_search_cv.best_estimator_.predict(X_train_pca)\n",
        "accuracy_score(y_train, y_hat)"
      ],
      "execution_count": 72,
      "outputs": [
        {
          "output_type": "execute_result",
          "data": {
            "text/plain": [
              "0.82625"
            ]
          },
          "metadata": {
            "tags": []
          },
          "execution_count": 72
        }
      ]
    },
    {
      "cell_type": "code",
      "metadata": {
        "id": "I0SM2uO8eTTp",
        "colab_type": "code",
        "colab": {
          "base_uri": "https://localhost:8080/",
          "height": 35
        },
        "outputId": "b3c02025-132b-4c21-86af-6058e98867c9"
      },
      "source": [
        "y_hat = rnd_search_cv.best_estimator_.predict(X_test_pca)\n",
        "accuracy_score(y_test, y_hat)"
      ],
      "execution_count": 73,
      "outputs": [
        {
          "output_type": "execute_result",
          "data": {
            "text/plain": [
              "0.665"
            ]
          },
          "metadata": {
            "tags": []
          },
          "execution_count": 73
        }
      ]
    },
    {
      "cell_type": "code",
      "metadata": {
        "id": "n_mEymryuYJn",
        "colab_type": "code",
        "colab": {
          "base_uri": "https://localhost:8080/",
          "height": 797
        },
        "outputId": "25babca2-dea3-467d-af04-f6556dc36a99"
      },
      "source": [
        "# Compute confusion matrix\n",
        "cnf_matrix = confusion_matrix(y_test, y_hat)\n",
        "np.set_printoptions(precision=2)\n",
        "\n",
        "print (classification_report(y_test, y_hat))\n",
        "\n",
        "# Plot non-normalized confusion matrix\n",
        "plt.figure()\n",
        "plot_confusion_matrix(cnf_matrix, classes=[\"blues\", \"classical\", \"country\", \"disco\", \"hiphop\", \"jazz\", \"metal\", \"pop\", \"reggae\", \"rock\"],normalize= False,  title='Confusion matrix')"
      ],
      "execution_count": 74,
      "outputs": [
        {
          "output_type": "stream",
          "text": [
            "              precision    recall  f1-score   support\n",
            "\n",
            "           0       0.67      0.53      0.59        19\n",
            "           1       1.00      0.95      0.98        21\n",
            "           2       0.67      0.52      0.59        23\n",
            "           3       0.38      0.53      0.44        19\n",
            "           4       0.54      0.83      0.65        18\n",
            "           5       0.79      0.86      0.83        22\n",
            "           6       0.89      0.94      0.92        18\n",
            "           7       0.94      0.62      0.75        24\n",
            "           8       0.44      0.44      0.44        16\n",
            "           9       0.44      0.40      0.42        20\n",
            "\n",
            "    accuracy                           0.67       200\n",
            "   macro avg       0.68      0.66      0.66       200\n",
            "weighted avg       0.69      0.67      0.67       200\n",
            "\n",
            "Confusion matrix, without normalization\n",
            "[[10  0  1  2  0  0  0  0  2  4]\n",
            " [ 0 20  0  0  0  1  0  0  0  0]\n",
            " [ 1  0 12  3  0  2  0  1  2  2]\n",
            " [ 0  0  1 10  4  0  1  0  0  3]\n",
            " [ 0  0  0  0 15  0  0  0  3  0]\n",
            " [ 1  0  0  0  0 19  0  0  1  1]\n",
            " [ 0  0  0  1  0  0 17  0  0  0]\n",
            " [ 0  0  1  2  3  2  0 15  1  0]\n",
            " [ 1  0  1  1  6  0  0  0  7  0]\n",
            " [ 2  0  2  7  0  0  1  0  0  8]]\n"
          ],
          "name": "stdout"
        },
        {
          "output_type": "display_data",
          "data": {
            "image/png": "[encoded data removed]",
            "text/plain": [
              "<Figure size 432x288 with 2 Axes>"
            ]
          },
          "metadata": {
            "tags": [],
            "needs_background": "light"
          }
        }
      ]
    },
    {
      "cell_type": "markdown",
      "metadata": {
        "id": "0fyi1WzIreyP",
        "colab_type": "text"
      },
      "source": [
        "# Support Vector Machine (Find the best C and Gamma) - Without PCA"
      ]
    },
    {
      "cell_type": "code",
      "metadata": {
        "id": "eg_vl-RQrfrJ",
        "colab_type": "code",
        "colab": {
          "base_uri": "https://localhost:8080/",
          "height": 1000
        },
        "outputId": "3e47ac4c-67fd-4a54-9342-ac0a658d66f1"
      },
      "source": [
        "svm_clf = SVC(gamma=\"scale\")\n",
        "svm_clf.fit(X_train, y_train)\n",
        "\n",
        "param_distributions = {\"gamma\": reciprocal(0.001, 1), \"C\": uniform(1, 100)}\n",
        "rnd_search_cv = RandomizedSearchCV(svm_clf, param_distributions, n_iter=10, verbose=2, cv=3)\n",
        "rnd_search_cv.fit(X_train, y_train)\n",
        "\n",
        "rnd_search_cv.best_estimator_\n",
        "rnd_search_cv.best_score_"
      ],
      "execution_count": 75,
      "outputs": [
        {
          "output_type": "stream",
          "text": [
            "Fitting 3 folds for each of 10 candidates, totalling 30 fits\n",
            "[CV] C=62.24529113221927, gamma=0.012654917192903577 .................\n",
            "[CV] .. C=62.24529113221927, gamma=0.012654917192903577, total=   0.0s\n",
            "[CV] C=62.24529113221927, gamma=0.012654917192903577 .................\n",
            "[CV] .. C=62.24529113221927, gamma=0.012654917192903577, total=   0.1s\n",
            "[CV] C=62.24529113221927, gamma=0.012654917192903577 .................\n",
            "[CV] .. C=62.24529113221927, gamma=0.012654917192903577, total=   0.0s\n",
            "[CV] C=25.018688130265442, gamma=0.052055931465618856 ................\n"
          ],
          "name": "stdout"
        },
        {
          "output_type": "stream",
          "text": [
            "[Parallel(n_jobs=1)]: Using backend SequentialBackend with 1 concurrent workers.\n",
            "[Parallel(n_jobs=1)]: Done   1 out of   1 | elapsed:    0.0s remaining:    0.0s\n"
          ],
          "name": "stderr"
        },
        {
          "output_type": "stream",
          "text": [
            "[CV] . C=25.018688130265442, gamma=0.052055931465618856, total=   0.1s\n",
            "[CV] C=25.018688130265442, gamma=0.052055931465618856 ................\n",
            "[CV] . C=25.018688130265442, gamma=0.052055931465618856, total=   0.1s\n",
            "[CV] C=25.018688130265442, gamma=0.052055931465618856 ................\n",
            "[CV] . C=25.018688130265442, gamma=0.052055931465618856, total=   0.1s\n",
            "[CV] C=43.57254444519675, gamma=0.009801263477007001 .................\n",
            "[CV] .. C=43.57254444519675, gamma=0.009801263477007001, total=   0.0s\n",
            "[CV] C=43.57254444519675, gamma=0.009801263477007001 .................\n",
            "[CV] .. C=43.57254444519675, gamma=0.009801263477007001, total=   0.0s\n",
            "[CV] C=43.57254444519675, gamma=0.009801263477007001 .................\n",
            "[CV] .. C=43.57254444519675, gamma=0.009801263477007001, total=   0.0s\n",
            "[CV] C=16.993804693957337, gamma=0.0013731393169106939 ...............\n",
            "[CV]  C=16.993804693957337, gamma=0.0013731393169106939, total=   0.0s\n",
            "[CV] C=16.993804693957337, gamma=0.0013731393169106939 ...............\n",
            "[CV]  C=16.993804693957337, gamma=0.0013731393169106939, total=   0.0s\n",
            "[CV] C=16.993804693957337, gamma=0.0013731393169106939 ...............\n",
            "[CV]  C=16.993804693957337, gamma=0.0013731393169106939, total=   0.0s\n",
            "[CV] C=4.617041876230043, gamma=0.2359382936126045 ...................\n",
            "[CV] .... C=4.617041876230043, gamma=0.2359382936126045, total=   0.1s\n",
            "[CV] C=4.617041876230043, gamma=0.2359382936126045 ...................\n",
            "[CV] .... C=4.617041876230043, gamma=0.2359382936126045, total=   0.1s\n",
            "[CV] C=4.617041876230043, gamma=0.2359382936126045 ...................\n",
            "[CV] .... C=4.617041876230043, gamma=0.2359382936126045, total=   0.1s\n",
            "[CV] C=72.80814905511178, gamma=0.03670763599553991 ..................\n",
            "[CV] ... C=72.80814905511178, gamma=0.03670763599553991, total=   0.1s\n",
            "[CV] C=72.80814905511178, gamma=0.03670763599553991 ..................\n",
            "[CV] ... C=72.80814905511178, gamma=0.03670763599553991, total=   0.1s\n",
            "[CV] C=72.80814905511178, gamma=0.03670763599553991 ..................\n",
            "[CV] ... C=72.80814905511178, gamma=0.03670763599553991, total=   0.1s\n",
            "[CV] C=79.11400561261942, gamma=0.0021109055159801255 ................\n",
            "[CV] . C=79.11400561261942, gamma=0.0021109055159801255, total=   0.0s\n",
            "[CV] C=79.11400561261942, gamma=0.0021109055159801255 ................\n",
            "[CV] . C=79.11400561261942, gamma=0.0021109055159801255, total=   0.0s\n",
            "[CV] C=79.11400561261942, gamma=0.0021109055159801255 ................\n",
            "[CV] . C=79.11400561261942, gamma=0.0021109055159801255, total=   0.0s\n",
            "[CV] C=34.93542713456393, gamma=0.004475043000739821 .................\n",
            "[CV] .. C=34.93542713456393, gamma=0.004475043000739821, total=   0.0s\n",
            "[CV] C=34.93542713456393, gamma=0.004475043000739821 .................\n",
            "[CV] .. C=34.93542713456393, gamma=0.004475043000739821, total=   0.0s\n",
            "[CV] C=34.93542713456393, gamma=0.004475043000739821 .................\n",
            "[CV] .. C=34.93542713456393, gamma=0.004475043000739821, total=   0.0s\n",
            "[CV] C=82.73738229051483, gamma=0.0029589436587862893 ................\n",
            "[CV] . C=82.73738229051483, gamma=0.0029589436587862893, total=   0.0s\n",
            "[CV] C=82.73738229051483, gamma=0.0029589436587862893 ................\n",
            "[CV] . C=82.73738229051483, gamma=0.0029589436587862893, total=   0.0s\n",
            "[CV] C=82.73738229051483, gamma=0.0029589436587862893 ................\n",
            "[CV] . C=82.73738229051483, gamma=0.0029589436587862893, total=   0.0s\n",
            "[CV] C=96.54445728857999, gamma=0.2923158251336044 ...................\n",
            "[CV] .... C=96.54445728857999, gamma=0.2923158251336044, total=   0.1s\n",
            "[CV] C=96.54445728857999, gamma=0.2923158251336044 ...................\n",
            "[CV] .... C=96.54445728857999, gamma=0.2923158251336044, total=   0.1s\n",
            "[CV] C=96.54445728857999, gamma=0.2923158251336044 ...................\n",
            "[CV] .... C=96.54445728857999, gamma=0.2923158251336044, total=   0.1s\n"
          ],
          "name": "stdout"
        },
        {
          "output_type": "stream",
          "text": [
            "[Parallel(n_jobs=1)]: Done  30 out of  30 | elapsed:    1.7s finished\n"
          ],
          "name": "stderr"
        },
        {
          "output_type": "execute_result",
          "data": {
            "text/plain": [
              "0.7275069696713694"
            ]
          },
          "metadata": {
            "tags": []
          },
          "execution_count": 75
        }
      ]
    },
    {
      "cell_type": "code",
      "metadata": {
        "id": "YC4_dfdZuEkU",
        "colab_type": "code",
        "colab": {
          "base_uri": "https://localhost:8080/",
          "height": 87
        },
        "outputId": "fbae19ad-942e-42c2-d39d-02ca16d1e307"
      },
      "source": [
        "rnd_search_cv.best_estimator_.fit(X_train, y_train)"
      ],
      "execution_count": 76,
      "outputs": [
        {
          "output_type": "execute_result",
          "data": {
            "text/plain": [
              "SVC(C=62.24529113221927, break_ties=False, cache_size=200, class_weight=None,\n",
              "    coef0=0.0, decision_function_shape='ovr', degree=3,\n",
              "    gamma=0.012654917192903577, kernel='rbf', max_iter=-1, probability=False,\n",
              "    random_state=None, shrinking=True, tol=0.001, verbose=False)"
            ]
          },
          "metadata": {
            "tags": []
          },
          "execution_count": 76
        }
      ]
    },
    {
      "cell_type": "code",
      "metadata": {
        "id": "s5W8-vd8r9-M",
        "colab_type": "code",
        "colab": {
          "base_uri": "https://localhost:8080/",
          "height": 35
        },
        "outputId": "21371127-ac99-4837-a862-27aea9128a3f"
      },
      "source": [
        "y_hat = rnd_search_cv.best_estimator_.predict(X_train)\n",
        "accuracy_score(y_train, y_hat)"
      ],
      "execution_count": 77,
      "outputs": [
        {
          "output_type": "execute_result",
          "data": {
            "text/plain": [
              "0.99875"
            ]
          },
          "metadata": {
            "tags": []
          },
          "execution_count": 77
        }
      ]
    },
    {
      "cell_type": "code",
      "metadata": {
        "id": "orBB7d3rSPwx",
        "colab_type": "code",
        "colab": {
          "base_uri": "https://localhost:8080/",
          "height": 35
        },
        "outputId": "bde63dab-fd56-47ed-d0be-2c162f6b7896"
      },
      "source": [
        "y_hat = rnd_search_cv.best_estimator_.predict(X_test)\n",
        "accuracy_score(y_test, y_hat)"
      ],
      "execution_count": 78,
      "outputs": [
        {
          "output_type": "execute_result",
          "data": {
            "text/plain": [
              "0.74"
            ]
          },
          "metadata": {
            "tags": []
          },
          "execution_count": 78
        }
      ]
    },
    {
      "cell_type": "code",
      "metadata": {
        "id": "Nxxp_AmwuHL6",
        "colab_type": "code",
        "colab": {
          "base_uri": "https://localhost:8080/",
          "height": 797
        },
        "outputId": "39b84263-f0a4-44fd-dbdb-5abdb5573ac1"
      },
      "source": [
        "# Compute confusion matrix\n",
        "cnf_matrix = confusion_matrix(y_test, y_hat)\n",
        "np.set_printoptions(precision=2)\n",
        "\n",
        "print (classification_report(y_test, y_hat))\n",
        "\n",
        "# Plot non-normalized confusion matrix\n",
        "plt.figure()\n",
        "plot_confusion_matrix(cnf_matrix, classes=[\"blues\", \"classical\", \"country\", \"disco\", \"hiphop\", \"jazz\", \"metal\", \"pop\", \"reggae\", \"rock\"],normalize= False,  title='Confusion matrix')"
      ],
      "execution_count": 79,
      "outputs": [
        {
          "output_type": "stream",
          "text": [
            "              precision    recall  f1-score   support\n",
            "\n",
            "           0       0.87      0.68      0.76        19\n",
            "           1       0.95      0.90      0.93        21\n",
            "           2       0.74      0.61      0.67        23\n",
            "           3       0.58      0.58      0.58        19\n",
            "           4       0.65      0.72      0.68        18\n",
            "           5       0.87      0.91      0.89        22\n",
            "           6       0.80      0.89      0.84        18\n",
            "           7       0.86      0.75      0.80        24\n",
            "           8       0.62      0.62      0.62        16\n",
            "           9       0.52      0.70      0.60        20\n",
            "\n",
            "    accuracy                           0.74       200\n",
            "   macro avg       0.75      0.74      0.74       200\n",
            "weighted avg       0.75      0.74      0.74       200\n",
            "\n",
            "Confusion matrix, without normalization\n",
            "[[13  0  2  2  0  0  0  0  0  2]\n",
            " [ 0 19  0  0  0  2  0  0  0  0]\n",
            " [ 0  0 14  1  0  0  0  2  0  6]\n",
            " [ 0  0  0 11  2  0  2  1  0  3]\n",
            " [ 0  0  0  0 13  0  1  0  4  0]\n",
            " [ 0  0  0  1  0 20  0  0  0  1]\n",
            " [ 0  0  0  1  0  0 16  0  0  1]\n",
            " [ 0  1  1  2  0  0  0 18  2  0]\n",
            " [ 1  0  0  0  4  1  0  0 10  0]\n",
            " [ 1  0  2  1  1  0  1  0  0 14]]\n"
          ],
          "name": "stdout"
        },
        {
          "output_type": "display_data",
          "data": {
            "image/png": "[encoded data removed]",
            "text/plain": [
              "<Figure size 432x288 with 2 Axes>"
            ]
          },
          "metadata": {
            "tags": [],
            "needs_background": "light"
          }
        }
      ]
    },
    {
      "cell_type": "code",
      "metadata": {
        "id": "BeEWFArVufwN",
        "colab_type": "code",
        "colab": {}
      },
      "source": [
        ""
      ],
      "execution_count": null,
      "outputs": []
    }
  ]
}