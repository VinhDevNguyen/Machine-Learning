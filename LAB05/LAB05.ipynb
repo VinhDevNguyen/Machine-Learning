{
  "nbformat": 4,
  "nbformat_minor": 0,
  "metadata": {
    "kernelspec": {
      "display_name": "Python 3",
      "language": "python",
      "name": "python3"
    },
    "language_info": {
      "codemirror_mode": {
        "name": "ipython",
        "version": 3
      },
      "file_extension": ".py",
      "mimetype": "text/x-python",
      "name": "python",
      "nbconvert_exporter": "python",
      "pygments_lexer": "ipython3",
      "version": "3.7.4-final"
    },
    "colab": {
      "name": "LAB05.ipynb",
      "provenance": [],
      "include_colab_link": true
    }
  },
  "cells": [
    {
      "cell_type": "markdown",
      "metadata": {
        "id": "view-in-github",
        "colab_type": "text"
      },
      "source": [
        "<a href=\"https://colab.research.google.com/github/VinhDevNguyen/Machine-Learning/blob/master/LAB05/LAB05.ipynb\" target=\"_parent\"><img src=\"https://colab.research.google.com/assets/colab-badge.svg\" alt=\"Open In Colab\"/></a>"
      ]
    },
    {
      "cell_type": "markdown",
      "metadata": {
        "id": "0798M6RGo-4g",
        "colab_type": "text"
      },
      "source": [
        "### Bài tập 1.\n",
        " - <ins>Yêu cầu</ins>: Ý tưởng cơ bản của thuật toán ``Support Vector Machine`` (``SVM``) là gì? Ý tưởng của thuật toán biên mềm (``soft margin``) ``SVM``. Nêu ý nghĩa của siêu tham số ``C`` trong bài toán cực tiểu hàm mất mát.\n",
        "\n",
        "  1. Ý tưởng cơ bản của SVM là đưa toàn bộ dataset vào không gian nhiều chiều (n chiều), từ đó tìm ra mặt phẳng thích hợp nhất (hyperplane) để phân chia\n",
        "  2. Support Vector Machine thuần (hard margin) thì gặp hai vấn đề chính đó là nó chỉ hoạt động trên dataset ``Linearly Separable`` và thứ 2 đó là nó khá nhạy cảm với biến nhiễu (sensitive to noise). Để tránh vấn đề này, chúng ta cần sử dụng một mô hình linh hoạt \n",
        "hơn. Nhiệm vụ của nó là tìm được mặt phẳng vẫn phân loại tốt nhưng chấp nhận sai lệch ở một mức độ chấp nhận được.\n",
        "  3. Tham số `C` là hằng số dương giúp cân đối độ lớn của margin và sự hy sinh của các điểm nằm trong vùng không an toàn. Khi $C = \\infty $ hoặc rất lớn, Soft Margin SVM trở thành Hard Margin SVM."
      ]
    },
    {
      "cell_type": "markdown",
      "metadata": {
        "id": "J8tquRouo-4i",
        "colab_type": "text"
      },
      "source": [
        "### Bài tập 2.\n",
        " - <ins>Yêu cầu</ins>: Sử dụng mô hình ``SVM`` thuộc thư viện ``sklearn`` để xây dựng mô hình phân loại dựa trên tập dữ liệu huấn luyện ``X_train``, ``y_train``. Hãy nhận xét về tỉ lệ nhãn ``0`` và ``1`` trong bộ dữ liệu đã cho như đoạn code bên dưới. Hãy thử thay đổi giá trị của tham số ``C`` và nhận xét các độ đo ``Recall``, ``Precison``, ``F1-score``, và ``Accuracy`` của mô hình thu được trên tập dữ liệu kiểm tra ``X_test``, ``y_test``.\n",
        " - Nguồn tham khảo dữ liệu ``thyroid_sick.csv``: https://archive.ics.uci.edu/ml/datasets/Thyroid+Disease"
      ]
    },
    {
      "cell_type": "code",
      "metadata": {
        "id": "ghlAQ49bo-4k",
        "colab_type": "code",
        "colab": {}
      },
      "source": [
        "import pandas as pd\n",
        "from sklearn.model_selection import train_test_split\n",
        "from sklearn import preprocessing\n",
        "from sklearn.metrics import classification_report, confusion_matrix, accuracy_score\n",
        "import itertools\n",
        "import numpy as np\n",
        "from sklearn import preprocessing\n",
        "\n",
        "df = pd.read_csv('thyroid_sick.csv')\n",
        "X = df[[column_name for column_name in df.columns if column_name != 'classes']]\n",
        "y = df[['classes']]\n",
        "X = preprocessing.StandardScaler().fit(X).transform(X.astype(float))\n",
        "X_train, X_test, y_train, y_test = train_test_split(X, y, test_size=0.1, random_state=42)"
      ],
      "execution_count": null,
      "outputs": []
    },
    {
      "cell_type": "code",
      "metadata": {
        "id": "BUo_bGbHo-4p",
        "colab_type": "code",
        "colab": {},
        "outputId": "ef9ba5c1-4b51-4f33-8654-7e9d58c66eb6"
      },
      "source": [
        "df.pivot_table(index =['classes'], aggfunc='size')"
      ],
      "execution_count": null,
      "outputs": [
        {
          "output_type": "execute_result",
          "data": {
            "text/plain": [
              "classes\n",
              "0    2864\n",
              "1     288\n",
              "dtype: int64"
            ]
          },
          "metadata": {
            "tags": []
          },
          "execution_count": 2
        }
      ]
    },
    {
      "cell_type": "markdown",
      "metadata": {
        "id": "s1eVdWuWo-4y",
        "colab_type": "text"
      },
      "source": [
        "* Nhận xét:"
      ]
    },
    {
      "cell_type": "code",
      "metadata": {
        "id": "NjYzfV_To-4z",
        "colab_type": "code",
        "colab": {},
        "outputId": "1176ba14-2ca1-49d6-dd41-ea447a42ea0b"
      },
      "source": [
        "from sklearn import svm\n",
        "C_parameter = 10.5\n",
        "mean_acc = []\n",
        "for n in np.arange(0.5, C_parameter, 0.5):\n",
        "    \n",
        "    #Train Model and Predict  \n",
        "    clf = svm.SVC(C=n).fit(X_train,y_train)\n",
        "    yhat=clf.predict(X_test)\n",
        "    cnf_matrix = confusion_matrix(y_test, yhat)\n",
        "\n",
        "    mean_acc.append(float(accuracy_score(y_test, yhat)))\n",
        "    print(\"Result with C = \" + str(n))\n",
        "    np.set_printoptions(precision=2)\n",
        "    print (classification_report(y_test, yhat))\n",
        "\n",
        "print( \"The best accuracy was with\", max(mean_acc), \"with C=\", n)"
      ],
      "execution_count": null,
      "outputs": [
        {
          "output_type": "stream",
          "text": [
            "Result with C = 0.5\n",
            "              precision    recall  f1-score   support\n",
            "\n",
            "           0       0.91      0.99      0.95       274\n",
            "           1       0.88      0.33      0.48        42\n",
            "\n",
            "    accuracy                           0.91       316\n",
            "   macro avg       0.89      0.66      0.72       316\n",
            "weighted avg       0.90      0.91      0.89       316\n",
            "\n",
            "Result with C = 1.0\n",
            "              precision    recall  f1-score   support\n",
            "\n",
            "           0       0.94      0.99      0.97       274\n",
            "           1       0.93      0.62      0.74        42\n",
            "\n",
            "    accuracy                           0.94       316\n",
            "   macro avg       0.94      0.81      0.86       316\n",
            "weighted avg       0.94      0.94      0.94       316\n",
            "\n",
            "Result with C = 1.5\n",
            "              precision    recall  f1-score   support\n",
            "\n",
            "           0       0.94      0.99      0.97       274\n",
            "           1       0.93      0.62      0.74        42\n",
            "\n",
            "    accuracy                           0.94       316\n",
            "   macro avg       0.94      0.81      0.86       316\n",
            "weighted avg       0.94      0.94      0.94       316\n",
            "\n",
            "Result with C = 2.0\n",
            "              precision    recall  f1-score   support\n",
            "\n",
            "           0       0.95      0.99      0.97       274\n",
            "           1       0.90      0.64      0.75        42\n",
            "\n",
            "    accuracy                           0.94       316\n",
            "   macro avg       0.92      0.82      0.86       316\n",
            "weighted avg       0.94      0.94      0.94       316\n",
            "\n",
            "Result with C = 2.5\n",
            "              precision    recall  f1-score   support\n",
            "\n",
            "           0       0.95      0.99      0.97       274\n",
            "           1       0.90      0.64      0.75        42\n",
            "\n",
            "    accuracy                           0.94       316\n",
            "   macro avg       0.92      0.82      0.86       316\n",
            "weighted avg       0.94      0.94      0.94       316\n",
            "\n",
            "Result with C = 3.0\n",
            "              precision    recall  f1-score   support\n",
            "\n",
            "           0       0.95      0.99      0.97       274\n",
            "           1       0.91      0.69      0.78        42\n",
            "\n",
            "    accuracy                           0.95       316\n",
            "   macro avg       0.93      0.84      0.88       316\n",
            "weighted avg       0.95      0.95      0.95       316\n",
            "\n",
            "Result with C = 3.5\n",
            "              precision    recall  f1-score   support\n",
            "\n",
            "           0       0.96      0.99      0.97       274\n",
            "           1       0.91      0.74      0.82        42\n",
            "\n",
            "    accuracy                           0.96       316\n",
            "   macro avg       0.94      0.86      0.90       316\n",
            "weighted avg       0.95      0.96      0.95       316\n",
            "\n",
            "Result with C = 4.0\n",
            "              precision    recall  f1-score   support\n",
            "\n",
            "           0       0.97      0.99      0.98       274\n",
            "           1       0.92      0.79      0.85        42\n",
            "\n",
            "    accuracy                           0.96       316\n",
            "   macro avg       0.94      0.89      0.91       316\n",
            "weighted avg       0.96      0.96      0.96       316\n",
            "\n",
            "Result with C = 4.5\n",
            "              precision    recall  f1-score   support\n",
            "\n",
            "           0       0.97      0.99      0.98       274\n",
            "           1       0.92      0.79      0.85        42\n",
            "\n",
            "    accuracy                           0.96       316\n",
            "   macro avg       0.94      0.89      0.91       316\n",
            "weighted avg       0.96      0.96      0.96       316\n",
            "\n",
            "Result with C = 5.0\n",
            "              precision    recall  f1-score   support\n",
            "\n",
            "           0       0.97      0.99      0.98       274\n",
            "           1       0.92      0.79      0.85        42\n",
            "\n",
            "    accuracy                           0.96       316\n",
            "   macro avg       0.94      0.89      0.91       316\n",
            "weighted avg       0.96      0.96      0.96       316\n",
            "\n",
            "Result with C = 5.5\n",
            "              precision    recall  f1-score   support\n",
            "\n",
            "           0       0.97      0.99      0.98       274\n",
            "           1       0.92      0.79      0.85        42\n",
            "\n",
            "    accuracy                           0.96       316\n",
            "   macro avg       0.94      0.89      0.91       316\n",
            "weighted avg       0.96      0.96      0.96       316\n",
            "\n",
            "Result with C = 6.0\n",
            "              precision    recall  f1-score   support\n",
            "\n",
            "           0       0.97      0.99      0.98       274\n",
            "           1       0.92      0.81      0.86        42\n",
            "\n",
            "    accuracy                           0.97       316\n",
            "   macro avg       0.95      0.90      0.92       316\n",
            "weighted avg       0.96      0.97      0.96       316\n",
            "\n",
            "Result with C = 6.5\n",
            "              precision    recall  f1-score   support\n",
            "\n",
            "           0       0.97      0.99      0.98       274\n",
            "           1       0.92      0.79      0.85        42\n",
            "\n",
            "    accuracy                           0.96       316\n",
            "   macro avg       0.94      0.89      0.91       316\n",
            "weighted avg       0.96      0.96      0.96       316\n",
            "\n",
            "Result with C = 7.0\n",
            "              precision    recall  f1-score   support\n",
            "\n",
            "           0       0.97      0.99      0.98       274\n",
            "           1       0.92      0.79      0.85        42\n",
            "\n",
            "    accuracy                           0.96       316\n",
            "   macro avg       0.94      0.89      0.91       316\n",
            "weighted avg       0.96      0.96      0.96       316\n",
            "\n",
            "Result with C = 7.5\n",
            "              precision    recall  f1-score   support\n",
            "\n",
            "           0       0.97      0.99      0.98       274\n",
            "           1       0.92      0.79      0.85        42\n",
            "\n",
            "    accuracy                           0.96       316\n",
            "   macro avg       0.94      0.89      0.91       316\n",
            "weighted avg       0.96      0.96      0.96       316\n",
            "\n",
            "Result with C = 8.0\n",
            "              precision    recall  f1-score   support\n",
            "\n",
            "           0       0.97      0.99      0.98       274\n",
            "           1       0.92      0.79      0.85        42\n",
            "\n",
            "    accuracy                           0.96       316\n",
            "   macro avg       0.94      0.89      0.91       316\n",
            "weighted avg       0.96      0.96      0.96       316\n",
            "\n",
            "Result with C = 8.5\n",
            "              precision    recall  f1-score   support\n",
            "\n",
            "           0       0.97      0.99      0.98       274\n",
            "           1       0.92      0.79      0.85        42\n",
            "\n",
            "    accuracy                           0.96       316\n",
            "   macro avg       0.94      0.89      0.91       316\n",
            "weighted avg       0.96      0.96      0.96       316\n",
            "\n",
            "Result with C = 9.0\n",
            "              precision    recall  f1-score   support\n",
            "\n",
            "           0       0.97      0.99      0.98       274\n",
            "           1       0.92      0.79      0.85        42\n",
            "\n",
            "    accuracy                           0.96       316\n",
            "   macro avg       0.94      0.89      0.91       316\n",
            "weighted avg       0.96      0.96      0.96       316\n",
            "\n",
            "Result with C = 9.5\n",
            "              precision    recall  f1-score   support\n",
            "\n",
            "           0       0.97      0.99      0.98       274\n",
            "           1       0.92      0.79      0.85        42\n",
            "\n",
            "    accuracy                           0.96       316\n",
            "   macro avg       0.94      0.89      0.91       316\n",
            "weighted avg       0.96      0.96      0.96       316\n",
            "\n",
            "Result with C = 10.0\n",
            "              precision    recall  f1-score   support\n",
            "\n",
            "           0       0.97      0.99      0.98       274\n",
            "           1       0.92      0.79      0.85        42\n",
            "\n",
            "    accuracy                           0.96       316\n",
            "   macro avg       0.94      0.89      0.91       316\n",
            "weighted avg       0.96      0.96      0.96       316\n",
            "\n",
            "The best accuracy was with 0.9651898734177216 with C= 10.0\n"
          ],
          "name": "stdout"
        }
      ]
    },
    {
      "cell_type": "markdown",
      "metadata": {
        "id": "0PreyWdRo-43",
        "colab_type": "text"
      },
      "source": [
        "### Bài tập 3.\n",
        " - <ins>Yêu cầu</ins>: Ý tưởng của hàm ``kernel`` $K(\\dots, \\dots)$ là gì? Khi nào chúng ta áp dụng hàm ``kernel``? Chúng ta có cần biết biểu thức của hàm $\\Phi(x)$ không?\n",
        " 1. Ý tưởng của kernel là thay vì ánh xạ một cách cụ thể từng phương trình hồi quy tuyến tính để tạo bộ phân lớp thì ở đây ta có thể sử dụng kernel một cách cụ thể (Instead of explicit mapping for each class (multiple classifiers) with linear regression, we can use the kernel to do it)\n",
        " 2. Chúng ta áp dụng hàm ``kernel`` khi dữ liệu không phân biệt tuyến tính, Với dữ liệu gần phân biệt tuyến tính, linear và poly kernels cho kết quả tốt hơn.\n",
        " 3. Ta cần phải biết biểu thức của hàm $\\Phi(x)$ vì với mỗi bộ dữ liệu sẽ có những hàm kernels khác nhau từ đó chúng ta sẽ phải chọn những hàm $\\Phi(x)$ tương ứng.\n",
        " "
      ]
    },
    {
      "cell_type": "markdown",
      "metadata": {
        "id": "bi7R74Uvo-44",
        "colab_type": "text"
      },
      "source": [
        "### Bài tập 4.\n",
        " - <ins>Yêu cầu</ins>: Cho điểm dữ liệu trong không gian hai chiều $x = [x_1, x_2]^T$ và hàm biến đổi sang không gian năm chiều $\\Phi(x) = [1, \\sqrt{2}x_1, \\sqrt{2}x_2, x_1^2, \\sqrt{2}x_1x_2, x_2^2]^T$. Hãy tính hàm ``kernel`` $K(a, b)$.\n",
        "\n",
        "\\begin{eqnarray}\n",
        "\\Phi(\\mathbf{x})^T\\Phi(\\mathbf{z}) &=& [1, \\sqrt{2} x_1, \\sqrt{2} x_2, x_1^2, \\sqrt{2} x_1x_2, x_2^2] [1, \\sqrt{2} z_1, \\sqrt{2} z_2, z_1^2, \\sqrt{2} z_1z_2, z_2^2]^T \\\\\n",
        "&=& 1 + 2x_1z_1 + 2x_2z_2 + x_1^2x_2^2 + 2x_1z_1x_2z_2 + x_2^2z_2^2 \\\\\n",
        "&=& (1 + x_1z_1 + x_2z_2)^2 = (1 + \\mathbf{x}^T\\mathbf{z})^2 = k(\\mathbf{x}, \\mathbf{z})\n",
        "\\end{eqnarray}"
      ]
    },
    {
      "cell_type": "markdown",
      "metadata": {
        "id": "I7e0F4e_o-44",
        "colab_type": "text"
      },
      "source": [
        "### Bài tập 5.\n",
        " - <ins>Yêu cầu</ins>: Giả sử bạn dùng bộ phân loại ``SVM`` với hàm ``kernel`` (radial basis function) ``RBF`` cho tập huấn luyện và thấy mô hình phân loại chưa tốt. Để cải thiện, bạn sẽ giảm hay tăng tham số $\\gamma$ trong công thức hàm ``kernel``, tham số ``C`` trong hàm mất mát.\n",
        " #### Câu trả lời:\n",
        " Đối với tham số `gamma`, kernel sẽ cố gắng fit dataset nhưng đối với tham số `C` thì ta lại \"phạt\" (Penalty). Vì thế ta cần phải tìm điểm cân bằng giữa tham số C và gamma cùng một lúc bằng cách tăng hoặc là giảm để tìm ra được giá trị tốt nhất giúp mô hình hoạt động tốt hơn.\n"
      ]
    },
    {
      "cell_type": "markdown",
      "metadata": {
        "id": "uyfbDY0xo-45",
        "colab_type": "text"
      },
      "source": [
        "### Bài tập 6. (Exercise 9 trang 174, Chapter 5: Support Vector Machines)\n",
        " - <ins>Yêu cầu</ins>: Huấn luyện một bộ phân lớp ``SVM`` dựa trên bộ dữ liệu ``MNIST`` (dùng để phân loại hình ảnh các ký tự số có cùng kích thước). Bởi vì bộ phân loại ``SVM`` là bộ phân lớp nhị phân, chúng ta sẽ cần sử dụng chiến thuật ``one-versus-the-rest`` để phân loại tất cả ``10`` ký tự số (trong thực tế chúng ta chỉ dùng chiến thuật ``one-versus-one`` trong các trường hợp dữ liệu nhỏ). Bạn hãy báo cáo độ chính xác (``accuracy``) của mô hình đã huấn luyện trên tập test."
      ]
    },
    {
      "cell_type": "code",
      "metadata": {
        "id": "x5DdCG1So-46",
        "colab_type": "code",
        "colab": {}
      },
      "source": [
        "import numpy as np\n",
        "from sklearn.datasets import fetch_openml\n",
        "from sklearn.svm import LinearSVC\n",
        "mnist = fetch_openml('mnist_784', version=1, cache=True)\n",
        "\n",
        "X = mnist[\"data\"]\n",
        "y = mnist[\"target\"].astype(np.uint8)\n",
        "\n",
        "X_train = X[:60000]\n",
        "y_train = y[:60000]\n",
        "X_test = X[60000:]\n",
        "y_test = y[60000:]"
      ],
      "execution_count": 1,
      "outputs": []
    },
    {
      "cell_type": "code",
      "metadata": {
        "id": "VTOMA2ZIpMBn",
        "colab_type": "code",
        "colab": {
          "base_uri": "https://localhost:8080/",
          "height": 68
        },
        "outputId": "65c57945-99d2-45d8-cb0b-a9a4472da708"
      },
      "source": [
        "# %%\n",
        "from sklearn.metrics import accuracy_score\n",
        "from sklearn.preprocessing import StandardScaler\n",
        "lin_clf = LinearSVC(random_state=42)\n",
        "lin_clf.fit(X_train, y_train)\n",
        "y_pred = lin_clf.predict(X_train)\n",
        "accuracy_score(y_train, y_pred)"
      ],
      "execution_count": 2,
      "outputs": [
        {
          "output_type": "stream",
          "text": [
            "/usr/local/lib/python3.6/dist-packages/sklearn/svm/_base.py:947: ConvergenceWarning: Liblinear failed to converge, increase the number of iterations.\n",
            "  \"the number of iterations.\", ConvergenceWarning)\n"
          ],
          "name": "stderr"
        },
        {
          "output_type": "execute_result",
          "data": {
            "text/plain": [
              "0.8733"
            ]
          },
          "metadata": {
            "tags": []
          },
          "execution_count": 2
        }
      ]
    },
    {
      "cell_type": "code",
      "metadata": {
        "id": "N4me3Hf-pM6g",
        "colab_type": "code",
        "colab": {
          "base_uri": "https://localhost:8080/",
          "height": 34
        },
        "outputId": "f9411371-8e5f-47ff-88f1-d56f3e57d64c"
      },
      "source": [
        "# %%\n",
        "y_test_predict = lin_clf.predict(X_test)\n",
        "accuracy_score(y_test, y_test_predict)\n"
      ],
      "execution_count": 3,
      "outputs": [
        {
          "output_type": "execute_result",
          "data": {
            "text/plain": [
              "0.8579"
            ]
          },
          "metadata": {
            "tags": []
          },
          "execution_count": 3
        }
      ]
    },
    {
      "cell_type": "code",
      "metadata": {
        "id": "3gzKTaRLpYZZ",
        "colab_type": "code",
        "colab": {}
      },
      "source": [
        "# %%\n",
        "Scaler = StandardScaler()\n",
        "X_train_scaled = Scaler.fit_transform(X_train.astype(np.float32))\n",
        "X_test_scaled = Scaler.fit_transform(X_test.astype(np.float32))"
      ],
      "execution_count": 4,
      "outputs": []
    },
    {
      "cell_type": "code",
      "metadata": {
        "id": "jFydqxtdpZXj",
        "colab_type": "code",
        "colab": {
          "base_uri": "https://localhost:8080/",
          "height": 68
        },
        "outputId": "5654233f-27aa-4c88-fbcc-82df637196a8"
      },
      "source": [
        "# %%\n",
        "lin_clf = LinearSVC(random_state =42)\n",
        "lin_clf.fit(X_train, y_train)\n",
        "y_pred = lin_clf.predict(X_train)\n",
        "accuracy_score(y_train, y_pred)"
      ],
      "execution_count": 5,
      "outputs": [
        {
          "output_type": "stream",
          "text": [
            "/usr/local/lib/python3.6/dist-packages/sklearn/svm/_base.py:947: ConvergenceWarning: Liblinear failed to converge, increase the number of iterations.\n",
            "  \"the number of iterations.\", ConvergenceWarning)\n"
          ],
          "name": "stderr"
        },
        {
          "output_type": "execute_result",
          "data": {
            "text/plain": [
              "0.8733"
            ]
          },
          "metadata": {
            "tags": []
          },
          "execution_count": 5
        }
      ]
    },
    {
      "cell_type": "code",
      "metadata": {
        "id": "lL1UKtMLplQu",
        "colab_type": "code",
        "colab": {}
      },
      "source": [
        "# %%\n",
        "y_test_predict = lin_clf.predict(X_test_scaled)\n",
        "accuracy_score(y_test, y_test_predict)\n",
        "from sklearn.model_selection import RandomizedSearchCV\n",
        "from scipy.stats import reciprocal, uniform\n",
        "from sklearn.model_selection import RandomizedSearchCV\n",
        "from scipy.stats import reciprocal, uniform\n",
        "from sklearn.svm import SVC"
      ],
      "execution_count": 6,
      "outputs": []
    },
    {
      "cell_type": "code",
      "metadata": {
        "id": "aaJ-HtuEpqfP",
        "colab_type": "code",
        "colab": {
          "base_uri": "https://localhost:8080/",
          "height": 1000
        },
        "outputId": "6263ffe3-a5e9-4a0a-afed-c22712b68054"
      },
      "source": [
        "# %%\n",
        "svm_clf = SVC(gamma=\"scale\")\n",
        "svm_clf.fit(X_train_scaled[:10000], y_train[:10000])\n",
        "\n",
        "param_distributions = {\"gamma\": reciprocal(0.001, 0.1), \"C\": uniform(1, 10)}\n",
        "rnd_search_cv = RandomizedSearchCV(svm_clf, param_distributions, n_iter=10, verbose=2, cv=3)\n",
        "rnd_search_cv.fit(X_train_scaled[:1000], y_train[:1000])\n",
        "\n",
        "rnd_search_cv.best_estimator_\n",
        "rnd_search_cv.best_score_"
      ],
      "execution_count": 7,
      "outputs": [
        {
          "output_type": "stream",
          "text": [
            "Fitting 3 folds for each of 10 candidates, totalling 30 fits\n",
            "[CV] C=1.5230344814717092, gamma=0.0052452142089368945 ...............\n"
          ],
          "name": "stdout"
        },
        {
          "output_type": "stream",
          "text": [
            "[Parallel(n_jobs=1)]: Using backend SequentialBackend with 1 concurrent workers.\n"
          ],
          "name": "stderr"
        },
        {
          "output_type": "stream",
          "text": [
            "[CV]  C=1.5230344814717092, gamma=0.0052452142089368945, total=   1.2s\n",
            "[CV] C=1.5230344814717092, gamma=0.0052452142089368945 ...............\n"
          ],
          "name": "stdout"
        },
        {
          "output_type": "stream",
          "text": [
            "[Parallel(n_jobs=1)]: Done   1 out of   1 | elapsed:    1.2s remaining:    0.0s\n"
          ],
          "name": "stderr"
        },
        {
          "output_type": "stream",
          "text": [
            "[CV]  C=1.5230344814717092, gamma=0.0052452142089368945, total=   1.2s\n",
            "[CV] C=1.5230344814717092, gamma=0.0052452142089368945 ...............\n",
            "[CV]  C=1.5230344814717092, gamma=0.0052452142089368945, total=   1.2s\n",
            "[CV] C=6.088281283510202, gamma=0.05184967226094412 ..................\n",
            "[CV] ... C=6.088281283510202, gamma=0.05184967226094412, total=   1.3s\n",
            "[CV] C=6.088281283510202, gamma=0.05184967226094412 ..................\n",
            "[CV] ... C=6.088281283510202, gamma=0.05184967226094412, total=   1.3s\n",
            "[CV] C=6.088281283510202, gamma=0.05184967226094412 ..................\n",
            "[CV] ... C=6.088281283510202, gamma=0.05184967226094412, total=   1.3s\n",
            "[CV] C=5.114726481574627, gamma=0.008479760526749484 .................\n",
            "[CV] .. C=5.114726481574627, gamma=0.008479760526749484, total=   1.3s\n",
            "[CV] C=5.114726481574627, gamma=0.008479760526749484 .................\n",
            "[CV] .. C=5.114726481574627, gamma=0.008479760526749484, total=   1.3s\n",
            "[CV] C=5.114726481574627, gamma=0.008479760526749484 .................\n",
            "[CV] .. C=5.114726481574627, gamma=0.008479760526749484, total=   1.3s\n",
            "[CV] C=3.5640816263151955, gamma=0.012121015895636083 ................\n",
            "[CV] . C=3.5640816263151955, gamma=0.012121015895636083, total=   1.3s\n",
            "[CV] C=3.5640816263151955, gamma=0.012121015895636083 ................\n",
            "[CV] . C=3.5640816263151955, gamma=0.012121015895636083, total=   1.3s\n",
            "[CV] C=3.5640816263151955, gamma=0.012121015895636083 ................\n",
            "[CV] . C=3.5640816263151955, gamma=0.012121015895636083, total=   1.3s\n",
            "[CV] C=1.2044709104458886, gamma=0.0017300801592786141 ...............\n",
            "[CV]  C=1.2044709104458886, gamma=0.0017300801592786141, total=   1.0s\n",
            "[CV] C=1.2044709104458886, gamma=0.0017300801592786141 ...............\n",
            "[CV]  C=1.2044709104458886, gamma=0.0017300801592786141, total=   1.0s\n",
            "[CV] C=1.2044709104458886, gamma=0.0017300801592786141 ...............\n",
            "[CV]  C=1.2044709104458886, gamma=0.0017300801592786141, total=   1.0s\n",
            "[CV] C=4.872798724948484, gamma=0.08283286455846113 ..................\n",
            "[CV] ... C=4.872798724948484, gamma=0.08283286455846113, total=   1.3s\n",
            "[CV] C=4.872798724948484, gamma=0.08283286455846113 ..................\n",
            "[CV] ... C=4.872798724948484, gamma=0.08283286455846113, total=   1.3s\n",
            "[CV] C=4.872798724948484, gamma=0.08283286455846113 ..................\n",
            "[CV] ... C=4.872798724948484, gamma=0.08283286455846113, total=   1.3s\n",
            "[CV] C=7.486475275922795, gamma=0.007038775985247099 .................\n",
            "[CV] .. C=7.486475275922795, gamma=0.007038775985247099, total=   1.3s\n",
            "[CV] C=7.486475275922795, gamma=0.007038775985247099 .................\n",
            "[CV] .. C=7.486475275922795, gamma=0.007038775985247099, total=   1.3s\n",
            "[CV] C=7.486475275922795, gamma=0.007038775985247099 .................\n",
            "[CV] .. C=7.486475275922795, gamma=0.007038775985247099, total=   1.3s\n",
            "[CV] C=1.3771182350797542, gamma=0.03429339995617382 .................\n",
            "[CV] .. C=1.3771182350797542, gamma=0.03429339995617382, total=   1.3s\n",
            "[CV] C=1.3771182350797542, gamma=0.03429339995617382 .................\n",
            "[CV] .. C=1.3771182350797542, gamma=0.03429339995617382, total=   1.3s\n",
            "[CV] C=1.3771182350797542, gamma=0.03429339995617382 .................\n",
            "[CV] .. C=1.3771182350797542, gamma=0.03429339995617382, total=   1.3s\n",
            "[CV] C=4.651337876680439, gamma=0.0808061236909795 ...................\n",
            "[CV] .... C=4.651337876680439, gamma=0.0808061236909795, total=   1.3s\n",
            "[CV] C=4.651337876680439, gamma=0.0808061236909795 ...................\n",
            "[CV] .... C=4.651337876680439, gamma=0.0808061236909795, total=   1.3s\n",
            "[CV] C=4.651337876680439, gamma=0.0808061236909795 ...................\n",
            "[CV] .... C=4.651337876680439, gamma=0.0808061236909795, total=   1.3s\n",
            "[CV] C=8.632600531628686, gamma=0.013599543561234138 .................\n",
            "[CV] .. C=8.632600531628686, gamma=0.013599543561234138, total=   1.3s\n",
            "[CV] C=8.632600531628686, gamma=0.013599543561234138 .................\n",
            "[CV] .. C=8.632600531628686, gamma=0.013599543561234138, total=   1.3s\n",
            "[CV] C=8.632600531628686, gamma=0.013599543561234138 .................\n",
            "[CV] .. C=8.632600531628686, gamma=0.013599543561234138, total=   1.3s\n"
          ],
          "name": "stdout"
        },
        {
          "output_type": "stream",
          "text": [
            "[Parallel(n_jobs=1)]: Done  30 out of  30 | elapsed:   37.8s finished\n"
          ],
          "name": "stderr"
        },
        {
          "output_type": "execute_result",
          "data": {
            "text/plain": [
              "0.8479827132521743"
            ]
          },
          "metadata": {
            "tags": []
          },
          "execution_count": 7
        }
      ]
    },
    {
      "cell_type": "code",
      "metadata": {
        "id": "14GikRTM7Qkv",
        "colab_type": "code",
        "colab": {
          "base_uri": "https://localhost:8080/",
          "height": 85
        },
        "outputId": "6ea687f0-8646-4b11-d2e6-ad61dd7fa311"
      },
      "source": [
        "rnd_search_cv.best_estimator_"
      ],
      "execution_count": 8,
      "outputs": [
        {
          "output_type": "execute_result",
          "data": {
            "text/plain": [
              "SVC(C=1.2044709104458886, break_ties=False, cache_size=200, class_weight=None,\n",
              "    coef0=0.0, decision_function_shape='ovr', degree=3,\n",
              "    gamma=0.0017300801592786141, kernel='rbf', max_iter=-1, probability=False,\n",
              "    random_state=None, shrinking=True, tol=0.001, verbose=False)"
            ]
          },
          "metadata": {
            "tags": []
          },
          "execution_count": 8
        }
      ]
    },
    {
      "cell_type": "code",
      "metadata": {
        "id": "C1wLtEUd_Fei",
        "colab_type": "code",
        "colab": {
          "base_uri": "https://localhost:8080/",
          "height": 34
        },
        "outputId": "1623cafd-e089-4380-f3e5-345776ca28f7"
      },
      "source": [
        "rnd_search_cv.best_score_"
      ],
      "execution_count": 9,
      "outputs": [
        {
          "output_type": "execute_result",
          "data": {
            "text/plain": [
              "0.8479827132521743"
            ]
          },
          "metadata": {
            "tags": []
          },
          "execution_count": 9
        }
      ]
    },
    {
      "cell_type": "code",
      "metadata": {
        "id": "zXelpMvP_P3g",
        "colab_type": "code",
        "colab": {
          "base_uri": "https://localhost:8080/",
          "height": 85
        },
        "outputId": "0832d934-f87d-4577-c526-8482a91c3906"
      },
      "source": [
        "rnd_search_cv.best_estimator_.fit(X_train_scaled, y_train)"
      ],
      "execution_count": 10,
      "outputs": [
        {
          "output_type": "execute_result",
          "data": {
            "text/plain": [
              "SVC(C=1.2044709104458886, break_ties=False, cache_size=200, class_weight=None,\n",
              "    coef0=0.0, decision_function_shape='ovr', degree=3,\n",
              "    gamma=0.0017300801592786141, kernel='rbf', max_iter=-1, probability=False,\n",
              "    random_state=None, shrinking=True, tol=0.001, verbose=False)"
            ]
          },
          "metadata": {
            "tags": []
          },
          "execution_count": 10
        }
      ]
    },
    {
      "cell_type": "code",
      "metadata": {
        "id": "Vm_xTZqf_R2q",
        "colab_type": "code",
        "colab": {
          "base_uri": "https://localhost:8080/",
          "height": 34
        },
        "outputId": "6365148b-2f10-4799-8f63-11106d62a9b2"
      },
      "source": [
        "y_pred = rnd_search_cv.best_estimator_.predict(X_train_scaled)\n",
        "accuracy_score(y_train, y_pred)"
      ],
      "execution_count": 11,
      "outputs": [
        {
          "output_type": "execute_result",
          "data": {
            "text/plain": [
              "0.9910333333333333"
            ]
          },
          "metadata": {
            "tags": []
          },
          "execution_count": 11
        }
      ]
    },
    {
      "cell_type": "code",
      "metadata": {
        "id": "zgSzJffg_TC9",
        "colab_type": "code",
        "colab": {
          "base_uri": "https://localhost:8080/",
          "height": 34
        },
        "outputId": "ae9b6f6d-9aff-463c-d35e-d9bfe40944c7"
      },
      "source": [
        "y_pred = rnd_search_cv.best_estimator_.predict(X_test_scaled)\n",
        "accuracy_score(y_test, y_pred)"
      ],
      "execution_count": 12,
      "outputs": [
        {
          "output_type": "execute_result",
          "data": {
            "text/plain": [
              "0.9671"
            ]
          },
          "metadata": {
            "tags": []
          },
          "execution_count": 12
        }
      ]
    },
    {
      "cell_type": "markdown",
      "metadata": {
        "id": "As1ZuFneo-49",
        "colab_type": "text"
      },
      "source": [
        "### Bài tập 7. (Exercise 10 trang 174, Chapter 5: Support Vector Machines)\n",
        " - <ins>Yêu cầu</ins>: Hãy huấn luyện một mô hình hồi quy tuyến tính với dữ liệu giá nhà ``California housing dataset``."
      ]
    },
    {
      "cell_type": "code",
      "metadata": {
        "id": "35pKerZEo-4-",
        "colab_type": "code",
        "colab": {}
      },
      "source": [
        "from sklearn.datasets import fetch_california_housing\n",
        "from sklearn.model_selection import train_test_split\n",
        "\n",
        "housing = fetch_california_housing()\n",
        "X = housing[\"data\"]\n",
        "y = housing[\"target\"]\n",
        "\n",
        "X_train, X_test, y_train, y_test = train_test_split(X, y, test_size=0.2, random_state=42)"
      ],
      "execution_count": null,
      "outputs": []
    },
    {
      "cell_type": "code",
      "metadata": {
        "id": "jLsDjZJ3x5ag",
        "colab_type": "code",
        "colab": {}
      },
      "source": [
        "# %%\n",
        "from sklearn.preprocessing import StandardScaler\n",
        "Scaler = StandardScaler()\n",
        "X_train_scaled = Scaler.fit_transform(X_train)\n",
        "X_test_scaled = Scaler.fit_transform(X_test)"
      ],
      "execution_count": null,
      "outputs": []
    },
    {
      "cell_type": "code",
      "metadata": {
        "id": "7C5LtEeox6Fp",
        "colab_type": "code",
        "colab": {
          "base_uri": "https://localhost:8080/",
          "height": 108
        },
        "outputId": "5d8bac61-d87e-419e-8b88-c3e9ee4d6e5c"
      },
      "source": [
        "# %%\n",
        "from sklearn.svm import LinearSVR\n",
        "\n",
        "lin_svr = LinearSVR(random_state = 42)\n",
        "lin_svr.fit(X_train_scaled, y_train)"
      ],
      "execution_count": null,
      "outputs": [
        {
          "output_type": "stream",
          "text": [
            "/usr/local/lib/python3.6/dist-packages/sklearn/svm/_base.py:947: ConvergenceWarning: Liblinear failed to converge, increase the number of iterations.\n",
            "  \"the number of iterations.\", ConvergenceWarning)\n"
          ],
          "name": "stderr"
        },
        {
          "output_type": "execute_result",
          "data": {
            "text/plain": [
              "LinearSVR(C=1.0, dual=True, epsilon=0.0, fit_intercept=True,\n",
              "          intercept_scaling=1.0, loss='epsilon_insensitive', max_iter=1000,\n",
              "          random_state=42, tol=0.0001, verbose=0)"
            ]
          },
          "metadata": {
            "tags": []
          },
          "execution_count": 5
        }
      ]
    },
    {
      "cell_type": "code",
      "metadata": {
        "id": "MjDzUcIHx7xi",
        "colab_type": "code",
        "colab": {
          "base_uri": "https://localhost:8080/",
          "height": 35
        },
        "outputId": "07dc97fa-42bf-4c9e-db76-5240c6469acc"
      },
      "source": [
        "# %%\n",
        "from sklearn.metrics import mean_squared_error\n",
        "\n",
        "y_pred = lin_svr.predict(X_train_scaled)\n",
        "mse = mean_squared_error(y_train, y_pred)\n",
        "mse"
      ],
      "execution_count": null,
      "outputs": [
        {
          "output_type": "execute_result",
          "data": {
            "text/plain": [
              "0.949968822217229"
            ]
          },
          "metadata": {
            "tags": []
          },
          "execution_count": 6
        }
      ]
    },
    {
      "cell_type": "code",
      "metadata": {
        "id": "qH5kKpKTx-Vq",
        "colab_type": "code",
        "colab": {
          "base_uri": "https://localhost:8080/",
          "height": 35
        },
        "outputId": "b2d0dda4-87ff-4d0c-b77e-c6f3ad88c977"
      },
      "source": [
        "# %%\n",
        "import numpy as np\n",
        "np.sqrt(mse)"
      ],
      "execution_count": null,
      "outputs": [
        {
          "output_type": "execute_result",
          "data": {
            "text/plain": [
              "0.9746634404845752"
            ]
          },
          "metadata": {
            "tags": []
          },
          "execution_count": 7
        }
      ]
    },
    {
      "cell_type": "code",
      "metadata": {
        "id": "6Z1yjz8zx_-h",
        "colab_type": "code",
        "colab": {
          "base_uri": "https://localhost:8080/",
          "height": 1000
        },
        "outputId": "0a9d34c7-a2ac-4723-b332-816bd51b4b7e"
      },
      "source": [
        "# %%\n",
        "from sklearn.svm import SVR\n",
        "from sklearn.model_selection import RandomizedSearchCV\n",
        "from scipy.stats import reciprocal , uniform\n",
        "param_distributions = {\"gamma\": reciprocal(0.001, 0.1), \"C\": uniform(1, 10)}\n",
        "rnd_search_cv = RandomizedSearchCV(SVR(), param_distributions, n_iter=10, verbose=2, cv=3, random_state=42)\n",
        "rnd_search_cv.fit(X_train_scaled, y_train)"
      ],
      "execution_count": null,
      "outputs": [
        {
          "output_type": "stream",
          "text": [
            "Fitting 3 folds for each of 10 candidates, totalling 30 fits\n",
            "[CV] C=4.745401188473625, gamma=0.07969454818643928 ..................\n"
          ],
          "name": "stdout"
        },
        {
          "output_type": "stream",
          "text": [
            "[Parallel(n_jobs=1)]: Using backend SequentialBackend with 1 concurrent workers.\n"
          ],
          "name": "stderr"
        },
        {
          "output_type": "stream",
          "text": [
            "[CV] ... C=4.745401188473625, gamma=0.07969454818643928, total=  10.5s\n",
            "[CV] C=4.745401188473625, gamma=0.07969454818643928 ..................\n"
          ],
          "name": "stdout"
        },
        {
          "output_type": "stream",
          "text": [
            "[Parallel(n_jobs=1)]: Done   1 out of   1 | elapsed:   10.5s remaining:    0.0s\n"
          ],
          "name": "stderr"
        },
        {
          "output_type": "stream",
          "text": [
            "[CV] ... C=4.745401188473625, gamma=0.07969454818643928, total=  10.3s\n",
            "[CV] C=4.745401188473625, gamma=0.07969454818643928 ..................\n",
            "[CV] ... C=4.745401188473625, gamma=0.07969454818643928, total=  10.4s\n",
            "[CV] C=8.31993941811405, gamma=0.015751320499779724 ..................\n",
            "[CV] ... C=8.31993941811405, gamma=0.015751320499779724, total=   9.7s\n",
            "[CV] C=8.31993941811405, gamma=0.015751320499779724 ..................\n",
            "[CV] ... C=8.31993941811405, gamma=0.015751320499779724, total=   9.5s\n",
            "[CV] C=8.31993941811405, gamma=0.015751320499779724 ..................\n",
            "[CV] ... C=8.31993941811405, gamma=0.015751320499779724, total=   9.6s\n",
            "[CV] C=2.560186404424365, gamma=0.002051110418843397 .................\n",
            "[CV] .. C=2.560186404424365, gamma=0.002051110418843397, total=   8.7s\n",
            "[CV] C=2.560186404424365, gamma=0.002051110418843397 .................\n",
            "[CV] .. C=2.560186404424365, gamma=0.002051110418843397, total=   8.7s\n",
            "[CV] C=2.560186404424365, gamma=0.002051110418843397 .................\n",
            "[CV] .. C=2.560186404424365, gamma=0.002051110418843397, total=   8.8s\n",
            "[CV] C=1.5808361216819946, gamma=0.05399484409787431 .................\n",
            "[CV] .. C=1.5808361216819946, gamma=0.05399484409787431, total=   8.8s\n",
            "[CV] C=1.5808361216819946, gamma=0.05399484409787431 .................\n",
            "[CV] .. C=1.5808361216819946, gamma=0.05399484409787431, total=   8.7s\n",
            "[CV] C=1.5808361216819946, gamma=0.05399484409787431 .................\n",
            "[CV] .. C=1.5808361216819946, gamma=0.05399484409787431, total=   8.7s\n",
            "[CV] C=7.011150117432088, gamma=0.026070247583707663 .................\n",
            "[CV] .. C=7.011150117432088, gamma=0.026070247583707663, total=   9.7s\n",
            "[CV] C=7.011150117432088, gamma=0.026070247583707663 .................\n",
            "[CV] .. C=7.011150117432088, gamma=0.026070247583707663, total=   9.8s\n",
            "[CV] C=7.011150117432088, gamma=0.026070247583707663 .................\n",
            "[CV] .. C=7.011150117432088, gamma=0.026070247583707663, total=   9.8s\n",
            "[CV] C=1.2058449429580245, gamma=0.0870602087830485 ..................\n",
            "[CV] ... C=1.2058449429580245, gamma=0.0870602087830485, total=   8.5s\n",
            "[CV] C=1.2058449429580245, gamma=0.0870602087830485 ..................\n",
            "[CV] ... C=1.2058449429580245, gamma=0.0870602087830485, total=   8.7s\n",
            "[CV] C=1.2058449429580245, gamma=0.0870602087830485 ..................\n",
            "[CV] ... C=1.2058449429580245, gamma=0.0870602087830485, total=   8.6s\n",
            "[CV] C=9.324426408004218, gamma=0.0026587543983272693 ................\n",
            "[CV] . C=9.324426408004218, gamma=0.0026587543983272693, total=   9.0s\n",
            "[CV] C=9.324426408004218, gamma=0.0026587543983272693 ................\n",
            "[CV] . C=9.324426408004218, gamma=0.0026587543983272693, total=   8.9s\n",
            "[CV] C=9.324426408004218, gamma=0.0026587543983272693 ................\n",
            "[CV] . C=9.324426408004218, gamma=0.0026587543983272693, total=   8.8s\n",
            "[CV] C=2.818249672071006, gamma=0.0023270677083837795 ................\n",
            "[CV] . C=2.818249672071006, gamma=0.0023270677083837795, total=   8.7s\n",
            "[CV] C=2.818249672071006, gamma=0.0023270677083837795 ................\n",
            "[CV] . C=2.818249672071006, gamma=0.0023270677083837795, total=   8.7s\n",
            "[CV] C=2.818249672071006, gamma=0.0023270677083837795 ................\n",
            "[CV] . C=2.818249672071006, gamma=0.0023270677083837795, total=   8.7s\n",
            "[CV] C=4.042422429595377, gamma=0.011207606211860567 .................\n",
            "[CV] .. C=4.042422429595377, gamma=0.011207606211860567, total=   8.8s\n",
            "[CV] C=4.042422429595377, gamma=0.011207606211860567 .................\n",
            "[CV] .. C=4.042422429595377, gamma=0.011207606211860567, total=   8.8s\n",
            "[CV] C=4.042422429595377, gamma=0.011207606211860567 .................\n",
            "[CV] .. C=4.042422429595377, gamma=0.011207606211860567, total=   8.9s\n",
            "[CV] C=5.319450186421157, gamma=0.003823475224675185 .................\n",
            "[CV] .. C=5.319450186421157, gamma=0.003823475224675185, total=   8.7s\n",
            "[CV] C=5.319450186421157, gamma=0.003823475224675185 .................\n",
            "[CV] .. C=5.319450186421157, gamma=0.003823475224675185, total=   8.8s\n",
            "[CV] C=5.319450186421157, gamma=0.003823475224675185 .................\n",
            "[CV] .. C=5.319450186421157, gamma=0.003823475224675185, total=   8.8s\n"
          ],
          "name": "stdout"
        },
        {
          "output_type": "stream",
          "text": [
            "[Parallel(n_jobs=1)]: Done  30 out of  30 | elapsed:  4.6min finished\n"
          ],
          "name": "stderr"
        },
        {
          "output_type": "execute_result",
          "data": {
            "text/plain": [
              "RandomizedSearchCV(cv=3, error_score=nan,\n",
              "                   estimator=SVR(C=1.0, cache_size=200, coef0=0.0, degree=3,\n",
              "                                 epsilon=0.1, gamma='scale', kernel='rbf',\n",
              "                                 max_iter=-1, shrinking=True, tol=0.001,\n",
              "                                 verbose=False),\n",
              "                   iid='deprecated', n_iter=10, n_jobs=None,\n",
              "                   param_distributions={'C': <scipy.stats._distn_infrastructure.rv_frozen object at 0x7f7673578860>,\n",
              "                                        'gamma': <scipy.stats._distn_infrastructure.rv_frozen object at 0x7f76735785f8>},\n",
              "                   pre_dispatch='2*n_jobs', random_state=42, refit=True,\n",
              "                   return_train_score=False, scoring=None, verbose=2)"
            ]
          },
          "metadata": {
            "tags": []
          },
          "execution_count": 8
        }
      ]
    },
    {
      "cell_type": "code",
      "metadata": {
        "id": "cjs8aXL3yDKw",
        "colab_type": "code",
        "colab": {
          "base_uri": "https://localhost:8080/",
          "height": 72
        },
        "outputId": "1e88fa87-482a-4bc8-83e8-a35401186aed"
      },
      "source": [
        "# %%\n",
        "rnd_search_cv.best_estimator_ \n"
      ],
      "execution_count": null,
      "outputs": [
        {
          "output_type": "execute_result",
          "data": {
            "text/plain": [
              "SVR(C=4.745401188473625, cache_size=200, coef0=0.0, degree=3, epsilon=0.1,\n",
              "    gamma=0.07969454818643928, kernel='rbf', max_iter=-1, shrinking=True,\n",
              "    tol=0.001, verbose=False)"
            ]
          },
          "metadata": {
            "tags": []
          },
          "execution_count": 9
        }
      ]
    },
    {
      "cell_type": "code",
      "metadata": {
        "id": "AzUFzxFhyExh",
        "colab_type": "code",
        "colab": {
          "base_uri": "https://localhost:8080/",
          "height": 35
        },
        "outputId": "e84afa12-6934-4d45-dfae-cc4ab23427c9"
      },
      "source": [
        "# %%\n",
        "y_pred = rnd_search_cv.best_estimator_.predict(X_train_scaled)\n",
        "mse = mean_squared_error(y_train, y_pred)\n",
        "np.sqrt(mse)"
      ],
      "execution_count": null,
      "outputs": [
        {
          "output_type": "execute_result",
          "data": {
            "text/plain": [
              "0.5727524770785356"
            ]
          },
          "metadata": {
            "tags": []
          },
          "execution_count": 10
        }
      ]
    },
    {
      "cell_type": "code",
      "metadata": {
        "id": "zGjyjjibyIXh",
        "colab_type": "code",
        "colab": {
          "base_uri": "https://localhost:8080/",
          "height": 35
        },
        "outputId": "4cabd396-095f-4785-83cd-e18f9bd1c1c7"
      },
      "source": [
        "y_pred = rnd_search_cv.best_estimator_.predict(X_test_scaled)\n",
        "mse = mean_squared_error(y_test, y_pred)\n",
        "np.sqrt(mse)"
      ],
      "execution_count": null,
      "outputs": [
        {
          "output_type": "execute_result",
          "data": {
            "text/plain": [
              "1.1066673077043268"
            ]
          },
          "metadata": {
            "tags": []
          },
          "execution_count": 12
        }
      ]
    }
  ]
}