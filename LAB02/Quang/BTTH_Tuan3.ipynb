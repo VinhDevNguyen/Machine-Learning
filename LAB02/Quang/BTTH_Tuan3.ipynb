{
 "cells": [
  {
   "cell_type": "code",
   "execution_count": 55,
   "metadata": {},
   "outputs": [],
   "source": [
    "import pandas as pd\n",
    "import numpy as np\n",
    "import statsmodels.api as sm\n",
    "from sklearn.metrics import mean_squared_error\n",
    "from sklearn.impute import SimpleImputer\n",
    "from sklearn.preprocessing import LabelEncoder\n",
    "import math"
   ]
  },
  {
   "cell_type": "markdown",
   "metadata": {},
   "source": [
    "# Đọc dữ liệu và quan sát nhanh dữ liệu California Housing Prices đã được chia thành 3 tập Train, Dev, và Test\n",
    "* Lệnh ``pd.read_csv()`` tham khảo tại trang 47 trong sách Hands-on Machine Learning with Scikit-Learn, Keras, and TensorFlow\n",
    "* Lệnh ``df.head()`` tham khảo tại trang 47 trong sách Hands-on Machine Learning with Scikit-Learn, Keras, and TensorFlow\n",
    "* Lệnh ``df.info()`` tham khảo tại trang 47 trong sách Hands-on Machine Learning with Scikit-Learn, Keras, and TensorFlow"
   ]
  },
  {
   "cell_type": "code",
   "execution_count": 56,
   "metadata": {},
   "outputs": [],
   "source": [
    "df_train = pd.read_csv('housing_train.csv') # Đọc dữ liệu tập Train (Tập dữ liệu việc huấn luyện mô hình)\n",
    "df_dev = pd.read_csv('housing_dev.csv')     # Đọc dữ liệu tập Dev   (Tập dữ liệu dành cho việc phát triển/tinh chỉnh mô hình)\n",
    "df_test = pd.read_csv('housing_test.csv')   # Đọc dữ liệu tập Test  (Tập dữ liệu dành cho việc kiểm tra mô hình)"
   ]
  },
  {
   "cell_type": "code",
   "execution_count": 57,
   "metadata": {},
   "outputs": [
    {
     "output_type": "stream",
     "name": "stdout",
     "text": "<class 'pandas.core.frame.DataFrame'>\nRangeIndex: 14447 entries, 0 to 14446\nData columns (total 10 columns):\nlongitude             14447 non-null float64\nlatitude              14447 non-null float64\nhousing_median_age    14447 non-null float64\ntotal_rooms           14447 non-null float64\ntotal_bedrooms        14287 non-null float64\npopulation            14447 non-null float64\nhouseholds            14447 non-null float64\nmedian_income         14447 non-null float64\nmedian_house_value    14447 non-null float64\nocean_proximity       14447 non-null object\ndtypes: float64(9), object(1)\nmemory usage: 1.1+ MB\n"
    }
   ],
   "source": [
    "df_train.info() # Kiểm tra thông tin ban đầu dữ liệu (số dòng, số cột, kiểu dữ liệu của các cột)"
   ]
  },
  {
   "cell_type": "code",
   "execution_count": 58,
   "metadata": {},
   "outputs": [
    {
     "output_type": "execute_result",
     "data": {
      "text/plain": "   longitude  latitude  housing_median_age  total_rooms  total_bedrooms  \\\n0    -117.83     34.15                20.0       2421.0           306.0   \n1    -119.85     36.77                27.0       1510.0           344.0   \n2    -122.13     37.67                40.0       1748.0           318.0   \n3    -119.81     34.46                22.0       3488.0           452.0   \n4    -120.47     34.65                32.0       2193.0           430.0   \n\n   population  households  median_income  median_house_value ocean_proximity  \n0      1023.0       298.0         8.0683            451500.0          INLAND  \n1       847.0       295.0         2.9315             83200.0          INLAND  \n2       914.0       317.0         3.8676            184000.0        NEAR BAY  \n3      1479.0       458.0         7.1687            384400.0      NEAR OCEAN  \n4      1074.0       377.0         2.3333            130200.0      NEAR OCEAN  ",
      "text/html": "<div>\n<style scoped>\n    .dataframe tbody tr th:only-of-type {\n        vertical-align: middle;\n    }\n\n    .dataframe tbody tr th {\n        vertical-align: top;\n    }\n\n    .dataframe thead th {\n        text-align: right;\n    }\n</style>\n<table border=\"1\" class=\"dataframe\">\n  <thead>\n    <tr style=\"text-align: right;\">\n      <th></th>\n      <th>longitude</th>\n      <th>latitude</th>\n      <th>housing_median_age</th>\n      <th>total_rooms</th>\n      <th>total_bedrooms</th>\n      <th>population</th>\n      <th>households</th>\n      <th>median_income</th>\n      <th>median_house_value</th>\n      <th>ocean_proximity</th>\n    </tr>\n  </thead>\n  <tbody>\n    <tr>\n      <td>0</td>\n      <td>-117.83</td>\n      <td>34.15</td>\n      <td>20.0</td>\n      <td>2421.0</td>\n      <td>306.0</td>\n      <td>1023.0</td>\n      <td>298.0</td>\n      <td>8.0683</td>\n      <td>451500.0</td>\n      <td>INLAND</td>\n    </tr>\n    <tr>\n      <td>1</td>\n      <td>-119.85</td>\n      <td>36.77</td>\n      <td>27.0</td>\n      <td>1510.0</td>\n      <td>344.0</td>\n      <td>847.0</td>\n      <td>295.0</td>\n      <td>2.9315</td>\n      <td>83200.0</td>\n      <td>INLAND</td>\n    </tr>\n    <tr>\n      <td>2</td>\n      <td>-122.13</td>\n      <td>37.67</td>\n      <td>40.0</td>\n      <td>1748.0</td>\n      <td>318.0</td>\n      <td>914.0</td>\n      <td>317.0</td>\n      <td>3.8676</td>\n      <td>184000.0</td>\n      <td>NEAR BAY</td>\n    </tr>\n    <tr>\n      <td>3</td>\n      <td>-119.81</td>\n      <td>34.46</td>\n      <td>22.0</td>\n      <td>3488.0</td>\n      <td>452.0</td>\n      <td>1479.0</td>\n      <td>458.0</td>\n      <td>7.1687</td>\n      <td>384400.0</td>\n      <td>NEAR OCEAN</td>\n    </tr>\n    <tr>\n      <td>4</td>\n      <td>-120.47</td>\n      <td>34.65</td>\n      <td>32.0</td>\n      <td>2193.0</td>\n      <td>430.0</td>\n      <td>1074.0</td>\n      <td>377.0</td>\n      <td>2.3333</td>\n      <td>130200.0</td>\n      <td>NEAR OCEAN</td>\n    </tr>\n  </tbody>\n</table>\n</div>"
     },
     "metadata": {},
     "execution_count": 58
    }
   ],
   "source": [
    "df_train.head() # Quan sát nhanh 5 dòng dữ liệu đầu tiên"
   ]
  },
  {
   "cell_type": "code",
   "execution_count": 59,
   "metadata": {},
   "outputs": [
    {
     "output_type": "stream",
     "name": "stdout",
     "text": "<class 'pandas.core.frame.DataFrame'>\nRangeIndex: 2065 entries, 0 to 2064\nData columns (total 10 columns):\nlongitude             2065 non-null float64\nlatitude              2065 non-null float64\nhousing_median_age    2065 non-null float64\ntotal_rooms           2065 non-null float64\ntotal_bedrooms        2048 non-null float64\npopulation            2065 non-null float64\nhouseholds            2065 non-null float64\nmedian_income         2065 non-null float64\nmedian_house_value    2065 non-null float64\nocean_proximity       2065 non-null object\ndtypes: float64(9), object(1)\nmemory usage: 161.5+ KB\n"
    }
   ],
   "source": [
    "df_dev.info() # Kiểm tra thông tin ban đầu dữ liệu (số dòng, số cột, kiểu dữ liệu của các cột)"
   ]
  },
  {
   "cell_type": "code",
   "execution_count": 60,
   "metadata": {},
   "outputs": [
    {
     "output_type": "execute_result",
     "data": {
      "text/plain": "   longitude  latitude  housing_median_age  total_rooms  total_bedrooms  \\\n0    -118.36     33.92                26.0       3695.0          1144.0   \n1    -118.41     34.19                45.0       1106.0           225.0   \n2    -122.48     37.73                38.0       3195.0           828.0   \n3    -117.18     32.76                 8.0       3694.0           997.0   \n4    -117.15     33.14                15.0       1070.0           208.0   \n\n   population  households  median_income  median_house_value ocean_proximity  \n0      2308.0      1009.0         2.6667            229300.0       <1H OCEAN  \n1       595.0       228.0         3.6625            190700.0       <1H OCEAN  \n2      2410.0       778.0         3.1359            350000.0      NEAR OCEAN  \n3      1297.0       807.0         3.6492            158900.0      NEAR OCEAN  \n4       470.0       217.0         2.3062            158900.0       <1H OCEAN  ",
      "text/html": "<div>\n<style scoped>\n    .dataframe tbody tr th:only-of-type {\n        vertical-align: middle;\n    }\n\n    .dataframe tbody tr th {\n        vertical-align: top;\n    }\n\n    .dataframe thead th {\n        text-align: right;\n    }\n</style>\n<table border=\"1\" class=\"dataframe\">\n  <thead>\n    <tr style=\"text-align: right;\">\n      <th></th>\n      <th>longitude</th>\n      <th>latitude</th>\n      <th>housing_median_age</th>\n      <th>total_rooms</th>\n      <th>total_bedrooms</th>\n      <th>population</th>\n      <th>households</th>\n      <th>median_income</th>\n      <th>median_house_value</th>\n      <th>ocean_proximity</th>\n    </tr>\n  </thead>\n  <tbody>\n    <tr>\n      <td>0</td>\n      <td>-118.36</td>\n      <td>33.92</td>\n      <td>26.0</td>\n      <td>3695.0</td>\n      <td>1144.0</td>\n      <td>2308.0</td>\n      <td>1009.0</td>\n      <td>2.6667</td>\n      <td>229300.0</td>\n      <td>&lt;1H OCEAN</td>\n    </tr>\n    <tr>\n      <td>1</td>\n      <td>-118.41</td>\n      <td>34.19</td>\n      <td>45.0</td>\n      <td>1106.0</td>\n      <td>225.0</td>\n      <td>595.0</td>\n      <td>228.0</td>\n      <td>3.6625</td>\n      <td>190700.0</td>\n      <td>&lt;1H OCEAN</td>\n    </tr>\n    <tr>\n      <td>2</td>\n      <td>-122.48</td>\n      <td>37.73</td>\n      <td>38.0</td>\n      <td>3195.0</td>\n      <td>828.0</td>\n      <td>2410.0</td>\n      <td>778.0</td>\n      <td>3.1359</td>\n      <td>350000.0</td>\n      <td>NEAR OCEAN</td>\n    </tr>\n    <tr>\n      <td>3</td>\n      <td>-117.18</td>\n      <td>32.76</td>\n      <td>8.0</td>\n      <td>3694.0</td>\n      <td>997.0</td>\n      <td>1297.0</td>\n      <td>807.0</td>\n      <td>3.6492</td>\n      <td>158900.0</td>\n      <td>NEAR OCEAN</td>\n    </tr>\n    <tr>\n      <td>4</td>\n      <td>-117.15</td>\n      <td>33.14</td>\n      <td>15.0</td>\n      <td>1070.0</td>\n      <td>208.0</td>\n      <td>470.0</td>\n      <td>217.0</td>\n      <td>2.3062</td>\n      <td>158900.0</td>\n      <td>&lt;1H OCEAN</td>\n    </tr>\n  </tbody>\n</table>\n</div>"
     },
     "metadata": {},
     "execution_count": 60
    }
   ],
   "source": [
    "df_dev.head() # Quan sát nhanh 5 dòng dữ liệu đầu tiên"
   ]
  },
  {
   "cell_type": "code",
   "execution_count": 61,
   "metadata": {},
   "outputs": [
    {
     "output_type": "stream",
     "name": "stdout",
     "text": "<class 'pandas.core.frame.DataFrame'>\nRangeIndex: 4128 entries, 0 to 4127\nData columns (total 10 columns):\nlongitude             4128 non-null float64\nlatitude              4128 non-null float64\nhousing_median_age    4128 non-null float64\ntotal_rooms           4128 non-null float64\ntotal_bedrooms        4098 non-null float64\npopulation            4128 non-null float64\nhouseholds            4128 non-null float64\nmedian_income         4128 non-null float64\nmedian_house_value    4128 non-null float64\nocean_proximity       4128 non-null object\ndtypes: float64(9), object(1)\nmemory usage: 322.6+ KB\n"
    }
   ],
   "source": [
    "df_test.info() # Kiểm tra thông tin ban đầu dữ liệu (số dòng, số cột, kiểu dữ liệu của các cột)"
   ]
  },
  {
   "cell_type": "code",
   "execution_count": 62,
   "metadata": {},
   "outputs": [
    {
     "output_type": "execute_result",
     "data": {
      "text/plain": "   longitude  latitude  housing_median_age  total_rooms  total_bedrooms  \\\n0    -122.41     37.65                32.0       3436.0           868.0   \n1    -117.91     33.84                25.0       1021.0           252.0   \n2    -118.35     34.08                52.0       1801.0           313.0   \n3    -121.02     37.61                33.0       1469.0           370.0   \n4    -117.65     34.10                30.0       1461.0           341.0   \n\n   population  households  median_income  median_house_value ocean_proximity  \n0      2583.0       817.0         3.5039            232400.0      NEAR OCEAN  \n1       975.0       258.0         3.1250            168100.0       <1H OCEAN  \n2       714.0       293.0         4.6838            479000.0       <1H OCEAN  \n3      1318.0       349.0         1.7104             59000.0          INLAND  \n4      1014.0       345.0         2.4667            106000.0          INLAND  ",
      "text/html": "<div>\n<style scoped>\n    .dataframe tbody tr th:only-of-type {\n        vertical-align: middle;\n    }\n\n    .dataframe tbody tr th {\n        vertical-align: top;\n    }\n\n    .dataframe thead th {\n        text-align: right;\n    }\n</style>\n<table border=\"1\" class=\"dataframe\">\n  <thead>\n    <tr style=\"text-align: right;\">\n      <th></th>\n      <th>longitude</th>\n      <th>latitude</th>\n      <th>housing_median_age</th>\n      <th>total_rooms</th>\n      <th>total_bedrooms</th>\n      <th>population</th>\n      <th>households</th>\n      <th>median_income</th>\n      <th>median_house_value</th>\n      <th>ocean_proximity</th>\n    </tr>\n  </thead>\n  <tbody>\n    <tr>\n      <td>0</td>\n      <td>-122.41</td>\n      <td>37.65</td>\n      <td>32.0</td>\n      <td>3436.0</td>\n      <td>868.0</td>\n      <td>2583.0</td>\n      <td>817.0</td>\n      <td>3.5039</td>\n      <td>232400.0</td>\n      <td>NEAR OCEAN</td>\n    </tr>\n    <tr>\n      <td>1</td>\n      <td>-117.91</td>\n      <td>33.84</td>\n      <td>25.0</td>\n      <td>1021.0</td>\n      <td>252.0</td>\n      <td>975.0</td>\n      <td>258.0</td>\n      <td>3.1250</td>\n      <td>168100.0</td>\n      <td>&lt;1H OCEAN</td>\n    </tr>\n    <tr>\n      <td>2</td>\n      <td>-118.35</td>\n      <td>34.08</td>\n      <td>52.0</td>\n      <td>1801.0</td>\n      <td>313.0</td>\n      <td>714.0</td>\n      <td>293.0</td>\n      <td>4.6838</td>\n      <td>479000.0</td>\n      <td>&lt;1H OCEAN</td>\n    </tr>\n    <tr>\n      <td>3</td>\n      <td>-121.02</td>\n      <td>37.61</td>\n      <td>33.0</td>\n      <td>1469.0</td>\n      <td>370.0</td>\n      <td>1318.0</td>\n      <td>349.0</td>\n      <td>1.7104</td>\n      <td>59000.0</td>\n      <td>INLAND</td>\n    </tr>\n    <tr>\n      <td>4</td>\n      <td>-117.65</td>\n      <td>34.10</td>\n      <td>30.0</td>\n      <td>1461.0</td>\n      <td>341.0</td>\n      <td>1014.0</td>\n      <td>345.0</td>\n      <td>2.4667</td>\n      <td>106000.0</td>\n      <td>INLAND</td>\n    </tr>\n  </tbody>\n</table>\n</div>"
     },
     "metadata": {},
     "execution_count": 62
    }
   ],
   "source": [
    "df_test.head() # Quan sát nhanh 5 dòng dữ liệu đầu tiên"
   ]
  },
  {
   "cell_type": "markdown",
   "metadata": {},
   "source": [
    "# Tách thuộc tính \"median_house_value\" để làm thuộc tính cần dự đoán  cho bài toán hồi quy tuyến tính (Y), các thuộc tính còn lại là dữ kiện (X).\n",
    "* Lệnh ``df.drop()`` tham khảo tại trang sách số 63 sách tham khảo Hands-on Machine Learning with Scikit-Learn, Keras, and TensorFlow"
   ]
  },
  {
   "cell_type": "code",
   "execution_count": 63,
   "metadata": {},
   "outputs": [],
   "source": [
    "train_X = df_train.drop(\"median_house_value\", axis=1)\n",
    "train_Y = df_train[\"median_house_value\"].copy()\n",
    "del df_train\n",
    "\n",
    "dev_X = df_dev.drop(\"median_house_value\", axis=1)\n",
    "dev_Y = df_dev[\"median_house_value\"].copy()\n",
    "del df_dev\n",
    "\n",
    "test_X = df_test.drop(\"median_house_value\", axis=1)\n",
    "test_Y = df_test[\"median_house_value\"].copy()\n",
    "del df_test"
   ]
  },
  {
   "cell_type": "markdown",
   "metadata": {},
   "source": [
    "# Kiểm tra các thuộc tính bị khuyết giá trị trong tập Train\n",
    "* Chúng ta có thể cả các lệnh ``df.isnull()`` hoặc ``df.isna()`` để chỉ giá trị bị khuyết (``True``) / không bị khuyết (``False``)\n",
    "* Chúng ta dùng tiếp lệnh ``arr.any(axis=1)`` để trả về các dòng chỉ chứa một cột có giá trị ``True``/``False`` nếu các cột chỉ cần tồn tại một thuộc tính ``True``\n",
    "* Chúng ta tính tổng các dòng kết quả trên bằng lệnh ``arr.sum(axis=0)`` sẽ biết được số trường hợp bị khuyết của mỗi thuộc tính"
   ]
  },
  {
   "cell_type": "code",
   "execution_count": 64,
   "metadata": {},
   "outputs": [
    {
     "output_type": "execute_result",
     "data": {
      "text/plain": "       longitude  latitude  housing_median_age  total_rooms  total_bedrooms  \\\n0          False     False               False        False           False   \n1          False     False               False        False           False   \n2          False     False               False        False           False   \n3          False     False               False        False           False   \n4          False     False               False        False           False   \n...          ...       ...                 ...          ...             ...   \n14442      False     False               False        False           False   \n14443      False     False               False        False           False   \n14444      False     False               False        False           False   \n14445      False     False               False        False           False   \n14446      False     False               False        False           False   \n\n       population  households  median_income  ocean_proximity  \n0           False       False          False            False  \n1           False       False          False            False  \n2           False       False          False            False  \n3           False       False          False            False  \n4           False       False          False            False  \n...           ...         ...            ...              ...  \n14442       False       False          False            False  \n14443       False       False          False            False  \n14444       False       False          False            False  \n14445       False       False          False            False  \n14446       False       False          False            False  \n\n[14447 rows x 9 columns]",
      "text/html": "<div>\n<style scoped>\n    .dataframe tbody tr th:only-of-type {\n        vertical-align: middle;\n    }\n\n    .dataframe tbody tr th {\n        vertical-align: top;\n    }\n\n    .dataframe thead th {\n        text-align: right;\n    }\n</style>\n<table border=\"1\" class=\"dataframe\">\n  <thead>\n    <tr style=\"text-align: right;\">\n      <th></th>\n      <th>longitude</th>\n      <th>latitude</th>\n      <th>housing_median_age</th>\n      <th>total_rooms</th>\n      <th>total_bedrooms</th>\n      <th>population</th>\n      <th>households</th>\n      <th>median_income</th>\n      <th>ocean_proximity</th>\n    </tr>\n  </thead>\n  <tbody>\n    <tr>\n      <td>0</td>\n      <td>False</td>\n      <td>False</td>\n      <td>False</td>\n      <td>False</td>\n      <td>False</td>\n      <td>False</td>\n      <td>False</td>\n      <td>False</td>\n      <td>False</td>\n    </tr>\n    <tr>\n      <td>1</td>\n      <td>False</td>\n      <td>False</td>\n      <td>False</td>\n      <td>False</td>\n      <td>False</td>\n      <td>False</td>\n      <td>False</td>\n      <td>False</td>\n      <td>False</td>\n    </tr>\n    <tr>\n      <td>2</td>\n      <td>False</td>\n      <td>False</td>\n      <td>False</td>\n      <td>False</td>\n      <td>False</td>\n      <td>False</td>\n      <td>False</td>\n      <td>False</td>\n      <td>False</td>\n    </tr>\n    <tr>\n      <td>3</td>\n      <td>False</td>\n      <td>False</td>\n      <td>False</td>\n      <td>False</td>\n      <td>False</td>\n      <td>False</td>\n      <td>False</td>\n      <td>False</td>\n      <td>False</td>\n    </tr>\n    <tr>\n      <td>4</td>\n      <td>False</td>\n      <td>False</td>\n      <td>False</td>\n      <td>False</td>\n      <td>False</td>\n      <td>False</td>\n      <td>False</td>\n      <td>False</td>\n      <td>False</td>\n    </tr>\n    <tr>\n      <td>...</td>\n      <td>...</td>\n      <td>...</td>\n      <td>...</td>\n      <td>...</td>\n      <td>...</td>\n      <td>...</td>\n      <td>...</td>\n      <td>...</td>\n      <td>...</td>\n    </tr>\n    <tr>\n      <td>14442</td>\n      <td>False</td>\n      <td>False</td>\n      <td>False</td>\n      <td>False</td>\n      <td>False</td>\n      <td>False</td>\n      <td>False</td>\n      <td>False</td>\n      <td>False</td>\n    </tr>\n    <tr>\n      <td>14443</td>\n      <td>False</td>\n      <td>False</td>\n      <td>False</td>\n      <td>False</td>\n      <td>False</td>\n      <td>False</td>\n      <td>False</td>\n      <td>False</td>\n      <td>False</td>\n    </tr>\n    <tr>\n      <td>14444</td>\n      <td>False</td>\n      <td>False</td>\n      <td>False</td>\n      <td>False</td>\n      <td>False</td>\n      <td>False</td>\n      <td>False</td>\n      <td>False</td>\n      <td>False</td>\n    </tr>\n    <tr>\n      <td>14445</td>\n      <td>False</td>\n      <td>False</td>\n      <td>False</td>\n      <td>False</td>\n      <td>False</td>\n      <td>False</td>\n      <td>False</td>\n      <td>False</td>\n      <td>False</td>\n    </tr>\n    <tr>\n      <td>14446</td>\n      <td>False</td>\n      <td>False</td>\n      <td>False</td>\n      <td>False</td>\n      <td>False</td>\n      <td>False</td>\n      <td>False</td>\n      <td>False</td>\n      <td>False</td>\n    </tr>\n  </tbody>\n</table>\n<p>14447 rows × 9 columns</p>\n</div>"
     },
     "metadata": {},
     "execution_count": 64
    }
   ],
   "source": [
    "train_X.isnull()"
   ]
  },
  {
   "cell_type": "code",
   "execution_count": 65,
   "metadata": {},
   "outputs": [
    {
     "output_type": "execute_result",
     "data": {
      "text/plain": "0        False\n1        False\n2        False\n3        False\n4        False\n         ...  \n14442    False\n14443    False\n14444    False\n14445    False\n14446    False\nLength: 14447, dtype: bool"
     },
     "metadata": {},
     "execution_count": 65
    }
   ],
   "source": [
    "train_X.isnull().any(axis=1)\n",
    "# train_X.isna().any(axis=1)"
   ]
  },
  {
   "cell_type": "code",
   "execution_count": 66,
   "metadata": {},
   "outputs": [
    {
     "output_type": "execute_result",
     "data": {
      "text/plain": "       longitude  latitude  housing_median_age  total_rooms  total_bedrooms  \\\n41       -124.00     40.92                29.0       1429.0             NaN   \n204      -120.97     37.43                27.0       1380.0             NaN   \n403      -118.27     34.07                27.0       1190.0             NaN   \n413      -119.45     36.61                24.0       1302.0             NaN   \n586      -121.30     38.58                16.0       1537.0             NaN   \n...          ...       ...                 ...          ...             ...   \n13865    -121.75     37.11                18.0       3167.0             NaN   \n13918    -118.10     33.74                32.0       2035.0             NaN   \n14004    -122.08     37.37                29.0       1229.0             NaN   \n14168    -119.38     36.53                38.0       1281.0             NaN   \n14371    -117.91     33.87                29.0       1121.0             NaN   \n\n       population  households  median_income ocean_proximity  \n41          672.0       266.0         2.9485       <1H OCEAN  \n204         810.0       262.0         2.1875          INLAND  \n403        1795.0       422.0         1.7016       <1H OCEAN  \n413         693.0       243.0         3.7917          INLAND  \n586        1125.0       375.0         2.6471          INLAND  \n...           ...         ...            ...             ...  \n13865      1414.0       482.0         6.8773       <1H OCEAN  \n13918       934.0       512.0         4.2287      NEAR OCEAN  \n14004       707.0       194.0         7.1108        NEAR BAY  \n14168      1423.0       293.0         1.9602          INLAND  \n14371       762.0       276.0         2.5000       <1H OCEAN  \n\n[160 rows x 9 columns]",
      "text/html": "<div>\n<style scoped>\n    .dataframe tbody tr th:only-of-type {\n        vertical-align: middle;\n    }\n\n    .dataframe tbody tr th {\n        vertical-align: top;\n    }\n\n    .dataframe thead th {\n        text-align: right;\n    }\n</style>\n<table border=\"1\" class=\"dataframe\">\n  <thead>\n    <tr style=\"text-align: right;\">\n      <th></th>\n      <th>longitude</th>\n      <th>latitude</th>\n      <th>housing_median_age</th>\n      <th>total_rooms</th>\n      <th>total_bedrooms</th>\n      <th>population</th>\n      <th>households</th>\n      <th>median_income</th>\n      <th>ocean_proximity</th>\n    </tr>\n  </thead>\n  <tbody>\n    <tr>\n      <td>41</td>\n      <td>-124.00</td>\n      <td>40.92</td>\n      <td>29.0</td>\n      <td>1429.0</td>\n      <td>NaN</td>\n      <td>672.0</td>\n      <td>266.0</td>\n      <td>2.9485</td>\n      <td>&lt;1H OCEAN</td>\n    </tr>\n    <tr>\n      <td>204</td>\n      <td>-120.97</td>\n      <td>37.43</td>\n      <td>27.0</td>\n      <td>1380.0</td>\n      <td>NaN</td>\n      <td>810.0</td>\n      <td>262.0</td>\n      <td>2.1875</td>\n      <td>INLAND</td>\n    </tr>\n    <tr>\n      <td>403</td>\n      <td>-118.27</td>\n      <td>34.07</td>\n      <td>27.0</td>\n      <td>1190.0</td>\n      <td>NaN</td>\n      <td>1795.0</td>\n      <td>422.0</td>\n      <td>1.7016</td>\n      <td>&lt;1H OCEAN</td>\n    </tr>\n    <tr>\n      <td>413</td>\n      <td>-119.45</td>\n      <td>36.61</td>\n      <td>24.0</td>\n      <td>1302.0</td>\n      <td>NaN</td>\n      <td>693.0</td>\n      <td>243.0</td>\n      <td>3.7917</td>\n      <td>INLAND</td>\n    </tr>\n    <tr>\n      <td>586</td>\n      <td>-121.30</td>\n      <td>38.58</td>\n      <td>16.0</td>\n      <td>1537.0</td>\n      <td>NaN</td>\n      <td>1125.0</td>\n      <td>375.0</td>\n      <td>2.6471</td>\n      <td>INLAND</td>\n    </tr>\n    <tr>\n      <td>...</td>\n      <td>...</td>\n      <td>...</td>\n      <td>...</td>\n      <td>...</td>\n      <td>...</td>\n      <td>...</td>\n      <td>...</td>\n      <td>...</td>\n      <td>...</td>\n    </tr>\n    <tr>\n      <td>13865</td>\n      <td>-121.75</td>\n      <td>37.11</td>\n      <td>18.0</td>\n      <td>3167.0</td>\n      <td>NaN</td>\n      <td>1414.0</td>\n      <td>482.0</td>\n      <td>6.8773</td>\n      <td>&lt;1H OCEAN</td>\n    </tr>\n    <tr>\n      <td>13918</td>\n      <td>-118.10</td>\n      <td>33.74</td>\n      <td>32.0</td>\n      <td>2035.0</td>\n      <td>NaN</td>\n      <td>934.0</td>\n      <td>512.0</td>\n      <td>4.2287</td>\n      <td>NEAR OCEAN</td>\n    </tr>\n    <tr>\n      <td>14004</td>\n      <td>-122.08</td>\n      <td>37.37</td>\n      <td>29.0</td>\n      <td>1229.0</td>\n      <td>NaN</td>\n      <td>707.0</td>\n      <td>194.0</td>\n      <td>7.1108</td>\n      <td>NEAR BAY</td>\n    </tr>\n    <tr>\n      <td>14168</td>\n      <td>-119.38</td>\n      <td>36.53</td>\n      <td>38.0</td>\n      <td>1281.0</td>\n      <td>NaN</td>\n      <td>1423.0</td>\n      <td>293.0</td>\n      <td>1.9602</td>\n      <td>INLAND</td>\n    </tr>\n    <tr>\n      <td>14371</td>\n      <td>-117.91</td>\n      <td>33.87</td>\n      <td>29.0</td>\n      <td>1121.0</td>\n      <td>NaN</td>\n      <td>762.0</td>\n      <td>276.0</td>\n      <td>2.5000</td>\n      <td>&lt;1H OCEAN</td>\n    </tr>\n  </tbody>\n</table>\n<p>160 rows × 9 columns</p>\n</div>"
     },
     "metadata": {},
     "execution_count": 66
    }
   ],
   "source": [
    "train_X[train_X.isnull().any(axis=1)]\n",
    "# train_X[train_X.isna().any(axis=1)]"
   ]
  },
  {
   "cell_type": "code",
   "execution_count": 67,
   "metadata": {},
   "outputs": [
    {
     "output_type": "execute_result",
     "data": {
      "text/plain": "longitude               0\nlatitude                0\nhousing_median_age      0\ntotal_rooms             0\ntotal_bedrooms        160\npopulation              0\nhouseholds              0\nmedian_income           0\nocean_proximity         0\ndtype: int64"
     },
     "metadata": {},
     "execution_count": 67
    }
   ],
   "source": [
    "train_X.isnull().sum(axis = 0)\n",
    "# train_X.isna().sum(axis = 0)"
   ]
  },
  {
   "cell_type": "markdown",
   "metadata": {},
   "source": [
    "# Xử lý các cột bị khuyết dữ liệu trên tập Train\n",
    "1. Phương án 1: Xóa toàn bộ một dòng có cột dữ liệu bị khuyết\n",
    "2. Phương án 2: Thay thế giá trị số bằng cách dùng trung bình cộng (``mean``) của toàn cột dữ liệu đó\n",
    "    * Cách xử lý 1: Dùng lớp ``SimpleImputer`` từ thư viện ``sklearn.impute``\n",
    "    * Cách xử lý 2: Cách hai thực hiện một số thao tác trên cột\n",
    "\n",
    "Các bạn có thể tham khảo tại trang số 63 sách Hands-on Machine Learning with Scikit-Learn, Keras, and TensorFlow"
   ]
  },
  {
   "cell_type": "code",
   "execution_count": 68,
   "metadata": {},
   "outputs": [],
   "source": [
    "# Cách 1:\n",
    "imputer_mean = SimpleImputer(missing_values=np.nan, strategy='mean')\n",
    "imputer_mean.fit(train_X[\"total_bedrooms\"].values.reshape(-1, 1))\n",
    "tmp_total_bedrooms = imputer_mean.transform(train_X['total_bedrooms'].values.reshape(-1, 1))"
   ]
  },
  {
   "cell_type": "code",
   "execution_count": 69,
   "metadata": {},
   "outputs": [
    {
     "output_type": "stream",
     "name": "stdout",
     "text": "41       538.66578\n204      538.66578\n403      538.66578\n413      538.66578\n586      538.66578\n           ...    \n13865    538.66578\n13918    538.66578\n14004    538.66578\n14168    538.66578\n14371    538.66578\nName: total_bedrooms, Length: 160, dtype: float64\n"
    }
   ],
   "source": [
    "# Cách 2:\n",
    "idx_null = train_X[\"total_bedrooms\"].isnull() # kiểm tra giá trị khuyết\n",
    "mean_total_bedrooms = train_X[\"total_bedrooms\"][train_X[\"total_bedrooms\"].isna() == False].mean() # tính trung bình cộng các giá trị không bị khuyết\n",
    "train_X[\"total_bedrooms\"].fillna(mean_total_bedrooms, inplace=True) # thay thế các dòng không bị khuyết bởi giá trị trung bình\n",
    "print(train_X[\"total_bedrooms\"][idx_null == True]) # in ra màn hình giá trị các dòng bị khuyết ban đầu để kiểm tra"
   ]
  },
  {
   "cell_type": "code",
   "execution_count": 70,
   "metadata": {},
   "outputs": [
    {
     "output_type": "stream",
     "name": "stdout",
     "text": "True\nTrue\n"
    }
   ],
   "source": [
    "print((train_X[\"total_bedrooms\"] == tmp_total_bedrooms.squeeze()).all()) # Kiểm tra kết quả Cách 1 và Cách 2 có giống nhau hay không?\n",
    "\n",
    "print((train_X[\"total_bedrooms\"].isna() == False).all()) # Kiểm tra kết quả sau khi áp dụng Cách 2 còn giá trị nào bị khuyết hay không?"
   ]
  },
  {
   "cell_type": "markdown",
   "metadata": {},
   "source": [
    "# Yêu cầu 1: Xử lý các cột bị khuyết dữ liệu trên tập Dev/Test"
   ]
  },
  {
   "cell_type": "code",
   "execution_count": 71,
   "metadata": {},
   "outputs": [
    {
     "output_type": "execute_result",
     "data": {
      "text/plain": "longitude              0\nlatitude               0\nhousing_median_age     0\ntotal_rooms            0\ntotal_bedrooms        30\npopulation             0\nhouseholds             0\nmedian_income          0\nocean_proximity        0\ndtype: int64"
     },
     "metadata": {},
     "execution_count": 71
    }
   ],
   "source": [
    "# Các bạn code tại đây\n",
    "test_X.isnull().sum(axis = 0)"
   ]
  },
  {
   "cell_type": "code",
   "execution_count": 72,
   "metadata": {},
   "outputs": [
    {
     "output_type": "execute_result",
     "data": {
      "text/plain": "      longitude  latitude  housing_median_age  total_rooms  total_bedrooms  \\\n440     -118.12     34.08                35.0       2248.0             NaN   \n725     -121.77     39.66                20.0       3759.0             NaN   \n815     -118.31     34.09                37.0        773.0             NaN   \n849     -118.59     34.20                21.0       1789.0             NaN   \n860     -119.46     35.14                30.0       2943.0             NaN   \n920     -122.70     38.35                14.0       2313.0             NaN   \n1116    -118.02     33.89                36.0       1375.0             NaN   \n1124    -117.66     33.51                18.0       2626.0             NaN   \n1453    -118.45     34.30                27.0       2676.0             NaN   \n1480    -122.65     38.25                23.0       4030.0             NaN   \n1618    -117.20     32.79                29.0       1213.0             NaN   \n1622    -118.05     33.99                38.0       1619.0             NaN   \n1668    -118.40     34.17                24.0       6347.0             NaN   \n1692    -118.27     34.17                52.0       2010.0             NaN   \n1696    -118.38     34.05                49.0        702.0             NaN   \n1793    -116.91     32.83                16.0       5203.0             NaN   \n1801    -120.32     37.29                38.0        576.0             NaN   \n1845    -118.50     34.46                17.0      10267.0             NaN   \n1967    -118.35     33.90                31.0       1547.0             NaN   \n2127    -120.93     37.73                14.0       2799.0             NaN   \n2190    -118.80     34.41                45.0       1610.0             NaN   \n2369    -117.05     32.75                36.0       2024.0             NaN   \n2795    -119.73     36.83                 8.0       3602.0             NaN   \n2939    -119.72     36.76                23.0       6403.0             NaN   \n3057    -118.55     34.28                16.0       8879.0             NaN   \n3065    -117.65     34.04                15.0       3393.0             NaN   \n3068    -122.10     40.03                25.0       2516.0             NaN   \n3278    -117.02     32.78                31.0       2567.0             NaN   \n3797    -118.22     34.05                34.0       1113.0             NaN   \n4019    -118.50     34.17                37.0        880.0             NaN   \n\n      population  households  median_income ocean_proximity  \n440       1762.0       622.0         3.0000       <1H OCEAN  \n725       1705.0       600.0         4.7120          INLAND  \n815        835.0       312.0         1.8576       <1H OCEAN  \n849       2300.0       677.0         2.7540       <1H OCEAN  \n860       1565.0       584.0         2.5313          INLAND  \n920        954.0       397.0         3.7813       <1H OCEAN  \n1116       670.0       221.0         5.0839       <1H OCEAN  \n1124      1302.0       522.0         4.0167       <1H OCEAN  \n1453      2661.0       623.0         4.3047       <1H OCEAN  \n1480      1852.0       778.0         3.4020       <1H OCEAN  \n1618       654.0       246.0         4.5987      NEAR OCEAN  \n1622       886.0       357.0         3.7328       <1H OCEAN  \n1668      2945.0      1492.0         3.3545       <1H OCEAN  \n1692       908.0       326.0         6.9135       <1H OCEAN  \n1696       458.0       187.0         4.8958       <1H OCEAN  \n1793      2515.0       862.0         4.1050       <1H OCEAN  \n1801       478.0       112.0         2.3382          INLAND  \n1845      4956.0      1483.0         5.5061       <1H OCEAN  \n1967       956.0       287.0         3.4698       <1H OCEAN  \n2127      2294.0       596.0         2.6343          INLAND  \n2190      1148.0       347.0         2.7000       <1H OCEAN  \n2369      1030.0       390.0         3.8233      NEAR OCEAN  \n2795      1959.0       580.0         5.3478          INLAND  \n2939      3573.0      1260.0         2.3006          INLAND  \n3057      3468.0      1200.0         8.1125       <1H OCEAN  \n3065      2039.0       611.0         3.9336          INLAND  \n3068      1266.0       494.0         1.7566          INLAND  \n3278      1198.0       499.0         3.4659       <1H OCEAN  \n3797       928.0       290.0         3.1654       <1H OCEAN  \n4019       369.0       155.0         4.1429       <1H OCEAN  ",
      "text/html": "<div>\n<style scoped>\n    .dataframe tbody tr th:only-of-type {\n        vertical-align: middle;\n    }\n\n    .dataframe tbody tr th {\n        vertical-align: top;\n    }\n\n    .dataframe thead th {\n        text-align: right;\n    }\n</style>\n<table border=\"1\" class=\"dataframe\">\n  <thead>\n    <tr style=\"text-align: right;\">\n      <th></th>\n      <th>longitude</th>\n      <th>latitude</th>\n      <th>housing_median_age</th>\n      <th>total_rooms</th>\n      <th>total_bedrooms</th>\n      <th>population</th>\n      <th>households</th>\n      <th>median_income</th>\n      <th>ocean_proximity</th>\n    </tr>\n  </thead>\n  <tbody>\n    <tr>\n      <td>440</td>\n      <td>-118.12</td>\n      <td>34.08</td>\n      <td>35.0</td>\n      <td>2248.0</td>\n      <td>NaN</td>\n      <td>1762.0</td>\n      <td>622.0</td>\n      <td>3.0000</td>\n      <td>&lt;1H OCEAN</td>\n    </tr>\n    <tr>\n      <td>725</td>\n      <td>-121.77</td>\n      <td>39.66</td>\n      <td>20.0</td>\n      <td>3759.0</td>\n      <td>NaN</td>\n      <td>1705.0</td>\n      <td>600.0</td>\n      <td>4.7120</td>\n      <td>INLAND</td>\n    </tr>\n    <tr>\n      <td>815</td>\n      <td>-118.31</td>\n      <td>34.09</td>\n      <td>37.0</td>\n      <td>773.0</td>\n      <td>NaN</td>\n      <td>835.0</td>\n      <td>312.0</td>\n      <td>1.8576</td>\n      <td>&lt;1H OCEAN</td>\n    </tr>\n    <tr>\n      <td>849</td>\n      <td>-118.59</td>\n      <td>34.20</td>\n      <td>21.0</td>\n      <td>1789.0</td>\n      <td>NaN</td>\n      <td>2300.0</td>\n      <td>677.0</td>\n      <td>2.7540</td>\n      <td>&lt;1H OCEAN</td>\n    </tr>\n    <tr>\n      <td>860</td>\n      <td>-119.46</td>\n      <td>35.14</td>\n      <td>30.0</td>\n      <td>2943.0</td>\n      <td>NaN</td>\n      <td>1565.0</td>\n      <td>584.0</td>\n      <td>2.5313</td>\n      <td>INLAND</td>\n    </tr>\n    <tr>\n      <td>920</td>\n      <td>-122.70</td>\n      <td>38.35</td>\n      <td>14.0</td>\n      <td>2313.0</td>\n      <td>NaN</td>\n      <td>954.0</td>\n      <td>397.0</td>\n      <td>3.7813</td>\n      <td>&lt;1H OCEAN</td>\n    </tr>\n    <tr>\n      <td>1116</td>\n      <td>-118.02</td>\n      <td>33.89</td>\n      <td>36.0</td>\n      <td>1375.0</td>\n      <td>NaN</td>\n      <td>670.0</td>\n      <td>221.0</td>\n      <td>5.0839</td>\n      <td>&lt;1H OCEAN</td>\n    </tr>\n    <tr>\n      <td>1124</td>\n      <td>-117.66</td>\n      <td>33.51</td>\n      <td>18.0</td>\n      <td>2626.0</td>\n      <td>NaN</td>\n      <td>1302.0</td>\n      <td>522.0</td>\n      <td>4.0167</td>\n      <td>&lt;1H OCEAN</td>\n    </tr>\n    <tr>\n      <td>1453</td>\n      <td>-118.45</td>\n      <td>34.30</td>\n      <td>27.0</td>\n      <td>2676.0</td>\n      <td>NaN</td>\n      <td>2661.0</td>\n      <td>623.0</td>\n      <td>4.3047</td>\n      <td>&lt;1H OCEAN</td>\n    </tr>\n    <tr>\n      <td>1480</td>\n      <td>-122.65</td>\n      <td>38.25</td>\n      <td>23.0</td>\n      <td>4030.0</td>\n      <td>NaN</td>\n      <td>1852.0</td>\n      <td>778.0</td>\n      <td>3.4020</td>\n      <td>&lt;1H OCEAN</td>\n    </tr>\n    <tr>\n      <td>1618</td>\n      <td>-117.20</td>\n      <td>32.79</td>\n      <td>29.0</td>\n      <td>1213.0</td>\n      <td>NaN</td>\n      <td>654.0</td>\n      <td>246.0</td>\n      <td>4.5987</td>\n      <td>NEAR OCEAN</td>\n    </tr>\n    <tr>\n      <td>1622</td>\n      <td>-118.05</td>\n      <td>33.99</td>\n      <td>38.0</td>\n      <td>1619.0</td>\n      <td>NaN</td>\n      <td>886.0</td>\n      <td>357.0</td>\n      <td>3.7328</td>\n      <td>&lt;1H OCEAN</td>\n    </tr>\n    <tr>\n      <td>1668</td>\n      <td>-118.40</td>\n      <td>34.17</td>\n      <td>24.0</td>\n      <td>6347.0</td>\n      <td>NaN</td>\n      <td>2945.0</td>\n      <td>1492.0</td>\n      <td>3.3545</td>\n      <td>&lt;1H OCEAN</td>\n    </tr>\n    <tr>\n      <td>1692</td>\n      <td>-118.27</td>\n      <td>34.17</td>\n      <td>52.0</td>\n      <td>2010.0</td>\n      <td>NaN</td>\n      <td>908.0</td>\n      <td>326.0</td>\n      <td>6.9135</td>\n      <td>&lt;1H OCEAN</td>\n    </tr>\n    <tr>\n      <td>1696</td>\n      <td>-118.38</td>\n      <td>34.05</td>\n      <td>49.0</td>\n      <td>702.0</td>\n      <td>NaN</td>\n      <td>458.0</td>\n      <td>187.0</td>\n      <td>4.8958</td>\n      <td>&lt;1H OCEAN</td>\n    </tr>\n    <tr>\n      <td>1793</td>\n      <td>-116.91</td>\n      <td>32.83</td>\n      <td>16.0</td>\n      <td>5203.0</td>\n      <td>NaN</td>\n      <td>2515.0</td>\n      <td>862.0</td>\n      <td>4.1050</td>\n      <td>&lt;1H OCEAN</td>\n    </tr>\n    <tr>\n      <td>1801</td>\n      <td>-120.32</td>\n      <td>37.29</td>\n      <td>38.0</td>\n      <td>576.0</td>\n      <td>NaN</td>\n      <td>478.0</td>\n      <td>112.0</td>\n      <td>2.3382</td>\n      <td>INLAND</td>\n    </tr>\n    <tr>\n      <td>1845</td>\n      <td>-118.50</td>\n      <td>34.46</td>\n      <td>17.0</td>\n      <td>10267.0</td>\n      <td>NaN</td>\n      <td>4956.0</td>\n      <td>1483.0</td>\n      <td>5.5061</td>\n      <td>&lt;1H OCEAN</td>\n    </tr>\n    <tr>\n      <td>1967</td>\n      <td>-118.35</td>\n      <td>33.90</td>\n      <td>31.0</td>\n      <td>1547.0</td>\n      <td>NaN</td>\n      <td>956.0</td>\n      <td>287.0</td>\n      <td>3.4698</td>\n      <td>&lt;1H OCEAN</td>\n    </tr>\n    <tr>\n      <td>2127</td>\n      <td>-120.93</td>\n      <td>37.73</td>\n      <td>14.0</td>\n      <td>2799.0</td>\n      <td>NaN</td>\n      <td>2294.0</td>\n      <td>596.0</td>\n      <td>2.6343</td>\n      <td>INLAND</td>\n    </tr>\n    <tr>\n      <td>2190</td>\n      <td>-118.80</td>\n      <td>34.41</td>\n      <td>45.0</td>\n      <td>1610.0</td>\n      <td>NaN</td>\n      <td>1148.0</td>\n      <td>347.0</td>\n      <td>2.7000</td>\n      <td>&lt;1H OCEAN</td>\n    </tr>\n    <tr>\n      <td>2369</td>\n      <td>-117.05</td>\n      <td>32.75</td>\n      <td>36.0</td>\n      <td>2024.0</td>\n      <td>NaN</td>\n      <td>1030.0</td>\n      <td>390.0</td>\n      <td>3.8233</td>\n      <td>NEAR OCEAN</td>\n    </tr>\n    <tr>\n      <td>2795</td>\n      <td>-119.73</td>\n      <td>36.83</td>\n      <td>8.0</td>\n      <td>3602.0</td>\n      <td>NaN</td>\n      <td>1959.0</td>\n      <td>580.0</td>\n      <td>5.3478</td>\n      <td>INLAND</td>\n    </tr>\n    <tr>\n      <td>2939</td>\n      <td>-119.72</td>\n      <td>36.76</td>\n      <td>23.0</td>\n      <td>6403.0</td>\n      <td>NaN</td>\n      <td>3573.0</td>\n      <td>1260.0</td>\n      <td>2.3006</td>\n      <td>INLAND</td>\n    </tr>\n    <tr>\n      <td>3057</td>\n      <td>-118.55</td>\n      <td>34.28</td>\n      <td>16.0</td>\n      <td>8879.0</td>\n      <td>NaN</td>\n      <td>3468.0</td>\n      <td>1200.0</td>\n      <td>8.1125</td>\n      <td>&lt;1H OCEAN</td>\n    </tr>\n    <tr>\n      <td>3065</td>\n      <td>-117.65</td>\n      <td>34.04</td>\n      <td>15.0</td>\n      <td>3393.0</td>\n      <td>NaN</td>\n      <td>2039.0</td>\n      <td>611.0</td>\n      <td>3.9336</td>\n      <td>INLAND</td>\n    </tr>\n    <tr>\n      <td>3068</td>\n      <td>-122.10</td>\n      <td>40.03</td>\n      <td>25.0</td>\n      <td>2516.0</td>\n      <td>NaN</td>\n      <td>1266.0</td>\n      <td>494.0</td>\n      <td>1.7566</td>\n      <td>INLAND</td>\n    </tr>\n    <tr>\n      <td>3278</td>\n      <td>-117.02</td>\n      <td>32.78</td>\n      <td>31.0</td>\n      <td>2567.0</td>\n      <td>NaN</td>\n      <td>1198.0</td>\n      <td>499.0</td>\n      <td>3.4659</td>\n      <td>&lt;1H OCEAN</td>\n    </tr>\n    <tr>\n      <td>3797</td>\n      <td>-118.22</td>\n      <td>34.05</td>\n      <td>34.0</td>\n      <td>1113.0</td>\n      <td>NaN</td>\n      <td>928.0</td>\n      <td>290.0</td>\n      <td>3.1654</td>\n      <td>&lt;1H OCEAN</td>\n    </tr>\n    <tr>\n      <td>4019</td>\n      <td>-118.50</td>\n      <td>34.17</td>\n      <td>37.0</td>\n      <td>880.0</td>\n      <td>NaN</td>\n      <td>369.0</td>\n      <td>155.0</td>\n      <td>4.1429</td>\n      <td>&lt;1H OCEAN</td>\n    </tr>\n  </tbody>\n</table>\n</div>"
     },
     "metadata": {},
     "execution_count": 72
    }
   ],
   "source": [
    "# Các bạn code tại đây\n",
    "test_X[test_X.isnull().any(axis = 1)]"
   ]
  },
  {
   "cell_type": "code",
   "execution_count": 73,
   "metadata": {},
   "outputs": [],
   "source": [
    "# Các bạn code tại đây\n",
    "index_null = test_X[\"total_bedrooms\"].isnull()\n",
    "imputer_mean = SimpleImputer(missing_values= np.nan, strategy= 'mean')\n",
    "imputer_mean.fit(test_X[\"total_bedrooms\"].values.reshape(-1, 1))\n",
    "test_X[\"total_bedrooms\"] = imputer_mean.transform(test_X[\"total_bedrooms\"].values.reshape(-1, 1))\n",
    ""
   ]
  },
  {
   "cell_type": "code",
   "execution_count": 74,
   "metadata": {},
   "outputs": [
    {
     "output_type": "execute_result",
     "data": {
      "text/plain": "      longitude  latitude  housing_median_age  total_rooms  total_bedrooms  \\\n440     -118.12     34.08                35.0       2248.0      532.368716   \n725     -121.77     39.66                20.0       3759.0      532.368716   \n815     -118.31     34.09                37.0        773.0      532.368716   \n849     -118.59     34.20                21.0       1789.0      532.368716   \n860     -119.46     35.14                30.0       2943.0      532.368716   \n920     -122.70     38.35                14.0       2313.0      532.368716   \n1116    -118.02     33.89                36.0       1375.0      532.368716   \n1124    -117.66     33.51                18.0       2626.0      532.368716   \n1453    -118.45     34.30                27.0       2676.0      532.368716   \n1480    -122.65     38.25                23.0       4030.0      532.368716   \n1618    -117.20     32.79                29.0       1213.0      532.368716   \n1622    -118.05     33.99                38.0       1619.0      532.368716   \n1668    -118.40     34.17                24.0       6347.0      532.368716   \n1692    -118.27     34.17                52.0       2010.0      532.368716   \n1696    -118.38     34.05                49.0        702.0      532.368716   \n1793    -116.91     32.83                16.0       5203.0      532.368716   \n1801    -120.32     37.29                38.0        576.0      532.368716   \n1845    -118.50     34.46                17.0      10267.0      532.368716   \n1967    -118.35     33.90                31.0       1547.0      532.368716   \n2127    -120.93     37.73                14.0       2799.0      532.368716   \n2190    -118.80     34.41                45.0       1610.0      532.368716   \n2369    -117.05     32.75                36.0       2024.0      532.368716   \n2795    -119.73     36.83                 8.0       3602.0      532.368716   \n2939    -119.72     36.76                23.0       6403.0      532.368716   \n3057    -118.55     34.28                16.0       8879.0      532.368716   \n3065    -117.65     34.04                15.0       3393.0      532.368716   \n3068    -122.10     40.03                25.0       2516.0      532.368716   \n3278    -117.02     32.78                31.0       2567.0      532.368716   \n3797    -118.22     34.05                34.0       1113.0      532.368716   \n4019    -118.50     34.17                37.0        880.0      532.368716   \n\n      population  households  median_income ocean_proximity  \n440       1762.0       622.0         3.0000       <1H OCEAN  \n725       1705.0       600.0         4.7120          INLAND  \n815        835.0       312.0         1.8576       <1H OCEAN  \n849       2300.0       677.0         2.7540       <1H OCEAN  \n860       1565.0       584.0         2.5313          INLAND  \n920        954.0       397.0         3.7813       <1H OCEAN  \n1116       670.0       221.0         5.0839       <1H OCEAN  \n1124      1302.0       522.0         4.0167       <1H OCEAN  \n1453      2661.0       623.0         4.3047       <1H OCEAN  \n1480      1852.0       778.0         3.4020       <1H OCEAN  \n1618       654.0       246.0         4.5987      NEAR OCEAN  \n1622       886.0       357.0         3.7328       <1H OCEAN  \n1668      2945.0      1492.0         3.3545       <1H OCEAN  \n1692       908.0       326.0         6.9135       <1H OCEAN  \n1696       458.0       187.0         4.8958       <1H OCEAN  \n1793      2515.0       862.0         4.1050       <1H OCEAN  \n1801       478.0       112.0         2.3382          INLAND  \n1845      4956.0      1483.0         5.5061       <1H OCEAN  \n1967       956.0       287.0         3.4698       <1H OCEAN  \n2127      2294.0       596.0         2.6343          INLAND  \n2190      1148.0       347.0         2.7000       <1H OCEAN  \n2369      1030.0       390.0         3.8233      NEAR OCEAN  \n2795      1959.0       580.0         5.3478          INLAND  \n2939      3573.0      1260.0         2.3006          INLAND  \n3057      3468.0      1200.0         8.1125       <1H OCEAN  \n3065      2039.0       611.0         3.9336          INLAND  \n3068      1266.0       494.0         1.7566          INLAND  \n3278      1198.0       499.0         3.4659       <1H OCEAN  \n3797       928.0       290.0         3.1654       <1H OCEAN  \n4019       369.0       155.0         4.1429       <1H OCEAN  ",
      "text/html": "<div>\n<style scoped>\n    .dataframe tbody tr th:only-of-type {\n        vertical-align: middle;\n    }\n\n    .dataframe tbody tr th {\n        vertical-align: top;\n    }\n\n    .dataframe thead th {\n        text-align: right;\n    }\n</style>\n<table border=\"1\" class=\"dataframe\">\n  <thead>\n    <tr style=\"text-align: right;\">\n      <th></th>\n      <th>longitude</th>\n      <th>latitude</th>\n      <th>housing_median_age</th>\n      <th>total_rooms</th>\n      <th>total_bedrooms</th>\n      <th>population</th>\n      <th>households</th>\n      <th>median_income</th>\n      <th>ocean_proximity</th>\n    </tr>\n  </thead>\n  <tbody>\n    <tr>\n      <td>440</td>\n      <td>-118.12</td>\n      <td>34.08</td>\n      <td>35.0</td>\n      <td>2248.0</td>\n      <td>532.368716</td>\n      <td>1762.0</td>\n      <td>622.0</td>\n      <td>3.0000</td>\n      <td>&lt;1H OCEAN</td>\n    </tr>\n    <tr>\n      <td>725</td>\n      <td>-121.77</td>\n      <td>39.66</td>\n      <td>20.0</td>\n      <td>3759.0</td>\n      <td>532.368716</td>\n      <td>1705.0</td>\n      <td>600.0</td>\n      <td>4.7120</td>\n      <td>INLAND</td>\n    </tr>\n    <tr>\n      <td>815</td>\n      <td>-118.31</td>\n      <td>34.09</td>\n      <td>37.0</td>\n      <td>773.0</td>\n      <td>532.368716</td>\n      <td>835.0</td>\n      <td>312.0</td>\n      <td>1.8576</td>\n      <td>&lt;1H OCEAN</td>\n    </tr>\n    <tr>\n      <td>849</td>\n      <td>-118.59</td>\n      <td>34.20</td>\n      <td>21.0</td>\n      <td>1789.0</td>\n      <td>532.368716</td>\n      <td>2300.0</td>\n      <td>677.0</td>\n      <td>2.7540</td>\n      <td>&lt;1H OCEAN</td>\n    </tr>\n    <tr>\n      <td>860</td>\n      <td>-119.46</td>\n      <td>35.14</td>\n      <td>30.0</td>\n      <td>2943.0</td>\n      <td>532.368716</td>\n      <td>1565.0</td>\n      <td>584.0</td>\n      <td>2.5313</td>\n      <td>INLAND</td>\n    </tr>\n    <tr>\n      <td>920</td>\n      <td>-122.70</td>\n      <td>38.35</td>\n      <td>14.0</td>\n      <td>2313.0</td>\n      <td>532.368716</td>\n      <td>954.0</td>\n      <td>397.0</td>\n      <td>3.7813</td>\n      <td>&lt;1H OCEAN</td>\n    </tr>\n    <tr>\n      <td>1116</td>\n      <td>-118.02</td>\n      <td>33.89</td>\n      <td>36.0</td>\n      <td>1375.0</td>\n      <td>532.368716</td>\n      <td>670.0</td>\n      <td>221.0</td>\n      <td>5.0839</td>\n      <td>&lt;1H OCEAN</td>\n    </tr>\n    <tr>\n      <td>1124</td>\n      <td>-117.66</td>\n      <td>33.51</td>\n      <td>18.0</td>\n      <td>2626.0</td>\n      <td>532.368716</td>\n      <td>1302.0</td>\n      <td>522.0</td>\n      <td>4.0167</td>\n      <td>&lt;1H OCEAN</td>\n    </tr>\n    <tr>\n      <td>1453</td>\n      <td>-118.45</td>\n      <td>34.30</td>\n      <td>27.0</td>\n      <td>2676.0</td>\n      <td>532.368716</td>\n      <td>2661.0</td>\n      <td>623.0</td>\n      <td>4.3047</td>\n      <td>&lt;1H OCEAN</td>\n    </tr>\n    <tr>\n      <td>1480</td>\n      <td>-122.65</td>\n      <td>38.25</td>\n      <td>23.0</td>\n      <td>4030.0</td>\n      <td>532.368716</td>\n      <td>1852.0</td>\n      <td>778.0</td>\n      <td>3.4020</td>\n      <td>&lt;1H OCEAN</td>\n    </tr>\n    <tr>\n      <td>1618</td>\n      <td>-117.20</td>\n      <td>32.79</td>\n      <td>29.0</td>\n      <td>1213.0</td>\n      <td>532.368716</td>\n      <td>654.0</td>\n      <td>246.0</td>\n      <td>4.5987</td>\n      <td>NEAR OCEAN</td>\n    </tr>\n    <tr>\n      <td>1622</td>\n      <td>-118.05</td>\n      <td>33.99</td>\n      <td>38.0</td>\n      <td>1619.0</td>\n      <td>532.368716</td>\n      <td>886.0</td>\n      <td>357.0</td>\n      <td>3.7328</td>\n      <td>&lt;1H OCEAN</td>\n    </tr>\n    <tr>\n      <td>1668</td>\n      <td>-118.40</td>\n      <td>34.17</td>\n      <td>24.0</td>\n      <td>6347.0</td>\n      <td>532.368716</td>\n      <td>2945.0</td>\n      <td>1492.0</td>\n      <td>3.3545</td>\n      <td>&lt;1H OCEAN</td>\n    </tr>\n    <tr>\n      <td>1692</td>\n      <td>-118.27</td>\n      <td>34.17</td>\n      <td>52.0</td>\n      <td>2010.0</td>\n      <td>532.368716</td>\n      <td>908.0</td>\n      <td>326.0</td>\n      <td>6.9135</td>\n      <td>&lt;1H OCEAN</td>\n    </tr>\n    <tr>\n      <td>1696</td>\n      <td>-118.38</td>\n      <td>34.05</td>\n      <td>49.0</td>\n      <td>702.0</td>\n      <td>532.368716</td>\n      <td>458.0</td>\n      <td>187.0</td>\n      <td>4.8958</td>\n      <td>&lt;1H OCEAN</td>\n    </tr>\n    <tr>\n      <td>1793</td>\n      <td>-116.91</td>\n      <td>32.83</td>\n      <td>16.0</td>\n      <td>5203.0</td>\n      <td>532.368716</td>\n      <td>2515.0</td>\n      <td>862.0</td>\n      <td>4.1050</td>\n      <td>&lt;1H OCEAN</td>\n    </tr>\n    <tr>\n      <td>1801</td>\n      <td>-120.32</td>\n      <td>37.29</td>\n      <td>38.0</td>\n      <td>576.0</td>\n      <td>532.368716</td>\n      <td>478.0</td>\n      <td>112.0</td>\n      <td>2.3382</td>\n      <td>INLAND</td>\n    </tr>\n    <tr>\n      <td>1845</td>\n      <td>-118.50</td>\n      <td>34.46</td>\n      <td>17.0</td>\n      <td>10267.0</td>\n      <td>532.368716</td>\n      <td>4956.0</td>\n      <td>1483.0</td>\n      <td>5.5061</td>\n      <td>&lt;1H OCEAN</td>\n    </tr>\n    <tr>\n      <td>1967</td>\n      <td>-118.35</td>\n      <td>33.90</td>\n      <td>31.0</td>\n      <td>1547.0</td>\n      <td>532.368716</td>\n      <td>956.0</td>\n      <td>287.0</td>\n      <td>3.4698</td>\n      <td>&lt;1H OCEAN</td>\n    </tr>\n    <tr>\n      <td>2127</td>\n      <td>-120.93</td>\n      <td>37.73</td>\n      <td>14.0</td>\n      <td>2799.0</td>\n      <td>532.368716</td>\n      <td>2294.0</td>\n      <td>596.0</td>\n      <td>2.6343</td>\n      <td>INLAND</td>\n    </tr>\n    <tr>\n      <td>2190</td>\n      <td>-118.80</td>\n      <td>34.41</td>\n      <td>45.0</td>\n      <td>1610.0</td>\n      <td>532.368716</td>\n      <td>1148.0</td>\n      <td>347.0</td>\n      <td>2.7000</td>\n      <td>&lt;1H OCEAN</td>\n    </tr>\n    <tr>\n      <td>2369</td>\n      <td>-117.05</td>\n      <td>32.75</td>\n      <td>36.0</td>\n      <td>2024.0</td>\n      <td>532.368716</td>\n      <td>1030.0</td>\n      <td>390.0</td>\n      <td>3.8233</td>\n      <td>NEAR OCEAN</td>\n    </tr>\n    <tr>\n      <td>2795</td>\n      <td>-119.73</td>\n      <td>36.83</td>\n      <td>8.0</td>\n      <td>3602.0</td>\n      <td>532.368716</td>\n      <td>1959.0</td>\n      <td>580.0</td>\n      <td>5.3478</td>\n      <td>INLAND</td>\n    </tr>\n    <tr>\n      <td>2939</td>\n      <td>-119.72</td>\n      <td>36.76</td>\n      <td>23.0</td>\n      <td>6403.0</td>\n      <td>532.368716</td>\n      <td>3573.0</td>\n      <td>1260.0</td>\n      <td>2.3006</td>\n      <td>INLAND</td>\n    </tr>\n    <tr>\n      <td>3057</td>\n      <td>-118.55</td>\n      <td>34.28</td>\n      <td>16.0</td>\n      <td>8879.0</td>\n      <td>532.368716</td>\n      <td>3468.0</td>\n      <td>1200.0</td>\n      <td>8.1125</td>\n      <td>&lt;1H OCEAN</td>\n    </tr>\n    <tr>\n      <td>3065</td>\n      <td>-117.65</td>\n      <td>34.04</td>\n      <td>15.0</td>\n      <td>3393.0</td>\n      <td>532.368716</td>\n      <td>2039.0</td>\n      <td>611.0</td>\n      <td>3.9336</td>\n      <td>INLAND</td>\n    </tr>\n    <tr>\n      <td>3068</td>\n      <td>-122.10</td>\n      <td>40.03</td>\n      <td>25.0</td>\n      <td>2516.0</td>\n      <td>532.368716</td>\n      <td>1266.0</td>\n      <td>494.0</td>\n      <td>1.7566</td>\n      <td>INLAND</td>\n    </tr>\n    <tr>\n      <td>3278</td>\n      <td>-117.02</td>\n      <td>32.78</td>\n      <td>31.0</td>\n      <td>2567.0</td>\n      <td>532.368716</td>\n      <td>1198.0</td>\n      <td>499.0</td>\n      <td>3.4659</td>\n      <td>&lt;1H OCEAN</td>\n    </tr>\n    <tr>\n      <td>3797</td>\n      <td>-118.22</td>\n      <td>34.05</td>\n      <td>34.0</td>\n      <td>1113.0</td>\n      <td>532.368716</td>\n      <td>928.0</td>\n      <td>290.0</td>\n      <td>3.1654</td>\n      <td>&lt;1H OCEAN</td>\n    </tr>\n    <tr>\n      <td>4019</td>\n      <td>-118.50</td>\n      <td>34.17</td>\n      <td>37.0</td>\n      <td>880.0</td>\n      <td>532.368716</td>\n      <td>369.0</td>\n      <td>155.0</td>\n      <td>4.1429</td>\n      <td>&lt;1H OCEAN</td>\n    </tr>\n  </tbody>\n</table>\n</div>"
     },
     "metadata": {},
     "execution_count": 74
    }
   ],
   "source": [
    "test_X[index_null]"
   ]
  },
  {
   "cell_type": "code",
   "execution_count": 75,
   "metadata": {},
   "outputs": [
    {
     "output_type": "execute_result",
     "data": {
      "text/plain": "      longitude  latitude  housing_median_age  total_rooms  total_bedrooms  \\\n0       -122.41     37.65                32.0       3436.0           868.0   \n1       -117.91     33.84                25.0       1021.0           252.0   \n2       -118.35     34.08                52.0       1801.0           313.0   \n3       -121.02     37.61                33.0       1469.0           370.0   \n4       -117.65     34.10                30.0       1461.0           341.0   \n...         ...       ...                 ...          ...             ...   \n4123    -117.22     33.17                 6.0       1487.0           362.0   \n4124    -117.40     34.58                18.0        755.0           169.0   \n4125    -118.04     33.78                25.0       3715.0           575.0   \n4126    -118.46     34.00                52.0        888.0           206.0   \n4127    -121.88     39.74                12.0      14631.0          3298.0   \n\n      population  households  median_income ocean_proximity  \n0         2583.0       817.0         3.5039      NEAR OCEAN  \n1          975.0       258.0         3.1250       <1H OCEAN  \n2          714.0       293.0         4.6838       <1H OCEAN  \n3         1318.0       349.0         1.7104          INLAND  \n4         1014.0       345.0         2.4667          INLAND  \n...          ...         ...            ...             ...  \n4123       810.0       322.0         3.6250       <1H OCEAN  \n4124       483.0       165.0         1.4196          INLAND  \n4125      1640.0       572.0         5.7705       <1H OCEAN  \n4126       376.0       194.0         3.8750       <1H OCEAN  \n4127      7517.0      3262.0         1.6785          INLAND  \n\n[4128 rows x 9 columns]",
      "text/html": "<div>\n<style scoped>\n    .dataframe tbody tr th:only-of-type {\n        vertical-align: middle;\n    }\n\n    .dataframe tbody tr th {\n        vertical-align: top;\n    }\n\n    .dataframe thead th {\n        text-align: right;\n    }\n</style>\n<table border=\"1\" class=\"dataframe\">\n  <thead>\n    <tr style=\"text-align: right;\">\n      <th></th>\n      <th>longitude</th>\n      <th>latitude</th>\n      <th>housing_median_age</th>\n      <th>total_rooms</th>\n      <th>total_bedrooms</th>\n      <th>population</th>\n      <th>households</th>\n      <th>median_income</th>\n      <th>ocean_proximity</th>\n    </tr>\n  </thead>\n  <tbody>\n    <tr>\n      <td>0</td>\n      <td>-122.41</td>\n      <td>37.65</td>\n      <td>32.0</td>\n      <td>3436.0</td>\n      <td>868.0</td>\n      <td>2583.0</td>\n      <td>817.0</td>\n      <td>3.5039</td>\n      <td>NEAR OCEAN</td>\n    </tr>\n    <tr>\n      <td>1</td>\n      <td>-117.91</td>\n      <td>33.84</td>\n      <td>25.0</td>\n      <td>1021.0</td>\n      <td>252.0</td>\n      <td>975.0</td>\n      <td>258.0</td>\n      <td>3.1250</td>\n      <td>&lt;1H OCEAN</td>\n    </tr>\n    <tr>\n      <td>2</td>\n      <td>-118.35</td>\n      <td>34.08</td>\n      <td>52.0</td>\n      <td>1801.0</td>\n      <td>313.0</td>\n      <td>714.0</td>\n      <td>293.0</td>\n      <td>4.6838</td>\n      <td>&lt;1H OCEAN</td>\n    </tr>\n    <tr>\n      <td>3</td>\n      <td>-121.02</td>\n      <td>37.61</td>\n      <td>33.0</td>\n      <td>1469.0</td>\n      <td>370.0</td>\n      <td>1318.0</td>\n      <td>349.0</td>\n      <td>1.7104</td>\n      <td>INLAND</td>\n    </tr>\n    <tr>\n      <td>4</td>\n      <td>-117.65</td>\n      <td>34.10</td>\n      <td>30.0</td>\n      <td>1461.0</td>\n      <td>341.0</td>\n      <td>1014.0</td>\n      <td>345.0</td>\n      <td>2.4667</td>\n      <td>INLAND</td>\n    </tr>\n    <tr>\n      <td>...</td>\n      <td>...</td>\n      <td>...</td>\n      <td>...</td>\n      <td>...</td>\n      <td>...</td>\n      <td>...</td>\n      <td>...</td>\n      <td>...</td>\n      <td>...</td>\n    </tr>\n    <tr>\n      <td>4123</td>\n      <td>-117.22</td>\n      <td>33.17</td>\n      <td>6.0</td>\n      <td>1487.0</td>\n      <td>362.0</td>\n      <td>810.0</td>\n      <td>322.0</td>\n      <td>3.6250</td>\n      <td>&lt;1H OCEAN</td>\n    </tr>\n    <tr>\n      <td>4124</td>\n      <td>-117.40</td>\n      <td>34.58</td>\n      <td>18.0</td>\n      <td>755.0</td>\n      <td>169.0</td>\n      <td>483.0</td>\n      <td>165.0</td>\n      <td>1.4196</td>\n      <td>INLAND</td>\n    </tr>\n    <tr>\n      <td>4125</td>\n      <td>-118.04</td>\n      <td>33.78</td>\n      <td>25.0</td>\n      <td>3715.0</td>\n      <td>575.0</td>\n      <td>1640.0</td>\n      <td>572.0</td>\n      <td>5.7705</td>\n      <td>&lt;1H OCEAN</td>\n    </tr>\n    <tr>\n      <td>4126</td>\n      <td>-118.46</td>\n      <td>34.00</td>\n      <td>52.0</td>\n      <td>888.0</td>\n      <td>206.0</td>\n      <td>376.0</td>\n      <td>194.0</td>\n      <td>3.8750</td>\n      <td>&lt;1H OCEAN</td>\n    </tr>\n    <tr>\n      <td>4127</td>\n      <td>-121.88</td>\n      <td>39.74</td>\n      <td>12.0</td>\n      <td>14631.0</td>\n      <td>3298.0</td>\n      <td>7517.0</td>\n      <td>3262.0</td>\n      <td>1.6785</td>\n      <td>INLAND</td>\n    </tr>\n  </tbody>\n</table>\n<p>4128 rows × 9 columns</p>\n</div>"
     },
     "metadata": {},
     "execution_count": 75
    }
   ],
   "source": [
    "test_X"
   ]
  },
  {
   "cell_type": "code",
   "execution_count": 76,
   "metadata": {},
   "outputs": [
    {
     "output_type": "execute_result",
     "data": {
      "text/plain": "longitude              0\nlatitude               0\nhousing_median_age     0\ntotal_rooms            0\ntotal_bedrooms        17\npopulation             0\nhouseholds             0\nmedian_income          0\nocean_proximity        0\ndtype: int64"
     },
     "metadata": {},
     "execution_count": 76
    }
   ],
   "source": [
    "dev_X.isnull().sum(axis = 0)"
   ]
  },
  {
   "cell_type": "code",
   "execution_count": 77,
   "metadata": {},
   "outputs": [
    {
     "output_type": "execute_result",
     "data": {
      "text/plain": "      longitude  latitude  housing_median_age  total_rooms  total_bedrooms  \\\n91      -122.48     37.70                33.0       4492.0             NaN   \n234     -122.38     37.73                40.0        543.0             NaN   \n264     -118.16     34.01                40.0       1552.0             NaN   \n365     -119.30     36.57                32.0        728.0             NaN   \n405     -117.64     33.45                26.0       1528.0             NaN   \n734     -117.09     32.77                31.0       3062.0             NaN   \n830     -118.25     33.94                43.0        793.0             NaN   \n868     -118.18     34.19                48.0       1371.0             NaN   \n1246    -119.78     36.82                25.0       5016.0             NaN   \n1290    -122.01     37.94                23.0       3741.0             NaN   \n1301    -117.87     33.83                27.0       2287.0             NaN   \n1618    -117.30     34.05                 6.0       2155.0             NaN   \n1845    -118.09     33.89                42.0        991.0             NaN   \n1904    -117.98     33.73                18.0       3833.0             NaN   \n1905    -120.61     37.36                16.0        638.0             NaN   \n1954    -117.97     34.06                31.0       2516.0             NaN   \n2013    -118.72     34.28                17.0       3051.0             NaN   \n\n      population  households  median_income ocean_proximity  \n91        3477.0      1537.0         3.0546      NEAR OCEAN  \n234        259.0        89.0         2.2167        NEAR BAY  \n264       1919.0       427.0         2.2596       <1H OCEAN  \n365        461.0       149.0         3.0156          INLAND  \n405        607.0       218.0         6.2871      NEAR OCEAN  \n734       1263.0       539.0         3.0875      NEAR OCEAN  \n830        736.0       231.0         0.8527       <1H OCEAN  \n868        528.0       155.0        15.0001       <1H OCEAN  \n1246      2133.0       928.0         3.6250          INLAND  \n1290      1339.0       499.0         6.7061        NEAR BAY  \n1301      1140.0       351.0         5.6163       <1H OCEAN  \n1618      1039.0       391.0         1.6675          INLAND  \n1845       717.0       219.0         4.0926       <1H OCEAN  \n1904      2192.0       996.0         3.4679       <1H OCEAN  \n1905       380.0       132.0         1.9135          INLAND  \n1954      2194.0       497.0         3.2413       <1H OCEAN  \n2013      1705.0       495.0         5.7376       <1H OCEAN  ",
      "text/html": "<div>\n<style scoped>\n    .dataframe tbody tr th:only-of-type {\n        vertical-align: middle;\n    }\n\n    .dataframe tbody tr th {\n        vertical-align: top;\n    }\n\n    .dataframe thead th {\n        text-align: right;\n    }\n</style>\n<table border=\"1\" class=\"dataframe\">\n  <thead>\n    <tr style=\"text-align: right;\">\n      <th></th>\n      <th>longitude</th>\n      <th>latitude</th>\n      <th>housing_median_age</th>\n      <th>total_rooms</th>\n      <th>total_bedrooms</th>\n      <th>population</th>\n      <th>households</th>\n      <th>median_income</th>\n      <th>ocean_proximity</th>\n    </tr>\n  </thead>\n  <tbody>\n    <tr>\n      <td>91</td>\n      <td>-122.48</td>\n      <td>37.70</td>\n      <td>33.0</td>\n      <td>4492.0</td>\n      <td>NaN</td>\n      <td>3477.0</td>\n      <td>1537.0</td>\n      <td>3.0546</td>\n      <td>NEAR OCEAN</td>\n    </tr>\n    <tr>\n      <td>234</td>\n      <td>-122.38</td>\n      <td>37.73</td>\n      <td>40.0</td>\n      <td>543.0</td>\n      <td>NaN</td>\n      <td>259.0</td>\n      <td>89.0</td>\n      <td>2.2167</td>\n      <td>NEAR BAY</td>\n    </tr>\n    <tr>\n      <td>264</td>\n      <td>-118.16</td>\n      <td>34.01</td>\n      <td>40.0</td>\n      <td>1552.0</td>\n      <td>NaN</td>\n      <td>1919.0</td>\n      <td>427.0</td>\n      <td>2.2596</td>\n      <td>&lt;1H OCEAN</td>\n    </tr>\n    <tr>\n      <td>365</td>\n      <td>-119.30</td>\n      <td>36.57</td>\n      <td>32.0</td>\n      <td>728.0</td>\n      <td>NaN</td>\n      <td>461.0</td>\n      <td>149.0</td>\n      <td>3.0156</td>\n      <td>INLAND</td>\n    </tr>\n    <tr>\n      <td>405</td>\n      <td>-117.64</td>\n      <td>33.45</td>\n      <td>26.0</td>\n      <td>1528.0</td>\n      <td>NaN</td>\n      <td>607.0</td>\n      <td>218.0</td>\n      <td>6.2871</td>\n      <td>NEAR OCEAN</td>\n    </tr>\n    <tr>\n      <td>734</td>\n      <td>-117.09</td>\n      <td>32.77</td>\n      <td>31.0</td>\n      <td>3062.0</td>\n      <td>NaN</td>\n      <td>1263.0</td>\n      <td>539.0</td>\n      <td>3.0875</td>\n      <td>NEAR OCEAN</td>\n    </tr>\n    <tr>\n      <td>830</td>\n      <td>-118.25</td>\n      <td>33.94</td>\n      <td>43.0</td>\n      <td>793.0</td>\n      <td>NaN</td>\n      <td>736.0</td>\n      <td>231.0</td>\n      <td>0.8527</td>\n      <td>&lt;1H OCEAN</td>\n    </tr>\n    <tr>\n      <td>868</td>\n      <td>-118.18</td>\n      <td>34.19</td>\n      <td>48.0</td>\n      <td>1371.0</td>\n      <td>NaN</td>\n      <td>528.0</td>\n      <td>155.0</td>\n      <td>15.0001</td>\n      <td>&lt;1H OCEAN</td>\n    </tr>\n    <tr>\n      <td>1246</td>\n      <td>-119.78</td>\n      <td>36.82</td>\n      <td>25.0</td>\n      <td>5016.0</td>\n      <td>NaN</td>\n      <td>2133.0</td>\n      <td>928.0</td>\n      <td>3.6250</td>\n      <td>INLAND</td>\n    </tr>\n    <tr>\n      <td>1290</td>\n      <td>-122.01</td>\n      <td>37.94</td>\n      <td>23.0</td>\n      <td>3741.0</td>\n      <td>NaN</td>\n      <td>1339.0</td>\n      <td>499.0</td>\n      <td>6.7061</td>\n      <td>NEAR BAY</td>\n    </tr>\n    <tr>\n      <td>1301</td>\n      <td>-117.87</td>\n      <td>33.83</td>\n      <td>27.0</td>\n      <td>2287.0</td>\n      <td>NaN</td>\n      <td>1140.0</td>\n      <td>351.0</td>\n      <td>5.6163</td>\n      <td>&lt;1H OCEAN</td>\n    </tr>\n    <tr>\n      <td>1618</td>\n      <td>-117.30</td>\n      <td>34.05</td>\n      <td>6.0</td>\n      <td>2155.0</td>\n      <td>NaN</td>\n      <td>1039.0</td>\n      <td>391.0</td>\n      <td>1.6675</td>\n      <td>INLAND</td>\n    </tr>\n    <tr>\n      <td>1845</td>\n      <td>-118.09</td>\n      <td>33.89</td>\n      <td>42.0</td>\n      <td>991.0</td>\n      <td>NaN</td>\n      <td>717.0</td>\n      <td>219.0</td>\n      <td>4.0926</td>\n      <td>&lt;1H OCEAN</td>\n    </tr>\n    <tr>\n      <td>1904</td>\n      <td>-117.98</td>\n      <td>33.73</td>\n      <td>18.0</td>\n      <td>3833.0</td>\n      <td>NaN</td>\n      <td>2192.0</td>\n      <td>996.0</td>\n      <td>3.4679</td>\n      <td>&lt;1H OCEAN</td>\n    </tr>\n    <tr>\n      <td>1905</td>\n      <td>-120.61</td>\n      <td>37.36</td>\n      <td>16.0</td>\n      <td>638.0</td>\n      <td>NaN</td>\n      <td>380.0</td>\n      <td>132.0</td>\n      <td>1.9135</td>\n      <td>INLAND</td>\n    </tr>\n    <tr>\n      <td>1954</td>\n      <td>-117.97</td>\n      <td>34.06</td>\n      <td>31.0</td>\n      <td>2516.0</td>\n      <td>NaN</td>\n      <td>2194.0</td>\n      <td>497.0</td>\n      <td>3.2413</td>\n      <td>&lt;1H OCEAN</td>\n    </tr>\n    <tr>\n      <td>2013</td>\n      <td>-118.72</td>\n      <td>34.28</td>\n      <td>17.0</td>\n      <td>3051.0</td>\n      <td>NaN</td>\n      <td>1705.0</td>\n      <td>495.0</td>\n      <td>5.7376</td>\n      <td>&lt;1H OCEAN</td>\n    </tr>\n  </tbody>\n</table>\n</div>"
     },
     "metadata": {},
     "execution_count": 77
    }
   ],
   "source": [
    "dev_X[dev_X.isnull().any(axis = 1)]"
   ]
  },
  {
   "cell_type": "code",
   "execution_count": 78,
   "metadata": {},
   "outputs": [],
   "source": [
    "index_null = dev_X[\"total_bedrooms\"].isnull()\n",
    "imputer_mean = SimpleImputer(missing_values= np.nan, strategy= 'mean')\n",
    "imputer_mean.fit(dev_X[\"total_bedrooms\"].values.reshape(-1, 1))\n",
    "dev_X[\"total_bedrooms\"] = imputer_mean.transform(dev_X[\"total_bedrooms\"].values.reshape(-1,1))"
   ]
  },
  {
   "cell_type": "code",
   "execution_count": 79,
   "metadata": {},
   "outputs": [
    {
     "output_type": "execute_result",
     "data": {
      "text/plain": "      longitude  latitude  housing_median_age  total_rooms  total_bedrooms  \\\n0       -118.36     33.92                26.0       3695.0          1144.0   \n1       -118.41     34.19                45.0       1106.0           225.0   \n2       -122.48     37.73                38.0       3195.0           828.0   \n3       -117.18     32.76                 8.0       3694.0           997.0   \n4       -117.15     33.14                15.0       1070.0           208.0   \n...         ...       ...                 ...          ...             ...   \n2060    -122.02     38.37                16.0       2495.0           331.0   \n2061    -117.04     32.97                13.0       6711.0          1256.0   \n2062    -120.69     35.62                43.0       3044.0           652.0   \n2063    -118.39     34.19                36.0        904.0           191.0   \n2064    -118.04     34.09                34.0       2597.0           461.0   \n\n      population  households  median_income ocean_proximity  \n0         2308.0      1009.0         2.6667       <1H OCEAN  \n1          595.0       228.0         3.6625       <1H OCEAN  \n2         2410.0       778.0         3.1359      NEAR OCEAN  \n3         1297.0       807.0         3.6492      NEAR OCEAN  \n4          470.0       217.0         2.3062       <1H OCEAN  \n...          ...         ...            ...             ...  \n2060      1118.0       338.0         6.4894          INLAND  \n2061      3683.0      1220.0         4.5746       <1H OCEAN  \n2062      1456.0       608.0         2.4567       <1H OCEAN  \n2063       627.0       191.0         2.4167       <1H OCEAN  \n2064      1542.0       470.0         4.6211          INLAND  \n\n[2065 rows x 9 columns]",
      "text/html": "<div>\n<style scoped>\n    .dataframe tbody tr th:only-of-type {\n        vertical-align: middle;\n    }\n\n    .dataframe tbody tr th {\n        vertical-align: top;\n    }\n\n    .dataframe thead th {\n        text-align: right;\n    }\n</style>\n<table border=\"1\" class=\"dataframe\">\n  <thead>\n    <tr style=\"text-align: right;\">\n      <th></th>\n      <th>longitude</th>\n      <th>latitude</th>\n      <th>housing_median_age</th>\n      <th>total_rooms</th>\n      <th>total_bedrooms</th>\n      <th>population</th>\n      <th>households</th>\n      <th>median_income</th>\n      <th>ocean_proximity</th>\n    </tr>\n  </thead>\n  <tbody>\n    <tr>\n      <td>0</td>\n      <td>-118.36</td>\n      <td>33.92</td>\n      <td>26.0</td>\n      <td>3695.0</td>\n      <td>1144.0</td>\n      <td>2308.0</td>\n      <td>1009.0</td>\n      <td>2.6667</td>\n      <td>&lt;1H OCEAN</td>\n    </tr>\n    <tr>\n      <td>1</td>\n      <td>-118.41</td>\n      <td>34.19</td>\n      <td>45.0</td>\n      <td>1106.0</td>\n      <td>225.0</td>\n      <td>595.0</td>\n      <td>228.0</td>\n      <td>3.6625</td>\n      <td>&lt;1H OCEAN</td>\n    </tr>\n    <tr>\n      <td>2</td>\n      <td>-122.48</td>\n      <td>37.73</td>\n      <td>38.0</td>\n      <td>3195.0</td>\n      <td>828.0</td>\n      <td>2410.0</td>\n      <td>778.0</td>\n      <td>3.1359</td>\n      <td>NEAR OCEAN</td>\n    </tr>\n    <tr>\n      <td>3</td>\n      <td>-117.18</td>\n      <td>32.76</td>\n      <td>8.0</td>\n      <td>3694.0</td>\n      <td>997.0</td>\n      <td>1297.0</td>\n      <td>807.0</td>\n      <td>3.6492</td>\n      <td>NEAR OCEAN</td>\n    </tr>\n    <tr>\n      <td>4</td>\n      <td>-117.15</td>\n      <td>33.14</td>\n      <td>15.0</td>\n      <td>1070.0</td>\n      <td>208.0</td>\n      <td>470.0</td>\n      <td>217.0</td>\n      <td>2.3062</td>\n      <td>&lt;1H OCEAN</td>\n    </tr>\n    <tr>\n      <td>...</td>\n      <td>...</td>\n      <td>...</td>\n      <td>...</td>\n      <td>...</td>\n      <td>...</td>\n      <td>...</td>\n      <td>...</td>\n      <td>...</td>\n      <td>...</td>\n    </tr>\n    <tr>\n      <td>2060</td>\n      <td>-122.02</td>\n      <td>38.37</td>\n      <td>16.0</td>\n      <td>2495.0</td>\n      <td>331.0</td>\n      <td>1118.0</td>\n      <td>338.0</td>\n      <td>6.4894</td>\n      <td>INLAND</td>\n    </tr>\n    <tr>\n      <td>2061</td>\n      <td>-117.04</td>\n      <td>32.97</td>\n      <td>13.0</td>\n      <td>6711.0</td>\n      <td>1256.0</td>\n      <td>3683.0</td>\n      <td>1220.0</td>\n      <td>4.5746</td>\n      <td>&lt;1H OCEAN</td>\n    </tr>\n    <tr>\n      <td>2062</td>\n      <td>-120.69</td>\n      <td>35.62</td>\n      <td>43.0</td>\n      <td>3044.0</td>\n      <td>652.0</td>\n      <td>1456.0</td>\n      <td>608.0</td>\n      <td>2.4567</td>\n      <td>&lt;1H OCEAN</td>\n    </tr>\n    <tr>\n      <td>2063</td>\n      <td>-118.39</td>\n      <td>34.19</td>\n      <td>36.0</td>\n      <td>904.0</td>\n      <td>191.0</td>\n      <td>627.0</td>\n      <td>191.0</td>\n      <td>2.4167</td>\n      <td>&lt;1H OCEAN</td>\n    </tr>\n    <tr>\n      <td>2064</td>\n      <td>-118.04</td>\n      <td>34.09</td>\n      <td>34.0</td>\n      <td>2597.0</td>\n      <td>461.0</td>\n      <td>1542.0</td>\n      <td>470.0</td>\n      <td>4.6211</td>\n      <td>INLAND</td>\n    </tr>\n  </tbody>\n</table>\n<p>2065 rows × 9 columns</p>\n</div>"
     },
     "metadata": {},
     "execution_count": 79
    }
   ],
   "source": [
    "dev_X"
   ]
  },
  {
   "cell_type": "code",
   "execution_count": 80,
   "metadata": {},
   "outputs": [
    {
     "output_type": "execute_result",
     "data": {
      "text/plain": "      longitude  latitude  housing_median_age  total_rooms  total_bedrooms  \\\n91      -122.48     37.70                33.0       4492.0      543.332031   \n234     -122.38     37.73                40.0        543.0      543.332031   \n264     -118.16     34.01                40.0       1552.0      543.332031   \n365     -119.30     36.57                32.0        728.0      543.332031   \n405     -117.64     33.45                26.0       1528.0      543.332031   \n734     -117.09     32.77                31.0       3062.0      543.332031   \n830     -118.25     33.94                43.0        793.0      543.332031   \n868     -118.18     34.19                48.0       1371.0      543.332031   \n1246    -119.78     36.82                25.0       5016.0      543.332031   \n1290    -122.01     37.94                23.0       3741.0      543.332031   \n1301    -117.87     33.83                27.0       2287.0      543.332031   \n1618    -117.30     34.05                 6.0       2155.0      543.332031   \n1845    -118.09     33.89                42.0        991.0      543.332031   \n1904    -117.98     33.73                18.0       3833.0      543.332031   \n1905    -120.61     37.36                16.0        638.0      543.332031   \n1954    -117.97     34.06                31.0       2516.0      543.332031   \n2013    -118.72     34.28                17.0       3051.0      543.332031   \n\n      population  households  median_income ocean_proximity  \n91        3477.0      1537.0         3.0546      NEAR OCEAN  \n234        259.0        89.0         2.2167        NEAR BAY  \n264       1919.0       427.0         2.2596       <1H OCEAN  \n365        461.0       149.0         3.0156          INLAND  \n405        607.0       218.0         6.2871      NEAR OCEAN  \n734       1263.0       539.0         3.0875      NEAR OCEAN  \n830        736.0       231.0         0.8527       <1H OCEAN  \n868        528.0       155.0        15.0001       <1H OCEAN  \n1246      2133.0       928.0         3.6250          INLAND  \n1290      1339.0       499.0         6.7061        NEAR BAY  \n1301      1140.0       351.0         5.6163       <1H OCEAN  \n1618      1039.0       391.0         1.6675          INLAND  \n1845       717.0       219.0         4.0926       <1H OCEAN  \n1904      2192.0       996.0         3.4679       <1H OCEAN  \n1905       380.0       132.0         1.9135          INLAND  \n1954      2194.0       497.0         3.2413       <1H OCEAN  \n2013      1705.0       495.0         5.7376       <1H OCEAN  ",
      "text/html": "<div>\n<style scoped>\n    .dataframe tbody tr th:only-of-type {\n        vertical-align: middle;\n    }\n\n    .dataframe tbody tr th {\n        vertical-align: top;\n    }\n\n    .dataframe thead th {\n        text-align: right;\n    }\n</style>\n<table border=\"1\" class=\"dataframe\">\n  <thead>\n    <tr style=\"text-align: right;\">\n      <th></th>\n      <th>longitude</th>\n      <th>latitude</th>\n      <th>housing_median_age</th>\n      <th>total_rooms</th>\n      <th>total_bedrooms</th>\n      <th>population</th>\n      <th>households</th>\n      <th>median_income</th>\n      <th>ocean_proximity</th>\n    </tr>\n  </thead>\n  <tbody>\n    <tr>\n      <td>91</td>\n      <td>-122.48</td>\n      <td>37.70</td>\n      <td>33.0</td>\n      <td>4492.0</td>\n      <td>543.332031</td>\n      <td>3477.0</td>\n      <td>1537.0</td>\n      <td>3.0546</td>\n      <td>NEAR OCEAN</td>\n    </tr>\n    <tr>\n      <td>234</td>\n      <td>-122.38</td>\n      <td>37.73</td>\n      <td>40.0</td>\n      <td>543.0</td>\n      <td>543.332031</td>\n      <td>259.0</td>\n      <td>89.0</td>\n      <td>2.2167</td>\n      <td>NEAR BAY</td>\n    </tr>\n    <tr>\n      <td>264</td>\n      <td>-118.16</td>\n      <td>34.01</td>\n      <td>40.0</td>\n      <td>1552.0</td>\n      <td>543.332031</td>\n      <td>1919.0</td>\n      <td>427.0</td>\n      <td>2.2596</td>\n      <td>&lt;1H OCEAN</td>\n    </tr>\n    <tr>\n      <td>365</td>\n      <td>-119.30</td>\n      <td>36.57</td>\n      <td>32.0</td>\n      <td>728.0</td>\n      <td>543.332031</td>\n      <td>461.0</td>\n      <td>149.0</td>\n      <td>3.0156</td>\n      <td>INLAND</td>\n    </tr>\n    <tr>\n      <td>405</td>\n      <td>-117.64</td>\n      <td>33.45</td>\n      <td>26.0</td>\n      <td>1528.0</td>\n      <td>543.332031</td>\n      <td>607.0</td>\n      <td>218.0</td>\n      <td>6.2871</td>\n      <td>NEAR OCEAN</td>\n    </tr>\n    <tr>\n      <td>734</td>\n      <td>-117.09</td>\n      <td>32.77</td>\n      <td>31.0</td>\n      <td>3062.0</td>\n      <td>543.332031</td>\n      <td>1263.0</td>\n      <td>539.0</td>\n      <td>3.0875</td>\n      <td>NEAR OCEAN</td>\n    </tr>\n    <tr>\n      <td>830</td>\n      <td>-118.25</td>\n      <td>33.94</td>\n      <td>43.0</td>\n      <td>793.0</td>\n      <td>543.332031</td>\n      <td>736.0</td>\n      <td>231.0</td>\n      <td>0.8527</td>\n      <td>&lt;1H OCEAN</td>\n    </tr>\n    <tr>\n      <td>868</td>\n      <td>-118.18</td>\n      <td>34.19</td>\n      <td>48.0</td>\n      <td>1371.0</td>\n      <td>543.332031</td>\n      <td>528.0</td>\n      <td>155.0</td>\n      <td>15.0001</td>\n      <td>&lt;1H OCEAN</td>\n    </tr>\n    <tr>\n      <td>1246</td>\n      <td>-119.78</td>\n      <td>36.82</td>\n      <td>25.0</td>\n      <td>5016.0</td>\n      <td>543.332031</td>\n      <td>2133.0</td>\n      <td>928.0</td>\n      <td>3.6250</td>\n      <td>INLAND</td>\n    </tr>\n    <tr>\n      <td>1290</td>\n      <td>-122.01</td>\n      <td>37.94</td>\n      <td>23.0</td>\n      <td>3741.0</td>\n      <td>543.332031</td>\n      <td>1339.0</td>\n      <td>499.0</td>\n      <td>6.7061</td>\n      <td>NEAR BAY</td>\n    </tr>\n    <tr>\n      <td>1301</td>\n      <td>-117.87</td>\n      <td>33.83</td>\n      <td>27.0</td>\n      <td>2287.0</td>\n      <td>543.332031</td>\n      <td>1140.0</td>\n      <td>351.0</td>\n      <td>5.6163</td>\n      <td>&lt;1H OCEAN</td>\n    </tr>\n    <tr>\n      <td>1618</td>\n      <td>-117.30</td>\n      <td>34.05</td>\n      <td>6.0</td>\n      <td>2155.0</td>\n      <td>543.332031</td>\n      <td>1039.0</td>\n      <td>391.0</td>\n      <td>1.6675</td>\n      <td>INLAND</td>\n    </tr>\n    <tr>\n      <td>1845</td>\n      <td>-118.09</td>\n      <td>33.89</td>\n      <td>42.0</td>\n      <td>991.0</td>\n      <td>543.332031</td>\n      <td>717.0</td>\n      <td>219.0</td>\n      <td>4.0926</td>\n      <td>&lt;1H OCEAN</td>\n    </tr>\n    <tr>\n      <td>1904</td>\n      <td>-117.98</td>\n      <td>33.73</td>\n      <td>18.0</td>\n      <td>3833.0</td>\n      <td>543.332031</td>\n      <td>2192.0</td>\n      <td>996.0</td>\n      <td>3.4679</td>\n      <td>&lt;1H OCEAN</td>\n    </tr>\n    <tr>\n      <td>1905</td>\n      <td>-120.61</td>\n      <td>37.36</td>\n      <td>16.0</td>\n      <td>638.0</td>\n      <td>543.332031</td>\n      <td>380.0</td>\n      <td>132.0</td>\n      <td>1.9135</td>\n      <td>INLAND</td>\n    </tr>\n    <tr>\n      <td>1954</td>\n      <td>-117.97</td>\n      <td>34.06</td>\n      <td>31.0</td>\n      <td>2516.0</td>\n      <td>543.332031</td>\n      <td>2194.0</td>\n      <td>497.0</td>\n      <td>3.2413</td>\n      <td>&lt;1H OCEAN</td>\n    </tr>\n    <tr>\n      <td>2013</td>\n      <td>-118.72</td>\n      <td>34.28</td>\n      <td>17.0</td>\n      <td>3051.0</td>\n      <td>543.332031</td>\n      <td>1705.0</td>\n      <td>495.0</td>\n      <td>5.7376</td>\n      <td>&lt;1H OCEAN</td>\n    </tr>\n  </tbody>\n</table>\n</div>"
     },
     "metadata": {},
     "execution_count": 80
    }
   ],
   "source": [
    "dev_X[index_null]"
   ]
  },
  {
   "cell_type": "markdown",
   "metadata": {},
   "source": [
    "# Yêu cầu 2: Thực hiện các thí nghiệm với việc thêm các thuộc tính tích lũy dẫn\n",
    "Chúng ta có danh sách các thuộc tính: ``longitude``, ``latitude``, ``housing_median_age``, ``total_rooms``, ``total_bedrooms``, ``population``, ``households``, ``median_income``, ``ocean_proximity``\n",
    "\n",
    "1. Thí nghiệm 1: ``longitude``\n",
    "2. Thí nghiệm 2: ``longitude``, ``latitude``\n",
    "3. Thí nghiêm 3: ``longitude``, ``latitude``, ``housing_median_age``\n",
    "4. Thí nghiệm 4: v.v...\n",
    "\n",
    "Lưu ý: Trong quá trình làm, các bạn sẽ tham khảo cách xử lý thuộc tính ``ocean_proximity`` bằng lớp ``LabelEncoder`` từ thư viện ``sklearn.preprocessing``"
   ]
  },
  {
   "cell_type": "code",
   "execution_count": 81,
   "metadata": {},
   "outputs": [],
   "source": [
    "features_list_1 = [\"longitude\"]\n",
    "model_1 = sm.OLS(train_Y, train_X[features_list_1]).fit()\n",
    "rmse_train_1 = math.sqrt(mean_squared_error(train_Y, model_1.predict(train_X[features_list_1])))\n",
    "# If True returns MSE value, if False returns RMSE value.\n",
    "rmse_dev_1 = math.sqrt(mean_squared_error(dev_Y, model_1.predict(dev_X[features_list_1])))\n",
    "rmse_test_1 = math.sqrt(mean_squared_error(test_Y, model_1.predict(test_X[features_list_1])))"
   ]
  },
  {
   "cell_type": "code",
   "execution_count": 82,
   "metadata": {},
   "outputs": [],
   "source": [
    "features_list_2 = [\"longitude\", \"latitude\"]\n",
    "model_2 = sm.OLS(train_Y, train_X[features_list_2]).fit()\n",
    "rmse_train_2 = math.sqrt(mean_squared_error(train_Y, model_2.predict(train_X[features_list_2])))\n",
    "rmse_dev_2 = math.sqrt(mean_squared_error(dev_Y, model_2.predict(dev_X[features_list_2])))\n",
    "rmse_test_2 = math.sqrt(mean_squared_error(test_Y, model_2.predict(test_X[features_list_2])))"
   ]
  },
  {
   "cell_type": "code",
   "execution_count": 83,
   "metadata": {},
   "outputs": [
    {
     "output_type": "execute_result",
     "data": {
      "text/plain": "0            INLAND\n1            INLAND\n2          NEAR BAY\n3        NEAR OCEAN\n4        NEAR OCEAN\n            ...    \n14442     <1H OCEAN\n14443    NEAR OCEAN\n14444     <1H OCEAN\n14445    NEAR OCEAN\n14446     <1H OCEAN\nName: ocean_proximity, Length: 14447, dtype: object"
     },
     "metadata": {},
     "execution_count": 83
    }
   ],
   "source": [
    "# Các bạn code tại đây\n",
    "train_X[\"ocean_proximity\"]"
   ]
  },
  {
   "cell_type": "code",
   "execution_count": 84,
   "metadata": {},
   "outputs": [
    {
     "output_type": "execute_result",
     "data": {
      "text/plain": "0        1\n1        1\n2        3\n3        4\n4        4\n        ..\n14442    0\n14443    4\n14444    0\n14445    4\n14446    0\nName: ocean_proximity, Length: 14447, dtype: int32"
     },
     "metadata": {},
     "execution_count": 84
    }
   ],
   "source": [
    "le = LabelEncoder()\n",
    "le.fit(train_X[\"ocean_proximity\"])\n",
    "train_X[\"ocean_proximity\"] = le.transform(train_X[\"ocean_proximity\"])\n",
    "train_X[\"ocean_proximity\"]"
   ]
  },
  {
   "cell_type": "code",
   "execution_count": 85,
   "metadata": {},
   "outputs": [
    {
     "output_type": "execute_result",
     "data": {
      "text/plain": "0       NEAR OCEAN\n1        <1H OCEAN\n2        <1H OCEAN\n3           INLAND\n4           INLAND\n           ...    \n4123     <1H OCEAN\n4124        INLAND\n4125     <1H OCEAN\n4126     <1H OCEAN\n4127        INLAND\nName: ocean_proximity, Length: 4128, dtype: object"
     },
     "metadata": {},
     "execution_count": 85
    }
   ],
   "source": [
    "test_X[\"ocean_proximity\"]"
   ]
  },
  {
   "cell_type": "code",
   "execution_count": 86,
   "metadata": {},
   "outputs": [
    {
     "output_type": "execute_result",
     "data": {
      "text/plain": "0       4\n1       0\n2       0\n3       1\n4       1\n       ..\n4123    0\n4124    1\n4125    0\n4126    0\n4127    1\nName: ocean_proximity, Length: 4128, dtype: int32"
     },
     "metadata": {},
     "execution_count": 86
    }
   ],
   "source": [
    "le.fit(test_X[\"ocean_proximity\"])\n",
    "test_X[\"ocean_proximity\"] = le.transform(test_X[\"ocean_proximity\"])\n",
    "test_X[\"ocean_proximity\"]"
   ]
  },
  {
   "cell_type": "code",
   "execution_count": 87,
   "metadata": {},
   "outputs": [
    {
     "output_type": "execute_result",
     "data": {
      "text/plain": "0        <1H OCEAN\n1        <1H OCEAN\n2       NEAR OCEAN\n3       NEAR OCEAN\n4        <1H OCEAN\n           ...    \n2060        INLAND\n2061     <1H OCEAN\n2062     <1H OCEAN\n2063     <1H OCEAN\n2064        INLAND\nName: ocean_proximity, Length: 2065, dtype: object"
     },
     "metadata": {},
     "execution_count": 87
    }
   ],
   "source": [
    "dev_X[\"ocean_proximity\"]"
   ]
  },
  {
   "cell_type": "code",
   "execution_count": 88,
   "metadata": {},
   "outputs": [
    {
     "output_type": "execute_result",
     "data": {
      "text/plain": "0       0\n1       0\n2       3\n3       3\n4       0\n       ..\n2060    1\n2061    0\n2062    0\n2063    0\n2064    1\nName: ocean_proximity, Length: 2065, dtype: int32"
     },
     "metadata": {},
     "execution_count": 88
    }
   ],
   "source": [
    "le.fit(dev_X[\"ocean_proximity\"])\n",
    "dev_X[\"ocean_proximity\"] = le.transform(dev_X[\"ocean_proximity\"])\n",
    "dev_X[\"ocean_proximity\"]"
   ]
  },
  {
   "cell_type": "code",
   "execution_count": 89,
   "metadata": {},
   "outputs": [],
   "source": [
    "features_list_3 = [\"longitude\", \"latitude\", \"housing_median_age\"]\n",
    "\n",
    "model_3 = sm.OLS(train_Y, train_X[features_list_3]).fit()\n",
    "\n",
    "rmse_train_3 = math.sqrt(mean_squared_error(train_Y, model_3.predict(train_X[features_list_3])))\n",
    "\n",
    "rmse_test_3 = math.sqrt(mean_squared_error(test_Y, model_3.predict(test_X[features_list_3])))\n",
    "\n",
    "rmse_dev_3 = math.sqrt(mean_squared_error(dev_Y, model_3.predict(dev_X[features_list_3])))\n",
    ""
   ]
  },
  {
   "cell_type": "code",
   "execution_count": 90,
   "metadata": {},
   "outputs": [],
   "source": [
    "features_list_4 = [\"longitude\", \"latitude\", \"housing_median_age\", \"total_rooms\"]\n",
    "\n",
    "model_4 = sm.OLS(train_Y, train_X[features_list_4]).fit()\n",
    "\n",
    "rmse_train_4 = math.sqrt(mean_squared_error(train_Y, model_4.predict(train_X[features_list_4])))\n",
    "\n",
    "rmse_test_4 = math.sqrt(mean_squared_error(test_Y, model_4.predict(test_X[features_list_4])))\n",
    "\n",
    "rmse_dev_4 = math.sqrt(mean_squared_error(dev_Y, model_4.predict(dev_X[features_list_4])))\n",
    ""
   ]
  },
  {
   "cell_type": "code",
   "execution_count": 91,
   "metadata": {},
   "outputs": [],
   "source": [
    "features_list_5 = [\"longitude\", \"latitude\", \"housing_median_age\", \"total_rooms\", \"total_bedrooms\" ]\n",
    "\n",
    "model_5 = sm.OLS(train_Y, train_X[features_list_5]).fit()\n",
    "\n",
    "rmse_train_5 = math.sqrt(mean_squared_error(train_Y, model_5.predict(train_X[features_list_5])))\n",
    "\n",
    "rmse_test_5 = math.sqrt(mean_squared_error(test_Y, model_5.predict(test_X[features_list_5])))\n",
    "\n",
    "rmse_dev_5 = math.sqrt(mean_squared_error(dev_Y, model_5.predict(dev_X[features_list_5])))\n",
    ""
   ]
  },
  {
   "cell_type": "code",
   "execution_count": 92,
   "metadata": {},
   "outputs": [],
   "source": [
    "features_list_6 = [\"longitude\", \"latitude\", \"housing_median_age\", \"total_rooms\", \"total_bedrooms\", \"population\"]\n",
    "\n",
    "model_6 = sm.OLS(train_Y, train_X[features_list_6]).fit()\n",
    "\n",
    "rmse_train_6 = math.sqrt(mean_squared_error(train_Y, model_6.predict(train_X[features_list_6])))\n",
    "\n",
    "rmse_dev_6 = math.sqrt(mean_squared_error(dev_Y, model_6.predict(dev_X[features_list_6])))\n",
    "\n",
    "rmse_test_6 = math.sqrt(mean_squared_error(test_Y, model_6.predict(test_X[features_list_6])))"
   ]
  },
  {
   "cell_type": "code",
   "execution_count": 93,
   "metadata": {},
   "outputs": [],
   "source": [
    "features_list_7 = [\"longitude\", \"latitude\", \"housing_median_age\", \"total_rooms\", \"total_bedrooms\", \"population\", \"households\"]\n",
    "\n",
    "model_7 = sm.OLS(train_Y, train_X[features_list_7]).fit()\n",
    "\n",
    "rmse_train_7 = math.sqrt(mean_squared_error(train_Y, model_7.predict(train_X[features_list_7])))\n",
    "\n",
    "rmse_dev_7 = math.sqrt(mean_squared_error(dev_Y, model_7.predict(dev_X[features_list_7])))\n",
    "\n",
    "rmse_test_7 = math.sqrt(mean_squared_error(test_Y, model_7.predict(test_X[features_list_7])))"
   ]
  },
  {
   "cell_type": "code",
   "execution_count": 94,
   "metadata": {},
   "outputs": [],
   "source": [
    "features_list_8 = [\"longitude\", \"latitude\", \"housing_median_age\", \"total_rooms\", \"total_bedrooms\", \"population\", \"households\", \"median_income\" ]\n",
    "\n",
    "model_8 = sm.OLS(train_Y, train_X[features_list_8]).fit()\n",
    "\n",
    "rmse_train_8 = math.sqrt(mean_squared_error(train_Y, model_8.predict(train_X[features_list_8])))\n",
    "\n",
    "rmse_dev_8 = math.sqrt(mean_squared_error(dev_Y, model_8.predict(dev_X[features_list_8])))\n",
    "\n",
    "rmse_test_8 = math.sqrt(mean_squared_error(test_Y, model_8.predict(test_X[features_list_8])))"
   ]
  },
  {
   "cell_type": "code",
   "execution_count": 95,
   "metadata": {},
   "outputs": [],
   "source": [
    "features_list_9 = [\"longitude\", \"latitude\", \"housing_median_age\", \"total_rooms\", \"total_bedrooms\", \"population\", \"households\", \"median_income\", \"ocean_proximity\"]\n",
    "\n",
    "model_9 = sm.OLS(train_Y, train_X[features_list_9]).fit()\n",
    "\n",
    "rmse_train_9 = math.sqrt(mean_squared_error(train_Y, model_9.predict(train_X[features_list_9])))\n",
    "\n",
    "rmse_dev_9 = math.sqrt(mean_squared_error(dev_Y, model_9.predict(dev_X[features_list_9])))\n",
    "\n",
    "rmse_test_9 = math.sqrt(mean_squared_error(test_Y, model_9.predict(test_X[features_list_9])))"
   ]
  },
  {
   "cell_type": "code",
   "execution_count": 96,
   "metadata": {},
   "outputs": [],
   "source": [
    "# Các bạn code tại đây. Các bạn có thể dùng thao tác Insert -> Insert Cell Bellow/Above để chèn thêm ô để nhập code"
   ]
  },
  {
   "cell_type": "markdown",
   "metadata": {},
   "source": [
    "# Yêu cầu 3: Trình bày kết quả mô hình vào một bảng bằng thư viện Pandas"
   ]
  },
  {
   "cell_type": "code",
   "execution_count": 97,
   "metadata": {
    "scrolled": true
   },
   "outputs": [
    {
     "output_type": "display_data",
     "data": {
      "text/plain": "                      RMSE_Train    RMSE_Dev   RMSE_Test\nlongitude             114808.126  114556.560  117298.758\nlongitude + latitude  111492.090  112236.757  113827.915",
      "text/html": "<div>\n<style scoped>\n    .dataframe tbody tr th:only-of-type {\n        vertical-align: middle;\n    }\n\n    .dataframe tbody tr th {\n        vertical-align: top;\n    }\n\n    .dataframe thead th {\n        text-align: right;\n    }\n</style>\n<table border=\"1\" class=\"dataframe\">\n  <thead>\n    <tr style=\"text-align: right;\">\n      <th></th>\n      <th>RMSE_Train</th>\n      <th>RMSE_Dev</th>\n      <th>RMSE_Test</th>\n    </tr>\n  </thead>\n  <tbody>\n    <tr>\n      <td>longitude</td>\n      <td>114808.126</td>\n      <td>114556.560</td>\n      <td>117298.758</td>\n    </tr>\n    <tr>\n      <td>longitude + latitude</td>\n      <td>111492.090</td>\n      <td>112236.757</td>\n      <td>113827.915</td>\n    </tr>\n  </tbody>\n</table>\n</div>"
     },
     "metadata": {}
    }
   ],
   "source": [
    "df_result = pd.DataFrame(data = {'RMSE_Train': [rmse_train_1, rmse_train_2],\n",
    "                                 'RMSE_Dev': [rmse_dev_1, rmse_dev_2],\n",
    "                                 'RMSE_Test': [rmse_test_1, rmse_test_2]},\n",
    "                         index = ['longitude', 'longitude + latitude'])\n",
    "\n",
    "display(df_result.round(3))"
   ]
  },
  {
   "cell_type": "code",
   "execution_count": 98,
   "metadata": {},
   "outputs": [
    {
     "output_type": "display_data",
     "data": {
      "text/plain": "                                                    RMSE_Train    RMSE_Dev  \\\nlongitude                                           114808.126  114556.560   \nlongitude + latitude                                111492.090  112236.757   \nlongitude + latitude + housing_median_age           111139.090  111531.578   \nlongitude + latitude + housing_median_age + tot...  109475.782  110283.774   \nlongitude + latitude + housing_median_age + tot...  106304.615  107283.688   \nlongitude + latitude + housing_median_age + tot...  102680.519  104604.796   \nlongitude + latitude + housing_median_age + tot...  101519.985  102242.234   \nlongitude + latitude + housing_median_age + tot...   74885.866   75358.064   \nlongitude + latitude + housing_median_age + tot...   74421.501   75127.508   \n\n                                                     RMSE_Test  \nlongitude                                           117298.758  \nlongitude + latitude                                113827.915  \nlongitude + latitude + housing_median_age           113134.299  \nlongitude + latitude + housing_median_age + tot...  111129.497  \nlongitude + latitude + housing_median_age + tot...  107815.117  \nlongitude + latitude + housing_median_age + tot...  103410.173  \nlongitude + latitude + housing_median_age + tot...  102033.380  \nlongitude + latitude + housing_median_age + tot...   75006.686  \nlongitude + latitude + housing_median_age + tot...   74619.996  ",
      "text/html": "<div>\n<style scoped>\n    .dataframe tbody tr th:only-of-type {\n        vertical-align: middle;\n    }\n\n    .dataframe tbody tr th {\n        vertical-align: top;\n    }\n\n    .dataframe thead th {\n        text-align: right;\n    }\n</style>\n<table border=\"1\" class=\"dataframe\">\n  <thead>\n    <tr style=\"text-align: right;\">\n      <th></th>\n      <th>RMSE_Train</th>\n      <th>RMSE_Dev</th>\n      <th>RMSE_Test</th>\n    </tr>\n  </thead>\n  <tbody>\n    <tr>\n      <td>longitude</td>\n      <td>114808.126</td>\n      <td>114556.560</td>\n      <td>117298.758</td>\n    </tr>\n    <tr>\n      <td>longitude + latitude</td>\n      <td>111492.090</td>\n      <td>112236.757</td>\n      <td>113827.915</td>\n    </tr>\n    <tr>\n      <td>longitude + latitude + housing_median_age</td>\n      <td>111139.090</td>\n      <td>111531.578</td>\n      <td>113134.299</td>\n    </tr>\n    <tr>\n      <td>longitude + latitude + housing_median_age + total_rooms</td>\n      <td>109475.782</td>\n      <td>110283.774</td>\n      <td>111129.497</td>\n    </tr>\n    <tr>\n      <td>longitude + latitude + housing_median_age + total_rooms + total_bedrooms</td>\n      <td>106304.615</td>\n      <td>107283.688</td>\n      <td>107815.117</td>\n    </tr>\n    <tr>\n      <td>longitude + latitude + housing_median_age + total_rooms + total_bedrooms + population</td>\n      <td>102680.519</td>\n      <td>104604.796</td>\n      <td>103410.173</td>\n    </tr>\n    <tr>\n      <td>longitude + latitude + housing_median_age + total_rooms + total_bedrooms + population + households</td>\n      <td>101519.985</td>\n      <td>102242.234</td>\n      <td>102033.380</td>\n    </tr>\n    <tr>\n      <td>longitude + latitude + housing_median_age + total_rooms + total_bedrooms + population + households + median_income</td>\n      <td>74885.866</td>\n      <td>75358.064</td>\n      <td>75006.686</td>\n    </tr>\n    <tr>\n      <td>longitude + latitude + housing_median_age + total_rooms + total_bedrooms + population + households + median_income + ocean_proximity</td>\n      <td>74421.501</td>\n      <td>75127.508</td>\n      <td>74619.996</td>\n    </tr>\n  </tbody>\n</table>\n</div>"
     },
     "metadata": {}
    }
   ],
   "source": [
    "df_result = pd.DataFrame(data = {'RMSE_Train': [rmse_train_1, rmse_train_2, rmse_train_3, rmse_train_4, rmse_train_5, rmse_train_6, rmse_train_7, rmse_train_8, rmse_train_9],\n",
    "                                 'RMSE_Dev': [rmse_dev_1, rmse_dev_2, rmse_dev_3, rmse_dev_4, rmse_dev_5, rmse_dev_6, rmse_dev_7, rmse_dev_8, rmse_dev_9],\n",
    "                                 'RMSE_Test': [rmse_test_1, rmse_test_2, rmse_test_3, rmse_test_4, rmse_test_5, rmse_test_6, rmse_test_7, rmse_test_8, rmse_test_9]},\n",
    "                         index = ['longitude', 'longitude + latitude', 'longitude + latitude + housing_median_age', 'longitude + latitude + housing_median_age + total_rooms', 'longitude + latitude + housing_median_age + total_rooms + total_bedrooms', 'longitude + latitude + housing_median_age + total_rooms + total_bedrooms + population','longitude + latitude + housing_median_age + total_rooms + total_bedrooms + population + households', 'longitude + latitude + housing_median_age + total_rooms + total_bedrooms + population + households + median_income','longitude + latitude + housing_median_age + total_rooms + total_bedrooms + population + households + median_income + ocean_proximity' ])\n",
    "display(df_result.round(3))"
   ]
  },
  {
   "cell_type": "markdown",
   "metadata": {},
   "source": [
    "# Yêu cầu 4: Nhận xét các kết quả trên\n",
    "Các bạn vui lòng nhận xét tại đây nha, ví dụ như giá trị hiệu suất ``RMSE`` thay đổi như thế nào?\n",
    "Các bạn nên dùng ``Markdown`` như thế này để nhận xét."
   ]
  },
  {
   "cell_type": "markdown",
   "metadata": {},
   "source": []
  },
  {
   "cell_type": "markdown",
   "metadata": {},
   "source": [
    "# Yêu cầu 5: Thực hiện lại các Yêu cầu 2, 3, 4 khi dùng mô hình ``Support Vector Machine regressor`` (``sklearn.svm.SVR``) để giải quyết bài toán hồi quy tuyến tính "
   ]
  }
 ],
 "metadata": {
  "kernelspec": {
   "display_name": "Python 3",
   "language": "python",
   "name": "python3"
  },
  "language_info": {
   "codemirror_mode": {
    "name": "ipython",
    "version": 3
   },
   "file_extension": ".py",
   "mimetype": "text/x-python",
   "name": "python",
   "nbconvert_exporter": "python",
   "pygments_lexer": "ipython3",
   "version": "3.7.4-final"
  }
 },
 "nbformat": 4,
 "nbformat_minor": 4
}