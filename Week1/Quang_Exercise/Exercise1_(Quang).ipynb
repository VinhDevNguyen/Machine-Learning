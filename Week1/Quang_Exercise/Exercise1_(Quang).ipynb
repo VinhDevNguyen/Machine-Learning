{
 "cells": [
  {
   "cell_type": "markdown",
   "metadata": {},
   "source": [
    "# Bài thực hành tuần 2\n",
    "# Bài tập 1"
   ]
  },
  {
   "cell_type": "code",
   "execution_count": 5,
   "metadata": {},
   "outputs": [],
   "source": [
    "import numpy as np\n",
    "import matplotlib.pyplot as plt"
   ]
  },
  {
   "cell_type": "markdown",
   "metadata": {},
   "source": [
    "# khai báo 2 thư viện numpy và matplotlib.pyplot\n",
    "# numpy dùng để tạo dataset \n",
    "# matplotlib.pyplot dùng để vẽ đồ thị để thấy được sự tương quan của 2 đại lượng x, y và vẽ đồ thị của Linear Regression\n"
   ]
  },
  {
   "cell_type": "code",
   "execution_count": 16,
   "metadata": {},
   "outputs": [
    {
     "name": "stdout",
     "output_type": "stream",
     "text": [
      "[[1.03911456]\n",
      " [1.76326278]\n",
      " [1.18554335]\n",
      " [0.78710485]\n",
      " [1.49897541]\n",
      " [0.53308482]\n",
      " [1.51031671]\n",
      " [1.40704783]\n",
      " [1.85452169]\n",
      " [0.33235533]\n",
      " [1.90233609]\n",
      " [0.53349781]\n",
      " [0.6399845 ]\n",
      " [1.61191413]\n",
      " [1.99369941]\n",
      " [0.07037846]\n",
      " [0.38097087]\n",
      " [1.61558003]\n",
      " [0.49833515]\n",
      " [0.62708649]\n",
      " [0.35684044]\n",
      " [0.44151849]\n",
      " [0.74408675]\n",
      " [1.05962134]\n",
      " [0.66695535]\n",
      " [0.8935388 ]\n",
      " [1.30929106]\n",
      " [1.44844876]\n",
      " [1.24167309]\n",
      " [0.17370246]\n",
      " [0.02734804]\n",
      " [0.87507822]\n",
      " [1.46684834]\n",
      " [1.9776027 ]\n",
      " [0.4578329 ]\n",
      " [0.72973351]\n",
      " [1.74280799]\n",
      " [0.44358865]\n",
      " [1.17872915]\n",
      " [0.96311556]\n",
      " [1.06730511]\n",
      " [1.35593148]\n",
      " [0.0340042 ]\n",
      " [0.92302445]\n",
      " [1.50579854]\n",
      " [1.9782375 ]\n",
      " [0.05383359]\n",
      " [1.62628135]\n",
      " [1.46945581]\n",
      " [1.33435964]\n",
      " [0.28461573]\n",
      " [1.93055832]\n",
      " [1.03337878]\n",
      " [0.14025497]\n",
      " [0.32107518]\n",
      " [1.5061004 ]\n",
      " [0.33837275]\n",
      " [1.49780098]\n",
      " [1.60136021]\n",
      " [0.78134675]\n",
      " [0.43110006]\n",
      " [0.32529979]\n",
      " [0.58363943]\n",
      " [0.18930656]\n",
      " [0.7586701 ]\n",
      " [0.50441678]\n",
      " [1.96401479]\n",
      " [0.93094334]\n",
      " [0.50072471]\n",
      " [0.84951844]\n",
      " [0.18724352]\n",
      " [0.406233  ]\n",
      " [0.57075389]\n",
      " [1.06589256]\n",
      " [0.44838487]\n",
      " [1.11722368]\n",
      " [0.03406515]\n",
      " [0.38986596]\n",
      " [1.36593345]\n",
      " [1.29037822]\n",
      " [1.85365508]\n",
      " [1.39027313]\n",
      " [0.6413257 ]\n",
      " [0.37932897]\n",
      " [1.77148332]\n",
      " [0.65558907]\n",
      " [1.81804155]\n",
      " [1.57124082]\n",
      " [1.26204205]\n",
      " [1.77450198]\n",
      " [1.24450283]\n",
      " [0.96032586]\n",
      " [1.90677332]\n",
      " [1.03478405]\n",
      " [0.75834837]\n",
      " [0.4178642 ]\n",
      " [0.10469934]\n",
      " [0.82256241]\n",
      " [1.4659014 ]\n",
      " [0.84146606]]\n"
     ]
    }
   ],
   "source": [
    "x = 2 * np.random.rand(100,1)\n",
    "print(x)"
   ]
  },
  {
   "cell_type": "markdown",
   "metadata": {},
   "source": [
    "# tạo 1 dataset là 1 ma trận x lấy giá trị ngẫu nhiên"
   ]
  },
  {
   "cell_type": "code",
   "execution_count": 17,
   "metadata": {},
   "outputs": [
    {
     "name": "stdout",
     "output_type": "stream",
     "text": [
      "[[ 5.60011903]\n",
      " [ 9.1188384 ]\n",
      " [ 6.21919585]\n",
      " [ 6.88984177]\n",
      " [ 8.61740913]\n",
      " [ 5.6524232 ]\n",
      " [10.01814303]\n",
      " [ 6.17726365]\n",
      " [ 8.27832834]\n",
      " [ 5.33274637]\n",
      " [ 9.23093764]\n",
      " [ 6.29980606]\n",
      " [ 6.51642455]\n",
      " [ 7.18265238]\n",
      " [10.22106857]\n",
      " [ 4.4113827 ]\n",
      " [ 4.92697447]\n",
      " [ 9.33286289]\n",
      " [ 4.01757738]\n",
      " [ 5.39991836]\n",
      " [ 6.11442109]\n",
      " [ 4.5290288 ]\n",
      " [ 5.25767567]\n",
      " [ 6.37681962]\n",
      " [ 5.29196308]\n",
      " [ 6.924375  ]\n",
      " [ 6.81419705]\n",
      " [ 7.91563504]\n",
      " [ 7.82689982]\n",
      " [ 4.21534317]\n",
      " [ 1.99038382]\n",
      " [ 6.9018215 ]\n",
      " [ 7.41566357]\n",
      " [11.2658461 ]\n",
      " [ 6.75426877]\n",
      " [ 4.5682554 ]\n",
      " [ 8.70027258]\n",
      " [ 6.77658572]\n",
      " [ 7.12595918]\n",
      " [ 6.37210884]\n",
      " [ 9.29773768]\n",
      " [ 7.95920589]\n",
      " [ 3.49376175]\n",
      " [ 5.95750645]\n",
      " [ 9.29003   ]\n",
      " [11.68829559]\n",
      " [ 6.442861  ]\n",
      " [ 8.5693817 ]\n",
      " [ 6.0015424 ]\n",
      " [ 6.88585785]\n",
      " [ 8.35303366]\n",
      " [ 9.89870817]\n",
      " [ 6.20334115]\n",
      " [ 5.70150345]\n",
      " [ 4.67317779]\n",
      " [ 7.5698217 ]\n",
      " [ 4.18409052]\n",
      " [ 9.48377976]\n",
      " [ 8.0938424 ]\n",
      " [ 7.115644  ]\n",
      " [ 5.02788631]\n",
      " [ 3.86268096]\n",
      " [ 5.57052299]\n",
      " [ 6.08315591]\n",
      " [ 7.45246604]\n",
      " [ 4.70271034]\n",
      " [10.0365608 ]\n",
      " [ 5.92182131]\n",
      " [ 5.42383739]\n",
      " [ 5.17623235]\n",
      " [ 4.17284792]\n",
      " [ 4.87616412]\n",
      " [ 7.39060435]\n",
      " [ 7.64738797]\n",
      " [ 5.73007264]\n",
      " [ 8.1513209 ]\n",
      " [ 2.9149164 ]\n",
      " [ 5.43290128]\n",
      " [ 8.33682219]\n",
      " [ 7.63316617]\n",
      " [ 9.93691372]\n",
      " [ 6.77738333]\n",
      " [ 7.25831492]\n",
      " [ 3.80933616]\n",
      " [ 8.62650888]\n",
      " [ 7.16724042]\n",
      " [ 8.58609382]\n",
      " [ 7.93756872]\n",
      " [ 8.1397735 ]\n",
      " [ 8.71785257]\n",
      " [ 7.86486263]\n",
      " [ 6.64487276]\n",
      " [11.13676432]\n",
      " [ 6.47249257]\n",
      " [ 5.21043905]\n",
      " [ 6.28002382]\n",
      " [ 4.2276385 ]\n",
      " [ 7.71150634]\n",
      " [ 8.76428522]\n",
      " [ 7.46260984]]\n"
     ]
    }
   ],
   "source": [
    "y = 4 + 3 * x + np.random.randn(100,1)\n",
    "print(y)"
   ]
  },
  {
   "cell_type": "markdown",
   "metadata": {},
   "source": [
    "# tạo kết quả y của dataset x bằng hàm cách cộng thêm hàm nhiễu random theo hàm Gaussien"
   ]
  },
  {
   "cell_type": "code",
   "execution_count": 18,
   "metadata": {},
   "outputs": [
    {
     "data": {
      "text/plain": [
       "<matplotlib.collections.PathCollection at 0x212d65283c8>"
      ]
     },
     "execution_count": 18,
     "metadata": {},
     "output_type": "execute_result"
    },
    {
     "data": {
      "image/png": "[encoded data removed]",
      "text/plain": [
       "<Figure size 432x288 with 1 Axes>"
      ]
     },
     "metadata": {
      "needs_background": "light"
     },
     "output_type": "display_data"
    }
   ],
   "source": [
    "plt.scatter(x,y)"
   ]
  },
  {
   "cell_type": "markdown",
   "metadata": {},
   "source": [
    "# vẽ đồ thị thể hiện sự tương quan giữa x và y"
   ]
  },
  {
   "cell_type": "code",
   "execution_count": 20,
   "metadata": {},
   "outputs": [
    {
     "name": "stdout",
     "output_type": "stream",
     "text": [
      "[[1.         1.03911456]\n",
      " [1.         1.76326278]\n",
      " [1.         1.18554335]\n",
      " [1.         0.78710485]\n",
      " [1.         1.49897541]\n",
      " [1.         0.53308482]\n",
      " [1.         1.51031671]\n",
      " [1.         1.40704783]\n",
      " [1.         1.85452169]\n",
      " [1.         0.33235533]\n",
      " [1.         1.90233609]\n",
      " [1.         0.53349781]\n",
      " [1.         0.6399845 ]\n",
      " [1.         1.61191413]\n",
      " [1.         1.99369941]\n",
      " [1.         0.07037846]\n",
      " [1.         0.38097087]\n",
      " [1.         1.61558003]\n",
      " [1.         0.49833515]\n",
      " [1.         0.62708649]\n",
      " [1.         0.35684044]\n",
      " [1.         0.44151849]\n",
      " [1.         0.74408675]\n",
      " [1.         1.05962134]\n",
      " [1.         0.66695535]\n",
      " [1.         0.8935388 ]\n",
      " [1.         1.30929106]\n",
      " [1.         1.44844876]\n",
      " [1.         1.24167309]\n",
      " [1.         0.17370246]\n",
      " [1.         0.02734804]\n",
      " [1.         0.87507822]\n",
      " [1.         1.46684834]\n",
      " [1.         1.9776027 ]\n",
      " [1.         0.4578329 ]\n",
      " [1.         0.72973351]\n",
      " [1.         1.74280799]\n",
      " [1.         0.44358865]\n",
      " [1.         1.17872915]\n",
      " [1.         0.96311556]\n",
      " [1.         1.06730511]\n",
      " [1.         1.35593148]\n",
      " [1.         0.0340042 ]\n",
      " [1.         0.92302445]\n",
      " [1.         1.50579854]\n",
      " [1.         1.9782375 ]\n",
      " [1.         0.05383359]\n",
      " [1.         1.62628135]\n",
      " [1.         1.46945581]\n",
      " [1.         1.33435964]\n",
      " [1.         0.28461573]\n",
      " [1.         1.93055832]\n",
      " [1.         1.03337878]\n",
      " [1.         0.14025497]\n",
      " [1.         0.32107518]\n",
      " [1.         1.5061004 ]\n",
      " [1.         0.33837275]\n",
      " [1.         1.49780098]\n",
      " [1.         1.60136021]\n",
      " [1.         0.78134675]\n",
      " [1.         0.43110006]\n",
      " [1.         0.32529979]\n",
      " [1.         0.58363943]\n",
      " [1.         0.18930656]\n",
      " [1.         0.7586701 ]\n",
      " [1.         0.50441678]\n",
      " [1.         1.96401479]\n",
      " [1.         0.93094334]\n",
      " [1.         0.50072471]\n",
      " [1.         0.84951844]\n",
      " [1.         0.18724352]\n",
      " [1.         0.406233  ]\n",
      " [1.         0.57075389]\n",
      " [1.         1.06589256]\n",
      " [1.         0.44838487]\n",
      " [1.         1.11722368]\n",
      " [1.         0.03406515]\n",
      " [1.         0.38986596]\n",
      " [1.         1.36593345]\n",
      " [1.         1.29037822]\n",
      " [1.         1.85365508]\n",
      " [1.         1.39027313]\n",
      " [1.         0.6413257 ]\n",
      " [1.         0.37932897]\n",
      " [1.         1.77148332]\n",
      " [1.         0.65558907]\n",
      " [1.         1.81804155]\n",
      " [1.         1.57124082]\n",
      " [1.         1.26204205]\n",
      " [1.         1.77450198]\n",
      " [1.         1.24450283]\n",
      " [1.         0.96032586]\n",
      " [1.         1.90677332]\n",
      " [1.         1.03478405]\n",
      " [1.         0.75834837]\n",
      " [1.         0.4178642 ]\n",
      " [1.         0.10469934]\n",
      " [1.         0.82256241]\n",
      " [1.         1.4659014 ]\n",
      " [1.         0.84146606]]\n"
     ]
    }
   ],
   "source": [
    "x_b = np.c_[np.ones((100, 1)), x]\n",
    "print(x_b)"
   ]
  },
  {
   "cell_type": "markdown",
   "metadata": {},
   "source": [
    "# thêm giá trị x0 = 1 vào ma trận dataset x \n",
    "# vì phương trình Linear Regression tổng quát \n",
    "# có dạng:\n",
    "# y = $\\theta$0 + $\\theta$1 * x với x0 = 1"
   ]
  },
  {
   "cell_type": "code",
   "execution_count": 21,
   "metadata": {},
   "outputs": [
    {
     "name": "stdout",
     "output_type": "stream",
     "text": [
      "[[4.12418816]\n",
      " [2.80727878]]\n"
     ]
    }
   ],
   "source": [
    "minimize_theta = np.linalg.inv(x_b.T.dot(x_b)).dot(x_b.T).dot(y)\n",
    "print(minimize_theta)"
   ]
  },
  {
   "cell_type": "markdown",
   "metadata": {},
   "source": [
    "# áp dụng công thức Normal Equation để tính giá trị  $\\theta$  minimize\n",
    "# $\\hat{\\theta}$ = ($X^T$ X)$^-$$^1$ $X^T$ y"
   ]
  },
  {
   "cell_type": "code",
   "execution_count": 24,
   "metadata": {},
   "outputs": [
    {
     "name": "stdout",
     "output_type": "stream",
     "text": [
      "[[0]\n",
      " [2]]\n"
     ]
    }
   ],
   "source": [
    "x_new = np.array([[0], [2]])\n",
    "print(x_new)"
   ]
  },
  {
   "cell_type": "markdown",
   "metadata": {},
   "source": [
    "# ta chọn 2 giá trị bất kì x để đem vào kiểm tra độ chính xác vè vẽ biểu đồ cho thuật toán linear regression"
   ]
  },
  {
   "cell_type": "code",
   "execution_count": 25,
   "metadata": {},
   "outputs": [
    {
     "name": "stdout",
     "output_type": "stream",
     "text": [
      "[[1. 0.]\n",
      " [1. 2.]]\n"
     ]
    }
   ],
   "source": [
    "x_new_b = np.c_[np.ones((2,1)), x_new]\n",
    "print(x_new_b)"
   ]
  },
  {
   "cell_type": "markdown",
   "metadata": {},
   "source": [
    "# thêm vào x giá trị x0 = 1"
   ]
  },
  {
   "cell_type": "code",
   "execution_count": 14,
   "metadata": {},
   "outputs": [
    {
     "name": "stdout",
     "output_type": "stream",
     "text": [
      "[[3.7410709 ]\n",
      " [9.93919123]]\n"
     ]
    }
   ],
   "source": [
    "y_predict = x_new_b.dot(minimize_theta)\n",
    "print(y_predict)"
   ]
  },
  {
   "cell_type": "markdown",
   "metadata": {},
   "source": [
    "# dự đoán giá trị y từ 2 giá trị x mới bằng giá trị $\\theta$ minimize mới tìm được ở trên"
   ]
  },
  {
   "cell_type": "code",
   "execution_count": 26,
   "metadata": {},
   "outputs": [
    {
     "data": {
      "text/plain": [
       "[<matplotlib.lines.Line2D at 0x212d65ccf48>]"
      ]
     },
     "execution_count": 26,
     "metadata": {},
     "output_type": "execute_result"
    },
    {
     "data": {
      "image/png": "[encoded data removed]",
      "text/plain": [
       "<Figure size 432x288 with 1 Axes>"
      ]
     },
     "metadata": {
      "needs_background": "light"
     },
     "output_type": "display_data"
    }
   ],
   "source": [
    "plt.plot(x_new, y_predict, \"r-\")\n",
    "plt.plot(x,y,\"b.\")"
   ]
  },
  {
   "cell_type": "markdown",
   "metadata": {},
   "source": [
    "# vẽ đồ thị Linear Regression để xem mối tương quan của thuật toán với các điểm dataset"
   ]
  },
  {
   "cell_type": "code",
   "execution_count": 27,
   "metadata": {},
   "outputs": [],
   "source": [
    "from sklearn.linear_model import LinearRegression"
   ]
  },
  {
   "cell_type": "markdown",
   "metadata": {},
   "source": [
    "# thử áp dụng sklearn vào dataset trên"
   ]
  },
  {
   "cell_type": "code",
   "execution_count": 30,
   "metadata": {},
   "outputs": [],
   "source": [
    "lr = LinearRegression()"
   ]
  },
  {
   "cell_type": "markdown",
   "metadata": {},
   "source": [
    "# khai báo thuật toán LinearRegression gán vào biến lr"
   ]
  },
  {
   "cell_type": "code",
   "execution_count": 31,
   "metadata": {},
   "outputs": [
    {
     "data": {
      "text/plain": [
       "LinearRegression(copy_X=True, fit_intercept=True, n_jobs=None, normalize=False)"
      ]
     },
     "execution_count": 31,
     "metadata": {},
     "output_type": "execute_result"
    }
   ],
   "source": [
    "lr.fit(x,y)"
   ]
  },
  {
   "cell_type": "markdown",
   "metadata": {},
   "source": [
    "# ghép đôi giá trị x tương ứng với giá trị y"
   ]
  },
  {
   "cell_type": "code",
   "execution_count": 32,
   "metadata": {},
   "outputs": [
    {
     "data": {
      "text/plain": [
       "array([4.12418816])"
      ]
     },
     "execution_count": 32,
     "metadata": {},
     "output_type": "execute_result"
    }
   ],
   "source": [
    "lr.intercept_"
   ]
  },
  {
   "cell_type": "markdown",
   "metadata": {},
   "source": [
    "# giá trị $\\theta0$  đuợc tính bởi thuật toán của scikit-Learn"
   ]
  },
  {
   "cell_type": "code",
   "execution_count": 33,
   "metadata": {},
   "outputs": [
    {
     "data": {
      "text/plain": [
       "array([[2.80727878]])"
      ]
     },
     "execution_count": 33,
     "metadata": {},
     "output_type": "execute_result"
    }
   ],
   "source": [
    "lr.coef_"
   ]
  },
  {
   "cell_type": "markdown",
   "metadata": {},
   "source": [
    "# giá trị $\\theta1$ được tính bơi thuật toán của scikit-learn"
   ]
  },
  {
   "cell_type": "code",
   "execution_count": 35,
   "metadata": {},
   "outputs": [
    {
     "name": "stdout",
     "output_type": "stream",
     "text": [
      "[[4.12418816]\n",
      " [9.73874572]]\n"
     ]
    }
   ],
   "source": [
    "y1 = lr.predict(x_new)\n",
    "print(y1)"
   ]
  },
  {
   "cell_type": "markdown",
   "metadata": {},
   "source": [
    "# dự đoán giá trị mới dựa trên giá trị x_new được khai báo ở trên"
   ]
  },
  {
   "cell_type": "code",
   "execution_count": 36,
   "metadata": {},
   "outputs": [
    {
     "data": {
      "text/plain": [
       "[<matplotlib.lines.Line2D at 0x212d8c88f48>]"
      ]
     },
     "execution_count": 36,
     "metadata": {},
     "output_type": "execute_result"
    },
    {
     "data": {
      "image/png": "[encoded data removed]",
      "text/plain": [
       "<Figure size 432x288 with 1 Axes>"
      ]
     },
     "metadata": {
      "needs_background": "light"
     },
     "output_type": "display_data"
    }
   ],
   "source": [
    "plt.plot(x_new, y1, \"r-\")\n",
    "plt.plot(x,y,\"b.\")"
   ]
  },
  {
   "cell_type": "markdown",
   "metadata": {},
   "source": [
    "# vẽ đồ thị để xem mối tương quan giữa dataset và đường thẳng được vẽ bởi Linear Regression"
   ]
  },
  {
   "cell_type": "code",
   "execution_count": null,
   "metadata": {},
   "outputs": [],
   "source": []
  }
 ],
 "metadata": {
  "kernelspec": {
   "display_name": "Python 3",
   "language": "python",
   "name": "python3"
  },
  "language_info": {
   "codemirror_mode": {
    "name": "ipython",
    "version": 3
   },
   "file_extension": ".py",
   "mimetype": "text/x-python",
   "name": "python",
   "nbconvert_exporter": "python",
   "pygments_lexer": "ipython3",
   "version": "3.7.4"
  }
 },
 "nbformat": 4,
 "nbformat_minor": 2
}
