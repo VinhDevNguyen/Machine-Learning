{
 "cells": [
  {
   "cell_type": "markdown",
   "metadata": {},
   "source": [
    "### Bài tập 1.\n",
    " - <ins>Yêu cầu</ins>: Trình bày sự khác biệt cơ bản của mô hình hồi quy tuyến tính và mô hình hồi quy logistic."
   ]
  },
  {
   "cell_type": "markdown",
   "metadata": {},
   "source": [
    "# 1. Kết quả của Linear Regression là các giá trị tuyến tính còn với logistic Regression là các giá trị rời rạc\n",
    "# 2. Để sử dụng Linear Regression chúng ta cần một mối quan hệ tuyến tính giữa các giá trị của các biến độc lập và không độc lập còn logistic Regression không cần điều này\n",
    "# 3. Linear Regression sử dụng đường thẳng để dự đoán kết quả trong khi đó logistic sử dụng đường cong cho dữ liệu\n",
    "# 4. Linear Regression thì dành cho các bài toán hồi quy tuyến tính còn logistic thì dành cho các bài toán phân loại \n",
    "# 5. Linear Regression sử dụng hàm gausses để phân phối giả định cho các biến độc lập trong khi logistic Regression sử dụng phân phối nhị thức\n"
   ]
  },
  {
   "cell_type": "markdown",
   "metadata": {},
   "source": [
    "### Bài tập 2.\n",
    "\n",
    "|    |   X | Y   |\n",
    "|---:|----:|:----|\n",
    "|  0 |  60 | Yes |\n",
    "|  1 |  55 | No  |\n",
    "|  2 |  61 | No  |\n",
    "|  3 |  70 | Yes |\n",
    "|  4 |  59 | Yes |\n",
    "|  5 |  65 | Yes |\n",
    "|  6 |  80 | Yes |\n",
    "|  7 |  63 | No  |\n",
    "|  8 |  50 | No  |\n",
    "|  9 |  75 | Yes |\n",
    "| 10 |  73 | Yes |\n",
    "| 11 |  51 | No  |\n",
    "\n",
    "- <ins>Mô tả</ins>: Bài toán dự đoán sở thích học Machine Learning thông qua số đo cân nặng.\n",
    "- <ins>Dữ liệu</ins>: Tập tin ``ML_Learning_Hobby.csv``.\n",
    "- <ins>Yêu cầu</ins>:\n",
    "    - Xây dựng mô hình hồi quy logistic (sử dụng thư viện có sẵn hoặc ``build from scratch`` đều được) với thuộc tính tự do là ``X`` (cân nặng, là biến liên tục) và thuộc tính phụ thuộc ``Y`` (chỉ có hai giá trị ``Yes`` và ``No``, là biến rời rạc).\n",
    "    - Dự đoán rằng sinh viên có cân nặng ``X_new`` = ``62`` kg có thích học môn Machine Learning hay không?"
   ]
  },
  {
   "cell_type": "code",
   "execution_count": 194,
   "metadata": {},
   "outputs": [],
   "source": [
    "import pandas as pd\n",
    "import numpy as np\n",
    "from sklearn.linear_model import LogisticRegression\n",
    "from sklearn import preprocessing\n",
    "import matplotlib.pyplot as plt "
   ]
  },
  {
   "cell_type": "code",
   "execution_count": 195,
   "metadata": {},
   "outputs": [
    {
     "output_type": "execute_result",
     "data": {
      "text/plain": "     X    Y\n0   60  Yes\n1   55   No\n2   61   No\n3   70  Yes\n4   59  Yes\n5   65  Yes\n6   80  Yes\n7   63   No\n8   50   No\n9   75  Yes\n10  73  Yes\n11  51   No",
      "text/html": "<div>\n<style scoped>\n    .dataframe tbody tr th:only-of-type {\n        vertical-align: middle;\n    }\n\n    .dataframe tbody tr th {\n        vertical-align: top;\n    }\n\n    .dataframe thead th {\n        text-align: right;\n    }\n</style>\n<table border=\"1\" class=\"dataframe\">\n  <thead>\n    <tr style=\"text-align: right;\">\n      <th></th>\n      <th>X</th>\n      <th>Y</th>\n    </tr>\n  </thead>\n  <tbody>\n    <tr>\n      <td>0</td>\n      <td>60</td>\n      <td>Yes</td>\n    </tr>\n    <tr>\n      <td>1</td>\n      <td>55</td>\n      <td>No</td>\n    </tr>\n    <tr>\n      <td>2</td>\n      <td>61</td>\n      <td>No</td>\n    </tr>\n    <tr>\n      <td>3</td>\n      <td>70</td>\n      <td>Yes</td>\n    </tr>\n    <tr>\n      <td>4</td>\n      <td>59</td>\n      <td>Yes</td>\n    </tr>\n    <tr>\n      <td>5</td>\n      <td>65</td>\n      <td>Yes</td>\n    </tr>\n    <tr>\n      <td>6</td>\n      <td>80</td>\n      <td>Yes</td>\n    </tr>\n    <tr>\n      <td>7</td>\n      <td>63</td>\n      <td>No</td>\n    </tr>\n    <tr>\n      <td>8</td>\n      <td>50</td>\n      <td>No</td>\n    </tr>\n    <tr>\n      <td>9</td>\n      <td>75</td>\n      <td>Yes</td>\n    </tr>\n    <tr>\n      <td>10</td>\n      <td>73</td>\n      <td>Yes</td>\n    </tr>\n    <tr>\n      <td>11</td>\n      <td>51</td>\n      <td>No</td>\n    </tr>\n  </tbody>\n</table>\n</div>"
     },
     "metadata": {},
     "execution_count": 195
    }
   ],
   "source": [
    "data = pd.read_csv('ML_Learning_Hobby.csv')\n",
    "data "
   ]
  },
  {
   "cell_type": "code",
   "execution_count": 196,
   "metadata": {},
   "outputs": [
    {
     "output_type": "execute_result",
     "data": {
      "text/plain": "array([[60],\n       [55],\n       [61],\n       [70],\n       [59],\n       [65],\n       [80],\n       [63],\n       [50],\n       [75],\n       [73],\n       [51]], dtype=int64)"
     },
     "metadata": {},
     "execution_count": 196
    }
   ],
   "source": [
    "X = data['X']\n",
    "X = np.array(X)\n",
    "X = np.reshape(X, (-1,1))\n",
    "X"
   ]
  },
  {
   "cell_type": "code",
   "execution_count": 197,
   "metadata": {},
   "outputs": [
    {
     "output_type": "execute_result",
     "data": {
      "text/plain": "array([['Yes'],\n       ['No'],\n       ['No'],\n       ['Yes'],\n       ['Yes'],\n       ['Yes'],\n       ['Yes'],\n       ['No'],\n       ['No'],\n       ['Yes'],\n       ['Yes'],\n       ['No']], dtype=object)"
     },
     "metadata": {},
     "execution_count": 197
    }
   ],
   "source": [
    "y = data['Y']\n",
    "y = np.array(y)\n",
    "y = np.reshape(y, (-1, 1))\n",
    "y"
   ]
  },
  {
   "cell_type": "code",
   "execution_count": 198,
   "metadata": {},
   "outputs": [
    {
     "output_type": "execute_result",
     "data": {
      "text/plain": "array([[1],\n       [0],\n       [0],\n       [1],\n       [1],\n       [1],\n       [1],\n       [0],\n       [0],\n       [1],\n       [1],\n       [0]])"
     },
     "metadata": {},
     "execution_count": 198
    }
   ],
   "source": [
    "le = preprocessing.LabelEncoder()\n",
    "le.fit(y)\n",
    "y = le.transform(y)\n",
    "y = np.reshape(y, (-1, 1))\n",
    "y"
   ]
  },
  {
   "cell_type": "code",
   "execution_count": 199,
   "metadata": {},
   "outputs": [
    {
     "output_type": "execute_result",
     "data": {
      "text/plain": "LogisticRegression(C=1.0, class_weight=None, dual=False, fit_intercept=True,\n                   intercept_scaling=1, l1_ratio=None, max_iter=100,\n                   multi_class='warn', n_jobs=None, penalty='l2',\n                   random_state=None, solver='warn', tol=0.0001, verbose=0,\n                   warm_start=False)"
     },
     "metadata": {},
     "execution_count": 199
    }
   ],
   "source": [
    "log_reg = LogisticRegression()\n",
    "log_reg.fit(X,y)\n"
   ]
  },
  {
   "cell_type": "code",
   "execution_count": 200,
   "metadata": {},
   "outputs": [
    {
     "output_type": "execute_result",
     "data": {
      "text/plain": "array([1])"
     },
     "metadata": {},
     "execution_count": 200
    }
   ],
   "source": [
    "X_new = np.array([62])\n",
    "X_new = np.reshape(X_new, (-1, 1))\n",
    "y_new = log_reg.predict(X_new)\n",
    "y_new"
   ]
  },
  {
   "cell_type": "markdown",
   "metadata": {},
   "source": [
    "### Bài tập 3.\n",
    "\n",
    "|    |   Day | Outlook_Cat   |   Outlook_Cont | Temp_Cat   |   Temp_Cont | Humidity_Cat   |   Humidity_Cont | Wind_Cat   |   Wind_Cont | Play_Tennis   |\n",
    "|---:|------:|:--------------|---------------:|:-----------|------------:|:---------------|----------------:|:-----------|------------:|:--------------|\n",
    "|  0 |     1 | Sunny         |             15 | Hot        |          36 | High           |              71 | Weak       |         0.5 | No            |\n",
    "|  1 |     2 | Sunny         |             17 | Hot        |          35 | High           |              80 | Strong     |         4   | No            |\n",
    "|  2 |     3 | Overcast      |             57 | Hot        |          30 | High           |              75 | Weak       |         0.7 | Yes           |\n",
    "|  3 |     4 | Rain          |             90 | Mild       |          26 | High           |              73 | Weak       |         0.8 | Yes           |\n",
    "|  4 |     5 | Rain          |             92 | Cool       |          25 | Normal         |              61 | Weak       |         1   | Yes           |\n",
    "|  5 |     6 | Rain          |             91 | Cool       |          23 | Normal         |              50 | Strong     |         3   | No            |\n",
    "|  6 |     7 | Overcast      |             60 | Cool       |          25 | Normal         |              52 | Strong     |         4   | Yes           |\n",
    "|  7 |     8 | Sunny         |              8 | Mild       |          27 | High           |              65 | Weak       |         0.9 | No            |\n",
    "|  8 |     9 | Sunny         |             10 | Cool       |          20 | Normal         |              53 | Weak       |         1   | Yes           |\n",
    "|  9 |    10 | Rain          |             95 | Mild       |          27 | Normal         |              52 | Weak       |         1.1 | Yes           |\n",
    "| 10 |    11 | Sunny         |              7 | Mild       |          29 | Normal         |              57 | Strong     |         3.5 | Yes           |\n",
    "| 11 |    12 | Overcast      |             49 | Mild       |          28 | High           |              66 | Strong     |         7   | Yes           |\n",
    "| 12 |    13 | Overcast      |             62 | Hot        |          31 | Normal         |              57 | Weak       |         0.5 | Yes           |\n",
    "| 13 |    14 | Rain          |             94 | Mild       |          28 | High           |              66 | Strong     |         6   | No            |\n",
    "\n",
    "\n",
    "- <ins>Mô tả</ins>: Tìm mô hình hồi quy trên tập dữ liệu huấn luyện bao gồm các thuộc tính ``Outlook``, ``Temp``, ``Humidity``, ``Wind`` để dự đoán thuộc tính ``Play_Tennis``.\n",
    "- <ins>Dữ liệu</ins>: Tập tin ``Play_Tennis.csv``.\n",
    "- <ins>Lưu ý</ins>: Mỗi thuộc tính đã nêu ở phần mô tả sẽ có hai cột dữ liệu rời rạc và liên tục. Cụ thể là ``Outlook`` sẽ được biểu diễn bởi ``Outlook_Cat`` (Categorical Feature) và ``Outlook_Cont`` (Continuous Variable), và tương tự cho các thuộc tính còn lại. Thuộc tính ``Play_Tennis`` chỉ có hai giá trị rời rạc ``Yes`` và ``No``.\n",
    "- <ins>Yêu cầu</ins>:\n",
    "    - Xây dựng mô hình hồi quy logistic dựa vào nhóm các thuộc tích liên tục ``FeatureName_Cont``.\n",
    "    - Xây dựng mô hình hồi quy logistic dựa vào nhóm các thuộc tích liên tục ``FeatureName_Cont`` và rời rạc ``FeatureName_Cat`` (có thể sử dụng thư viện ``LabelEncoder`` để  chuyển thuộc tính rời rạc sang liên tục).\n",
    "    - Nhận xét kết quả đạt được từ hai mô hình."
   ]
  },
  {
   "cell_type": "code",
   "execution_count": 201,
   "metadata": {},
   "outputs": [
    {
     "output_type": "execute_result",
     "data": {
      "text/plain": "    Day Outlook_Cat  Outlook_Cont Temp_Cat  Temp_Cont Humidity_Cat  \\\n0     1       Sunny            15      Hot         36         High   \n1     2       Sunny            17      Hot         35         High   \n2     3    Overcast            57      Hot         30         High   \n3     4        Rain            90     Mild         26         High   \n4     5        Rain            92     Cool         25       Normal   \n5     6        Rain            91     Cool         23       Normal   \n6     7    Overcast            60     Cool         25       Normal   \n7     8       Sunny             8     Mild         27         High   \n8     9       Sunny            10     Cool         20       Normal   \n9    10        Rain            95     Mild         27       Normal   \n10   11       Sunny             7     Mild         29       Normal   \n11   12    Overcast            49     Mild         28         High   \n12   13    Overcast            62      Hot         31       Normal   \n13   14        Rain            94     Mild         28         High   \n\n    Humidity_Cont Wind_Cat  Wind_Cont Play_Tennis  \n0              71     Weak        0.5          No  \n1              80   Strong        4.0          No  \n2              75     Weak        0.7         Yes  \n3              73     Weak        0.8         Yes  \n4              61     Weak        1.0         Yes  \n5              50   Strong        3.0          No  \n6              52   Strong        4.0         Yes  \n7              65     Weak        0.9          No  \n8              53     Weak        1.0         Yes  \n9              52     Weak        1.1         Yes  \n10             57   Strong        3.5         Yes  \n11             66   Strong        7.0         Yes  \n12             57     Weak        0.5         Yes  \n13             66   Strong        6.0          No  ",
      "text/html": "<div>\n<style scoped>\n    .dataframe tbody tr th:only-of-type {\n        vertical-align: middle;\n    }\n\n    .dataframe tbody tr th {\n        vertical-align: top;\n    }\n\n    .dataframe thead th {\n        text-align: right;\n    }\n</style>\n<table border=\"1\" class=\"dataframe\">\n  <thead>\n    <tr style=\"text-align: right;\">\n      <th></th>\n      <th>Day</th>\n      <th>Outlook_Cat</th>\n      <th>Outlook_Cont</th>\n      <th>Temp_Cat</th>\n      <th>Temp_Cont</th>\n      <th>Humidity_Cat</th>\n      <th>Humidity_Cont</th>\n      <th>Wind_Cat</th>\n      <th>Wind_Cont</th>\n      <th>Play_Tennis</th>\n    </tr>\n  </thead>\n  <tbody>\n    <tr>\n      <td>0</td>\n      <td>1</td>\n      <td>Sunny</td>\n      <td>15</td>\n      <td>Hot</td>\n      <td>36</td>\n      <td>High</td>\n      <td>71</td>\n      <td>Weak</td>\n      <td>0.5</td>\n      <td>No</td>\n    </tr>\n    <tr>\n      <td>1</td>\n      <td>2</td>\n      <td>Sunny</td>\n      <td>17</td>\n      <td>Hot</td>\n      <td>35</td>\n      <td>High</td>\n      <td>80</td>\n      <td>Strong</td>\n      <td>4.0</td>\n      <td>No</td>\n    </tr>\n    <tr>\n      <td>2</td>\n      <td>3</td>\n      <td>Overcast</td>\n      <td>57</td>\n      <td>Hot</td>\n      <td>30</td>\n      <td>High</td>\n      <td>75</td>\n      <td>Weak</td>\n      <td>0.7</td>\n      <td>Yes</td>\n    </tr>\n    <tr>\n      <td>3</td>\n      <td>4</td>\n      <td>Rain</td>\n      <td>90</td>\n      <td>Mild</td>\n      <td>26</td>\n      <td>High</td>\n      <td>73</td>\n      <td>Weak</td>\n      <td>0.8</td>\n      <td>Yes</td>\n    </tr>\n    <tr>\n      <td>4</td>\n      <td>5</td>\n      <td>Rain</td>\n      <td>92</td>\n      <td>Cool</td>\n      <td>25</td>\n      <td>Normal</td>\n      <td>61</td>\n      <td>Weak</td>\n      <td>1.0</td>\n      <td>Yes</td>\n    </tr>\n    <tr>\n      <td>5</td>\n      <td>6</td>\n      <td>Rain</td>\n      <td>91</td>\n      <td>Cool</td>\n      <td>23</td>\n      <td>Normal</td>\n      <td>50</td>\n      <td>Strong</td>\n      <td>3.0</td>\n      <td>No</td>\n    </tr>\n    <tr>\n      <td>6</td>\n      <td>7</td>\n      <td>Overcast</td>\n      <td>60</td>\n      <td>Cool</td>\n      <td>25</td>\n      <td>Normal</td>\n      <td>52</td>\n      <td>Strong</td>\n      <td>4.0</td>\n      <td>Yes</td>\n    </tr>\n    <tr>\n      <td>7</td>\n      <td>8</td>\n      <td>Sunny</td>\n      <td>8</td>\n      <td>Mild</td>\n      <td>27</td>\n      <td>High</td>\n      <td>65</td>\n      <td>Weak</td>\n      <td>0.9</td>\n      <td>No</td>\n    </tr>\n    <tr>\n      <td>8</td>\n      <td>9</td>\n      <td>Sunny</td>\n      <td>10</td>\n      <td>Cool</td>\n      <td>20</td>\n      <td>Normal</td>\n      <td>53</td>\n      <td>Weak</td>\n      <td>1.0</td>\n      <td>Yes</td>\n    </tr>\n    <tr>\n      <td>9</td>\n      <td>10</td>\n      <td>Rain</td>\n      <td>95</td>\n      <td>Mild</td>\n      <td>27</td>\n      <td>Normal</td>\n      <td>52</td>\n      <td>Weak</td>\n      <td>1.1</td>\n      <td>Yes</td>\n    </tr>\n    <tr>\n      <td>10</td>\n      <td>11</td>\n      <td>Sunny</td>\n      <td>7</td>\n      <td>Mild</td>\n      <td>29</td>\n      <td>Normal</td>\n      <td>57</td>\n      <td>Strong</td>\n      <td>3.5</td>\n      <td>Yes</td>\n    </tr>\n    <tr>\n      <td>11</td>\n      <td>12</td>\n      <td>Overcast</td>\n      <td>49</td>\n      <td>Mild</td>\n      <td>28</td>\n      <td>High</td>\n      <td>66</td>\n      <td>Strong</td>\n      <td>7.0</td>\n      <td>Yes</td>\n    </tr>\n    <tr>\n      <td>12</td>\n      <td>13</td>\n      <td>Overcast</td>\n      <td>62</td>\n      <td>Hot</td>\n      <td>31</td>\n      <td>Normal</td>\n      <td>57</td>\n      <td>Weak</td>\n      <td>0.5</td>\n      <td>Yes</td>\n    </tr>\n    <tr>\n      <td>13</td>\n      <td>14</td>\n      <td>Rain</td>\n      <td>94</td>\n      <td>Mild</td>\n      <td>28</td>\n      <td>High</td>\n      <td>66</td>\n      <td>Strong</td>\n      <td>6.0</td>\n      <td>No</td>\n    </tr>\n  </tbody>\n</table>\n</div>"
     },
     "metadata": {},
     "execution_count": 201
    }
   ],
   "source": [
    "data = pd.read_csv('Play_Tennis.csv')\n",
    "data"
   ]
  },
  {
   "cell_type": "code",
   "execution_count": 202,
   "metadata": {},
   "outputs": [],
   "source": [
    "X_1 = data [[\"Outlook_Cont\", \"Temp_Cont\", \"Humidity_Cont\", \"Wind_Cont\"]]"
   ]
  },
  {
   "cell_type": "code",
   "execution_count": 203,
   "metadata": {},
   "outputs": [
    {
     "output_type": "execute_result",
     "data": {
      "text/plain": "    Outlook_Cont  Temp_Cont  Humidity_Cont  Wind_Cont\n0             15         36             71        0.5\n1             17         35             80        4.0\n2             57         30             75        0.7\n3             90         26             73        0.8\n4             92         25             61        1.0\n5             91         23             50        3.0\n6             60         25             52        4.0\n7              8         27             65        0.9\n8             10         20             53        1.0\n9             95         27             52        1.1\n10             7         29             57        3.5\n11            49         28             66        7.0\n12            62         31             57        0.5\n13            94         28             66        6.0",
      "text/html": "<div>\n<style scoped>\n    .dataframe tbody tr th:only-of-type {\n        vertical-align: middle;\n    }\n\n    .dataframe tbody tr th {\n        vertical-align: top;\n    }\n\n    .dataframe thead th {\n        text-align: right;\n    }\n</style>\n<table border=\"1\" class=\"dataframe\">\n  <thead>\n    <tr style=\"text-align: right;\">\n      <th></th>\n      <th>Outlook_Cont</th>\n      <th>Temp_Cont</th>\n      <th>Humidity_Cont</th>\n      <th>Wind_Cont</th>\n    </tr>\n  </thead>\n  <tbody>\n    <tr>\n      <td>0</td>\n      <td>15</td>\n      <td>36</td>\n      <td>71</td>\n      <td>0.5</td>\n    </tr>\n    <tr>\n      <td>1</td>\n      <td>17</td>\n      <td>35</td>\n      <td>80</td>\n      <td>4.0</td>\n    </tr>\n    <tr>\n      <td>2</td>\n      <td>57</td>\n      <td>30</td>\n      <td>75</td>\n      <td>0.7</td>\n    </tr>\n    <tr>\n      <td>3</td>\n      <td>90</td>\n      <td>26</td>\n      <td>73</td>\n      <td>0.8</td>\n    </tr>\n    <tr>\n      <td>4</td>\n      <td>92</td>\n      <td>25</td>\n      <td>61</td>\n      <td>1.0</td>\n    </tr>\n    <tr>\n      <td>5</td>\n      <td>91</td>\n      <td>23</td>\n      <td>50</td>\n      <td>3.0</td>\n    </tr>\n    <tr>\n      <td>6</td>\n      <td>60</td>\n      <td>25</td>\n      <td>52</td>\n      <td>4.0</td>\n    </tr>\n    <tr>\n      <td>7</td>\n      <td>8</td>\n      <td>27</td>\n      <td>65</td>\n      <td>0.9</td>\n    </tr>\n    <tr>\n      <td>8</td>\n      <td>10</td>\n      <td>20</td>\n      <td>53</td>\n      <td>1.0</td>\n    </tr>\n    <tr>\n      <td>9</td>\n      <td>95</td>\n      <td>27</td>\n      <td>52</td>\n      <td>1.1</td>\n    </tr>\n    <tr>\n      <td>10</td>\n      <td>7</td>\n      <td>29</td>\n      <td>57</td>\n      <td>3.5</td>\n    </tr>\n    <tr>\n      <td>11</td>\n      <td>49</td>\n      <td>28</td>\n      <td>66</td>\n      <td>7.0</td>\n    </tr>\n    <tr>\n      <td>12</td>\n      <td>62</td>\n      <td>31</td>\n      <td>57</td>\n      <td>0.5</td>\n    </tr>\n    <tr>\n      <td>13</td>\n      <td>94</td>\n      <td>28</td>\n      <td>66</td>\n      <td>6.0</td>\n    </tr>\n  </tbody>\n</table>\n</div>"
     },
     "metadata": {},
     "execution_count": 203
    }
   ],
   "source": [
    "X_1"
   ]
  },
  {
   "cell_type": "code",
   "execution_count": 204,
   "metadata": {},
   "outputs": [
    {
     "output_type": "execute_result",
     "data": {
      "text/plain": "array([0, 0, 1, 1, 1, 0, 1, 0, 1, 1, 1, 1, 1, 0])"
     },
     "metadata": {},
     "execution_count": 204
    }
   ],
   "source": [
    "y = data[\"Play_Tennis\"].copy()\n",
    "le = preprocessing.LabelEncoder()\n",
    "le.fit(y)\n",
    "y = le.transform(y)\n",
    "y"
   ]
  },
  {
   "cell_type": "code",
   "execution_count": 219,
   "metadata": {},
   "outputs": [
    {
     "output_type": "execute_result",
     "data": {
      "text/plain": "LogisticRegression(C=10, class_weight=None, dual=False, fit_intercept=True,\n                   intercept_scaling=1, l1_ratio=None, max_iter=100,\n                   multi_class='multinomial', n_jobs=None, penalty='l2',\n                   random_state=None, solver='lbfgs', tol=0.0001, verbose=0,\n                   warm_start=False)"
     },
     "metadata": {},
     "execution_count": 219
    }
   ],
   "source": [
    "log_reg =LogisticRegression(multi_class=\"multinomial\",solver=\"lbfgs\", C=10)\n",
    "log_reg.fit(X_1, y)"
   ]
  },
  {
   "cell_type": "code",
   "execution_count": 220,
   "metadata": {},
   "outputs": [],
   "source": [
    "y_predict_1 = log_reg.predict(X_1)"
   ]
  },
  {
   "cell_type": "code",
   "execution_count": 221,
   "metadata": {},
   "outputs": [
    {
     "output_type": "execute_result",
     "data": {
      "text/plain": "array([0, 0, 1, 1, 1, 1, 1, 1, 1, 1, 1, 0, 1, 1])"
     },
     "metadata": {},
     "execution_count": 221
    }
   ],
   "source": [
    "y_predict_1 "
   ]
  },
  {
   "cell_type": "code",
   "execution_count": 208,
   "metadata": {},
   "outputs": [
    {
     "output_type": "execute_result",
     "data": {
      "text/plain": "array([0, 0, 1, 1, 1, 0, 1, 0, 1, 1, 1, 1, 1, 0])"
     },
     "metadata": {},
     "execution_count": 208
    }
   ],
   "source": [
    "y"
   ]
  },
  {
   "cell_type": "markdown",
   "metadata": {},
   "source": [
    "# Độ chính xác là 0.71"
   ]
  },
  {
   "cell_type": "code",
   "execution_count": 209,
   "metadata": {},
   "outputs": [
    {
     "output_type": "execute_result",
     "data": {
      "text/plain": "    Day Outlook_Cat  Outlook_Cont Temp_Cat  Temp_Cont Humidity_Cat  \\\n0     1       Sunny            15      Hot         36         High   \n1     2       Sunny            17      Hot         35         High   \n2     3    Overcast            57      Hot         30         High   \n3     4        Rain            90     Mild         26         High   \n4     5        Rain            92     Cool         25       Normal   \n5     6        Rain            91     Cool         23       Normal   \n6     7    Overcast            60     Cool         25       Normal   \n7     8       Sunny             8     Mild         27         High   \n8     9       Sunny            10     Cool         20       Normal   \n9    10        Rain            95     Mild         27       Normal   \n10   11       Sunny             7     Mild         29       Normal   \n11   12    Overcast            49     Mild         28         High   \n12   13    Overcast            62      Hot         31       Normal   \n13   14        Rain            94     Mild         28         High   \n\n    Humidity_Cont Wind_Cat  Wind_Cont  \n0              71     Weak        0.5  \n1              80   Strong        4.0  \n2              75     Weak        0.7  \n3              73     Weak        0.8  \n4              61     Weak        1.0  \n5              50   Strong        3.0  \n6              52   Strong        4.0  \n7              65     Weak        0.9  \n8              53     Weak        1.0  \n9              52     Weak        1.1  \n10             57   Strong        3.5  \n11             66   Strong        7.0  \n12             57     Weak        0.5  \n13             66   Strong        6.0  ",
      "text/html": "<div>\n<style scoped>\n    .dataframe tbody tr th:only-of-type {\n        vertical-align: middle;\n    }\n\n    .dataframe tbody tr th {\n        vertical-align: top;\n    }\n\n    .dataframe thead th {\n        text-align: right;\n    }\n</style>\n<table border=\"1\" class=\"dataframe\">\n  <thead>\n    <tr style=\"text-align: right;\">\n      <th></th>\n      <th>Day</th>\n      <th>Outlook_Cat</th>\n      <th>Outlook_Cont</th>\n      <th>Temp_Cat</th>\n      <th>Temp_Cont</th>\n      <th>Humidity_Cat</th>\n      <th>Humidity_Cont</th>\n      <th>Wind_Cat</th>\n      <th>Wind_Cont</th>\n    </tr>\n  </thead>\n  <tbody>\n    <tr>\n      <td>0</td>\n      <td>1</td>\n      <td>Sunny</td>\n      <td>15</td>\n      <td>Hot</td>\n      <td>36</td>\n      <td>High</td>\n      <td>71</td>\n      <td>Weak</td>\n      <td>0.5</td>\n    </tr>\n    <tr>\n      <td>1</td>\n      <td>2</td>\n      <td>Sunny</td>\n      <td>17</td>\n      <td>Hot</td>\n      <td>35</td>\n      <td>High</td>\n      <td>80</td>\n      <td>Strong</td>\n      <td>4.0</td>\n    </tr>\n    <tr>\n      <td>2</td>\n      <td>3</td>\n      <td>Overcast</td>\n      <td>57</td>\n      <td>Hot</td>\n      <td>30</td>\n      <td>High</td>\n      <td>75</td>\n      <td>Weak</td>\n      <td>0.7</td>\n    </tr>\n    <tr>\n      <td>3</td>\n      <td>4</td>\n      <td>Rain</td>\n      <td>90</td>\n      <td>Mild</td>\n      <td>26</td>\n      <td>High</td>\n      <td>73</td>\n      <td>Weak</td>\n      <td>0.8</td>\n    </tr>\n    <tr>\n      <td>4</td>\n      <td>5</td>\n      <td>Rain</td>\n      <td>92</td>\n      <td>Cool</td>\n      <td>25</td>\n      <td>Normal</td>\n      <td>61</td>\n      <td>Weak</td>\n      <td>1.0</td>\n    </tr>\n    <tr>\n      <td>5</td>\n      <td>6</td>\n      <td>Rain</td>\n      <td>91</td>\n      <td>Cool</td>\n      <td>23</td>\n      <td>Normal</td>\n      <td>50</td>\n      <td>Strong</td>\n      <td>3.0</td>\n    </tr>\n    <tr>\n      <td>6</td>\n      <td>7</td>\n      <td>Overcast</td>\n      <td>60</td>\n      <td>Cool</td>\n      <td>25</td>\n      <td>Normal</td>\n      <td>52</td>\n      <td>Strong</td>\n      <td>4.0</td>\n    </tr>\n    <tr>\n      <td>7</td>\n      <td>8</td>\n      <td>Sunny</td>\n      <td>8</td>\n      <td>Mild</td>\n      <td>27</td>\n      <td>High</td>\n      <td>65</td>\n      <td>Weak</td>\n      <td>0.9</td>\n    </tr>\n    <tr>\n      <td>8</td>\n      <td>9</td>\n      <td>Sunny</td>\n      <td>10</td>\n      <td>Cool</td>\n      <td>20</td>\n      <td>Normal</td>\n      <td>53</td>\n      <td>Weak</td>\n      <td>1.0</td>\n    </tr>\n    <tr>\n      <td>9</td>\n      <td>10</td>\n      <td>Rain</td>\n      <td>95</td>\n      <td>Mild</td>\n      <td>27</td>\n      <td>Normal</td>\n      <td>52</td>\n      <td>Weak</td>\n      <td>1.1</td>\n    </tr>\n    <tr>\n      <td>10</td>\n      <td>11</td>\n      <td>Sunny</td>\n      <td>7</td>\n      <td>Mild</td>\n      <td>29</td>\n      <td>Normal</td>\n      <td>57</td>\n      <td>Strong</td>\n      <td>3.5</td>\n    </tr>\n    <tr>\n      <td>11</td>\n      <td>12</td>\n      <td>Overcast</td>\n      <td>49</td>\n      <td>Mild</td>\n      <td>28</td>\n      <td>High</td>\n      <td>66</td>\n      <td>Strong</td>\n      <td>7.0</td>\n    </tr>\n    <tr>\n      <td>12</td>\n      <td>13</td>\n      <td>Overcast</td>\n      <td>62</td>\n      <td>Hot</td>\n      <td>31</td>\n      <td>Normal</td>\n      <td>57</td>\n      <td>Weak</td>\n      <td>0.5</td>\n    </tr>\n    <tr>\n      <td>13</td>\n      <td>14</td>\n      <td>Rain</td>\n      <td>94</td>\n      <td>Mild</td>\n      <td>28</td>\n      <td>High</td>\n      <td>66</td>\n      <td>Strong</td>\n      <td>6.0</td>\n    </tr>\n  </tbody>\n</table>\n</div>"
     },
     "metadata": {},
     "execution_count": 209
    }
   ],
   "source": [
    "X_2 = data.drop(\"Play_Tennis\", axis = 1)\n",
    "X_2"
   ]
  },
  {
   "cell_type": "code",
   "execution_count": 210,
   "metadata": {},
   "outputs": [
    {
     "output_type": "execute_result",
     "data": {
      "text/plain": "0        Sunny\n1        Sunny\n2     Overcast\n3         Rain\n4         Rain\n5         Rain\n6     Overcast\n7        Sunny\n8        Sunny\n9         Rain\n10       Sunny\n11    Overcast\n12    Overcast\n13        Rain\nName: Outlook_Cat, dtype: object"
     },
     "metadata": {},
     "execution_count": 210
    }
   ],
   "source": [
    "X_2[\"Outlook_Cat\"]"
   ]
  },
  {
   "cell_type": "code",
   "execution_count": 211,
   "metadata": {},
   "outputs": [],
   "source": [
    "le = preprocessing.LabelEncoder()\n",
    "le.fit(X_2[\"Outlook_Cat\"])\n",
    "X_2[\"Outlook_Cat\"] = le.transform(X_2[\"Outlook_Cat\"])"
   ]
  },
  {
   "cell_type": "code",
   "execution_count": 212,
   "metadata": {},
   "outputs": [
    {
     "output_type": "execute_result",
     "data": {
      "text/plain": "    Day  Outlook_Cat  Outlook_Cont Temp_Cat  Temp_Cont Humidity_Cat  \\\n0     1            2            15      Hot         36         High   \n1     2            2            17      Hot         35         High   \n2     3            0            57      Hot         30         High   \n3     4            1            90     Mild         26         High   \n4     5            1            92     Cool         25       Normal   \n5     6            1            91     Cool         23       Normal   \n6     7            0            60     Cool         25       Normal   \n7     8            2             8     Mild         27         High   \n8     9            2            10     Cool         20       Normal   \n9    10            1            95     Mild         27       Normal   \n10   11            2             7     Mild         29       Normal   \n11   12            0            49     Mild         28         High   \n12   13            0            62      Hot         31       Normal   \n13   14            1            94     Mild         28         High   \n\n    Humidity_Cont Wind_Cat  Wind_Cont  \n0              71     Weak        0.5  \n1              80   Strong        4.0  \n2              75     Weak        0.7  \n3              73     Weak        0.8  \n4              61     Weak        1.0  \n5              50   Strong        3.0  \n6              52   Strong        4.0  \n7              65     Weak        0.9  \n8              53     Weak        1.0  \n9              52     Weak        1.1  \n10             57   Strong        3.5  \n11             66   Strong        7.0  \n12             57     Weak        0.5  \n13             66   Strong        6.0  ",
      "text/html": "<div>\n<style scoped>\n    .dataframe tbody tr th:only-of-type {\n        vertical-align: middle;\n    }\n\n    .dataframe tbody tr th {\n        vertical-align: top;\n    }\n\n    .dataframe thead th {\n        text-align: right;\n    }\n</style>\n<table border=\"1\" class=\"dataframe\">\n  <thead>\n    <tr style=\"text-align: right;\">\n      <th></th>\n      <th>Day</th>\n      <th>Outlook_Cat</th>\n      <th>Outlook_Cont</th>\n      <th>Temp_Cat</th>\n      <th>Temp_Cont</th>\n      <th>Humidity_Cat</th>\n      <th>Humidity_Cont</th>\n      <th>Wind_Cat</th>\n      <th>Wind_Cont</th>\n    </tr>\n  </thead>\n  <tbody>\n    <tr>\n      <td>0</td>\n      <td>1</td>\n      <td>2</td>\n      <td>15</td>\n      <td>Hot</td>\n      <td>36</td>\n      <td>High</td>\n      <td>71</td>\n      <td>Weak</td>\n      <td>0.5</td>\n    </tr>\n    <tr>\n      <td>1</td>\n      <td>2</td>\n      <td>2</td>\n      <td>17</td>\n      <td>Hot</td>\n      <td>35</td>\n      <td>High</td>\n      <td>80</td>\n      <td>Strong</td>\n      <td>4.0</td>\n    </tr>\n    <tr>\n      <td>2</td>\n      <td>3</td>\n      <td>0</td>\n      <td>57</td>\n      <td>Hot</td>\n      <td>30</td>\n      <td>High</td>\n      <td>75</td>\n      <td>Weak</td>\n      <td>0.7</td>\n    </tr>\n    <tr>\n      <td>3</td>\n      <td>4</td>\n      <td>1</td>\n      <td>90</td>\n      <td>Mild</td>\n      <td>26</td>\n      <td>High</td>\n      <td>73</td>\n      <td>Weak</td>\n      <td>0.8</td>\n    </tr>\n    <tr>\n      <td>4</td>\n      <td>5</td>\n      <td>1</td>\n      <td>92</td>\n      <td>Cool</td>\n      <td>25</td>\n      <td>Normal</td>\n      <td>61</td>\n      <td>Weak</td>\n      <td>1.0</td>\n    </tr>\n    <tr>\n      <td>5</td>\n      <td>6</td>\n      <td>1</td>\n      <td>91</td>\n      <td>Cool</td>\n      <td>23</td>\n      <td>Normal</td>\n      <td>50</td>\n      <td>Strong</td>\n      <td>3.0</td>\n    </tr>\n    <tr>\n      <td>6</td>\n      <td>7</td>\n      <td>0</td>\n      <td>60</td>\n      <td>Cool</td>\n      <td>25</td>\n      <td>Normal</td>\n      <td>52</td>\n      <td>Strong</td>\n      <td>4.0</td>\n    </tr>\n    <tr>\n      <td>7</td>\n      <td>8</td>\n      <td>2</td>\n      <td>8</td>\n      <td>Mild</td>\n      <td>27</td>\n      <td>High</td>\n      <td>65</td>\n      <td>Weak</td>\n      <td>0.9</td>\n    </tr>\n    <tr>\n      <td>8</td>\n      <td>9</td>\n      <td>2</td>\n      <td>10</td>\n      <td>Cool</td>\n      <td>20</td>\n      <td>Normal</td>\n      <td>53</td>\n      <td>Weak</td>\n      <td>1.0</td>\n    </tr>\n    <tr>\n      <td>9</td>\n      <td>10</td>\n      <td>1</td>\n      <td>95</td>\n      <td>Mild</td>\n      <td>27</td>\n      <td>Normal</td>\n      <td>52</td>\n      <td>Weak</td>\n      <td>1.1</td>\n    </tr>\n    <tr>\n      <td>10</td>\n      <td>11</td>\n      <td>2</td>\n      <td>7</td>\n      <td>Mild</td>\n      <td>29</td>\n      <td>Normal</td>\n      <td>57</td>\n      <td>Strong</td>\n      <td>3.5</td>\n    </tr>\n    <tr>\n      <td>11</td>\n      <td>12</td>\n      <td>0</td>\n      <td>49</td>\n      <td>Mild</td>\n      <td>28</td>\n      <td>High</td>\n      <td>66</td>\n      <td>Strong</td>\n      <td>7.0</td>\n    </tr>\n    <tr>\n      <td>12</td>\n      <td>13</td>\n      <td>0</td>\n      <td>62</td>\n      <td>Hot</td>\n      <td>31</td>\n      <td>Normal</td>\n      <td>57</td>\n      <td>Weak</td>\n      <td>0.5</td>\n    </tr>\n    <tr>\n      <td>13</td>\n      <td>14</td>\n      <td>1</td>\n      <td>94</td>\n      <td>Mild</td>\n      <td>28</td>\n      <td>High</td>\n      <td>66</td>\n      <td>Strong</td>\n      <td>6.0</td>\n    </tr>\n  </tbody>\n</table>\n</div>"
     },
     "metadata": {},
     "execution_count": 212
    }
   ],
   "source": [
    "X_2"
   ]
  },
  {
   "cell_type": "code",
   "execution_count": 213,
   "metadata": {},
   "outputs": [
    {
     "output_type": "execute_result",
     "data": {
      "text/plain": "    Day  Outlook_Cat  Outlook_Cont  Temp_Cat  Temp_Cont Humidity_Cat  \\\n0     1            2            15         1         36         High   \n1     2            2            17         1         35         High   \n2     3            0            57         1         30         High   \n3     4            1            90         2         26         High   \n4     5            1            92         0         25       Normal   \n5     6            1            91         0         23       Normal   \n6     7            0            60         0         25       Normal   \n7     8            2             8         2         27         High   \n8     9            2            10         0         20       Normal   \n9    10            1            95         2         27       Normal   \n10   11            2             7         2         29       Normal   \n11   12            0            49         2         28         High   \n12   13            0            62         1         31       Normal   \n13   14            1            94         2         28         High   \n\n    Humidity_Cont Wind_Cat  Wind_Cont  \n0              71     Weak        0.5  \n1              80   Strong        4.0  \n2              75     Weak        0.7  \n3              73     Weak        0.8  \n4              61     Weak        1.0  \n5              50   Strong        3.0  \n6              52   Strong        4.0  \n7              65     Weak        0.9  \n8              53     Weak        1.0  \n9              52     Weak        1.1  \n10             57   Strong        3.5  \n11             66   Strong        7.0  \n12             57     Weak        0.5  \n13             66   Strong        6.0  ",
      "text/html": "<div>\n<style scoped>\n    .dataframe tbody tr th:only-of-type {\n        vertical-align: middle;\n    }\n\n    .dataframe tbody tr th {\n        vertical-align: top;\n    }\n\n    .dataframe thead th {\n        text-align: right;\n    }\n</style>\n<table border=\"1\" class=\"dataframe\">\n  <thead>\n    <tr style=\"text-align: right;\">\n      <th></th>\n      <th>Day</th>\n      <th>Outlook_Cat</th>\n      <th>Outlook_Cont</th>\n      <th>Temp_Cat</th>\n      <th>Temp_Cont</th>\n      <th>Humidity_Cat</th>\n      <th>Humidity_Cont</th>\n      <th>Wind_Cat</th>\n      <th>Wind_Cont</th>\n    </tr>\n  </thead>\n  <tbody>\n    <tr>\n      <td>0</td>\n      <td>1</td>\n      <td>2</td>\n      <td>15</td>\n      <td>1</td>\n      <td>36</td>\n      <td>High</td>\n      <td>71</td>\n      <td>Weak</td>\n      <td>0.5</td>\n    </tr>\n    <tr>\n      <td>1</td>\n      <td>2</td>\n      <td>2</td>\n      <td>17</td>\n      <td>1</td>\n      <td>35</td>\n      <td>High</td>\n      <td>80</td>\n      <td>Strong</td>\n      <td>4.0</td>\n    </tr>\n    <tr>\n      <td>2</td>\n      <td>3</td>\n      <td>0</td>\n      <td>57</td>\n      <td>1</td>\n      <td>30</td>\n      <td>High</td>\n      <td>75</td>\n      <td>Weak</td>\n      <td>0.7</td>\n    </tr>\n    <tr>\n      <td>3</td>\n      <td>4</td>\n      <td>1</td>\n      <td>90</td>\n      <td>2</td>\n      <td>26</td>\n      <td>High</td>\n      <td>73</td>\n      <td>Weak</td>\n      <td>0.8</td>\n    </tr>\n    <tr>\n      <td>4</td>\n      <td>5</td>\n      <td>1</td>\n      <td>92</td>\n      <td>0</td>\n      <td>25</td>\n      <td>Normal</td>\n      <td>61</td>\n      <td>Weak</td>\n      <td>1.0</td>\n    </tr>\n    <tr>\n      <td>5</td>\n      <td>6</td>\n      <td>1</td>\n      <td>91</td>\n      <td>0</td>\n      <td>23</td>\n      <td>Normal</td>\n      <td>50</td>\n      <td>Strong</td>\n      <td>3.0</td>\n    </tr>\n    <tr>\n      <td>6</td>\n      <td>7</td>\n      <td>0</td>\n      <td>60</td>\n      <td>0</td>\n      <td>25</td>\n      <td>Normal</td>\n      <td>52</td>\n      <td>Strong</td>\n      <td>4.0</td>\n    </tr>\n    <tr>\n      <td>7</td>\n      <td>8</td>\n      <td>2</td>\n      <td>8</td>\n      <td>2</td>\n      <td>27</td>\n      <td>High</td>\n      <td>65</td>\n      <td>Weak</td>\n      <td>0.9</td>\n    </tr>\n    <tr>\n      <td>8</td>\n      <td>9</td>\n      <td>2</td>\n      <td>10</td>\n      <td>0</td>\n      <td>20</td>\n      <td>Normal</td>\n      <td>53</td>\n      <td>Weak</td>\n      <td>1.0</td>\n    </tr>\n    <tr>\n      <td>9</td>\n      <td>10</td>\n      <td>1</td>\n      <td>95</td>\n      <td>2</td>\n      <td>27</td>\n      <td>Normal</td>\n      <td>52</td>\n      <td>Weak</td>\n      <td>1.1</td>\n    </tr>\n    <tr>\n      <td>10</td>\n      <td>11</td>\n      <td>2</td>\n      <td>7</td>\n      <td>2</td>\n      <td>29</td>\n      <td>Normal</td>\n      <td>57</td>\n      <td>Strong</td>\n      <td>3.5</td>\n    </tr>\n    <tr>\n      <td>11</td>\n      <td>12</td>\n      <td>0</td>\n      <td>49</td>\n      <td>2</td>\n      <td>28</td>\n      <td>High</td>\n      <td>66</td>\n      <td>Strong</td>\n      <td>7.0</td>\n    </tr>\n    <tr>\n      <td>12</td>\n      <td>13</td>\n      <td>0</td>\n      <td>62</td>\n      <td>1</td>\n      <td>31</td>\n      <td>Normal</td>\n      <td>57</td>\n      <td>Weak</td>\n      <td>0.5</td>\n    </tr>\n    <tr>\n      <td>13</td>\n      <td>14</td>\n      <td>1</td>\n      <td>94</td>\n      <td>2</td>\n      <td>28</td>\n      <td>High</td>\n      <td>66</td>\n      <td>Strong</td>\n      <td>6.0</td>\n    </tr>\n  </tbody>\n</table>\n</div>"
     },
     "metadata": {},
     "execution_count": 213
    }
   ],
   "source": [
    "le = preprocessing.LabelEncoder()\n",
    "le.fit(data[\"Temp_Cat\"])\n",
    "X_2[\"Temp_Cat\"] = le.transform(X_2[\"Temp_Cat\"])\n",
    "X_2"
   ]
  },
  {
   "cell_type": "code",
   "execution_count": 214,
   "metadata": {},
   "outputs": [
    {
     "output_type": "execute_result",
     "data": {
      "text/plain": "    Day  Outlook_Cat  Outlook_Cont  Temp_Cat  Temp_Cont  Humidity_Cat  \\\n0     1            2            15         1         36             0   \n1     2            2            17         1         35             0   \n2     3            0            57         1         30             0   \n3     4            1            90         2         26             0   \n4     5            1            92         0         25             1   \n5     6            1            91         0         23             1   \n6     7            0            60         0         25             1   \n7     8            2             8         2         27             0   \n8     9            2            10         0         20             1   \n9    10            1            95         2         27             1   \n10   11            2             7         2         29             1   \n11   12            0            49         2         28             0   \n12   13            0            62         1         31             1   \n13   14            1            94         2         28             0   \n\n    Humidity_Cont Wind_Cat  Wind_Cont  \n0              71     Weak        0.5  \n1              80   Strong        4.0  \n2              75     Weak        0.7  \n3              73     Weak        0.8  \n4              61     Weak        1.0  \n5              50   Strong        3.0  \n6              52   Strong        4.0  \n7              65     Weak        0.9  \n8              53     Weak        1.0  \n9              52     Weak        1.1  \n10             57   Strong        3.5  \n11             66   Strong        7.0  \n12             57     Weak        0.5  \n13             66   Strong        6.0  ",
      "text/html": "<div>\n<style scoped>\n    .dataframe tbody tr th:only-of-type {\n        vertical-align: middle;\n    }\n\n    .dataframe tbody tr th {\n        vertical-align: top;\n    }\n\n    .dataframe thead th {\n        text-align: right;\n    }\n</style>\n<table border=\"1\" class=\"dataframe\">\n  <thead>\n    <tr style=\"text-align: right;\">\n      <th></th>\n      <th>Day</th>\n      <th>Outlook_Cat</th>\n      <th>Outlook_Cont</th>\n      <th>Temp_Cat</th>\n      <th>Temp_Cont</th>\n      <th>Humidity_Cat</th>\n      <th>Humidity_Cont</th>\n      <th>Wind_Cat</th>\n      <th>Wind_Cont</th>\n    </tr>\n  </thead>\n  <tbody>\n    <tr>\n      <td>0</td>\n      <td>1</td>\n      <td>2</td>\n      <td>15</td>\n      <td>1</td>\n      <td>36</td>\n      <td>0</td>\n      <td>71</td>\n      <td>Weak</td>\n      <td>0.5</td>\n    </tr>\n    <tr>\n      <td>1</td>\n      <td>2</td>\n      <td>2</td>\n      <td>17</td>\n      <td>1</td>\n      <td>35</td>\n      <td>0</td>\n      <td>80</td>\n      <td>Strong</td>\n      <td>4.0</td>\n    </tr>\n    <tr>\n      <td>2</td>\n      <td>3</td>\n      <td>0</td>\n      <td>57</td>\n      <td>1</td>\n      <td>30</td>\n      <td>0</td>\n      <td>75</td>\n      <td>Weak</td>\n      <td>0.7</td>\n    </tr>\n    <tr>\n      <td>3</td>\n      <td>4</td>\n      <td>1</td>\n      <td>90</td>\n      <td>2</td>\n      <td>26</td>\n      <td>0</td>\n      <td>73</td>\n      <td>Weak</td>\n      <td>0.8</td>\n    </tr>\n    <tr>\n      <td>4</td>\n      <td>5</td>\n      <td>1</td>\n      <td>92</td>\n      <td>0</td>\n      <td>25</td>\n      <td>1</td>\n      <td>61</td>\n      <td>Weak</td>\n      <td>1.0</td>\n    </tr>\n    <tr>\n      <td>5</td>\n      <td>6</td>\n      <td>1</td>\n      <td>91</td>\n      <td>0</td>\n      <td>23</td>\n      <td>1</td>\n      <td>50</td>\n      <td>Strong</td>\n      <td>3.0</td>\n    </tr>\n    <tr>\n      <td>6</td>\n      <td>7</td>\n      <td>0</td>\n      <td>60</td>\n      <td>0</td>\n      <td>25</td>\n      <td>1</td>\n      <td>52</td>\n      <td>Strong</td>\n      <td>4.0</td>\n    </tr>\n    <tr>\n      <td>7</td>\n      <td>8</td>\n      <td>2</td>\n      <td>8</td>\n      <td>2</td>\n      <td>27</td>\n      <td>0</td>\n      <td>65</td>\n      <td>Weak</td>\n      <td>0.9</td>\n    </tr>\n    <tr>\n      <td>8</td>\n      <td>9</td>\n      <td>2</td>\n      <td>10</td>\n      <td>0</td>\n      <td>20</td>\n      <td>1</td>\n      <td>53</td>\n      <td>Weak</td>\n      <td>1.0</td>\n    </tr>\n    <tr>\n      <td>9</td>\n      <td>10</td>\n      <td>1</td>\n      <td>95</td>\n      <td>2</td>\n      <td>27</td>\n      <td>1</td>\n      <td>52</td>\n      <td>Weak</td>\n      <td>1.1</td>\n    </tr>\n    <tr>\n      <td>10</td>\n      <td>11</td>\n      <td>2</td>\n      <td>7</td>\n      <td>2</td>\n      <td>29</td>\n      <td>1</td>\n      <td>57</td>\n      <td>Strong</td>\n      <td>3.5</td>\n    </tr>\n    <tr>\n      <td>11</td>\n      <td>12</td>\n      <td>0</td>\n      <td>49</td>\n      <td>2</td>\n      <td>28</td>\n      <td>0</td>\n      <td>66</td>\n      <td>Strong</td>\n      <td>7.0</td>\n    </tr>\n    <tr>\n      <td>12</td>\n      <td>13</td>\n      <td>0</td>\n      <td>62</td>\n      <td>1</td>\n      <td>31</td>\n      <td>1</td>\n      <td>57</td>\n      <td>Weak</td>\n      <td>0.5</td>\n    </tr>\n    <tr>\n      <td>13</td>\n      <td>14</td>\n      <td>1</td>\n      <td>94</td>\n      <td>2</td>\n      <td>28</td>\n      <td>0</td>\n      <td>66</td>\n      <td>Strong</td>\n      <td>6.0</td>\n    </tr>\n  </tbody>\n</table>\n</div>"
     },
     "metadata": {},
     "execution_count": 214
    }
   ],
   "source": [
    "le = preprocessing.LabelEncoder()\n",
    "le.fit(data[\"Humidity_Cat\"])\n",
    "X_2[\"Humidity_Cat\"] = le.transform(X_2[\"Humidity_Cat\"])\n",
    "X_2"
   ]
  },
  {
   "cell_type": "code",
   "execution_count": 215,
   "metadata": {},
   "outputs": [
    {
     "output_type": "execute_result",
     "data": {
      "text/plain": "    Day  Outlook_Cat  Outlook_Cont  Temp_Cat  Temp_Cont  Humidity_Cat  \\\n0     1            2            15         1         36             0   \n1     2            2            17         1         35             0   \n2     3            0            57         1         30             0   \n3     4            1            90         2         26             0   \n4     5            1            92         0         25             1   \n5     6            1            91         0         23             1   \n6     7            0            60         0         25             1   \n7     8            2             8         2         27             0   \n8     9            2            10         0         20             1   \n9    10            1            95         2         27             1   \n10   11            2             7         2         29             1   \n11   12            0            49         2         28             0   \n12   13            0            62         1         31             1   \n13   14            1            94         2         28             0   \n\n    Humidity_Cont  Wind_Cat  Wind_Cont  \n0              71         1        0.5  \n1              80         0        4.0  \n2              75         1        0.7  \n3              73         1        0.8  \n4              61         1        1.0  \n5              50         0        3.0  \n6              52         0        4.0  \n7              65         1        0.9  \n8              53         1        1.0  \n9              52         1        1.1  \n10             57         0        3.5  \n11             66         0        7.0  \n12             57         1        0.5  \n13             66         0        6.0  ",
      "text/html": "<div>\n<style scoped>\n    .dataframe tbody tr th:only-of-type {\n        vertical-align: middle;\n    }\n\n    .dataframe tbody tr th {\n        vertical-align: top;\n    }\n\n    .dataframe thead th {\n        text-align: right;\n    }\n</style>\n<table border=\"1\" class=\"dataframe\">\n  <thead>\n    <tr style=\"text-align: right;\">\n      <th></th>\n      <th>Day</th>\n      <th>Outlook_Cat</th>\n      <th>Outlook_Cont</th>\n      <th>Temp_Cat</th>\n      <th>Temp_Cont</th>\n      <th>Humidity_Cat</th>\n      <th>Humidity_Cont</th>\n      <th>Wind_Cat</th>\n      <th>Wind_Cont</th>\n    </tr>\n  </thead>\n  <tbody>\n    <tr>\n      <td>0</td>\n      <td>1</td>\n      <td>2</td>\n      <td>15</td>\n      <td>1</td>\n      <td>36</td>\n      <td>0</td>\n      <td>71</td>\n      <td>1</td>\n      <td>0.5</td>\n    </tr>\n    <tr>\n      <td>1</td>\n      <td>2</td>\n      <td>2</td>\n      <td>17</td>\n      <td>1</td>\n      <td>35</td>\n      <td>0</td>\n      <td>80</td>\n      <td>0</td>\n      <td>4.0</td>\n    </tr>\n    <tr>\n      <td>2</td>\n      <td>3</td>\n      <td>0</td>\n      <td>57</td>\n      <td>1</td>\n      <td>30</td>\n      <td>0</td>\n      <td>75</td>\n      <td>1</td>\n      <td>0.7</td>\n    </tr>\n    <tr>\n      <td>3</td>\n      <td>4</td>\n      <td>1</td>\n      <td>90</td>\n      <td>2</td>\n      <td>26</td>\n      <td>0</td>\n      <td>73</td>\n      <td>1</td>\n      <td>0.8</td>\n    </tr>\n    <tr>\n      <td>4</td>\n      <td>5</td>\n      <td>1</td>\n      <td>92</td>\n      <td>0</td>\n      <td>25</td>\n      <td>1</td>\n      <td>61</td>\n      <td>1</td>\n      <td>1.0</td>\n    </tr>\n    <tr>\n      <td>5</td>\n      <td>6</td>\n      <td>1</td>\n      <td>91</td>\n      <td>0</td>\n      <td>23</td>\n      <td>1</td>\n      <td>50</td>\n      <td>0</td>\n      <td>3.0</td>\n    </tr>\n    <tr>\n      <td>6</td>\n      <td>7</td>\n      <td>0</td>\n      <td>60</td>\n      <td>0</td>\n      <td>25</td>\n      <td>1</td>\n      <td>52</td>\n      <td>0</td>\n      <td>4.0</td>\n    </tr>\n    <tr>\n      <td>7</td>\n      <td>8</td>\n      <td>2</td>\n      <td>8</td>\n      <td>2</td>\n      <td>27</td>\n      <td>0</td>\n      <td>65</td>\n      <td>1</td>\n      <td>0.9</td>\n    </tr>\n    <tr>\n      <td>8</td>\n      <td>9</td>\n      <td>2</td>\n      <td>10</td>\n      <td>0</td>\n      <td>20</td>\n      <td>1</td>\n      <td>53</td>\n      <td>1</td>\n      <td>1.0</td>\n    </tr>\n    <tr>\n      <td>9</td>\n      <td>10</td>\n      <td>1</td>\n      <td>95</td>\n      <td>2</td>\n      <td>27</td>\n      <td>1</td>\n      <td>52</td>\n      <td>1</td>\n      <td>1.1</td>\n    </tr>\n    <tr>\n      <td>10</td>\n      <td>11</td>\n      <td>2</td>\n      <td>7</td>\n      <td>2</td>\n      <td>29</td>\n      <td>1</td>\n      <td>57</td>\n      <td>0</td>\n      <td>3.5</td>\n    </tr>\n    <tr>\n      <td>11</td>\n      <td>12</td>\n      <td>0</td>\n      <td>49</td>\n      <td>2</td>\n      <td>28</td>\n      <td>0</td>\n      <td>66</td>\n      <td>0</td>\n      <td>7.0</td>\n    </tr>\n    <tr>\n      <td>12</td>\n      <td>13</td>\n      <td>0</td>\n      <td>62</td>\n      <td>1</td>\n      <td>31</td>\n      <td>1</td>\n      <td>57</td>\n      <td>1</td>\n      <td>0.5</td>\n    </tr>\n    <tr>\n      <td>13</td>\n      <td>14</td>\n      <td>1</td>\n      <td>94</td>\n      <td>2</td>\n      <td>28</td>\n      <td>0</td>\n      <td>66</td>\n      <td>0</td>\n      <td>6.0</td>\n    </tr>\n  </tbody>\n</table>\n</div>"
     },
     "metadata": {},
     "execution_count": 215
    }
   ],
   "source": [
    "le = preprocessing.LabelEncoder()\n",
    "le.fit(data[\"Wind_Cat\"])\n",
    "X_2[\"Wind_Cat\"] = le.transform(X_2[\"Wind_Cat\"])\n",
    "X_2"
   ]
  },
  {
   "cell_type": "code",
   "execution_count": 222,
   "metadata": {},
   "outputs": [
    {
     "output_type": "execute_result",
     "data": {
      "text/plain": "array([0, 0, 1, 1, 1, 0, 1, 0, 1, 1, 1, 1, 1, 0])"
     },
     "metadata": {},
     "execution_count": 222
    }
   ],
   "source": [
    "log_reg = LogisticRegression(multi_class=\"multinomial\",solver=\"lbfgs\", C=10)\n",
    "log_reg.fit(X_2, y)\n",
    "y_predict_2 = log_reg.predict(X_2)\n",
    "y_predict_2"
   ]
  },
  {
   "cell_type": "code",
   "execution_count": 223,
   "metadata": {},
   "outputs": [
    {
     "output_type": "execute_result",
     "data": {
      "text/plain": "array([0, 0, 1, 1, 1, 0, 1, 0, 1, 1, 1, 1, 1, 0])"
     },
     "metadata": {},
     "execution_count": 223
    }
   ],
   "source": [
    "y"
   ]
  },
  {
   "cell_type": "markdown",
   "metadata": {},
   "source": [
    "# Độ chính xác gần như hoàn toàn"
   ]
  },
  {
   "cell_type": "code",
   "execution_count": null,
   "metadata": {},
   "outputs": [],
   "source": []
  }
 ],
 "metadata": {
  "kernelspec": {
   "display_name": "Python 3",
   "language": "python",
   "name": "python3"
  },
  "language_info": {
   "codemirror_mode": {
    "name": "ipython",
    "version": 3
   },
   "file_extension": ".py",
   "mimetype": "text/x-python",
   "name": "python",
   "nbconvert_exporter": "python",
   "pygments_lexer": "ipython3",
   "version": "3.7.4-final"
  }
 },
 "nbformat": 4,
 "nbformat_minor": 4
}