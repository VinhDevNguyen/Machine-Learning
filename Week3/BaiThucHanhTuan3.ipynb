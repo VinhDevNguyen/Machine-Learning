{
 "nbformat": 4,
 "nbformat_minor": 2,
 "metadata": {
  "language_info": {
   "name": "python",
   "codemirror_mode": {
    "name": "ipython",
    "version": 3
   },
   "version": "3.7.4-final"
  },
  "orig_nbformat": 2,
  "file_extension": ".py",
  "mimetype": "text/x-python",
  "name": "python",
  "npconvert_exporter": "python",
  "pygments_lexer": "ipython3",
  "version": 3,
  "kernelspec": {
   "name": "python3",
   "display_name": "Python 3"
  }
 },
 "cells": [
  {
   "cell_type": "code",
   "execution_count": 37,
   "metadata": {},
   "outputs": [],
   "source": [
    "import numpy as np \n",
    "import pandas as pd \n",
    "import statsmodels.api as sm \n",
    "from sklearn.metrics import mean_squared_error\n",
    "from sklearn.impute import SimpleImputer\n",
    "from sklearn.preprocessing import LabelEncoder"
   ]
  },
  {
   "cell_type": "code",
   "execution_count": 38,
   "metadata": {},
   "outputs": [
    {
     "output_type": "stream",
     "name": "stdout",
     "text": "<class 'pandas.core.frame.DataFrame'>\nRangeIndex: 14447 entries, 0 to 14446\nData columns (total 10 columns):\nlongitude             14447 non-null float64\nlatitude              14447 non-null float64\nhousing_median_age    14447 non-null float64\ntotal_rooms           14447 non-null float64\ntotal_bedrooms        14287 non-null float64\npopulation            14447 non-null float64\nhouseholds            14447 non-null float64\nmedian_income         14447 non-null float64\nmedian_house_value    14447 non-null float64\nocean_proximity       14447 non-null object\ndtypes: float64(9), object(1)\nmemory usage: 1.1+ MB\n"
    }
   ],
   "source": [
    "df_train = pd.read_csv('housing_train.csv')\n",
    "df_train.info()"
   ]
  },
  {
   "cell_type": "code",
   "execution_count": 39,
   "metadata": {},
   "outputs": [
    {
     "output_type": "execute_result",
     "data": {
      "text/plain": "   longitude  latitude  housing_median_age  total_rooms  total_bedrooms  \\\n0    -117.83     34.15                20.0       2421.0           306.0   \n1    -119.85     36.77                27.0       1510.0           344.0   \n2    -122.13     37.67                40.0       1748.0           318.0   \n3    -119.81     34.46                22.0       3488.0           452.0   \n4    -120.47     34.65                32.0       2193.0           430.0   \n\n   population  households  median_income  median_house_value ocean_proximity  \n0      1023.0       298.0         8.0683            451500.0          INLAND  \n1       847.0       295.0         2.9315             83200.0          INLAND  \n2       914.0       317.0         3.8676            184000.0        NEAR BAY  \n3      1479.0       458.0         7.1687            384400.0      NEAR OCEAN  \n4      1074.0       377.0         2.3333            130200.0      NEAR OCEAN  ",
      "text/html": "<div>\n<style scoped>\n    .dataframe tbody tr th:only-of-type {\n        vertical-align: middle;\n    }\n\n    .dataframe tbody tr th {\n        vertical-align: top;\n    }\n\n    .dataframe thead th {\n        text-align: right;\n    }\n</style>\n<table border=\"1\" class=\"dataframe\">\n  <thead>\n    <tr style=\"text-align: right;\">\n      <th></th>\n      <th>longitude</th>\n      <th>latitude</th>\n      <th>housing_median_age</th>\n      <th>total_rooms</th>\n      <th>total_bedrooms</th>\n      <th>population</th>\n      <th>households</th>\n      <th>median_income</th>\n      <th>median_house_value</th>\n      <th>ocean_proximity</th>\n    </tr>\n  </thead>\n  <tbody>\n    <tr>\n      <td>0</td>\n      <td>-117.83</td>\n      <td>34.15</td>\n      <td>20.0</td>\n      <td>2421.0</td>\n      <td>306.0</td>\n      <td>1023.0</td>\n      <td>298.0</td>\n      <td>8.0683</td>\n      <td>451500.0</td>\n      <td>INLAND</td>\n    </tr>\n    <tr>\n      <td>1</td>\n      <td>-119.85</td>\n      <td>36.77</td>\n      <td>27.0</td>\n      <td>1510.0</td>\n      <td>344.0</td>\n      <td>847.0</td>\n      <td>295.0</td>\n      <td>2.9315</td>\n      <td>83200.0</td>\n      <td>INLAND</td>\n    </tr>\n    <tr>\n      <td>2</td>\n      <td>-122.13</td>\n      <td>37.67</td>\n      <td>40.0</td>\n      <td>1748.0</td>\n      <td>318.0</td>\n      <td>914.0</td>\n      <td>317.0</td>\n      <td>3.8676</td>\n      <td>184000.0</td>\n      <td>NEAR BAY</td>\n    </tr>\n    <tr>\n      <td>3</td>\n      <td>-119.81</td>\n      <td>34.46</td>\n      <td>22.0</td>\n      <td>3488.0</td>\n      <td>452.0</td>\n      <td>1479.0</td>\n      <td>458.0</td>\n      <td>7.1687</td>\n      <td>384400.0</td>\n      <td>NEAR OCEAN</td>\n    </tr>\n    <tr>\n      <td>4</td>\n      <td>-120.47</td>\n      <td>34.65</td>\n      <td>32.0</td>\n      <td>2193.0</td>\n      <td>430.0</td>\n      <td>1074.0</td>\n      <td>377.0</td>\n      <td>2.3333</td>\n      <td>130200.0</td>\n      <td>NEAR OCEAN</td>\n    </tr>\n  </tbody>\n</table>\n</div>"
     },
     "metadata": {},
     "execution_count": 39
    }
   ],
   "source": [
    "df_train.head()"
   ]
  },
  {
   "cell_type": "code",
   "execution_count": 40,
   "metadata": {},
   "outputs": [
    {
     "output_type": "stream",
     "name": "stdout",
     "text": "<class 'pandas.core.frame.DataFrame'>\nRangeIndex: 4128 entries, 0 to 4127\nData columns (total 10 columns):\nlongitude             4128 non-null float64\nlatitude              4128 non-null float64\nhousing_median_age    4128 non-null float64\ntotal_rooms           4128 non-null float64\ntotal_bedrooms        4098 non-null float64\npopulation            4128 non-null float64\nhouseholds            4128 non-null float64\nmedian_income         4128 non-null float64\nmedian_house_value    4128 non-null float64\nocean_proximity       4128 non-null object\ndtypes: float64(9), object(1)\nmemory usage: 322.6+ KB\n"
    }
   ],
   "source": [
    "df_test = pd.read_csv('housing_test.csv')\n",
    "df_test.info()"
   ]
  },
  {
   "cell_type": "code",
   "execution_count": 41,
   "metadata": {},
   "outputs": [
    {
     "output_type": "execute_result",
     "data": {
      "text/plain": "   longitude  latitude  housing_median_age  total_rooms  total_bedrooms  \\\n0    -122.41     37.65                32.0       3436.0           868.0   \n1    -117.91     33.84                25.0       1021.0           252.0   \n2    -118.35     34.08                52.0       1801.0           313.0   \n3    -121.02     37.61                33.0       1469.0           370.0   \n4    -117.65     34.10                30.0       1461.0           341.0   \n\n   population  households  median_income  median_house_value ocean_proximity  \n0      2583.0       817.0         3.5039            232400.0      NEAR OCEAN  \n1       975.0       258.0         3.1250            168100.0       <1H OCEAN  \n2       714.0       293.0         4.6838            479000.0       <1H OCEAN  \n3      1318.0       349.0         1.7104             59000.0          INLAND  \n4      1014.0       345.0         2.4667            106000.0          INLAND  ",
      "text/html": "<div>\n<style scoped>\n    .dataframe tbody tr th:only-of-type {\n        vertical-align: middle;\n    }\n\n    .dataframe tbody tr th {\n        vertical-align: top;\n    }\n\n    .dataframe thead th {\n        text-align: right;\n    }\n</style>\n<table border=\"1\" class=\"dataframe\">\n  <thead>\n    <tr style=\"text-align: right;\">\n      <th></th>\n      <th>longitude</th>\n      <th>latitude</th>\n      <th>housing_median_age</th>\n      <th>total_rooms</th>\n      <th>total_bedrooms</th>\n      <th>population</th>\n      <th>households</th>\n      <th>median_income</th>\n      <th>median_house_value</th>\n      <th>ocean_proximity</th>\n    </tr>\n  </thead>\n  <tbody>\n    <tr>\n      <td>0</td>\n      <td>-122.41</td>\n      <td>37.65</td>\n      <td>32.0</td>\n      <td>3436.0</td>\n      <td>868.0</td>\n      <td>2583.0</td>\n      <td>817.0</td>\n      <td>3.5039</td>\n      <td>232400.0</td>\n      <td>NEAR OCEAN</td>\n    </tr>\n    <tr>\n      <td>1</td>\n      <td>-117.91</td>\n      <td>33.84</td>\n      <td>25.0</td>\n      <td>1021.0</td>\n      <td>252.0</td>\n      <td>975.0</td>\n      <td>258.0</td>\n      <td>3.1250</td>\n      <td>168100.0</td>\n      <td>&lt;1H OCEAN</td>\n    </tr>\n    <tr>\n      <td>2</td>\n      <td>-118.35</td>\n      <td>34.08</td>\n      <td>52.0</td>\n      <td>1801.0</td>\n      <td>313.0</td>\n      <td>714.0</td>\n      <td>293.0</td>\n      <td>4.6838</td>\n      <td>479000.0</td>\n      <td>&lt;1H OCEAN</td>\n    </tr>\n    <tr>\n      <td>3</td>\n      <td>-121.02</td>\n      <td>37.61</td>\n      <td>33.0</td>\n      <td>1469.0</td>\n      <td>370.0</td>\n      <td>1318.0</td>\n      <td>349.0</td>\n      <td>1.7104</td>\n      <td>59000.0</td>\n      <td>INLAND</td>\n    </tr>\n    <tr>\n      <td>4</td>\n      <td>-117.65</td>\n      <td>34.10</td>\n      <td>30.0</td>\n      <td>1461.0</td>\n      <td>341.0</td>\n      <td>1014.0</td>\n      <td>345.0</td>\n      <td>2.4667</td>\n      <td>106000.0</td>\n      <td>INLAND</td>\n    </tr>\n  </tbody>\n</table>\n</div>"
     },
     "metadata": {},
     "execution_count": 41
    }
   ],
   "source": [
    "df_test.head()"
   ]
  },
  {
   "cell_type": "code",
   "execution_count": 42,
   "metadata": {},
   "outputs": [
    {
     "output_type": "stream",
     "name": "stdout",
     "text": "<class 'pandas.core.frame.DataFrame'>\nRangeIndex: 2065 entries, 0 to 2064\nData columns (total 10 columns):\nlongitude             2065 non-null float64\nlatitude              2065 non-null float64\nhousing_median_age    2065 non-null float64\ntotal_rooms           2065 non-null float64\ntotal_bedrooms        2048 non-null float64\npopulation            2065 non-null float64\nhouseholds            2065 non-null float64\nmedian_income         2065 non-null float64\nmedian_house_value    2065 non-null float64\nocean_proximity       2065 non-null object\ndtypes: float64(9), object(1)\nmemory usage: 161.5+ KB\n"
    }
   ],
   "source": [
    "df_dev = pd.read_csv('housing_dev.csv')\n",
    "df_dev.info()"
   ]
  },
  {
   "cell_type": "code",
   "execution_count": 43,
   "metadata": {},
   "outputs": [
    {
     "output_type": "execute_result",
     "data": {
      "text/plain": "   longitude  latitude  housing_median_age  total_rooms  total_bedrooms  \\\n0    -118.36     33.92                26.0       3695.0          1144.0   \n1    -118.41     34.19                45.0       1106.0           225.0   \n2    -122.48     37.73                38.0       3195.0           828.0   \n3    -117.18     32.76                 8.0       3694.0           997.0   \n4    -117.15     33.14                15.0       1070.0           208.0   \n\n   population  households  median_income  median_house_value ocean_proximity  \n0      2308.0      1009.0         2.6667            229300.0       <1H OCEAN  \n1       595.0       228.0         3.6625            190700.0       <1H OCEAN  \n2      2410.0       778.0         3.1359            350000.0      NEAR OCEAN  \n3      1297.0       807.0         3.6492            158900.0      NEAR OCEAN  \n4       470.0       217.0         2.3062            158900.0       <1H OCEAN  ",
      "text/html": "<div>\n<style scoped>\n    .dataframe tbody tr th:only-of-type {\n        vertical-align: middle;\n    }\n\n    .dataframe tbody tr th {\n        vertical-align: top;\n    }\n\n    .dataframe thead th {\n        text-align: right;\n    }\n</style>\n<table border=\"1\" class=\"dataframe\">\n  <thead>\n    <tr style=\"text-align: right;\">\n      <th></th>\n      <th>longitude</th>\n      <th>latitude</th>\n      <th>housing_median_age</th>\n      <th>total_rooms</th>\n      <th>total_bedrooms</th>\n      <th>population</th>\n      <th>households</th>\n      <th>median_income</th>\n      <th>median_house_value</th>\n      <th>ocean_proximity</th>\n    </tr>\n  </thead>\n  <tbody>\n    <tr>\n      <td>0</td>\n      <td>-118.36</td>\n      <td>33.92</td>\n      <td>26.0</td>\n      <td>3695.0</td>\n      <td>1144.0</td>\n      <td>2308.0</td>\n      <td>1009.0</td>\n      <td>2.6667</td>\n      <td>229300.0</td>\n      <td>&lt;1H OCEAN</td>\n    </tr>\n    <tr>\n      <td>1</td>\n      <td>-118.41</td>\n      <td>34.19</td>\n      <td>45.0</td>\n      <td>1106.0</td>\n      <td>225.0</td>\n      <td>595.0</td>\n      <td>228.0</td>\n      <td>3.6625</td>\n      <td>190700.0</td>\n      <td>&lt;1H OCEAN</td>\n    </tr>\n    <tr>\n      <td>2</td>\n      <td>-122.48</td>\n      <td>37.73</td>\n      <td>38.0</td>\n      <td>3195.0</td>\n      <td>828.0</td>\n      <td>2410.0</td>\n      <td>778.0</td>\n      <td>3.1359</td>\n      <td>350000.0</td>\n      <td>NEAR OCEAN</td>\n    </tr>\n    <tr>\n      <td>3</td>\n      <td>-117.18</td>\n      <td>32.76</td>\n      <td>8.0</td>\n      <td>3694.0</td>\n      <td>997.0</td>\n      <td>1297.0</td>\n      <td>807.0</td>\n      <td>3.6492</td>\n      <td>158900.0</td>\n      <td>NEAR OCEAN</td>\n    </tr>\n    <tr>\n      <td>4</td>\n      <td>-117.15</td>\n      <td>33.14</td>\n      <td>15.0</td>\n      <td>1070.0</td>\n      <td>208.0</td>\n      <td>470.0</td>\n      <td>217.0</td>\n      <td>2.3062</td>\n      <td>158900.0</td>\n      <td>&lt;1H OCEAN</td>\n    </tr>\n  </tbody>\n</table>\n</div>"
     },
     "metadata": {},
     "execution_count": 43
    }
   ],
   "source": [
    "df_dev.head()"
   ]
  },
  {
   "cell_type": "code",
   "execution_count": 44,
   "metadata": {},
   "outputs": [
    {
     "output_type": "execute_result",
     "data": {
      "text/plain": "       longitude  latitude  housing_median_age  total_rooms  total_bedrooms  \\\n0        -117.83     34.15                20.0       2421.0           306.0   \n1        -119.85     36.77                27.0       1510.0           344.0   \n2        -122.13     37.67                40.0       1748.0           318.0   \n3        -119.81     34.46                22.0       3488.0           452.0   \n4        -120.47     34.65                32.0       2193.0           430.0   \n...          ...       ...                 ...          ...             ...   \n14442    -118.73     34.27                23.0       4550.0           762.0   \n14443    -117.11     32.77                50.0       1729.0           355.0   \n14444    -121.73     36.93                29.0       2931.0           535.0   \n14445    -117.25     32.83                17.0       2075.0           262.0   \n14446    -118.37     33.87                13.0       2907.0           726.0   \n\n       population  households  median_income ocean_proximity  \n0          1023.0       298.0         8.0683          INLAND  \n1           847.0       295.0         2.9315          INLAND  \n2           914.0       317.0         3.8676        NEAR BAY  \n3          1479.0       458.0         7.1687      NEAR OCEAN  \n4          1074.0       377.0         2.3333      NEAR OCEAN  \n...           ...         ...            ...             ...  \n14442      2301.0       744.0         4.5560       <1H OCEAN  \n14443       617.0       337.0         3.6705      NEAR OCEAN  \n14444      1954.0       506.0         3.2917       <1H OCEAN  \n14445       704.0       241.0        10.9529      NEAR OCEAN  \n14446      1573.0       694.0         3.5048       <1H OCEAN  \n\n[14447 rows x 9 columns]",
      "text/html": "<div>\n<style scoped>\n    .dataframe tbody tr th:only-of-type {\n        vertical-align: middle;\n    }\n\n    .dataframe tbody tr th {\n        vertical-align: top;\n    }\n\n    .dataframe thead th {\n        text-align: right;\n    }\n</style>\n<table border=\"1\" class=\"dataframe\">\n  <thead>\n    <tr style=\"text-align: right;\">\n      <th></th>\n      <th>longitude</th>\n      <th>latitude</th>\n      <th>housing_median_age</th>\n      <th>total_rooms</th>\n      <th>total_bedrooms</th>\n      <th>population</th>\n      <th>households</th>\n      <th>median_income</th>\n      <th>ocean_proximity</th>\n    </tr>\n  </thead>\n  <tbody>\n    <tr>\n      <td>0</td>\n      <td>-117.83</td>\n      <td>34.15</td>\n      <td>20.0</td>\n      <td>2421.0</td>\n      <td>306.0</td>\n      <td>1023.0</td>\n      <td>298.0</td>\n      <td>8.0683</td>\n      <td>INLAND</td>\n    </tr>\n    <tr>\n      <td>1</td>\n      <td>-119.85</td>\n      <td>36.77</td>\n      <td>27.0</td>\n      <td>1510.0</td>\n      <td>344.0</td>\n      <td>847.0</td>\n      <td>295.0</td>\n      <td>2.9315</td>\n      <td>INLAND</td>\n    </tr>\n    <tr>\n      <td>2</td>\n      <td>-122.13</td>\n      <td>37.67</td>\n      <td>40.0</td>\n      <td>1748.0</td>\n      <td>318.0</td>\n      <td>914.0</td>\n      <td>317.0</td>\n      <td>3.8676</td>\n      <td>NEAR BAY</td>\n    </tr>\n    <tr>\n      <td>3</td>\n      <td>-119.81</td>\n      <td>34.46</td>\n      <td>22.0</td>\n      <td>3488.0</td>\n      <td>452.0</td>\n      <td>1479.0</td>\n      <td>458.0</td>\n      <td>7.1687</td>\n      <td>NEAR OCEAN</td>\n    </tr>\n    <tr>\n      <td>4</td>\n      <td>-120.47</td>\n      <td>34.65</td>\n      <td>32.0</td>\n      <td>2193.0</td>\n      <td>430.0</td>\n      <td>1074.0</td>\n      <td>377.0</td>\n      <td>2.3333</td>\n      <td>NEAR OCEAN</td>\n    </tr>\n    <tr>\n      <td>...</td>\n      <td>...</td>\n      <td>...</td>\n      <td>...</td>\n      <td>...</td>\n      <td>...</td>\n      <td>...</td>\n      <td>...</td>\n      <td>...</td>\n      <td>...</td>\n    </tr>\n    <tr>\n      <td>14442</td>\n      <td>-118.73</td>\n      <td>34.27</td>\n      <td>23.0</td>\n      <td>4550.0</td>\n      <td>762.0</td>\n      <td>2301.0</td>\n      <td>744.0</td>\n      <td>4.5560</td>\n      <td>&lt;1H OCEAN</td>\n    </tr>\n    <tr>\n      <td>14443</td>\n      <td>-117.11</td>\n      <td>32.77</td>\n      <td>50.0</td>\n      <td>1729.0</td>\n      <td>355.0</td>\n      <td>617.0</td>\n      <td>337.0</td>\n      <td>3.6705</td>\n      <td>NEAR OCEAN</td>\n    </tr>\n    <tr>\n      <td>14444</td>\n      <td>-121.73</td>\n      <td>36.93</td>\n      <td>29.0</td>\n      <td>2931.0</td>\n      <td>535.0</td>\n      <td>1954.0</td>\n      <td>506.0</td>\n      <td>3.2917</td>\n      <td>&lt;1H OCEAN</td>\n    </tr>\n    <tr>\n      <td>14445</td>\n      <td>-117.25</td>\n      <td>32.83</td>\n      <td>17.0</td>\n      <td>2075.0</td>\n      <td>262.0</td>\n      <td>704.0</td>\n      <td>241.0</td>\n      <td>10.9529</td>\n      <td>NEAR OCEAN</td>\n    </tr>\n    <tr>\n      <td>14446</td>\n      <td>-118.37</td>\n      <td>33.87</td>\n      <td>13.0</td>\n      <td>2907.0</td>\n      <td>726.0</td>\n      <td>1573.0</td>\n      <td>694.0</td>\n      <td>3.5048</td>\n      <td>&lt;1H OCEAN</td>\n    </tr>\n  </tbody>\n</table>\n<p>14447 rows × 9 columns</p>\n</div>"
     },
     "metadata": {},
     "execution_count": 44
    }
   ],
   "source": [
    "train_X = df_train.drop(\"median_house_value\", axis = 1)\n",
    "train_X"
   ]
  },
  {
   "cell_type": "code",
   "execution_count": 45,
   "metadata": {},
   "outputs": [
    {
     "output_type": "execute_result",
     "data": {
      "text/plain": "0        451500.0\n1         83200.0\n2        184000.0\n3        384400.0\n4        130200.0\n           ...   \n14442    205300.0\n14443    167000.0\n14444    224700.0\n14445    500001.0\n14446    294000.0\nName: median_house_value, Length: 14447, dtype: float64"
     },
     "metadata": {},
     "execution_count": 45
    }
   ],
   "source": [
    "train_Y = df_train[\"median_house_value\"].copy()\n",
    "train_Y"
   ]
  },
  {
   "cell_type": "code",
   "execution_count": 46,
   "metadata": {},
   "outputs": [
    {
     "output_type": "execute_result",
     "data": {
      "text/plain": "      longitude  latitude  housing_median_age  total_rooms  total_bedrooms  \\\n0       -118.36     33.92                26.0       3695.0          1144.0   \n1       -118.41     34.19                45.0       1106.0           225.0   \n2       -122.48     37.73                38.0       3195.0           828.0   \n3       -117.18     32.76                 8.0       3694.0           997.0   \n4       -117.15     33.14                15.0       1070.0           208.0   \n...         ...       ...                 ...          ...             ...   \n2060    -122.02     38.37                16.0       2495.0           331.0   \n2061    -117.04     32.97                13.0       6711.0          1256.0   \n2062    -120.69     35.62                43.0       3044.0           652.0   \n2063    -118.39     34.19                36.0        904.0           191.0   \n2064    -118.04     34.09                34.0       2597.0           461.0   \n\n      population  households  median_income ocean_proximity  \n0         2308.0      1009.0         2.6667       <1H OCEAN  \n1          595.0       228.0         3.6625       <1H OCEAN  \n2         2410.0       778.0         3.1359      NEAR OCEAN  \n3         1297.0       807.0         3.6492      NEAR OCEAN  \n4          470.0       217.0         2.3062       <1H OCEAN  \n...          ...         ...            ...             ...  \n2060      1118.0       338.0         6.4894          INLAND  \n2061      3683.0      1220.0         4.5746       <1H OCEAN  \n2062      1456.0       608.0         2.4567       <1H OCEAN  \n2063       627.0       191.0         2.4167       <1H OCEAN  \n2064      1542.0       470.0         4.6211          INLAND  \n\n[2065 rows x 9 columns]",
      "text/html": "<div>\n<style scoped>\n    .dataframe tbody tr th:only-of-type {\n        vertical-align: middle;\n    }\n\n    .dataframe tbody tr th {\n        vertical-align: top;\n    }\n\n    .dataframe thead th {\n        text-align: right;\n    }\n</style>\n<table border=\"1\" class=\"dataframe\">\n  <thead>\n    <tr style=\"text-align: right;\">\n      <th></th>\n      <th>longitude</th>\n      <th>latitude</th>\n      <th>housing_median_age</th>\n      <th>total_rooms</th>\n      <th>total_bedrooms</th>\n      <th>population</th>\n      <th>households</th>\n      <th>median_income</th>\n      <th>ocean_proximity</th>\n    </tr>\n  </thead>\n  <tbody>\n    <tr>\n      <td>0</td>\n      <td>-118.36</td>\n      <td>33.92</td>\n      <td>26.0</td>\n      <td>3695.0</td>\n      <td>1144.0</td>\n      <td>2308.0</td>\n      <td>1009.0</td>\n      <td>2.6667</td>\n      <td>&lt;1H OCEAN</td>\n    </tr>\n    <tr>\n      <td>1</td>\n      <td>-118.41</td>\n      <td>34.19</td>\n      <td>45.0</td>\n      <td>1106.0</td>\n      <td>225.0</td>\n      <td>595.0</td>\n      <td>228.0</td>\n      <td>3.6625</td>\n      <td>&lt;1H OCEAN</td>\n    </tr>\n    <tr>\n      <td>2</td>\n      <td>-122.48</td>\n      <td>37.73</td>\n      <td>38.0</td>\n      <td>3195.0</td>\n      <td>828.0</td>\n      <td>2410.0</td>\n      <td>778.0</td>\n      <td>3.1359</td>\n      <td>NEAR OCEAN</td>\n    </tr>\n    <tr>\n      <td>3</td>\n      <td>-117.18</td>\n      <td>32.76</td>\n      <td>8.0</td>\n      <td>3694.0</td>\n      <td>997.0</td>\n      <td>1297.0</td>\n      <td>807.0</td>\n      <td>3.6492</td>\n      <td>NEAR OCEAN</td>\n    </tr>\n    <tr>\n      <td>4</td>\n      <td>-117.15</td>\n      <td>33.14</td>\n      <td>15.0</td>\n      <td>1070.0</td>\n      <td>208.0</td>\n      <td>470.0</td>\n      <td>217.0</td>\n      <td>2.3062</td>\n      <td>&lt;1H OCEAN</td>\n    </tr>\n    <tr>\n      <td>...</td>\n      <td>...</td>\n      <td>...</td>\n      <td>...</td>\n      <td>...</td>\n      <td>...</td>\n      <td>...</td>\n      <td>...</td>\n      <td>...</td>\n      <td>...</td>\n    </tr>\n    <tr>\n      <td>2060</td>\n      <td>-122.02</td>\n      <td>38.37</td>\n      <td>16.0</td>\n      <td>2495.0</td>\n      <td>331.0</td>\n      <td>1118.0</td>\n      <td>338.0</td>\n      <td>6.4894</td>\n      <td>INLAND</td>\n    </tr>\n    <tr>\n      <td>2061</td>\n      <td>-117.04</td>\n      <td>32.97</td>\n      <td>13.0</td>\n      <td>6711.0</td>\n      <td>1256.0</td>\n      <td>3683.0</td>\n      <td>1220.0</td>\n      <td>4.5746</td>\n      <td>&lt;1H OCEAN</td>\n    </tr>\n    <tr>\n      <td>2062</td>\n      <td>-120.69</td>\n      <td>35.62</td>\n      <td>43.0</td>\n      <td>3044.0</td>\n      <td>652.0</td>\n      <td>1456.0</td>\n      <td>608.0</td>\n      <td>2.4567</td>\n      <td>&lt;1H OCEAN</td>\n    </tr>\n    <tr>\n      <td>2063</td>\n      <td>-118.39</td>\n      <td>34.19</td>\n      <td>36.0</td>\n      <td>904.0</td>\n      <td>191.0</td>\n      <td>627.0</td>\n      <td>191.0</td>\n      <td>2.4167</td>\n      <td>&lt;1H OCEAN</td>\n    </tr>\n    <tr>\n      <td>2064</td>\n      <td>-118.04</td>\n      <td>34.09</td>\n      <td>34.0</td>\n      <td>2597.0</td>\n      <td>461.0</td>\n      <td>1542.0</td>\n      <td>470.0</td>\n      <td>4.6211</td>\n      <td>INLAND</td>\n    </tr>\n  </tbody>\n</table>\n<p>2065 rows × 9 columns</p>\n</div>"
     },
     "metadata": {},
     "execution_count": 46
    }
   ],
   "source": [
    "dev_X = df_dev.drop(\"median_house_value\", axis = 1)\n",
    "dev_X"
   ]
  },
  {
   "cell_type": "code",
   "execution_count": 47,
   "metadata": {},
   "outputs": [
    {
     "output_type": "execute_result",
     "data": {
      "text/plain": "0       229300.0\n1       190700.0\n2       350000.0\n3       158900.0\n4       158900.0\n          ...   \n2060    198000.0\n2061    175700.0\n2062    140000.0\n2063    192900.0\n2064    248900.0\nName: median_house_value, Length: 2065, dtype: float64"
     },
     "metadata": {},
     "execution_count": 47
    }
   ],
   "source": [
    "dev_Y = df_dev[\"median_house_value\"].copy()\n",
    "dev_Y"
   ]
  },
  {
   "cell_type": "code",
   "execution_count": 48,
   "metadata": {},
   "outputs": [
    {
     "output_type": "execute_result",
     "data": {
      "text/plain": "      longitude  latitude  housing_median_age  total_rooms  total_bedrooms  \\\n0       -122.41     37.65                32.0       3436.0           868.0   \n1       -117.91     33.84                25.0       1021.0           252.0   \n2       -118.35     34.08                52.0       1801.0           313.0   \n3       -121.02     37.61                33.0       1469.0           370.0   \n4       -117.65     34.10                30.0       1461.0           341.0   \n...         ...       ...                 ...          ...             ...   \n4123    -117.22     33.17                 6.0       1487.0           362.0   \n4124    -117.40     34.58                18.0        755.0           169.0   \n4125    -118.04     33.78                25.0       3715.0           575.0   \n4126    -118.46     34.00                52.0        888.0           206.0   \n4127    -121.88     39.74                12.0      14631.0          3298.0   \n\n      population  households  median_income ocean_proximity  \n0         2583.0       817.0         3.5039      NEAR OCEAN  \n1          975.0       258.0         3.1250       <1H OCEAN  \n2          714.0       293.0         4.6838       <1H OCEAN  \n3         1318.0       349.0         1.7104          INLAND  \n4         1014.0       345.0         2.4667          INLAND  \n...          ...         ...            ...             ...  \n4123       810.0       322.0         3.6250       <1H OCEAN  \n4124       483.0       165.0         1.4196          INLAND  \n4125      1640.0       572.0         5.7705       <1H OCEAN  \n4126       376.0       194.0         3.8750       <1H OCEAN  \n4127      7517.0      3262.0         1.6785          INLAND  \n\n[4128 rows x 9 columns]",
      "text/html": "<div>\n<style scoped>\n    .dataframe tbody tr th:only-of-type {\n        vertical-align: middle;\n    }\n\n    .dataframe tbody tr th {\n        vertical-align: top;\n    }\n\n    .dataframe thead th {\n        text-align: right;\n    }\n</style>\n<table border=\"1\" class=\"dataframe\">\n  <thead>\n    <tr style=\"text-align: right;\">\n      <th></th>\n      <th>longitude</th>\n      <th>latitude</th>\n      <th>housing_median_age</th>\n      <th>total_rooms</th>\n      <th>total_bedrooms</th>\n      <th>population</th>\n      <th>households</th>\n      <th>median_income</th>\n      <th>ocean_proximity</th>\n    </tr>\n  </thead>\n  <tbody>\n    <tr>\n      <td>0</td>\n      <td>-122.41</td>\n      <td>37.65</td>\n      <td>32.0</td>\n      <td>3436.0</td>\n      <td>868.0</td>\n      <td>2583.0</td>\n      <td>817.0</td>\n      <td>3.5039</td>\n      <td>NEAR OCEAN</td>\n    </tr>\n    <tr>\n      <td>1</td>\n      <td>-117.91</td>\n      <td>33.84</td>\n      <td>25.0</td>\n      <td>1021.0</td>\n      <td>252.0</td>\n      <td>975.0</td>\n      <td>258.0</td>\n      <td>3.1250</td>\n      <td>&lt;1H OCEAN</td>\n    </tr>\n    <tr>\n      <td>2</td>\n      <td>-118.35</td>\n      <td>34.08</td>\n      <td>52.0</td>\n      <td>1801.0</td>\n      <td>313.0</td>\n      <td>714.0</td>\n      <td>293.0</td>\n      <td>4.6838</td>\n      <td>&lt;1H OCEAN</td>\n    </tr>\n    <tr>\n      <td>3</td>\n      <td>-121.02</td>\n      <td>37.61</td>\n      <td>33.0</td>\n      <td>1469.0</td>\n      <td>370.0</td>\n      <td>1318.0</td>\n      <td>349.0</td>\n      <td>1.7104</td>\n      <td>INLAND</td>\n    </tr>\n    <tr>\n      <td>4</td>\n      <td>-117.65</td>\n      <td>34.10</td>\n      <td>30.0</td>\n      <td>1461.0</td>\n      <td>341.0</td>\n      <td>1014.0</td>\n      <td>345.0</td>\n      <td>2.4667</td>\n      <td>INLAND</td>\n    </tr>\n    <tr>\n      <td>...</td>\n      <td>...</td>\n      <td>...</td>\n      <td>...</td>\n      <td>...</td>\n      <td>...</td>\n      <td>...</td>\n      <td>...</td>\n      <td>...</td>\n      <td>...</td>\n    </tr>\n    <tr>\n      <td>4123</td>\n      <td>-117.22</td>\n      <td>33.17</td>\n      <td>6.0</td>\n      <td>1487.0</td>\n      <td>362.0</td>\n      <td>810.0</td>\n      <td>322.0</td>\n      <td>3.6250</td>\n      <td>&lt;1H OCEAN</td>\n    </tr>\n    <tr>\n      <td>4124</td>\n      <td>-117.40</td>\n      <td>34.58</td>\n      <td>18.0</td>\n      <td>755.0</td>\n      <td>169.0</td>\n      <td>483.0</td>\n      <td>165.0</td>\n      <td>1.4196</td>\n      <td>INLAND</td>\n    </tr>\n    <tr>\n      <td>4125</td>\n      <td>-118.04</td>\n      <td>33.78</td>\n      <td>25.0</td>\n      <td>3715.0</td>\n      <td>575.0</td>\n      <td>1640.0</td>\n      <td>572.0</td>\n      <td>5.7705</td>\n      <td>&lt;1H OCEAN</td>\n    </tr>\n    <tr>\n      <td>4126</td>\n      <td>-118.46</td>\n      <td>34.00</td>\n      <td>52.0</td>\n      <td>888.0</td>\n      <td>206.0</td>\n      <td>376.0</td>\n      <td>194.0</td>\n      <td>3.8750</td>\n      <td>&lt;1H OCEAN</td>\n    </tr>\n    <tr>\n      <td>4127</td>\n      <td>-121.88</td>\n      <td>39.74</td>\n      <td>12.0</td>\n      <td>14631.0</td>\n      <td>3298.0</td>\n      <td>7517.0</td>\n      <td>3262.0</td>\n      <td>1.6785</td>\n      <td>INLAND</td>\n    </tr>\n  </tbody>\n</table>\n<p>4128 rows × 9 columns</p>\n</div>"
     },
     "metadata": {},
     "execution_count": 48
    }
   ],
   "source": [
    "test_X = df_test.drop(\"median_house_value\", axis = 1)\n",
    "test_X"
   ]
  },
  {
   "cell_type": "code",
   "execution_count": 49,
   "metadata": {},
   "outputs": [
    {
     "output_type": "execute_result",
     "data": {
      "text/plain": "0       232400.0\n1       168100.0\n2       479000.0\n3        59000.0\n4       106000.0\n          ...   \n4123    135700.0\n4124     64700.0\n4125    247100.0\n4126    372000.0\n4127    153100.0\nName: median_house_value, Length: 4128, dtype: float64"
     },
     "metadata": {},
     "execution_count": 49
    }
   ],
   "source": [
    "test_Y = df_test[\"median_house_value\"].copy()\n",
    "test_Y"
   ]
  },
  {
   "cell_type": "code",
   "execution_count": 50,
   "metadata": {},
   "outputs": [
    {
     "output_type": "execute_result",
     "data": {
      "text/plain": "       longitude  latitude  housing_median_age  total_rooms  total_bedrooms  \\\n0          False     False               False        False           False   \n1          False     False               False        False           False   \n2          False     False               False        False           False   \n3          False     False               False        False           False   \n4          False     False               False        False           False   \n...          ...       ...                 ...          ...             ...   \n14442      False     False               False        False           False   \n14443      False     False               False        False           False   \n14444      False     False               False        False           False   \n14445      False     False               False        False           False   \n14446      False     False               False        False           False   \n\n       population  households  median_income  median_house_value  \\\n0           False       False          False               False   \n1           False       False          False               False   \n2           False       False          False               False   \n3           False       False          False               False   \n4           False       False          False               False   \n...           ...         ...            ...                 ...   \n14442       False       False          False               False   \n14443       False       False          False               False   \n14444       False       False          False               False   \n14445       False       False          False               False   \n14446       False       False          False               False   \n\n       ocean_proximity  \n0                False  \n1                False  \n2                False  \n3                False  \n4                False  \n...                ...  \n14442            False  \n14443            False  \n14444            False  \n14445            False  \n14446            False  \n\n[14447 rows x 10 columns]",
      "text/html": "<div>\n<style scoped>\n    .dataframe tbody tr th:only-of-type {\n        vertical-align: middle;\n    }\n\n    .dataframe tbody tr th {\n        vertical-align: top;\n    }\n\n    .dataframe thead th {\n        text-align: right;\n    }\n</style>\n<table border=\"1\" class=\"dataframe\">\n  <thead>\n    <tr style=\"text-align: right;\">\n      <th></th>\n      <th>longitude</th>\n      <th>latitude</th>\n      <th>housing_median_age</th>\n      <th>total_rooms</th>\n      <th>total_bedrooms</th>\n      <th>population</th>\n      <th>households</th>\n      <th>median_income</th>\n      <th>median_house_value</th>\n      <th>ocean_proximity</th>\n    </tr>\n  </thead>\n  <tbody>\n    <tr>\n      <td>0</td>\n      <td>False</td>\n      <td>False</td>\n      <td>False</td>\n      <td>False</td>\n      <td>False</td>\n      <td>False</td>\n      <td>False</td>\n      <td>False</td>\n      <td>False</td>\n      <td>False</td>\n    </tr>\n    <tr>\n      <td>1</td>\n      <td>False</td>\n      <td>False</td>\n      <td>False</td>\n      <td>False</td>\n      <td>False</td>\n      <td>False</td>\n      <td>False</td>\n      <td>False</td>\n      <td>False</td>\n      <td>False</td>\n    </tr>\n    <tr>\n      <td>2</td>\n      <td>False</td>\n      <td>False</td>\n      <td>False</td>\n      <td>False</td>\n      <td>False</td>\n      <td>False</td>\n      <td>False</td>\n      <td>False</td>\n      <td>False</td>\n      <td>False</td>\n    </tr>\n    <tr>\n      <td>3</td>\n      <td>False</td>\n      <td>False</td>\n      <td>False</td>\n      <td>False</td>\n      <td>False</td>\n      <td>False</td>\n      <td>False</td>\n      <td>False</td>\n      <td>False</td>\n      <td>False</td>\n    </tr>\n    <tr>\n      <td>4</td>\n      <td>False</td>\n      <td>False</td>\n      <td>False</td>\n      <td>False</td>\n      <td>False</td>\n      <td>False</td>\n      <td>False</td>\n      <td>False</td>\n      <td>False</td>\n      <td>False</td>\n    </tr>\n    <tr>\n      <td>...</td>\n      <td>...</td>\n      <td>...</td>\n      <td>...</td>\n      <td>...</td>\n      <td>...</td>\n      <td>...</td>\n      <td>...</td>\n      <td>...</td>\n      <td>...</td>\n      <td>...</td>\n    </tr>\n    <tr>\n      <td>14442</td>\n      <td>False</td>\n      <td>False</td>\n      <td>False</td>\n      <td>False</td>\n      <td>False</td>\n      <td>False</td>\n      <td>False</td>\n      <td>False</td>\n      <td>False</td>\n      <td>False</td>\n    </tr>\n    <tr>\n      <td>14443</td>\n      <td>False</td>\n      <td>False</td>\n      <td>False</td>\n      <td>False</td>\n      <td>False</td>\n      <td>False</td>\n      <td>False</td>\n      <td>False</td>\n      <td>False</td>\n      <td>False</td>\n    </tr>\n    <tr>\n      <td>14444</td>\n      <td>False</td>\n      <td>False</td>\n      <td>False</td>\n      <td>False</td>\n      <td>False</td>\n      <td>False</td>\n      <td>False</td>\n      <td>False</td>\n      <td>False</td>\n      <td>False</td>\n    </tr>\n    <tr>\n      <td>14445</td>\n      <td>False</td>\n      <td>False</td>\n      <td>False</td>\n      <td>False</td>\n      <td>False</td>\n      <td>False</td>\n      <td>False</td>\n      <td>False</td>\n      <td>False</td>\n      <td>False</td>\n    </tr>\n    <tr>\n      <td>14446</td>\n      <td>False</td>\n      <td>False</td>\n      <td>False</td>\n      <td>False</td>\n      <td>False</td>\n      <td>False</td>\n      <td>False</td>\n      <td>False</td>\n      <td>False</td>\n      <td>False</td>\n    </tr>\n  </tbody>\n</table>\n<p>14447 rows × 10 columns</p>\n</div>"
     },
     "metadata": {},
     "execution_count": 50
    }
   ],
   "source": [
    "df_train.isnull()"
   ]
  },
  {
   "cell_type": "code",
   "execution_count": 51,
   "metadata": {},
   "outputs": [
    {
     "output_type": "execute_result",
     "data": {
      "text/plain": "0        False\n1        False\n2        False\n3        False\n4        False\n         ...  \n14442    False\n14443    False\n14444    False\n14445    False\n14446    False\nLength: 14447, dtype: bool"
     },
     "metadata": {},
     "execution_count": 51
    }
   ],
   "source": [
    "train_X.isnull().any(axis = 1)"
   ]
  },
  {
   "cell_type": "code",
   "execution_count": 52,
   "metadata": {},
   "outputs": [
    {
     "output_type": "execute_result",
     "data": {
      "text/plain": "       longitude  latitude  housing_median_age  total_rooms  total_bedrooms  \\\n41       -124.00     40.92                29.0       1429.0             NaN   \n204      -120.97     37.43                27.0       1380.0             NaN   \n403      -118.27     34.07                27.0       1190.0             NaN   \n413      -119.45     36.61                24.0       1302.0             NaN   \n586      -121.30     38.58                16.0       1537.0             NaN   \n...          ...       ...                 ...          ...             ...   \n13865    -121.75     37.11                18.0       3167.0             NaN   \n13918    -118.10     33.74                32.0       2035.0             NaN   \n14004    -122.08     37.37                29.0       1229.0             NaN   \n14168    -119.38     36.53                38.0       1281.0             NaN   \n14371    -117.91     33.87                29.0       1121.0             NaN   \n\n       population  households  median_income ocean_proximity  \n41          672.0       266.0         2.9485       <1H OCEAN  \n204         810.0       262.0         2.1875          INLAND  \n403        1795.0       422.0         1.7016       <1H OCEAN  \n413         693.0       243.0         3.7917          INLAND  \n586        1125.0       375.0         2.6471          INLAND  \n...           ...         ...            ...             ...  \n13865      1414.0       482.0         6.8773       <1H OCEAN  \n13918       934.0       512.0         4.2287      NEAR OCEAN  \n14004       707.0       194.0         7.1108        NEAR BAY  \n14168      1423.0       293.0         1.9602          INLAND  \n14371       762.0       276.0         2.5000       <1H OCEAN  \n\n[160 rows x 9 columns]",
      "text/html": "<div>\n<style scoped>\n    .dataframe tbody tr th:only-of-type {\n        vertical-align: middle;\n    }\n\n    .dataframe tbody tr th {\n        vertical-align: top;\n    }\n\n    .dataframe thead th {\n        text-align: right;\n    }\n</style>\n<table border=\"1\" class=\"dataframe\">\n  <thead>\n    <tr style=\"text-align: right;\">\n      <th></th>\n      <th>longitude</th>\n      <th>latitude</th>\n      <th>housing_median_age</th>\n      <th>total_rooms</th>\n      <th>total_bedrooms</th>\n      <th>population</th>\n      <th>households</th>\n      <th>median_income</th>\n      <th>ocean_proximity</th>\n    </tr>\n  </thead>\n  <tbody>\n    <tr>\n      <td>41</td>\n      <td>-124.00</td>\n      <td>40.92</td>\n      <td>29.0</td>\n      <td>1429.0</td>\n      <td>NaN</td>\n      <td>672.0</td>\n      <td>266.0</td>\n      <td>2.9485</td>\n      <td>&lt;1H OCEAN</td>\n    </tr>\n    <tr>\n      <td>204</td>\n      <td>-120.97</td>\n      <td>37.43</td>\n      <td>27.0</td>\n      <td>1380.0</td>\n      <td>NaN</td>\n      <td>810.0</td>\n      <td>262.0</td>\n      <td>2.1875</td>\n      <td>INLAND</td>\n    </tr>\n    <tr>\n      <td>403</td>\n      <td>-118.27</td>\n      <td>34.07</td>\n      <td>27.0</td>\n      <td>1190.0</td>\n      <td>NaN</td>\n      <td>1795.0</td>\n      <td>422.0</td>\n      <td>1.7016</td>\n      <td>&lt;1H OCEAN</td>\n    </tr>\n    <tr>\n      <td>413</td>\n      <td>-119.45</td>\n      <td>36.61</td>\n      <td>24.0</td>\n      <td>1302.0</td>\n      <td>NaN</td>\n      <td>693.0</td>\n      <td>243.0</td>\n      <td>3.7917</td>\n      <td>INLAND</td>\n    </tr>\n    <tr>\n      <td>586</td>\n      <td>-121.30</td>\n      <td>38.58</td>\n      <td>16.0</td>\n      <td>1537.0</td>\n      <td>NaN</td>\n      <td>1125.0</td>\n      <td>375.0</td>\n      <td>2.6471</td>\n      <td>INLAND</td>\n    </tr>\n    <tr>\n      <td>...</td>\n      <td>...</td>\n      <td>...</td>\n      <td>...</td>\n      <td>...</td>\n      <td>...</td>\n      <td>...</td>\n      <td>...</td>\n      <td>...</td>\n      <td>...</td>\n    </tr>\n    <tr>\n      <td>13865</td>\n      <td>-121.75</td>\n      <td>37.11</td>\n      <td>18.0</td>\n      <td>3167.0</td>\n      <td>NaN</td>\n      <td>1414.0</td>\n      <td>482.0</td>\n      <td>6.8773</td>\n      <td>&lt;1H OCEAN</td>\n    </tr>\n    <tr>\n      <td>13918</td>\n      <td>-118.10</td>\n      <td>33.74</td>\n      <td>32.0</td>\n      <td>2035.0</td>\n      <td>NaN</td>\n      <td>934.0</td>\n      <td>512.0</td>\n      <td>4.2287</td>\n      <td>NEAR OCEAN</td>\n    </tr>\n    <tr>\n      <td>14004</td>\n      <td>-122.08</td>\n      <td>37.37</td>\n      <td>29.0</td>\n      <td>1229.0</td>\n      <td>NaN</td>\n      <td>707.0</td>\n      <td>194.0</td>\n      <td>7.1108</td>\n      <td>NEAR BAY</td>\n    </tr>\n    <tr>\n      <td>14168</td>\n      <td>-119.38</td>\n      <td>36.53</td>\n      <td>38.0</td>\n      <td>1281.0</td>\n      <td>NaN</td>\n      <td>1423.0</td>\n      <td>293.0</td>\n      <td>1.9602</td>\n      <td>INLAND</td>\n    </tr>\n    <tr>\n      <td>14371</td>\n      <td>-117.91</td>\n      <td>33.87</td>\n      <td>29.0</td>\n      <td>1121.0</td>\n      <td>NaN</td>\n      <td>762.0</td>\n      <td>276.0</td>\n      <td>2.5000</td>\n      <td>&lt;1H OCEAN</td>\n    </tr>\n  </tbody>\n</table>\n<p>160 rows × 9 columns</p>\n</div>"
     },
     "metadata": {},
     "execution_count": 52
    }
   ],
   "source": [
    "train_X[train_X.isnull().any(axis = 1)]"
   ]
  },
  {
   "cell_type": "code",
   "execution_count": 53,
   "metadata": {},
   "outputs": [
    {
     "output_type": "execute_result",
     "data": {
      "text/plain": "longitude               0\nlatitude                0\nhousing_median_age      0\ntotal_rooms             0\ntotal_bedrooms        160\npopulation              0\nhouseholds              0\nmedian_income           0\nocean_proximity         0\ndtype: int64"
     },
     "metadata": {},
     "execution_count": 53
    }
   ],
   "source": [
    "train_X.isnull().sum(axis = 0)"
   ]
  },
  {
   "cell_type": "markdown",
   "metadata": {},
   "source": [
    "# Xử lý các cột bị khuyết dữ liệu"
   ]
  },
  {
   "cell_type": "code",
   "execution_count": 54,
   "metadata": {},
   "outputs": [],
   "source": [
    "# sử dụng SimpleImputer\n",
    "idex_null = train_X[\"total_bedrooms\"].isnull()\n",
    "imputer_mean = SimpleImputer(missing_values = np.nan, strategy = 'mean')\n",
    "imputer_mean.fit(train_X[\"total_bedrooms\"].values.reshape(-1, 1))\n",
    "train_X[\"total_bedrooms\"] = imputer_mean.transform(train_X['total_bedrooms'].values.reshape(-1, 1))"
   ]
  },
  {
   "cell_type": "code",
   "execution_count": 55,
   "metadata": {},
   "outputs": [
    {
     "output_type": "stream",
     "name": "stdout",
     "text": "41       538.66578\n204      538.66578\n403      538.66578\n413      538.66578\n586      538.66578\n           ...    \n13865    538.66578\n13918    538.66578\n14004    538.66578\n14168    538.66578\n14371    538.66578\nName: total_bedrooms, Length: 160, dtype: float64\n"
    }
   ],
   "source": [
    "print(train_X[\"total_bedrooms\"][idex_null == True])"
   ]
  },
  {
   "cell_type": "code",
   "execution_count": null,
   "metadata": {},
   "outputs": [],
   "source": []
  }
 ]
}